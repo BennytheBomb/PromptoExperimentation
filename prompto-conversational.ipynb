{
 "cells": [
  {
   "cell_type": "code",
   "execution_count": 1,
   "metadata": {
    "collapsed": true,
    "ExecuteTime": {
     "start_time": "2023-12-14T10:05:50.258565Z",
     "end_time": "2023-12-14T10:05:52.368929Z"
    }
   },
   "outputs": [
    {
     "name": "stdout",
     "output_type": "stream",
     "text": [
      "Requirement already satisfied: langchain in ./venv/lib/python3.9/site-packages (0.0.339)\r\n",
      "Requirement already satisfied: openai in ./venv/lib/python3.9/site-packages (1.3.4)\r\n",
      "Requirement already satisfied: GitPython in ./venv/lib/python3.9/site-packages (3.1.40)\r\n",
      "Requirement already satisfied: chromadb in ./venv/lib/python3.9/site-packages (0.4.18)\r\n",
      "Requirement already satisfied: unstructured in ./venv/lib/python3.9/site-packages (0.11.2)\r\n",
      "Requirement already satisfied: markdown in ./venv/lib/python3.9/site-packages (3.5.1)\r\n",
      "Requirement already satisfied: sentence_transformers in ./venv/lib/python3.9/site-packages (2.2.2)\r\n",
      "Requirement already satisfied: jsonpatch<2.0,>=1.33 in ./venv/lib/python3.9/site-packages (from langchain) (1.33)\r\n",
      "Requirement already satisfied: dataclasses-json<0.7,>=0.5.7 in ./venv/lib/python3.9/site-packages (from langchain) (0.6.2)\r\n",
      "Requirement already satisfied: langsmith<0.1.0,>=0.0.63 in ./venv/lib/python3.9/site-packages (from langchain) (0.0.66)\r\n",
      "Requirement already satisfied: aiohttp<4.0.0,>=3.8.3 in ./venv/lib/python3.9/site-packages (from langchain) (3.9.0)\r\n",
      "Requirement already satisfied: pydantic<3,>=1 in ./venv/lib/python3.9/site-packages (from langchain) (2.5.1)\r\n",
      "Requirement already satisfied: async-timeout<5.0.0,>=4.0.0 in ./venv/lib/python3.9/site-packages (from langchain) (4.0.3)\r\n",
      "Requirement already satisfied: anyio<4.0 in ./venv/lib/python3.9/site-packages (from langchain) (3.7.1)\r\n",
      "Requirement already satisfied: requests<3,>=2 in ./venv/lib/python3.9/site-packages (from langchain) (2.31.0)\r\n",
      "Requirement already satisfied: numpy<2,>=1 in ./venv/lib/python3.9/site-packages (from langchain) (1.26.2)\r\n",
      "Requirement already satisfied: tenacity<9.0.0,>=8.1.0 in ./venv/lib/python3.9/site-packages (from langchain) (8.2.3)\r\n",
      "Requirement already satisfied: SQLAlchemy<3,>=1.4 in ./venv/lib/python3.9/site-packages (from langchain) (2.0.23)\r\n",
      "Requirement already satisfied: PyYAML>=5.3 in ./venv/lib/python3.9/site-packages (from langchain) (6.0.1)\r\n",
      "Requirement already satisfied: typing-extensions<5,>=4.5 in ./venv/lib/python3.9/site-packages (from openai) (4.8.0)\r\n",
      "Requirement already satisfied: tqdm>4 in ./venv/lib/python3.9/site-packages (from openai) (4.66.1)\r\n",
      "Requirement already satisfied: distro<2,>=1.7.0 in ./venv/lib/python3.9/site-packages (from openai) (1.8.0)\r\n",
      "Requirement already satisfied: httpx<1,>=0.23.0 in ./venv/lib/python3.9/site-packages (from openai) (0.25.1)\r\n",
      "Requirement already satisfied: gitdb<5,>=4.0.1 in ./venv/lib/python3.9/site-packages (from GitPython) (4.0.11)\r\n",
      "Requirement already satisfied: fastapi>=0.95.2 in ./venv/lib/python3.9/site-packages (from chromadb) (0.104.1)\r\n",
      "Requirement already satisfied: grpcio>=1.58.0 in ./venv/lib/python3.9/site-packages (from chromadb) (1.59.3)\r\n",
      "Requirement already satisfied: importlib-resources in ./venv/lib/python3.9/site-packages (from chromadb) (6.1.1)\r\n",
      "Requirement already satisfied: opentelemetry-exporter-otlp-proto-grpc>=1.2.0 in ./venv/lib/python3.9/site-packages (from chromadb) (1.21.0)\r\n",
      "Requirement already satisfied: mmh3>=4.0.1 in ./venv/lib/python3.9/site-packages (from chromadb) (4.0.1)\r\n",
      "Requirement already satisfied: opentelemetry-sdk>=1.2.0 in ./venv/lib/python3.9/site-packages (from chromadb) (1.21.0)\r\n",
      "Requirement already satisfied: pulsar-client>=3.1.0 in ./venv/lib/python3.9/site-packages (from chromadb) (3.3.0)\r\n",
      "Requirement already satisfied: pypika>=0.48.9 in ./venv/lib/python3.9/site-packages (from chromadb) (0.48.9)\r\n",
      "Requirement already satisfied: posthog>=2.4.0 in ./venv/lib/python3.9/site-packages (from chromadb) (3.0.2)\r\n",
      "Requirement already satisfied: overrides>=7.3.1 in ./venv/lib/python3.9/site-packages (from chromadb) (7.4.0)\r\n",
      "Requirement already satisfied: uvicorn[standard]>=0.18.3 in ./venv/lib/python3.9/site-packages (from chromadb) (0.24.0.post1)\r\n",
      "Requirement already satisfied: tokenizers>=0.13.2 in ./venv/lib/python3.9/site-packages (from chromadb) (0.15.0)\r\n",
      "Requirement already satisfied: chroma-hnswlib==0.7.3 in ./venv/lib/python3.9/site-packages (from chromadb) (0.7.3)\r\n",
      "Requirement already satisfied: bcrypt>=4.0.1 in ./venv/lib/python3.9/site-packages (from chromadb) (4.1.1)\r\n",
      "Requirement already satisfied: typer>=0.9.0 in ./venv/lib/python3.9/site-packages (from chromadb) (0.9.0)\r\n",
      "Requirement already satisfied: opentelemetry-instrumentation-fastapi>=0.41b0 in ./venv/lib/python3.9/site-packages (from chromadb) (0.42b0)\r\n",
      "Requirement already satisfied: kubernetes>=28.1.0 in ./venv/lib/python3.9/site-packages (from chromadb) (28.1.0)\r\n",
      "Requirement already satisfied: onnxruntime>=1.14.1 in ./venv/lib/python3.9/site-packages (from chromadb) (1.16.3)\r\n",
      "Requirement already satisfied: opentelemetry-api>=1.2.0 in ./venv/lib/python3.9/site-packages (from chromadb) (1.21.0)\r\n",
      "Requirement already satisfied: wrapt in ./venv/lib/python3.9/site-packages (from unstructured) (1.16.0)\r\n",
      "Requirement already satisfied: filetype in ./venv/lib/python3.9/site-packages (from unstructured) (1.2.0)\r\n",
      "Requirement already satisfied: backoff in ./venv/lib/python3.9/site-packages (from unstructured) (2.2.1)\r\n",
      "Requirement already satisfied: tabulate in ./venv/lib/python3.9/site-packages (from unstructured) (0.9.0)\r\n",
      "Requirement already satisfied: nltk in ./venv/lib/python3.9/site-packages (from unstructured) (3.8.1)\r\n",
      "Requirement already satisfied: chardet in ./venv/lib/python3.9/site-packages (from unstructured) (5.2.0)\r\n",
      "Requirement already satisfied: python-iso639 in ./venv/lib/python3.9/site-packages (from unstructured) (2023.6.15)\r\n",
      "Requirement already satisfied: rapidfuzz in ./venv/lib/python3.9/site-packages (from unstructured) (3.5.2)\r\n",
      "Requirement already satisfied: emoji in ./venv/lib/python3.9/site-packages (from unstructured) (2.9.0)\r\n",
      "Requirement already satisfied: python-magic in ./venv/lib/python3.9/site-packages (from unstructured) (0.4.27)\r\n",
      "Requirement already satisfied: lxml in ./venv/lib/python3.9/site-packages (from unstructured) (4.9.3)\r\n",
      "Requirement already satisfied: langdetect in ./venv/lib/python3.9/site-packages (from unstructured) (1.0.9)\r\n",
      "Requirement already satisfied: beautifulsoup4 in ./venv/lib/python3.9/site-packages (from unstructured) (4.12.2)\r\n",
      "Requirement already satisfied: importlib-metadata>=4.4 in ./venv/lib/python3.9/site-packages (from markdown) (6.8.0)\r\n",
      "Requirement already satisfied: scipy in ./venv/lib/python3.9/site-packages (from sentence_transformers) (1.11.4)\r\n",
      "Requirement already satisfied: torchvision in ./venv/lib/python3.9/site-packages (from sentence_transformers) (0.16.1)\r\n",
      "Requirement already satisfied: transformers<5.0.0,>=4.6.0 in ./venv/lib/python3.9/site-packages (from sentence_transformers) (4.35.2)\r\n",
      "Requirement already satisfied: huggingface-hub>=0.4.0 in ./venv/lib/python3.9/site-packages (from sentence_transformers) (0.19.4)\r\n",
      "Requirement already satisfied: scikit-learn in ./venv/lib/python3.9/site-packages (from sentence_transformers) (1.3.2)\r\n",
      "Requirement already satisfied: sentencepiece in ./venv/lib/python3.9/site-packages (from sentence_transformers) (0.1.99)\r\n",
      "Requirement already satisfied: torch>=1.6.0 in ./venv/lib/python3.9/site-packages (from sentence_transformers) (2.1.1)\r\n",
      "Requirement already satisfied: aiosignal>=1.1.2 in ./venv/lib/python3.9/site-packages (from aiohttp<4.0.0,>=3.8.3->langchain) (1.3.1)\r\n",
      "Requirement already satisfied: frozenlist>=1.1.1 in ./venv/lib/python3.9/site-packages (from aiohttp<4.0.0,>=3.8.3->langchain) (1.4.0)\r\n",
      "Requirement already satisfied: attrs>=17.3.0 in ./venv/lib/python3.9/site-packages (from aiohttp<4.0.0,>=3.8.3->langchain) (23.1.0)\r\n",
      "Requirement already satisfied: multidict<7.0,>=4.5 in ./venv/lib/python3.9/site-packages (from aiohttp<4.0.0,>=3.8.3->langchain) (6.0.4)\r\n",
      "Requirement already satisfied: yarl<2.0,>=1.0 in ./venv/lib/python3.9/site-packages (from aiohttp<4.0.0,>=3.8.3->langchain) (1.9.3)\r\n",
      "Requirement already satisfied: sniffio>=1.1 in ./venv/lib/python3.9/site-packages (from anyio<4.0->langchain) (1.3.0)\r\n",
      "Requirement already satisfied: idna>=2.8 in ./venv/lib/python3.9/site-packages (from anyio<4.0->langchain) (3.4)\r\n",
      "Requirement already satisfied: exceptiongroup in ./venv/lib/python3.9/site-packages (from anyio<4.0->langchain) (1.2.0)\r\n",
      "Requirement already satisfied: typing-inspect<1,>=0.4.0 in ./venv/lib/python3.9/site-packages (from dataclasses-json<0.7,>=0.5.7->langchain) (0.9.0)\r\n",
      "Requirement already satisfied: marshmallow<4.0.0,>=3.18.0 in ./venv/lib/python3.9/site-packages (from dataclasses-json<0.7,>=0.5.7->langchain) (3.20.1)\r\n",
      "Requirement already satisfied: starlette<0.28.0,>=0.27.0 in ./venv/lib/python3.9/site-packages (from fastapi>=0.95.2->chromadb) (0.27.0)\r\n",
      "Requirement already satisfied: smmap<6,>=3.0.1 in ./venv/lib/python3.9/site-packages (from gitdb<5,>=4.0.1->GitPython) (5.0.1)\r\n",
      "Requirement already satisfied: httpcore in ./venv/lib/python3.9/site-packages (from httpx<1,>=0.23.0->openai) (1.0.2)\r\n",
      "Requirement already satisfied: certifi in ./venv/lib/python3.9/site-packages (from httpx<1,>=0.23.0->openai) (2023.11.17)\r\n",
      "Requirement already satisfied: fsspec>=2023.5.0 in ./venv/lib/python3.9/site-packages (from huggingface-hub>=0.4.0->sentence_transformers) (2023.10.0)\r\n",
      "Requirement already satisfied: packaging>=20.9 in ./venv/lib/python3.9/site-packages (from huggingface-hub>=0.4.0->sentence_transformers) (23.2)\r\n",
      "Requirement already satisfied: filelock in ./venv/lib/python3.9/site-packages (from huggingface-hub>=0.4.0->sentence_transformers) (3.13.1)\r\n",
      "Requirement already satisfied: zipp>=0.5 in ./venv/lib/python3.9/site-packages (from importlib-metadata>=4.4->markdown) (3.17.0)\r\n",
      "Requirement already satisfied: jsonpointer>=1.9 in ./venv/lib/python3.9/site-packages (from jsonpatch<2.0,>=1.33->langchain) (2.4)\r\n",
      "Requirement already satisfied: requests-oauthlib in ./venv/lib/python3.9/site-packages (from kubernetes>=28.1.0->chromadb) (1.3.1)\r\n",
      "Requirement already satisfied: urllib3<2.0,>=1.24.2 in ./venv/lib/python3.9/site-packages (from kubernetes>=28.1.0->chromadb) (1.26.18)\r\n",
      "Requirement already satisfied: websocket-client!=0.40.0,!=0.41.*,!=0.42.*,>=0.32.0 in ./venv/lib/python3.9/site-packages (from kubernetes>=28.1.0->chromadb) (1.6.4)\r\n",
      "Requirement already satisfied: python-dateutil>=2.5.3 in ./venv/lib/python3.9/site-packages (from kubernetes>=28.1.0->chromadb) (2.8.2)\r\n",
      "Requirement already satisfied: oauthlib>=3.2.2 in ./venv/lib/python3.9/site-packages (from kubernetes>=28.1.0->chromadb) (3.2.2)\r\n",
      "Requirement already satisfied: six>=1.9.0 in ./venv/lib/python3.9/site-packages (from kubernetes>=28.1.0->chromadb) (1.16.0)\r\n",
      "Requirement already satisfied: google-auth>=1.0.1 in ./venv/lib/python3.9/site-packages (from kubernetes>=28.1.0->chromadb) (2.23.4)\r\n",
      "Requirement already satisfied: coloredlogs in ./venv/lib/python3.9/site-packages (from onnxruntime>=1.14.1->chromadb) (15.0.1)\r\n",
      "Requirement already satisfied: protobuf in ./venv/lib/python3.9/site-packages (from onnxruntime>=1.14.1->chromadb) (4.25.1)\r\n",
      "Requirement already satisfied: flatbuffers in ./venv/lib/python3.9/site-packages (from onnxruntime>=1.14.1->chromadb) (23.5.26)\r\n",
      "Requirement already satisfied: sympy in ./venv/lib/python3.9/site-packages (from onnxruntime>=1.14.1->chromadb) (1.12)\r\n",
      "Requirement already satisfied: deprecated>=1.2.6 in ./venv/lib/python3.9/site-packages (from opentelemetry-api>=1.2.0->chromadb) (1.2.14)\r\n",
      "Requirement already satisfied: opentelemetry-proto==1.21.0 in ./venv/lib/python3.9/site-packages (from opentelemetry-exporter-otlp-proto-grpc>=1.2.0->chromadb) (1.21.0)\r\n",
      "Requirement already satisfied: googleapis-common-protos~=1.52 in ./venv/lib/python3.9/site-packages (from opentelemetry-exporter-otlp-proto-grpc>=1.2.0->chromadb) (1.61.0)\r\n",
      "Requirement already satisfied: opentelemetry-exporter-otlp-proto-common==1.21.0 in ./venv/lib/python3.9/site-packages (from opentelemetry-exporter-otlp-proto-grpc>=1.2.0->chromadb) (1.21.0)\r\n",
      "Requirement already satisfied: opentelemetry-semantic-conventions==0.42b0 in ./venv/lib/python3.9/site-packages (from opentelemetry-instrumentation-fastapi>=0.41b0->chromadb) (0.42b0)\r\n",
      "Requirement already satisfied: opentelemetry-instrumentation-asgi==0.42b0 in ./venv/lib/python3.9/site-packages (from opentelemetry-instrumentation-fastapi>=0.41b0->chromadb) (0.42b0)\r\n",
      "Requirement already satisfied: opentelemetry-instrumentation==0.42b0 in ./venv/lib/python3.9/site-packages (from opentelemetry-instrumentation-fastapi>=0.41b0->chromadb) (0.42b0)\r\n",
      "Requirement already satisfied: opentelemetry-util-http==0.42b0 in ./venv/lib/python3.9/site-packages (from opentelemetry-instrumentation-fastapi>=0.41b0->chromadb) (0.42b0)\r\n",
      "Requirement already satisfied: setuptools>=16.0 in ./venv/lib/python3.9/site-packages (from opentelemetry-instrumentation==0.42b0->opentelemetry-instrumentation-fastapi>=0.41b0->chromadb) (65.5.1)\r\n",
      "Requirement already satisfied: asgiref~=3.0 in ./venv/lib/python3.9/site-packages (from opentelemetry-instrumentation-asgi==0.42b0->opentelemetry-instrumentation-fastapi>=0.41b0->chromadb) (3.7.2)\r\n",
      "Requirement already satisfied: monotonic>=1.5 in ./venv/lib/python3.9/site-packages (from posthog>=2.4.0->chromadb) (1.6)\r\n",
      "Requirement already satisfied: pydantic-core==2.14.3 in ./venv/lib/python3.9/site-packages (from pydantic<3,>=1->langchain) (2.14.3)\r\n",
      "Requirement already satisfied: annotated-types>=0.4.0 in ./venv/lib/python3.9/site-packages (from pydantic<3,>=1->langchain) (0.6.0)\r\n",
      "Requirement already satisfied: charset-normalizer<4,>=2 in ./venv/lib/python3.9/site-packages (from requests<3,>=2->langchain) (3.3.2)\r\n",
      "Requirement already satisfied: jinja2 in ./venv/lib/python3.9/site-packages (from torch>=1.6.0->sentence_transformers) (3.1.2)\r\n",
      "Requirement already satisfied: networkx in ./venv/lib/python3.9/site-packages (from torch>=1.6.0->sentence_transformers) (3.2.1)\r\n",
      "Requirement already satisfied: safetensors>=0.3.1 in ./venv/lib/python3.9/site-packages (from transformers<5.0.0,>=4.6.0->sentence_transformers) (0.4.1)\r\n",
      "Requirement already satisfied: regex!=2019.12.17 in ./venv/lib/python3.9/site-packages (from transformers<5.0.0,>=4.6.0->sentence_transformers) (2023.10.3)\r\n",
      "Requirement already satisfied: click<9.0.0,>=7.1.1 in ./venv/lib/python3.9/site-packages (from typer>=0.9.0->chromadb) (8.1.7)\r\n",
      "Requirement already satisfied: h11>=0.8 in ./venv/lib/python3.9/site-packages (from uvicorn[standard]>=0.18.3->chromadb) (0.14.0)\r\n",
      "Requirement already satisfied: watchfiles>=0.13 in ./venv/lib/python3.9/site-packages (from uvicorn[standard]>=0.18.3->chromadb) (0.21.0)\r\n",
      "Requirement already satisfied: uvloop!=0.15.0,!=0.15.1,>=0.14.0 in ./venv/lib/python3.9/site-packages (from uvicorn[standard]>=0.18.3->chromadb) (0.19.0)\r\n",
      "Requirement already satisfied: python-dotenv>=0.13 in ./venv/lib/python3.9/site-packages (from uvicorn[standard]>=0.18.3->chromadb) (1.0.0)\r\n",
      "Requirement already satisfied: httptools>=0.5.0 in ./venv/lib/python3.9/site-packages (from uvicorn[standard]>=0.18.3->chromadb) (0.6.1)\r\n",
      "Requirement already satisfied: websockets>=10.4 in ./venv/lib/python3.9/site-packages (from uvicorn[standard]>=0.18.3->chromadb) (12.0)\r\n",
      "Requirement already satisfied: soupsieve>1.2 in ./venv/lib/python3.9/site-packages (from beautifulsoup4->unstructured) (2.5)\r\n",
      "Requirement already satisfied: joblib in ./venv/lib/python3.9/site-packages (from nltk->unstructured) (1.3.2)\r\n",
      "Requirement already satisfied: threadpoolctl>=2.0.0 in ./venv/lib/python3.9/site-packages (from scikit-learn->sentence_transformers) (3.2.0)\r\n",
      "Requirement already satisfied: pillow!=8.3.*,>=5.3.0 in ./venv/lib/python3.9/site-packages (from torchvision->sentence_transformers) (10.1.0)\r\n",
      "Requirement already satisfied: rsa<5,>=3.1.4 in ./venv/lib/python3.9/site-packages (from google-auth>=1.0.1->kubernetes>=28.1.0->chromadb) (4.9)\r\n",
      "Requirement already satisfied: pyasn1-modules>=0.2.1 in ./venv/lib/python3.9/site-packages (from google-auth>=1.0.1->kubernetes>=28.1.0->chromadb) (0.3.0)\r\n",
      "Requirement already satisfied: cachetools<6.0,>=2.0.0 in ./venv/lib/python3.9/site-packages (from google-auth>=1.0.1->kubernetes>=28.1.0->chromadb) (5.3.2)\r\n",
      "Requirement already satisfied: mypy-extensions>=0.3.0 in ./venv/lib/python3.9/site-packages (from typing-inspect<1,>=0.4.0->dataclasses-json<0.7,>=0.5.7->langchain) (1.0.0)\r\n",
      "Requirement already satisfied: humanfriendly>=9.1 in ./venv/lib/python3.9/site-packages (from coloredlogs->onnxruntime>=1.14.1->chromadb) (10.0)\r\n",
      "Requirement already satisfied: MarkupSafe>=2.0 in ./venv/lib/python3.9/site-packages (from jinja2->torch>=1.6.0->sentence_transformers) (2.1.3)\r\n",
      "Requirement already satisfied: mpmath>=0.19 in ./venv/lib/python3.9/site-packages (from sympy->onnxruntime>=1.14.1->chromadb) (1.3.0)\r\n",
      "Requirement already satisfied: pyasn1<0.6.0,>=0.4.6 in ./venv/lib/python3.9/site-packages (from pyasn1-modules>=0.2.1->google-auth>=1.0.1->kubernetes>=28.1.0->chromadb) (0.5.1)\r\n",
      "\r\n",
      "\u001B[1m[\u001B[0m\u001B[34;49mnotice\u001B[0m\u001B[1;39;49m]\u001B[0m\u001B[39;49m A new release of pip available: \u001B[0m\u001B[31;49m22.3.1\u001B[0m\u001B[39;49m -> \u001B[0m\u001B[32;49m23.3.1\u001B[0m\r\n",
      "\u001B[1m[\u001B[0m\u001B[34;49mnotice\u001B[0m\u001B[1;39;49m]\u001B[0m\u001B[39;49m To update, run: \u001B[0m\u001B[32;49mpip install --upgrade pip\u001B[0m\r\n"
     ]
    }
   ],
   "source": [
    "!pip install langchain openai GitPython chromadb unstructured markdown sentence_transformers"
   ]
  },
  {
   "cell_type": "code",
   "execution_count": 2,
   "outputs": [
    {
     "data": {
      "text/plain": "True"
     },
     "execution_count": 2,
     "metadata": {},
     "output_type": "execute_result"
    }
   ],
   "source": [
    "from dotenv import load_dotenv\n",
    "load_dotenv()"
   ],
   "metadata": {
    "collapsed": false,
    "ExecuteTime": {
     "start_time": "2023-12-14T10:05:52.370003Z",
     "end_time": "2023-12-14T10:05:52.381621Z"
    }
   }
  },
  {
   "cell_type": "code",
   "execution_count": 3,
   "outputs": [],
   "source": [
    "from langchain.document_loaders import GitLoader\n",
    "\n",
    "code_loader = GitLoader(\n",
    "    clone_url=\"https://github.com/hpi-swa-lab/godot-pronto\",\n",
    "    repo_path=\"./pronto\",\n",
    "    branch=\"master\",\n",
    "    file_filter=lambda file_path: file_path.endswith(\".gd\")\n",
    ")\n",
    "code_documents = code_loader.load()"
   ],
   "metadata": {
    "collapsed": false,
    "ExecuteTime": {
     "start_time": "2023-12-14T10:05:52.377510Z",
     "end_time": "2023-12-14T10:05:55.193479Z"
    }
   }
  },
  {
   "cell_type": "code",
   "execution_count": 4,
   "outputs": [],
   "source": [
    "from langchain.document_loaders import UnstructuredMarkdownLoader\n",
    "\n",
    "readme_loader = UnstructuredMarkdownLoader(\"pronto/README.md\")\n",
    "readme_document = readme_loader.load()"
   ],
   "metadata": {
    "collapsed": false,
    "ExecuteTime": {
     "start_time": "2023-12-14T10:05:55.194826Z",
     "end_time": "2023-12-14T10:06:00.533664Z"
    }
   }
  },
  {
   "cell_type": "code",
   "execution_count": 5,
   "outputs": [],
   "source": [
    "separators = [\n",
    "    # First, try to split along class definitions\n",
    "    \"\\nclass \",\n",
    "    \"\\nfunc \",\n",
    "    \"\\n\\tfunc \",\n",
    "    # Now split by the normal type of lines\n",
    "    \"\\n\\n\",\n",
    "    \"\\n\",\n",
    "    \" \",\n",
    "    \"\",\n",
    "]"
   ],
   "metadata": {
    "collapsed": false,
    "ExecuteTime": {
     "start_time": "2023-12-14T10:06:00.535609Z",
     "end_time": "2023-12-14T10:06:00.536765Z"
    }
   }
  },
  {
   "cell_type": "code",
   "execution_count": 6,
   "outputs": [],
   "source": [
    "from langchain.text_splitter import RecursiveCharacterTextSplitter, Language"
   ],
   "metadata": {
    "collapsed": false,
    "ExecuteTime": {
     "start_time": "2023-12-14T10:06:00.538015Z",
     "end_time": "2023-12-14T10:06:00.538853Z"
    }
   }
  },
  {
   "cell_type": "code",
   "execution_count": 7,
   "outputs": [],
   "source": [
    "code_splitter = RecursiveCharacterTextSplitter(separators=separators, chunk_size=512, chunk_overlap=200)\n",
    "code_splits = code_splitter.split_documents(code_documents)"
   ],
   "metadata": {
    "collapsed": false,
    "ExecuteTime": {
     "start_time": "2023-12-14T10:06:00.552411Z",
     "end_time": "2023-12-14T10:06:00.553777Z"
    }
   }
  },
  {
   "cell_type": "code",
   "execution_count": 8,
   "outputs": [],
   "source": [
    "readme_splitter = RecursiveCharacterTextSplitter.from_language(language=Language.MARKDOWN, chunk_size=100, chunk_overlap=20)\n",
    "readme_splits = readme_splitter.split_documents(readme_document)"
   ],
   "metadata": {
    "collapsed": false,
    "ExecuteTime": {
     "start_time": "2023-12-14T10:06:00.560700Z",
     "end_time": "2023-12-14T10:06:00.563770Z"
    }
   }
  },
  {
   "cell_type": "code",
   "execution_count": 9,
   "outputs": [],
   "source": [
    "from langchain.embeddings.sentence_transformer import SentenceTransformerEmbeddings\n",
    "from langchain.embeddings import OpenAIEmbeddings"
   ],
   "metadata": {
    "collapsed": false,
    "ExecuteTime": {
     "start_time": "2023-12-14T10:06:00.562992Z",
     "end_time": "2023-12-14T10:06:00.796909Z"
    }
   }
  },
  {
   "cell_type": "code",
   "execution_count": 10,
   "outputs": [],
   "source": [
    "embeddings = OpenAIEmbeddings()"
   ],
   "metadata": {
    "collapsed": false,
    "ExecuteTime": {
     "start_time": "2023-12-14T10:06:00.797554Z",
     "end_time": "2023-12-14T10:06:01.028245Z"
    }
   }
  },
  {
   "cell_type": "code",
   "execution_count": 11,
   "outputs": [],
   "source": [
    "from langchain.vectorstores import Chroma"
   ],
   "metadata": {
    "collapsed": false,
    "ExecuteTime": {
     "start_time": "2023-12-14T10:06:01.029053Z",
     "end_time": "2023-12-14T10:06:01.033911Z"
    }
   }
  },
  {
   "cell_type": "code",
   "execution_count": 12,
   "outputs": [],
   "source": [
    "code_db = Chroma.from_documents(documents=code_splits, embedding=embeddings)\n",
    "code_retriever = code_db.as_retriever(\n",
    "    search_type=\"mmr\",  # Also test \"similarity\"\n",
    "    search_kwargs={\"k\": 4},\n",
    ")"
   ],
   "metadata": {
    "collapsed": false,
    "ExecuteTime": {
     "start_time": "2023-12-14T10:06:01.034922Z",
     "end_time": "2023-12-14T10:06:10.802735Z"
    }
   }
  },
  {
   "cell_type": "code",
   "execution_count": 13,
   "outputs": [],
   "source": [
    "readme_db = Chroma.from_documents(documents=readme_splits, embedding=embeddings)\n",
    "readme_retriever = readme_db.as_retriever(\n",
    "    search_type=\"mmr\",  # Also test \"similarity\",\n",
    "    search_kwargs={\"k\": 8}\n",
    ")"
   ],
   "metadata": {
    "collapsed": false,
    "ExecuteTime": {
     "start_time": "2023-12-14T10:06:10.803679Z",
     "end_time": "2023-12-14T10:06:12.770449Z"
    }
   }
  },
  {
   "cell_type": "code",
   "execution_count": 14,
   "outputs": [],
   "source": [
    "from langchain.retrievers import EnsembleRetriever\n",
    "\n",
    "retriever = EnsembleRetriever(\n",
    "    retrievers=[code_retriever, readme_retriever], weights=[0.2, 0.8]\n",
    ")"
   ],
   "metadata": {
    "collapsed": false,
    "ExecuteTime": {
     "start_time": "2023-12-14T10:06:12.773406Z",
     "end_time": "2023-12-14T10:06:13.291431Z"
    }
   }
  },
  {
   "cell_type": "code",
   "execution_count": 15,
   "outputs": [],
   "source": [
    "from langchain.chains import ConversationalRetrievalChain\n",
    "from langchain.chat_models import ChatOpenAI\n",
    "from langchain.memory import ConversationSummaryMemory\n",
    "\n",
    "llm = ChatOpenAI(temperature=0)\n",
    "memory = ConversationSummaryMemory(\n",
    "    llm=llm, memory_key=\"chat_history\", return_messages=True\n",
    ")\n",
    "qa = ConversationalRetrievalChain.from_llm(llm, retriever=retriever, memory=memory)"
   ],
   "metadata": {
    "collapsed": false,
    "ExecuteTime": {
     "start_time": "2023-12-14T10:06:13.293911Z",
     "end_time": "2023-12-14T10:06:13.303863Z"
    }
   }
  },
  {
   "cell_type": "code",
   "execution_count": 20,
   "outputs": [
    {
     "name": "stdout",
     "output_type": "stream",
     "text": [
      "{'question': 'How do I use the wiring system?', 'chat_history': [SystemMessage(content=\"The human asks the AI to provide 20 questions that a user would ask a chatbot built to help with building games using the Pronto framework. The AI provides a comprehensive list of questions, covering various aspects of the framework, its features, limitations, and usage. The questions cover topics such as accessing the Pronto framework, troubleshooting issues, using external assets, creating prototypes, customizing behaviors, managing game state, collaborating with other developers, optimizing performance, integrating external libraries, organizing code, exporting to different platforms, testing within the framework, and known issues or bugs. The AI also mentions that the accuracy and availability of answers may vary depending on the specific chatbot's knowledge and capabilities. The human asks how to connect two behaviors, and the AI explains that it can be done using the framework's wiring system.\")], 'answer': 'To use the wiring system, you need to follow these steps:\\n\\n1. Identify the behaviors or mechanics that you want to connect or wire together.\\n\\n2. Determine the type of connection you need. There are two types: primary connections and prepared connections.\\n\\n3. For primary connections, you will need to manually assemble your game by wiring the behaviors together. This involves connecting the input and output signals of the behaviors using the wiring system.\\n\\n4. For prepared connections, some connections have already been created for you to use. You can select and use these pre-made connections instead of manually wiring the behaviors.\\n\\n5. When choosing a mechanic to connect, consider whether it would be more efficient to build a paper prototype first. This can help you test and iterate on your ideas before implementing them in the game.\\n\\n6. If you need to reload or refresh any connections, you can access them from within the code.\\n\\n7. Additionally, you may need to troubleshoot any issues that arise during the wiring process. This can involve adjusting signal levels, renaming signals, or using logical OR-gating of signals.\\n\\nRemember, if you have any specific questions or need further assistance with the wiring system, feel free to ask.'}\n"
     ]
    }
   ],
   "source": [
    "question = \"How do I use the wiring system?\"\n",
    "result = qa(question)\n",
    "print(result)"
   ],
   "metadata": {
    "collapsed": false,
    "ExecuteTime": {
     "start_time": "2023-12-14T10:32:18.438457Z",
     "end_time": "2023-12-14T10:32:34.208089Z"
    }
   }
  },
  {
   "cell_type": "code",
   "execution_count": 16,
   "outputs": [],
   "source": [],
   "metadata": {
    "collapsed": false,
    "ExecuteTime": {
     "start_time": "2023-12-14T10:06:27.358624Z",
     "end_time": "2023-12-14T10:06:27.359729Z"
    }
   }
  }
 ],
 "metadata": {
  "kernelspec": {
   "display_name": "Python 3",
   "language": "python",
   "name": "python3"
  },
  "language_info": {
   "codemirror_mode": {
    "name": "ipython",
    "version": 2
   },
   "file_extension": ".py",
   "mimetype": "text/x-python",
   "name": "python",
   "nbconvert_exporter": "python",
   "pygments_lexer": "ipython2",
   "version": "2.7.6"
  }
 },
 "nbformat": 4,
 "nbformat_minor": 0
}
