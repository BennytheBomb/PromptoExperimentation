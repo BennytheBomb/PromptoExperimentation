{
 "cells": [
  {
   "cell_type": "markdown",
   "source": [
    "# Retrieval\n",
    "\n",
    "The steps are:\n",
    "1. Load documents\n",
    "2. Split documents\n",
    "3. Embed & store documents\n",
    "4. Retrieve from documents"
   ],
   "metadata": {
    "collapsed": false
   }
  },
  {
   "cell_type": "markdown",
   "source": [
    "## 0. Prerequisites"
   ],
   "metadata": {
    "collapsed": false
   }
  },
  {
   "cell_type": "code",
   "execution_count": 1,
   "outputs": [
    {
     "name": "stdout",
     "output_type": "stream",
     "text": [
      "Requirement already satisfied: langchain in ./venv/lib/python3.9/site-packages (0.0.350)\r\n",
      "Requirement already satisfied: openai in ./venv/lib/python3.9/site-packages (1.6.0)\r\n",
      "Requirement already satisfied: GitPython in ./venv/lib/python3.9/site-packages (3.1.40)\r\n",
      "Requirement already satisfied: chromadb in ./venv/lib/python3.9/site-packages (0.4.20)\r\n",
      "Requirement already satisfied: unstructured in ./venv/lib/python3.9/site-packages (0.11.5)\r\n",
      "Requirement already satisfied: markdown in ./venv/lib/python3.9/site-packages (3.5.1)\r\n",
      "Requirement already satisfied: tiktoken in ./venv/lib/python3.9/site-packages (0.5.2)\r\n",
      "Requirement already satisfied: PyYAML>=5.3 in ./venv/lib/python3.9/site-packages (from langchain) (6.0.1)\r\n",
      "Requirement already satisfied: SQLAlchemy<3,>=1.4 in ./venv/lib/python3.9/site-packages (from langchain) (2.0.23)\r\n",
      "Requirement already satisfied: aiohttp<4.0.0,>=3.8.3 in ./venv/lib/python3.9/site-packages (from langchain) (3.9.1)\r\n",
      "Requirement already satisfied: async-timeout<5.0.0,>=4.0.0 in ./venv/lib/python3.9/site-packages (from langchain) (4.0.3)\r\n",
      "Requirement already satisfied: dataclasses-json<0.7,>=0.5.7 in ./venv/lib/python3.9/site-packages (from langchain) (0.6.3)\r\n",
      "Requirement already satisfied: jsonpatch<2.0,>=1.33 in ./venv/lib/python3.9/site-packages (from langchain) (1.33)\r\n",
      "Requirement already satisfied: langchain-community<0.1,>=0.0.2 in ./venv/lib/python3.9/site-packages (from langchain) (0.0.3)\r\n",
      "Requirement already satisfied: langchain-core<0.2,>=0.1 in ./venv/lib/python3.9/site-packages (from langchain) (0.1.1)\r\n",
      "Requirement already satisfied: langsmith<0.1.0,>=0.0.63 in ./venv/lib/python3.9/site-packages (from langchain) (0.0.70)\r\n",
      "Requirement already satisfied: numpy<2,>=1 in ./venv/lib/python3.9/site-packages (from langchain) (1.26.2)\r\n",
      "Requirement already satisfied: pydantic<3,>=1 in ./venv/lib/python3.9/site-packages (from langchain) (2.5.2)\r\n",
      "Requirement already satisfied: requests<3,>=2 in ./venv/lib/python3.9/site-packages (from langchain) (2.31.0)\r\n",
      "Requirement already satisfied: tenacity<9.0.0,>=8.1.0 in ./venv/lib/python3.9/site-packages (from langchain) (8.2.3)\r\n",
      "Requirement already satisfied: anyio<5,>=3.5.0 in ./venv/lib/python3.9/site-packages (from openai) (3.7.1)\r\n",
      "Requirement already satisfied: distro<2,>=1.7.0 in ./venv/lib/python3.9/site-packages (from openai) (1.8.0)\r\n",
      "Requirement already satisfied: httpx<1,>=0.23.0 in ./venv/lib/python3.9/site-packages (from openai) (0.25.2)\r\n",
      "Requirement already satisfied: sniffio in ./venv/lib/python3.9/site-packages (from openai) (1.3.0)\r\n",
      "Requirement already satisfied: tqdm>4 in ./venv/lib/python3.9/site-packages (from openai) (4.66.1)\r\n",
      "Requirement already satisfied: typing-extensions<5,>=4.7 in ./venv/lib/python3.9/site-packages (from openai) (4.9.0)\r\n",
      "Requirement already satisfied: gitdb<5,>=4.0.1 in ./venv/lib/python3.9/site-packages (from GitPython) (4.0.11)\r\n",
      "Requirement already satisfied: chroma-hnswlib==0.7.3 in ./venv/lib/python3.9/site-packages (from chromadb) (0.7.3)\r\n",
      "Requirement already satisfied: fastapi>=0.95.2 in ./venv/lib/python3.9/site-packages (from chromadb) (0.105.0)\r\n",
      "Requirement already satisfied: uvicorn>=0.18.3 in ./venv/lib/python3.9/site-packages (from uvicorn[standard]>=0.18.3->chromadb) (0.24.0.post1)\r\n",
      "Requirement already satisfied: posthog>=2.4.0 in ./venv/lib/python3.9/site-packages (from chromadb) (3.1.0)\r\n",
      "Requirement already satisfied: pulsar-client>=3.1.0 in ./venv/lib/python3.9/site-packages (from chromadb) (3.3.0)\r\n",
      "Requirement already satisfied: onnxruntime>=1.14.1 in ./venv/lib/python3.9/site-packages (from chromadb) (1.16.3)\r\n",
      "Requirement already satisfied: opentelemetry-api>=1.2.0 in ./venv/lib/python3.9/site-packages (from chromadb) (1.22.0)\r\n",
      "Requirement already satisfied: opentelemetry-exporter-otlp-proto-grpc>=1.2.0 in ./venv/lib/python3.9/site-packages (from chromadb) (1.22.0)\r\n",
      "Requirement already satisfied: opentelemetry-instrumentation-fastapi>=0.41b0 in ./venv/lib/python3.9/site-packages (from chromadb) (0.43b0)\r\n",
      "Requirement already satisfied: opentelemetry-sdk>=1.2.0 in ./venv/lib/python3.9/site-packages (from chromadb) (1.22.0)\r\n",
      "Requirement already satisfied: tokenizers>=0.13.2 in ./venv/lib/python3.9/site-packages (from chromadb) (0.15.0)\r\n",
      "Requirement already satisfied: pypika>=0.48.9 in ./venv/lib/python3.9/site-packages (from chromadb) (0.48.9)\r\n",
      "Requirement already satisfied: overrides>=7.3.1 in ./venv/lib/python3.9/site-packages (from chromadb) (7.4.0)\r\n",
      "Requirement already satisfied: importlib-resources in ./venv/lib/python3.9/site-packages (from chromadb) (6.1.1)\r\n",
      "Requirement already satisfied: grpcio>=1.58.0 in ./venv/lib/python3.9/site-packages (from chromadb) (1.60.0)\r\n",
      "Requirement already satisfied: bcrypt>=4.0.1 in ./venv/lib/python3.9/site-packages (from chromadb) (4.1.2)\r\n",
      "Requirement already satisfied: typer>=0.9.0 in ./venv/lib/python3.9/site-packages (from chromadb) (0.9.0)\r\n",
      "Requirement already satisfied: kubernetes>=28.1.0 in ./venv/lib/python3.9/site-packages (from chromadb) (28.1.0)\r\n",
      "Requirement already satisfied: mmh3>=4.0.1 in ./venv/lib/python3.9/site-packages (from chromadb) (4.0.1)\r\n",
      "Requirement already satisfied: chardet in ./venv/lib/python3.9/site-packages (from unstructured) (5.2.0)\r\n",
      "Requirement already satisfied: filetype in ./venv/lib/python3.9/site-packages (from unstructured) (1.2.0)\r\n",
      "Requirement already satisfied: python-magic in ./venv/lib/python3.9/site-packages (from unstructured) (0.4.27)\r\n",
      "Requirement already satisfied: lxml in ./venv/lib/python3.9/site-packages (from unstructured) (4.9.4)\r\n",
      "Requirement already satisfied: nltk in ./venv/lib/python3.9/site-packages (from unstructured) (3.8.1)\r\n",
      "Requirement already satisfied: tabulate in ./venv/lib/python3.9/site-packages (from unstructured) (0.9.0)\r\n",
      "Requirement already satisfied: beautifulsoup4 in ./venv/lib/python3.9/site-packages (from unstructured) (4.12.2)\r\n",
      "Requirement already satisfied: emoji in ./venv/lib/python3.9/site-packages (from unstructured) (2.9.0)\r\n",
      "Requirement already satisfied: python-iso639 in ./venv/lib/python3.9/site-packages (from unstructured) (2023.12.11)\r\n",
      "Requirement already satisfied: langdetect in ./venv/lib/python3.9/site-packages (from unstructured) (1.0.9)\r\n",
      "Requirement already satisfied: rapidfuzz in ./venv/lib/python3.9/site-packages (from unstructured) (3.5.2)\r\n",
      "Requirement already satisfied: backoff in ./venv/lib/python3.9/site-packages (from unstructured) (2.2.1)\r\n",
      "Requirement already satisfied: unstructured-client in ./venv/lib/python3.9/site-packages (from unstructured) (0.15.0)\r\n",
      "Requirement already satisfied: wrapt in ./venv/lib/python3.9/site-packages (from unstructured) (1.16.0)\r\n",
      "Requirement already satisfied: importlib-metadata>=4.4 in ./venv/lib/python3.9/site-packages (from markdown) (6.11.0)\r\n",
      "Requirement already satisfied: regex>=2022.1.18 in ./venv/lib/python3.9/site-packages (from tiktoken) (2023.10.3)\r\n",
      "Requirement already satisfied: attrs>=17.3.0 in ./venv/lib/python3.9/site-packages (from aiohttp<4.0.0,>=3.8.3->langchain) (23.1.0)\r\n",
      "Requirement already satisfied: multidict<7.0,>=4.5 in ./venv/lib/python3.9/site-packages (from aiohttp<4.0.0,>=3.8.3->langchain) (6.0.4)\r\n",
      "Requirement already satisfied: yarl<2.0,>=1.0 in ./venv/lib/python3.9/site-packages (from aiohttp<4.0.0,>=3.8.3->langchain) (1.9.4)\r\n",
      "Requirement already satisfied: frozenlist>=1.1.1 in ./venv/lib/python3.9/site-packages (from aiohttp<4.0.0,>=3.8.3->langchain) (1.4.1)\r\n",
      "Requirement already satisfied: aiosignal>=1.1.2 in ./venv/lib/python3.9/site-packages (from aiohttp<4.0.0,>=3.8.3->langchain) (1.3.1)\r\n",
      "Requirement already satisfied: idna>=2.8 in ./venv/lib/python3.9/site-packages (from anyio<5,>=3.5.0->openai) (3.6)\r\n",
      "Requirement already satisfied: exceptiongroup in ./venv/lib/python3.9/site-packages (from anyio<5,>=3.5.0->openai) (1.2.0)\r\n",
      "Requirement already satisfied: marshmallow<4.0.0,>=3.18.0 in ./venv/lib/python3.9/site-packages (from dataclasses-json<0.7,>=0.5.7->langchain) (3.20.1)\r\n",
      "Requirement already satisfied: typing-inspect<1,>=0.4.0 in ./venv/lib/python3.9/site-packages (from dataclasses-json<0.7,>=0.5.7->langchain) (0.9.0)\r\n",
      "Requirement already satisfied: starlette<0.28.0,>=0.27.0 in ./venv/lib/python3.9/site-packages (from fastapi>=0.95.2->chromadb) (0.27.0)\r\n",
      "Requirement already satisfied: smmap<6,>=3.0.1 in ./venv/lib/python3.9/site-packages (from gitdb<5,>=4.0.1->GitPython) (5.0.1)\r\n",
      "Requirement already satisfied: certifi in ./venv/lib/python3.9/site-packages (from httpx<1,>=0.23.0->openai) (2023.11.17)\r\n",
      "Requirement already satisfied: httpcore==1.* in ./venv/lib/python3.9/site-packages (from httpx<1,>=0.23.0->openai) (1.0.2)\r\n",
      "Requirement already satisfied: h11<0.15,>=0.13 in ./venv/lib/python3.9/site-packages (from httpcore==1.*->httpx<1,>=0.23.0->openai) (0.14.0)\r\n",
      "Requirement already satisfied: zipp>=0.5 in ./venv/lib/python3.9/site-packages (from importlib-metadata>=4.4->markdown) (3.17.0)\r\n",
      "Requirement already satisfied: jsonpointer>=1.9 in ./venv/lib/python3.9/site-packages (from jsonpatch<2.0,>=1.33->langchain) (2.4)\r\n",
      "Requirement already satisfied: six>=1.9.0 in ./venv/lib/python3.9/site-packages (from kubernetes>=28.1.0->chromadb) (1.16.0)\r\n",
      "Requirement already satisfied: python-dateutil>=2.5.3 in ./venv/lib/python3.9/site-packages (from kubernetes>=28.1.0->chromadb) (2.8.2)\r\n",
      "Requirement already satisfied: google-auth>=1.0.1 in ./venv/lib/python3.9/site-packages (from kubernetes>=28.1.0->chromadb) (2.25.2)\r\n",
      "Requirement already satisfied: websocket-client!=0.40.0,!=0.41.*,!=0.42.*,>=0.32.0 in ./venv/lib/python3.9/site-packages (from kubernetes>=28.1.0->chromadb) (1.7.0)\r\n",
      "Requirement already satisfied: requests-oauthlib in ./venv/lib/python3.9/site-packages (from kubernetes>=28.1.0->chromadb) (1.3.1)\r\n",
      "Requirement already satisfied: oauthlib>=3.2.2 in ./venv/lib/python3.9/site-packages (from kubernetes>=28.1.0->chromadb) (3.2.2)\r\n",
      "Requirement already satisfied: urllib3<2.0,>=1.24.2 in ./venv/lib/python3.9/site-packages (from kubernetes>=28.1.0->chromadb) (1.26.18)\r\n",
      "Requirement already satisfied: packaging<24.0,>=23.2 in ./venv/lib/python3.9/site-packages (from langchain-core<0.2,>=0.1->langchain) (23.2)\r\n",
      "Requirement already satisfied: coloredlogs in ./venv/lib/python3.9/site-packages (from onnxruntime>=1.14.1->chromadb) (15.0.1)\r\n",
      "Requirement already satisfied: flatbuffers in ./venv/lib/python3.9/site-packages (from onnxruntime>=1.14.1->chromadb) (23.5.26)\r\n",
      "Requirement already satisfied: protobuf in ./venv/lib/python3.9/site-packages (from onnxruntime>=1.14.1->chromadb) (4.25.1)\r\n",
      "Requirement already satisfied: sympy in ./venv/lib/python3.9/site-packages (from onnxruntime>=1.14.1->chromadb) (1.12)\r\n",
      "Requirement already satisfied: deprecated>=1.2.6 in ./venv/lib/python3.9/site-packages (from opentelemetry-api>=1.2.0->chromadb) (1.2.14)\r\n",
      "Requirement already satisfied: googleapis-common-protos~=1.52 in ./venv/lib/python3.9/site-packages (from opentelemetry-exporter-otlp-proto-grpc>=1.2.0->chromadb) (1.62.0)\r\n",
      "Requirement already satisfied: opentelemetry-exporter-otlp-proto-common==1.22.0 in ./venv/lib/python3.9/site-packages (from opentelemetry-exporter-otlp-proto-grpc>=1.2.0->chromadb) (1.22.0)\r\n",
      "Requirement already satisfied: opentelemetry-proto==1.22.0 in ./venv/lib/python3.9/site-packages (from opentelemetry-exporter-otlp-proto-grpc>=1.2.0->chromadb) (1.22.0)\r\n",
      "Requirement already satisfied: opentelemetry-instrumentation-asgi==0.43b0 in ./venv/lib/python3.9/site-packages (from opentelemetry-instrumentation-fastapi>=0.41b0->chromadb) (0.43b0)\r\n",
      "Requirement already satisfied: opentelemetry-instrumentation==0.43b0 in ./venv/lib/python3.9/site-packages (from opentelemetry-instrumentation-fastapi>=0.41b0->chromadb) (0.43b0)\r\n",
      "Requirement already satisfied: opentelemetry-semantic-conventions==0.43b0 in ./venv/lib/python3.9/site-packages (from opentelemetry-instrumentation-fastapi>=0.41b0->chromadb) (0.43b0)\r\n",
      "Requirement already satisfied: opentelemetry-util-http==0.43b0 in ./venv/lib/python3.9/site-packages (from opentelemetry-instrumentation-fastapi>=0.41b0->chromadb) (0.43b0)\r\n",
      "Requirement already satisfied: setuptools>=16.0 in ./venv/lib/python3.9/site-packages (from opentelemetry-instrumentation==0.43b0->opentelemetry-instrumentation-fastapi>=0.41b0->chromadb) (65.5.1)\r\n",
      "Requirement already satisfied: asgiref~=3.0 in ./venv/lib/python3.9/site-packages (from opentelemetry-instrumentation-asgi==0.43b0->opentelemetry-instrumentation-fastapi>=0.41b0->chromadb) (3.7.2)\r\n",
      "Requirement already satisfied: monotonic>=1.5 in ./venv/lib/python3.9/site-packages (from posthog>=2.4.0->chromadb) (1.6)\r\n",
      "Requirement already satisfied: annotated-types>=0.4.0 in ./venv/lib/python3.9/site-packages (from pydantic<3,>=1->langchain) (0.6.0)\r\n",
      "Requirement already satisfied: pydantic-core==2.14.5 in ./venv/lib/python3.9/site-packages (from pydantic<3,>=1->langchain) (2.14.5)\r\n",
      "Requirement already satisfied: charset-normalizer<4,>=2 in ./venv/lib/python3.9/site-packages (from requests<3,>=2->langchain) (3.3.2)\r\n",
      "Requirement already satisfied: huggingface_hub<1.0,>=0.16.4 in ./venv/lib/python3.9/site-packages (from tokenizers>=0.13.2->chromadb) (0.20.1)\r\n",
      "Requirement already satisfied: click<9.0.0,>=7.1.1 in ./venv/lib/python3.9/site-packages (from typer>=0.9.0->chromadb) (8.1.7)\r\n",
      "Requirement already satisfied: httptools>=0.5.0 in ./venv/lib/python3.9/site-packages (from uvicorn[standard]>=0.18.3->chromadb) (0.6.1)\r\n",
      "Requirement already satisfied: python-dotenv>=0.13 in ./venv/lib/python3.9/site-packages (from uvicorn[standard]>=0.18.3->chromadb) (1.0.0)\r\n",
      "Requirement already satisfied: uvloop!=0.15.0,!=0.15.1,>=0.14.0 in ./venv/lib/python3.9/site-packages (from uvicorn[standard]>=0.18.3->chromadb) (0.19.0)\r\n",
      "Requirement already satisfied: watchfiles>=0.13 in ./venv/lib/python3.9/site-packages (from uvicorn[standard]>=0.18.3->chromadb) (0.21.0)\r\n",
      "Requirement already satisfied: websockets>=10.4 in ./venv/lib/python3.9/site-packages (from uvicorn[standard]>=0.18.3->chromadb) (12.0)\r\n",
      "Requirement already satisfied: soupsieve>1.2 in ./venv/lib/python3.9/site-packages (from beautifulsoup4->unstructured) (2.5)\r\n",
      "Requirement already satisfied: joblib in ./venv/lib/python3.9/site-packages (from nltk->unstructured) (1.3.2)\r\n",
      "Requirement already satisfied: jsonpath-python>=1.0.6 in ./venv/lib/python3.9/site-packages (from unstructured-client->unstructured) (1.0.6)\r\n",
      "Requirement already satisfied: mypy-extensions>=1.0.0 in ./venv/lib/python3.9/site-packages (from unstructured-client->unstructured) (1.0.0)\r\n",
      "Requirement already satisfied: cachetools<6.0,>=2.0.0 in ./venv/lib/python3.9/site-packages (from google-auth>=1.0.1->kubernetes>=28.1.0->chromadb) (5.3.2)\r\n",
      "Requirement already satisfied: pyasn1-modules>=0.2.1 in ./venv/lib/python3.9/site-packages (from google-auth>=1.0.1->kubernetes>=28.1.0->chromadb) (0.3.0)\r\n",
      "Requirement already satisfied: rsa<5,>=3.1.4 in ./venv/lib/python3.9/site-packages (from google-auth>=1.0.1->kubernetes>=28.1.0->chromadb) (4.9)\r\n",
      "Requirement already satisfied: filelock in ./venv/lib/python3.9/site-packages (from huggingface_hub<1.0,>=0.16.4->tokenizers>=0.13.2->chromadb) (3.13.1)\r\n",
      "Requirement already satisfied: fsspec>=2023.5.0 in ./venv/lib/python3.9/site-packages (from huggingface_hub<1.0,>=0.16.4->tokenizers>=0.13.2->chromadb) (2023.12.2)\r\n",
      "Requirement already satisfied: humanfriendly>=9.1 in ./venv/lib/python3.9/site-packages (from coloredlogs->onnxruntime>=1.14.1->chromadb) (10.0)\r\n",
      "Requirement already satisfied: mpmath>=0.19 in ./venv/lib/python3.9/site-packages (from sympy->onnxruntime>=1.14.1->chromadb) (1.3.0)\r\n",
      "Requirement already satisfied: pyasn1<0.6.0,>=0.4.6 in ./venv/lib/python3.9/site-packages (from pyasn1-modules>=0.2.1->google-auth>=1.0.1->kubernetes>=28.1.0->chromadb) (0.5.1)\r\n",
      "\r\n",
      "\u001B[1m[\u001B[0m\u001B[34;49mnotice\u001B[0m\u001B[1;39;49m]\u001B[0m\u001B[39;49m A new release of pip is available: \u001B[0m\u001B[31;49m23.3.1\u001B[0m\u001B[39;49m -> \u001B[0m\u001B[32;49m23.3.2\u001B[0m\r\n",
      "\u001B[1m[\u001B[0m\u001B[34;49mnotice\u001B[0m\u001B[1;39;49m]\u001B[0m\u001B[39;49m To update, run: \u001B[0m\u001B[32;49mpip install --upgrade pip\u001B[0m\r\n"
     ]
    }
   ],
   "source": [
    "!pip install langchain openai GitPython chromadb unstructured markdown tiktoken"
   ],
   "metadata": {
    "collapsed": false,
    "ExecuteTime": {
     "start_time": "2024-01-10T16:57:55.424980Z",
     "end_time": "2024-01-10T16:57:57.425979Z"
    }
   }
  },
  {
   "cell_type": "code",
   "execution_count": 2,
   "outputs": [
    {
     "data": {
      "text/plain": "True"
     },
     "execution_count": 2,
     "metadata": {},
     "output_type": "execute_result"
    }
   ],
   "source": [
    "from dotenv import load_dotenv\n",
    "load_dotenv()"
   ],
   "metadata": {
    "collapsed": false,
    "ExecuteTime": {
     "start_time": "2024-01-10T16:57:57.427155Z",
     "end_time": "2024-01-10T16:57:57.435167Z"
    }
   }
  },
  {
   "cell_type": "code",
   "execution_count": 3,
   "outputs": [],
   "source": [
    "search_keyword = \"AlwaysBehavior\""
   ],
   "metadata": {
    "collapsed": false,
    "ExecuteTime": {
     "start_time": "2024-01-10T16:57:57.435568Z",
     "end_time": "2024-01-10T16:57:57.437254Z"
    }
   }
  },
  {
   "cell_type": "markdown",
   "source": [
    "## 1. Load documents"
   ],
   "metadata": {
    "collapsed": false
   }
  },
  {
   "cell_type": "code",
   "execution_count": 4,
   "outputs": [],
   "source": [
    "from langchain_community.document_loaders import DirectoryLoader\n",
    "from langchain.document_loaders import UnstructuredMarkdownLoader\n",
    "\n",
    "docs_loader = DirectoryLoader(\"pronto-docs\", glob=\"**/*.md\", loader_cls=UnstructuredMarkdownLoader)\n",
    "docs = docs_loader.load()"
   ],
   "metadata": {
    "collapsed": false,
    "ExecuteTime": {
     "start_time": "2024-01-10T16:57:58.931903Z",
     "end_time": "2024-01-10T16:58:01.650235Z"
    }
   }
  },
  {
   "cell_type": "code",
   "execution_count": null,
   "outputs": [],
   "source": [
    "docs"
   ],
   "metadata": {
    "collapsed": false,
    "ExecuteTime": {
     "start_time": "2024-01-10T16:53:12.441112Z",
     "end_time": "2024-01-10T16:53:12.451777Z"
    }
   }
  },
  {
   "cell_type": "markdown",
   "source": [
    "## 2. Split documents"
   ],
   "metadata": {
    "collapsed": false
   }
  },
  {
   "cell_type": "code",
   "execution_count": null,
   "outputs": [],
   "source": [
    "from langchain.text_splitter import RecursiveCharacterTextSplitter, Language\n",
    "\n",
    "docs_splitter = RecursiveCharacterTextSplitter.from_language(language=Language.MARKDOWN, chunk_size=100, chunk_overlap=0)"
   ],
   "metadata": {
    "collapsed": false,
    "ExecuteTime": {
     "start_time": "2024-01-10T16:53:12.444377Z",
     "end_time": "2024-01-10T16:53:12.451825Z"
    }
   }
  },
  {
   "cell_type": "code",
   "execution_count": null,
   "outputs": [],
   "source": [
    "docs_splits = docs_splitter.split_documents(docs)"
   ],
   "metadata": {
    "collapsed": false,
    "ExecuteTime": {
     "start_time": "2024-01-10T16:53:12.457723Z",
     "end_time": "2024-01-10T16:53:12.462228Z"
    }
   }
  },
  {
   "cell_type": "code",
   "execution_count": null,
   "outputs": [],
   "source": [
    "len(docs_splits)"
   ],
   "metadata": {
    "collapsed": false,
    "ExecuteTime": {
     "start_time": "2024-01-10T16:53:12.460130Z",
     "end_time": "2024-01-10T16:53:12.495465Z"
    }
   }
  },
  {
   "cell_type": "code",
   "execution_count": null,
   "outputs": [],
   "source": [
    "from langchain_core.documents import Document\n",
    "from langchain.text_splitter import TextSplitter\n",
    "\n",
    "def get_splits_from_keyword(keyword: str, splitter: TextSplitter, documents: list[Document]):\n",
    "    return list(filter(lambda x: keyword in x.page_content, splitter.split_documents(documents)))"
   ],
   "metadata": {
    "collapsed": false,
    "ExecuteTime": {
     "start_time": "2024-01-10T16:53:12.463225Z",
     "end_time": "2024-01-10T16:53:12.495709Z"
    }
   }
  },
  {
   "cell_type": "code",
   "execution_count": null,
   "outputs": [],
   "source": [
    "chunk_size = 100\n",
    "chunk_overlap = 0"
   ],
   "metadata": {
    "collapsed": false,
    "ExecuteTime": {
     "start_time": "2024-01-10T16:53:12.465801Z",
     "end_time": "2024-01-10T16:53:12.495760Z"
    }
   }
  },
  {
   "cell_type": "markdown",
   "source": [
    "### 2.1 Recursive Character Text Splitter"
   ],
   "metadata": {
    "collapsed": false
   }
  },
  {
   "cell_type": "code",
   "execution_count": null,
   "outputs": [],
   "source": [
    "rct_splitter = RecursiveCharacterTextSplitter(\n",
    "    chunk_size=chunk_size,\n",
    "    chunk_overlap=chunk_overlap,\n",
    ")"
   ],
   "metadata": {
    "collapsed": false,
    "ExecuteTime": {
     "start_time": "2024-01-10T16:53:12.609349Z",
     "end_time": "2024-01-10T16:53:12.614559Z"
    }
   }
  },
  {
   "cell_type": "code",
   "execution_count": null,
   "outputs": [],
   "source": [
    "get_splits_from_keyword(\"ValueBehavior\", rct_splitter, docs)"
   ],
   "metadata": {
    "collapsed": false,
    "ExecuteTime": {
     "start_time": "2024-01-10T16:53:12.715941Z",
     "end_time": "2024-01-10T16:53:12.731888Z"
    }
   }
  },
  {
   "cell_type": "markdown",
   "source": [
    "### 2.2 Recursive Character Text Splitter (from language Markdown)"
   ],
   "metadata": {
    "collapsed": false
   }
  },
  {
   "cell_type": "code",
   "execution_count": null,
   "outputs": [],
   "source": [
    "from langchain.text_splitter import RecursiveCharacterTextSplitter, Language\n",
    "\n",
    "rctm_splitter = RecursiveCharacterTextSplitter.from_language(language=Language.MARKDOWN, chunk_size=chunk_size, chunk_overlap=chunk_overlap)"
   ],
   "metadata": {
    "collapsed": false,
    "ExecuteTime": {
     "start_time": "2024-01-10T16:53:12.860506Z",
     "end_time": "2024-01-10T16:53:12.864699Z"
    }
   }
  },
  {
   "cell_type": "code",
   "execution_count": null,
   "outputs": [],
   "source": [
    "get_splits_from_keyword(\"ValueBehavior\", rctm_splitter, docs)"
   ],
   "metadata": {
    "collapsed": false,
    "ExecuteTime": {
     "start_time": "2024-01-10T16:53:12.965893Z",
     "end_time": "2024-01-10T16:53:12.968022Z"
    }
   }
  },
  {
   "cell_type": "markdown",
   "source": [
    "### 2.3 Recursive Character Text Splitter (custom separators)"
   ],
   "metadata": {
    "collapsed": false
   }
  },
  {
   "cell_type": "code",
   "execution_count": null,
   "outputs": [],
   "source": [
    "rctcs_splitter = RecursiveCharacterTextSplitter(\n",
    "    chunk_size=100,\n",
    "    chunk_overlap=0,\n",
    "    separators=[\"#\", \"##\", \"###\", \"\\n\\n\", \"\\n \\n\", \"\\n\"]\n",
    ")"
   ],
   "metadata": {
    "collapsed": false,
    "ExecuteTime": {
     "start_time": "2024-01-10T16:53:13.112027Z",
     "end_time": "2024-01-10T16:53:13.115282Z"
    }
   }
  },
  {
   "cell_type": "code",
   "execution_count": null,
   "outputs": [],
   "source": [
    "rctcs_splitter.split_documents(filter(lambda x: x.metadata[\"source\"] == \"pronto-docs/README.md\", docs))"
   ],
   "metadata": {
    "collapsed": false,
    "ExecuteTime": {
     "start_time": "2024-01-10T16:53:13.208955Z",
     "end_time": "2024-01-10T16:53:13.212450Z"
    }
   }
  },
  {
   "cell_type": "code",
   "execution_count": null,
   "outputs": [],
   "source": [
    "splits = get_splits_from_keyword(\"ValueBehavior\", rctcs_splitter, docs)\n",
    "print(len(splits))\n",
    "print(splits)"
   ],
   "metadata": {
    "collapsed": false,
    "ExecuteTime": {
     "start_time": "2024-01-10T16:53:13.292198Z",
     "end_time": "2024-01-10T16:53:13.293786Z"
    }
   }
  },
  {
   "cell_type": "code",
   "execution_count": null,
   "outputs": [],
   "source": [
    "from langchain.text_splitter import CharacterTextSplitter\n",
    "\n",
    "ct_splitter = CharacterTextSplitter(\n",
    "    chunk_size=chunk_size,\n",
    "    chunk_overlap=chunk_overlap,\n",
    "    separator=\"\\n\"\n",
    ")"
   ],
   "metadata": {
    "collapsed": false,
    "ExecuteTime": {
     "start_time": "2024-01-10T16:53:13.384543Z",
     "end_time": "2024-01-10T16:53:13.385753Z"
    }
   }
  },
  {
   "cell_type": "code",
   "execution_count": null,
   "outputs": [],
   "source": [
    "get_splits_from_keyword(\"connect\", ct_splitter, docs)"
   ],
   "metadata": {
    "collapsed": false,
    "ExecuteTime": {
     "start_time": "2024-01-10T16:53:13.455577Z",
     "end_time": "2024-01-10T16:53:13.491326Z"
    }
   }
  },
  {
   "cell_type": "markdown",
   "source": [
    "## 3. Embed & store documents\n",
    "\n",
    "This is where it gets interesting. We have different options for retrieving:\n",
    "- Vectorstore\n",
    "- Parent Document\n",
    "- Multi-Vector\n",
    "- Self Query\n",
    "- Contextual Compression\n",
    "- Time-Weighted Vectorstore\n",
    "- Multi-Query Retriever\n",
    "- Ensemble\n",
    "- Long-Context Reorder"
   ],
   "metadata": {
    "collapsed": false
   }
  },
  {
   "cell_type": "code",
   "execution_count": null,
   "outputs": [],
   "source": [
    "from langchain_community.embeddings import OpenAIEmbeddings\n",
    "\n",
    "embeddings = OpenAIEmbeddings()"
   ],
   "metadata": {
    "collapsed": false,
    "ExecuteTime": {
     "start_time": "2024-01-10T16:53:13.614635Z",
     "end_time": "2024-01-10T16:53:13.624062Z"
    }
   }
  },
  {
   "cell_type": "code",
   "execution_count": null,
   "outputs": [],
   "source": [
    "from langchain_community.vectorstores.chroma import Chroma\n",
    "\n",
    "db = Chroma.from_documents(documents=docs, embedding=embeddings, persist_directory=\"./chroma_db\")"
   ],
   "metadata": {
    "collapsed": false,
    "ExecuteTime": {
     "start_time": "2024-01-10T16:53:13.704077Z",
     "end_time": "2024-01-10T16:53:15.967130Z"
    }
   }
  },
  {
   "cell_type": "code",
   "execution_count": 10,
   "outputs": [],
   "source": [
    "from langchain_core.retrievers import BaseRetriever\n",
    "\n",
    "def check_for_keyword(keyword: str, retriever: BaseRetriever):\n",
    "    rel_docs = retriever.get_relevant_documents(keyword)\n",
    "    count_results = sum(map(lambda x: int(keyword in x.page_content), rel_docs))\n",
    "    return str(count_results) + \"/\" + str(len(rel_docs))"
   ],
   "metadata": {
    "collapsed": false,
    "ExecuteTime": {
     "start_time": "2024-01-10T16:59:57.023802Z",
     "end_time": "2024-01-10T16:59:57.029397Z"
    }
   }
  },
  {
   "cell_type": "markdown",
   "source": [
    "### 3.1 Vectorstore\n",
    "\n",
    "This is the basic method directly build into the vectorstore."
   ],
   "metadata": {
    "collapsed": false
   }
  },
  {
   "cell_type": "code",
   "execution_count": null,
   "outputs": [],
   "source": [
    "vec_retriever = db.as_retriever()\n",
    "vec_retriever_mmr = db.as_retriever(\n",
    "    search_type=\"mmr\",  # Also test \"similarity\",\n",
    ")"
   ],
   "metadata": {
    "collapsed": false,
    "ExecuteTime": {
     "start_time": "2024-01-10T16:56:38.890906Z",
     "end_time": "2024-01-10T16:56:38.895458Z"
    }
   }
  },
  {
   "cell_type": "code",
   "execution_count": null,
   "outputs": [],
   "source": [
    "vec_retriever.get_relevant_documents(search_keyword)"
   ],
   "metadata": {
    "collapsed": false,
    "ExecuteTime": {
     "start_time": "2024-01-10T16:56:39.195362Z",
     "end_time": "2024-01-10T16:56:39.624608Z"
    }
   }
  },
  {
   "cell_type": "code",
   "execution_count": null,
   "outputs": [],
   "source": [
    "print(check_for_keyword(search_keyword, vec_retriever))\n",
    "print(check_for_keyword(search_keyword, vec_retriever_mmr))"
   ],
   "metadata": {
    "collapsed": false,
    "ExecuteTime": {
     "start_time": "2024-01-10T16:53:16.264506Z",
     "end_time": "2024-01-10T16:53:17.064454Z"
    }
   }
  },
  {
   "cell_type": "markdown",
   "source": [
    "As you can see the vectorstore method delivers some correct result but performs poorly."
   ],
   "metadata": {
    "collapsed": false
   }
  },
  {
   "cell_type": "markdown",
   "source": [
    "### 3.2 Parent Document Retriever"
   ],
   "metadata": {
    "collapsed": false
   }
  },
  {
   "cell_type": "markdown",
   "source": [
    "#### 3.2.1 Full Documents from smaller chunks"
   ],
   "metadata": {
    "collapsed": false
   }
  },
  {
   "cell_type": "code",
   "execution_count": null,
   "outputs": [],
   "source": [
    "from langchain.retrievers import ParentDocumentRetriever\n",
    "from langchain.storage import InMemoryStore\n",
    "\n",
    "pdfd_vectorstore = Chroma(\n",
    "    collection_name=\"full_documents\", embedding_function=OpenAIEmbeddings()\n",
    ")\n",
    "\n",
    "pdfd_store = InMemoryStore()\n",
    "pdfd_retriever = ParentDocumentRetriever(\n",
    "    vectorstore=pdfd_vectorstore,\n",
    "    docstore=pdfd_store,\n",
    "    child_splitter=docs_splitter,\n",
    ")"
   ],
   "metadata": {
    "collapsed": false,
    "ExecuteTime": {
     "start_time": "2024-01-10T16:53:17.064299Z",
     "end_time": "2024-01-10T16:53:17.078739Z"
    }
   }
  },
  {
   "cell_type": "code",
   "execution_count": null,
   "outputs": [],
   "source": [
    "pdfd_retriever.add_documents(docs, ids=None)"
   ],
   "metadata": {
    "collapsed": false,
    "ExecuteTime": {
     "start_time": "2024-01-10T16:53:17.079583Z",
     "end_time": "2024-01-10T16:53:20.840417Z"
    }
   }
  },
  {
   "cell_type": "code",
   "execution_count": null,
   "outputs": [],
   "source": [
    "pdfd_retriever.get_relevant_documents(search_keyword)"
   ],
   "metadata": {
    "collapsed": false,
    "ExecuteTime": {
     "start_time": "2024-01-10T16:53:20.836433Z",
     "end_time": "2024-01-10T16:53:21.103996Z"
    }
   }
  },
  {
   "cell_type": "code",
   "execution_count": null,
   "outputs": [],
   "source": [
    "print(check_for_keyword(search_keyword, pdfd_retriever))"
   ],
   "metadata": {
    "collapsed": false,
    "ExecuteTime": {
     "start_time": "2024-01-10T16:53:21.104721Z",
     "end_time": "2024-01-10T16:53:21.372216Z"
    }
   }
  },
  {
   "cell_type": "markdown",
   "source": [
    "This method outright delivers a too large chunk size i.e. the whole document and is therefore not suitable."
   ],
   "metadata": {
    "collapsed": false
   }
  },
  {
   "cell_type": "markdown",
   "source": [
    "#### 3.2.2 Larger chunks from smaller chunks"
   ],
   "metadata": {
    "collapsed": false
   }
  },
  {
   "cell_type": "code",
   "execution_count": 27,
   "outputs": [],
   "source": [
    "from langchain.retrievers.multi_vector import SearchType\n",
    "from langchain.text_splitter import RecursiveCharacterTextSplitter, Language\n",
    "from langchain_community.vectorstores.chroma import Chroma\n",
    "from langchain.retrievers import ParentDocumentRetriever\n",
    "from langchain.storage import InMemoryStore\n",
    "from langchain_community.embeddings import OpenAIEmbeddings\n",
    "\n",
    "parent_splitter = RecursiveCharacterTextSplitter.from_language(language=Language.MARKDOWN, chunk_size=400, chunk_overlap=0)\n",
    "child_splitter = RecursiveCharacterTextSplitter.from_language(language=Language.MARKDOWN, chunk_size=100, chunk_overlap=0)\n",
    "\n",
    "pdlg_vectorstore = Chroma(\n",
    "    collection_name=\"split_parents\", embedding_function=OpenAIEmbeddings()\n",
    ")\n",
    "pdlg_store = InMemoryStore()\n",
    "pdlg_retriever = ParentDocumentRetriever(\n",
    "    vectorstore=pdlg_vectorstore,\n",
    "    docstore=pdlg_store,\n",
    "    child_splitter=child_splitter,\n",
    "    parent_splitter=parent_splitter,\n",
    ")\n",
    "\n",
    "pdlg_retriever.add_documents(docs)"
   ],
   "metadata": {
    "collapsed": false,
    "ExecuteTime": {
     "start_time": "2024-01-10T17:30:54.277683Z",
     "end_time": "2024-01-10T17:30:59.672504Z"
    }
   }
  },
  {
   "cell_type": "code",
   "execution_count": 34,
   "outputs": [
    {
     "data": {
      "text/plain": "[Document(page_content=\"The StateBehavior is the fundamental building block of a state machine. Each StateBehavior emits the signals  StateBehavior.entered()  and  StateBehavior.exited()  to communicate the state machine's state \\n \\n StoreBehavior \\n Use the Godot meta properties to store state. You can configure it to store values in the global dictionary  G  and access it via  G.at(prop) . \\n \\n ValueBehavior\", metadata={'source': 'pronto-docs/README.md'})]"
     },
     "execution_count": 34,
     "metadata": {},
     "output_type": "execute_result"
    }
   ],
   "source": [
    "pdlg_retriever.get_relevant_documents(\"How to access values in a StoreBehaviour?\")"
   ],
   "metadata": {
    "collapsed": false,
    "ExecuteTime": {
     "start_time": "2024-01-10T17:35:15.515079Z",
     "end_time": "2024-01-10T17:35:15.912434Z"
    }
   }
  },
  {
   "cell_type": "code",
   "execution_count": 32,
   "outputs": [
    {
     "name": "stdout",
     "output_type": "stream",
     "text": [
      "\n",
      "\n",
      "\u001B[1m> Entering new LLMChain chain...\u001B[0m\n",
      "Prompt after formatting:\n",
      "\u001B[32;1m\u001B[1;3mGiven the following conversation and a follow up question, rephrase the follow up question to be a standalone question, in its original language.\n",
      "\n",
      "Chat History:\n",
      "\n",
      "system: \n",
      "Follow Up Input: How to access values in a StoreBehaviour?\n",
      "Standalone question:\u001B[0m\n",
      "\n",
      "\u001B[1m> Finished chain.\u001B[0m\n",
      "\n",
      "\n",
      "\u001B[1m> Entering new StuffDocumentsChain chain...\u001B[0m\n",
      "\n",
      "\n",
      "\u001B[1m> Entering new LLMChain chain...\u001B[0m\n",
      "Prompt after formatting:\n",
      "\u001B[32;1m\u001B[1;3mSystem: Use the following pieces of context to answer the user's question. \n",
      "If you don't know the answer, just say that you don't know, don't try to make up an answer.\n",
      "----------------\n",
      "The StateBehavior is the fundamental building block of a state machine. Each StateBehavior emits the signals  StateBehavior.entered()  and  StateBehavior.exited()  to communicate the state machine's state \n",
      " \n",
      " StoreBehavior \n",
      " Use the Godot meta properties to store state. You can configure it to store values in the global dictionary  G  and access it via  G.at(prop) . \n",
      " \n",
      " ValueBehavior\n",
      "Human: How can values be accessed in a StoreBehaviour?\u001B[0m\n",
      "\n",
      "\u001B[1m> Finished chain.\u001B[0m\n",
      "\n",
      "\u001B[1m> Finished chain.\u001B[0m\n"
     ]
    },
    {
     "data": {
      "text/plain": "{'question': 'How to access values in a StoreBehaviour?',\n 'chat_history': [SystemMessage(content='')],\n 'answer': 'Values in a StoreBehavior can be accessed using the global dictionary \"G\" and the \"G.at(prop)\" method. By configuring the StoreBehavior to store values in the global dictionary, the values can be accessed and manipulated throughout the game.'}"
     },
     "execution_count": 32,
     "metadata": {},
     "output_type": "execute_result"
    }
   ],
   "source": [
    "from langchain.memory import ConversationSummaryMemory\n",
    "from langchain_community.chat_models import ChatOpenAI\n",
    "from langchain.chains import ConversationalRetrievalChain\n",
    "\n",
    "llm = ChatOpenAI()\n",
    "memory = ConversationSummaryMemory(\n",
    "    llm=llm, memory_key=\"chat_history\", return_messages=True\n",
    ")\n",
    "qa = ConversationalRetrievalChain.from_llm(llm, retriever=pdlg_retriever, memory=memory, verbose=True)\n",
    "qa(\"How to access values in a StoreBehaviour?\")"
   ],
   "metadata": {
    "collapsed": false,
    "ExecuteTime": {
     "start_time": "2024-01-10T17:34:00.213667Z",
     "end_time": "2024-01-10T17:34:06.527363Z"
    }
   }
  },
  {
   "cell_type": "code",
   "execution_count": 33,
   "outputs": [
    {
     "name": "stdout",
     "output_type": "stream",
     "text": [
      "0/0\n"
     ]
    }
   ],
   "source": [
    "print(check_for_keyword(search_keyword, pdlg_retriever))"
   ],
   "metadata": {
    "collapsed": false,
    "ExecuteTime": {
     "start_time": "2024-01-10T17:35:03.355907Z",
     "end_time": "2024-01-10T17:35:03.847470Z"
    }
   }
  },
  {
   "cell_type": "code",
   "execution_count": 41,
   "outputs": [
    {
     "name": "stdout",
     "output_type": "stream",
     "text": [
      "\n",
      "\n",
      "\u001B[1m> Entering new LLMChain chain...\u001B[0m\n",
      "Prompt after formatting:\n",
      "\u001B[32;1m\u001B[1;3mGiven the following conversation and a follow up question, rephrase the follow up question to be a standalone question, in its original language.\n",
      "\n",
      "Chat History:\n",
      "\n",
      "system: The human asks how to access values in a StoreBehaviour. The AI explains that values in a StoreBehaviour can be accessed using the global dictionary \"G\" and the \"G.at(prop)\" method. By configuring the StoreBehaviour to store values in the global dictionary, the values can be accessed and manipulated throughout the game. The human then asks what behavior to use for finding a specific node in their scene. The AI suggests using the `get_node()` function, which allows the user to access nodes by their path in the scene hierarchy. The human then asks if there is a behavior for querying a specific node in their scene. The AI responds by explaining that the `get_node()` method can be used to query a specific node in the scene by specifying its path. An example code snippet is provided to demonstrate how to use `get_node()` to query a specific node. The human then asks what the FPS warn property on the PerformanceUIBehavior does. The AI explains that the \"FPS warn\" property is used to set the lower limit for when the \"fps_warning\" signal should be fired. It determines the minimum frames per second (FPS) value at which a warning should be triggered. The human then asks what kind of expressions are valid to evaluate in the BindBehavior. The AI clarifies that the BindBehavior does not evaluate expressions and is used to bind properties between nodes in the Godot game engine. Therefore, it does not evaluate any specific types of expressions. The human then asks how to disconnect two behaviors. The AI provides steps to disconnect two behaviors in Godot by removing the signal connection in the Inspector panel of the node containing the behavior.\n",
      "Follow Up Input: How to delete the connection of two behaviors?\n",
      "Standalone question:\u001B[0m\n",
      "\n",
      "\u001B[1m> Finished chain.\u001B[0m\n",
      "\n",
      "\n",
      "\u001B[1m> Entering new StuffDocumentsChain chain...\u001B[0m\n",
      "\n",
      "\n",
      "\u001B[1m> Entering new LLMChain chain...\u001B[0m\n",
      "Prompt after formatting:\n",
      "\u001B[32;1m\u001B[1;3mSystem: Use the following pieces of context to answer the user's question. \n",
      "If you don't know the answer, just say that you don't know, don't try to make up an answer.\n",
      "----------------\n",
      "Connections are an extension of Godot signals to be more flexible. Connections can be dragged from any behavior to any arbitrary node in a scene. They are the primary means to assemble your game by wiring Behaviors together.\n",
      "\n",
      "Creating\n",
      "\n",
      "Connections are created by hovering the \"+\" that appears below selected nodes. There are two types of connections: Target Connections and Expression Connections.\n",
      "Human: How can two behaviors be disconnected?\u001B[0m\n",
      "\n",
      "\u001B[1m> Finished chain.\u001B[0m\n",
      "\n",
      "\u001B[1m> Finished chain.\u001B[0m\n"
     ]
    },
    {
     "data": {
      "text/plain": "{'question': 'How to delete the connection of two behaviors?',\n 'chat_history': [SystemMessage(content='The human asks how to access values in a StoreBehaviour. The AI explains that values in a StoreBehaviour can be accessed using the global dictionary \"G\" and the \"G.at(prop)\" method. By configuring the StoreBehaviour to store values in the global dictionary, the values can be accessed and manipulated throughout the game. The human then asks what behavior to use for finding a specific node in their scene. The AI suggests using the `get_node()` function, which allows the user to access nodes by their path in the scene hierarchy. The human then asks if there is a behavior for querying a specific node in their scene. The AI responds by explaining that the `get_node()` method can be used to query a specific node in the scene by specifying its path. An example code snippet is provided to demonstrate how to use `get_node()` to query a specific node. The human then asks what the FPS warn property on the PerformanceUIBehavior does. The AI explains that the \"FPS warn\" property is used to set the lower limit for when the \"fps_warning\" signal should be fired. It determines the minimum frames per second (FPS) value at which a warning should be triggered. The human then asks what kind of expressions are valid to evaluate in the BindBehavior. The AI clarifies that the BindBehavior does not evaluate expressions and is used to bind properties between nodes in the Godot game engine. Therefore, it does not evaluate any specific types of expressions. The human then asks how to disconnect two behaviors. The AI provides steps to disconnect two behaviors in Godot by removing the signal connection in the Inspector panel of the node containing the behavior.')],\n 'answer': 'To disconnect two behaviors in Godot, you can follow these steps:\\n\\n1. Select the node that has the behavior you want to disconnect.\\n\\n2. In the Inspector panel, navigate to the \"Signals\" section.\\n\\n3. Look for the signal that is connected to the other behavior you want to disconnect.\\n\\n4. Click on the \"x\" button next to the connected behavior\\'s name to remove the connection.\\n\\nThis will disconnect the two behaviors, and they will no longer be linked through that signal.'}"
     },
     "execution_count": 41,
     "metadata": {},
     "output_type": "execute_result"
    }
   ],
   "source": [
    "qa(\"How to delete the connection of two behaviors?\")"
   ],
   "metadata": {
    "collapsed": false,
    "ExecuteTime": {
     "start_time": "2024-01-10T17:39:13.303785Z",
     "end_time": "2024-01-10T17:39:27.206464Z"
    }
   }
  },
  {
   "cell_type": "code",
   "execution_count": 46,
   "outputs": [
    {
     "data": {
      "text/plain": "[Document(page_content='Behavior \\n Function \\n \\n BindBehavior', metadata={'doc_id': '9bcdb4bf-45e8-4cb5-8254-dd2536447bcb', 'source': 'pronto-docs/README.md'}),\n Document(page_content='Behavior \\n Function \\n \\n BindBehavior', metadata={'doc_id': 'c32a35a9-cbe1-4f44-94cb-a6a2829e1de2', 'source': 'pronto-docs/README.md'}),\n Document(page_content='Behavior \\n Function \\n \\n BindBehavior', metadata={'doc_id': 'fd742ccd-3901-43ea-8853-a226f89c504f', 'source': 'pronto-docs/README.md'}),\n Document(page_content='Behavior \\n Function \\n \\n BindBehavior', metadata={'doc_id': '3baf6b9b-dacf-4ba0-96e9-8314086487cd', 'source': 'pronto-docs/README.md'})]"
     },
     "execution_count": 46,
     "metadata": {},
     "output_type": "execute_result"
    }
   ],
   "source": [
    "pdlg_retriever.vectorstore.similarity_search(\"evaluate Bind Behavior\")"
   ],
   "metadata": {
    "collapsed": false,
    "ExecuteTime": {
     "start_time": "2024-01-10T17:42:34.952659Z",
     "end_time": "2024-01-10T17:42:35.382195Z"
    }
   }
  },
  {
   "cell_type": "code",
   "execution_count": null,
   "outputs": [],
   "source": [],
   "metadata": {
    "collapsed": false
   }
  }
 ],
 "metadata": {
  "kernelspec": {
   "display_name": "Python 3",
   "language": "python",
   "name": "python3"
  },
  "language_info": {
   "codemirror_mode": {
    "name": "ipython",
    "version": 2
   },
   "file_extension": ".py",
   "mimetype": "text/x-python",
   "name": "python",
   "nbconvert_exporter": "python",
   "pygments_lexer": "ipython2",
   "version": "2.7.6"
  }
 },
 "nbformat": 4,
 "nbformat_minor": 0
}
