{
 "cells": [
  {
   "cell_type": "markdown",
   "source": [
    "# Retrieval\n",
    "\n",
    "The steps are:\n",
    "1. Load documents\n",
    "2. Split documents\n",
    "3. Embed & store documents\n",
    "4. Retrieve from documents"
   ],
   "metadata": {
    "collapsed": false
   }
  },
  {
   "cell_type": "markdown",
   "source": [
    "## 0. Prerequisites"
   ],
   "metadata": {
    "collapsed": false
   }
  },
  {
   "cell_type": "code",
   "execution_count": 18,
   "outputs": [
    {
     "name": "stdout",
     "output_type": "stream",
     "text": [
      "Requirement already satisfied: langchain in ./venv/lib/python3.9/site-packages (0.0.350)\r\n",
      "Requirement already satisfied: openai in ./venv/lib/python3.9/site-packages (1.6.0)\r\n",
      "Requirement already satisfied: GitPython in ./venv/lib/python3.9/site-packages (3.1.40)\r\n",
      "Requirement already satisfied: chromadb in ./venv/lib/python3.9/site-packages (0.4.20)\r\n",
      "Requirement already satisfied: unstructured in ./venv/lib/python3.9/site-packages (0.11.5)\r\n",
      "Requirement already satisfied: markdown in ./venv/lib/python3.9/site-packages (3.5.1)\r\n",
      "Requirement already satisfied: tiktoken in ./venv/lib/python3.9/site-packages (0.5.2)\r\n",
      "Requirement already satisfied: langchainhub in ./venv/lib/python3.9/site-packages (0.1.14)\r\n",
      "Requirement already satisfied: PyYAML>=5.3 in ./venv/lib/python3.9/site-packages (from langchain) (6.0.1)\r\n",
      "Requirement already satisfied: SQLAlchemy<3,>=1.4 in ./venv/lib/python3.9/site-packages (from langchain) (2.0.23)\r\n",
      "Requirement already satisfied: aiohttp<4.0.0,>=3.8.3 in ./venv/lib/python3.9/site-packages (from langchain) (3.9.1)\r\n",
      "Requirement already satisfied: async-timeout<5.0.0,>=4.0.0 in ./venv/lib/python3.9/site-packages (from langchain) (4.0.3)\r\n",
      "Requirement already satisfied: dataclasses-json<0.7,>=0.5.7 in ./venv/lib/python3.9/site-packages (from langchain) (0.6.3)\r\n",
      "Requirement already satisfied: jsonpatch<2.0,>=1.33 in ./venv/lib/python3.9/site-packages (from langchain) (1.33)\r\n",
      "Requirement already satisfied: langchain-community<0.1,>=0.0.2 in ./venv/lib/python3.9/site-packages (from langchain) (0.0.3)\r\n",
      "Requirement already satisfied: langchain-core<0.2,>=0.1 in ./venv/lib/python3.9/site-packages (from langchain) (0.1.1)\r\n",
      "Requirement already satisfied: langsmith<0.1.0,>=0.0.63 in ./venv/lib/python3.9/site-packages (from langchain) (0.0.70)\r\n",
      "Requirement already satisfied: numpy<2,>=1 in ./venv/lib/python3.9/site-packages (from langchain) (1.26.2)\r\n",
      "Requirement already satisfied: pydantic<3,>=1 in ./venv/lib/python3.9/site-packages (from langchain) (2.5.2)\r\n",
      "Requirement already satisfied: requests<3,>=2 in ./venv/lib/python3.9/site-packages (from langchain) (2.31.0)\r\n",
      "Requirement already satisfied: tenacity<9.0.0,>=8.1.0 in ./venv/lib/python3.9/site-packages (from langchain) (8.2.3)\r\n",
      "Requirement already satisfied: anyio<5,>=3.5.0 in ./venv/lib/python3.9/site-packages (from openai) (3.7.1)\r\n",
      "Requirement already satisfied: distro<2,>=1.7.0 in ./venv/lib/python3.9/site-packages (from openai) (1.8.0)\r\n",
      "Requirement already satisfied: httpx<1,>=0.23.0 in ./venv/lib/python3.9/site-packages (from openai) (0.25.2)\r\n",
      "Requirement already satisfied: sniffio in ./venv/lib/python3.9/site-packages (from openai) (1.3.0)\r\n",
      "Requirement already satisfied: tqdm>4 in ./venv/lib/python3.9/site-packages (from openai) (4.66.1)\r\n",
      "Requirement already satisfied: typing-extensions<5,>=4.7 in ./venv/lib/python3.9/site-packages (from openai) (4.9.0)\r\n",
      "Requirement already satisfied: gitdb<5,>=4.0.1 in ./venv/lib/python3.9/site-packages (from GitPython) (4.0.11)\r\n",
      "Requirement already satisfied: chroma-hnswlib==0.7.3 in ./venv/lib/python3.9/site-packages (from chromadb) (0.7.3)\r\n",
      "Requirement already satisfied: fastapi>=0.95.2 in ./venv/lib/python3.9/site-packages (from chromadb) (0.105.0)\r\n",
      "Requirement already satisfied: uvicorn>=0.18.3 in ./venv/lib/python3.9/site-packages (from uvicorn[standard]>=0.18.3->chromadb) (0.24.0.post1)\r\n",
      "Requirement already satisfied: posthog>=2.4.0 in ./venv/lib/python3.9/site-packages (from chromadb) (3.1.0)\r\n",
      "Requirement already satisfied: pulsar-client>=3.1.0 in ./venv/lib/python3.9/site-packages (from chromadb) (3.3.0)\r\n",
      "Requirement already satisfied: onnxruntime>=1.14.1 in ./venv/lib/python3.9/site-packages (from chromadb) (1.16.3)\r\n",
      "Requirement already satisfied: opentelemetry-api>=1.2.0 in ./venv/lib/python3.9/site-packages (from chromadb) (1.22.0)\r\n",
      "Requirement already satisfied: opentelemetry-exporter-otlp-proto-grpc>=1.2.0 in ./venv/lib/python3.9/site-packages (from chromadb) (1.22.0)\r\n",
      "Requirement already satisfied: opentelemetry-instrumentation-fastapi>=0.41b0 in ./venv/lib/python3.9/site-packages (from chromadb) (0.43b0)\r\n",
      "Requirement already satisfied: opentelemetry-sdk>=1.2.0 in ./venv/lib/python3.9/site-packages (from chromadb) (1.22.0)\r\n",
      "Requirement already satisfied: tokenizers>=0.13.2 in ./venv/lib/python3.9/site-packages (from chromadb) (0.15.0)\r\n",
      "Requirement already satisfied: pypika>=0.48.9 in ./venv/lib/python3.9/site-packages (from chromadb) (0.48.9)\r\n",
      "Requirement already satisfied: overrides>=7.3.1 in ./venv/lib/python3.9/site-packages (from chromadb) (7.4.0)\r\n",
      "Requirement already satisfied: importlib-resources in ./venv/lib/python3.9/site-packages (from chromadb) (6.1.1)\r\n",
      "Requirement already satisfied: grpcio>=1.58.0 in ./venv/lib/python3.9/site-packages (from chromadb) (1.60.0)\r\n",
      "Requirement already satisfied: bcrypt>=4.0.1 in ./venv/lib/python3.9/site-packages (from chromadb) (4.1.2)\r\n",
      "Requirement already satisfied: typer>=0.9.0 in ./venv/lib/python3.9/site-packages (from chromadb) (0.9.0)\r\n",
      "Requirement already satisfied: kubernetes>=28.1.0 in ./venv/lib/python3.9/site-packages (from chromadb) (28.1.0)\r\n",
      "Requirement already satisfied: mmh3>=4.0.1 in ./venv/lib/python3.9/site-packages (from chromadb) (4.0.1)\r\n",
      "Requirement already satisfied: chardet in ./venv/lib/python3.9/site-packages (from unstructured) (5.2.0)\r\n",
      "Requirement already satisfied: filetype in ./venv/lib/python3.9/site-packages (from unstructured) (1.2.0)\r\n",
      "Requirement already satisfied: python-magic in ./venv/lib/python3.9/site-packages (from unstructured) (0.4.27)\r\n",
      "Requirement already satisfied: lxml in ./venv/lib/python3.9/site-packages (from unstructured) (4.9.4)\r\n",
      "Requirement already satisfied: nltk in ./venv/lib/python3.9/site-packages (from unstructured) (3.8.1)\r\n",
      "Requirement already satisfied: tabulate in ./venv/lib/python3.9/site-packages (from unstructured) (0.9.0)\r\n",
      "Requirement already satisfied: beautifulsoup4 in ./venv/lib/python3.9/site-packages (from unstructured) (4.12.2)\r\n",
      "Requirement already satisfied: emoji in ./venv/lib/python3.9/site-packages (from unstructured) (2.9.0)\r\n",
      "Requirement already satisfied: python-iso639 in ./venv/lib/python3.9/site-packages (from unstructured) (2023.12.11)\r\n",
      "Requirement already satisfied: langdetect in ./venv/lib/python3.9/site-packages (from unstructured) (1.0.9)\r\n",
      "Requirement already satisfied: rapidfuzz in ./venv/lib/python3.9/site-packages (from unstructured) (3.5.2)\r\n",
      "Requirement already satisfied: backoff in ./venv/lib/python3.9/site-packages (from unstructured) (2.2.1)\r\n",
      "Requirement already satisfied: unstructured-client in ./venv/lib/python3.9/site-packages (from unstructured) (0.15.0)\r\n",
      "Requirement already satisfied: wrapt in ./venv/lib/python3.9/site-packages (from unstructured) (1.16.0)\r\n",
      "Requirement already satisfied: importlib-metadata>=4.4 in ./venv/lib/python3.9/site-packages (from markdown) (6.11.0)\r\n",
      "Requirement already satisfied: regex>=2022.1.18 in ./venv/lib/python3.9/site-packages (from tiktoken) (2023.10.3)\r\n",
      "Requirement already satisfied: types-requests<3.0.0.0,>=2.31.0.2 in ./venv/lib/python3.9/site-packages (from langchainhub) (2.31.0.6)\r\n",
      "Requirement already satisfied: attrs>=17.3.0 in ./venv/lib/python3.9/site-packages (from aiohttp<4.0.0,>=3.8.3->langchain) (23.1.0)\r\n",
      "Requirement already satisfied: multidict<7.0,>=4.5 in ./venv/lib/python3.9/site-packages (from aiohttp<4.0.0,>=3.8.3->langchain) (6.0.4)\r\n",
      "Requirement already satisfied: yarl<2.0,>=1.0 in ./venv/lib/python3.9/site-packages (from aiohttp<4.0.0,>=3.8.3->langchain) (1.9.4)\r\n",
      "Requirement already satisfied: frozenlist>=1.1.1 in ./venv/lib/python3.9/site-packages (from aiohttp<4.0.0,>=3.8.3->langchain) (1.4.1)\r\n",
      "Requirement already satisfied: aiosignal>=1.1.2 in ./venv/lib/python3.9/site-packages (from aiohttp<4.0.0,>=3.8.3->langchain) (1.3.1)\r\n",
      "Requirement already satisfied: idna>=2.8 in ./venv/lib/python3.9/site-packages (from anyio<5,>=3.5.0->openai) (3.6)\r\n",
      "Requirement already satisfied: exceptiongroup in ./venv/lib/python3.9/site-packages (from anyio<5,>=3.5.0->openai) (1.2.0)\r\n",
      "Requirement already satisfied: marshmallow<4.0.0,>=3.18.0 in ./venv/lib/python3.9/site-packages (from dataclasses-json<0.7,>=0.5.7->langchain) (3.20.1)\r\n",
      "Requirement already satisfied: typing-inspect<1,>=0.4.0 in ./venv/lib/python3.9/site-packages (from dataclasses-json<0.7,>=0.5.7->langchain) (0.9.0)\r\n",
      "Requirement already satisfied: starlette<0.28.0,>=0.27.0 in ./venv/lib/python3.9/site-packages (from fastapi>=0.95.2->chromadb) (0.27.0)\r\n",
      "Requirement already satisfied: smmap<6,>=3.0.1 in ./venv/lib/python3.9/site-packages (from gitdb<5,>=4.0.1->GitPython) (5.0.1)\r\n",
      "Requirement already satisfied: certifi in ./venv/lib/python3.9/site-packages (from httpx<1,>=0.23.0->openai) (2023.11.17)\r\n",
      "Requirement already satisfied: httpcore==1.* in ./venv/lib/python3.9/site-packages (from httpx<1,>=0.23.0->openai) (1.0.2)\r\n",
      "Requirement already satisfied: h11<0.15,>=0.13 in ./venv/lib/python3.9/site-packages (from httpcore==1.*->httpx<1,>=0.23.0->openai) (0.14.0)\r\n",
      "Requirement already satisfied: zipp>=0.5 in ./venv/lib/python3.9/site-packages (from importlib-metadata>=4.4->markdown) (3.17.0)\r\n",
      "Requirement already satisfied: jsonpointer>=1.9 in ./venv/lib/python3.9/site-packages (from jsonpatch<2.0,>=1.33->langchain) (2.4)\r\n",
      "Requirement already satisfied: six>=1.9.0 in ./venv/lib/python3.9/site-packages (from kubernetes>=28.1.0->chromadb) (1.16.0)\r\n",
      "Requirement already satisfied: python-dateutil>=2.5.3 in ./venv/lib/python3.9/site-packages (from kubernetes>=28.1.0->chromadb) (2.8.2)\r\n",
      "Requirement already satisfied: google-auth>=1.0.1 in ./venv/lib/python3.9/site-packages (from kubernetes>=28.1.0->chromadb) (2.25.2)\r\n",
      "Requirement already satisfied: websocket-client!=0.40.0,!=0.41.*,!=0.42.*,>=0.32.0 in ./venv/lib/python3.9/site-packages (from kubernetes>=28.1.0->chromadb) (1.7.0)\r\n",
      "Requirement already satisfied: requests-oauthlib in ./venv/lib/python3.9/site-packages (from kubernetes>=28.1.0->chromadb) (1.3.1)\r\n",
      "Requirement already satisfied: oauthlib>=3.2.2 in ./venv/lib/python3.9/site-packages (from kubernetes>=28.1.0->chromadb) (3.2.2)\r\n",
      "Requirement already satisfied: urllib3<2.0,>=1.24.2 in ./venv/lib/python3.9/site-packages (from kubernetes>=28.1.0->chromadb) (1.26.18)\r\n",
      "Requirement already satisfied: packaging<24.0,>=23.2 in ./venv/lib/python3.9/site-packages (from langchain-core<0.2,>=0.1->langchain) (23.2)\r\n",
      "Requirement already satisfied: coloredlogs in ./venv/lib/python3.9/site-packages (from onnxruntime>=1.14.1->chromadb) (15.0.1)\r\n",
      "Requirement already satisfied: flatbuffers in ./venv/lib/python3.9/site-packages (from onnxruntime>=1.14.1->chromadb) (23.5.26)\r\n",
      "Requirement already satisfied: protobuf in ./venv/lib/python3.9/site-packages (from onnxruntime>=1.14.1->chromadb) (4.25.1)\r\n",
      "Requirement already satisfied: sympy in ./venv/lib/python3.9/site-packages (from onnxruntime>=1.14.1->chromadb) (1.12)\r\n",
      "Requirement already satisfied: deprecated>=1.2.6 in ./venv/lib/python3.9/site-packages (from opentelemetry-api>=1.2.0->chromadb) (1.2.14)\r\n",
      "Requirement already satisfied: googleapis-common-protos~=1.52 in ./venv/lib/python3.9/site-packages (from opentelemetry-exporter-otlp-proto-grpc>=1.2.0->chromadb) (1.62.0)\r\n",
      "Requirement already satisfied: opentelemetry-exporter-otlp-proto-common==1.22.0 in ./venv/lib/python3.9/site-packages (from opentelemetry-exporter-otlp-proto-grpc>=1.2.0->chromadb) (1.22.0)\r\n",
      "Requirement already satisfied: opentelemetry-proto==1.22.0 in ./venv/lib/python3.9/site-packages (from opentelemetry-exporter-otlp-proto-grpc>=1.2.0->chromadb) (1.22.0)\r\n",
      "Requirement already satisfied: opentelemetry-instrumentation-asgi==0.43b0 in ./venv/lib/python3.9/site-packages (from opentelemetry-instrumentation-fastapi>=0.41b0->chromadb) (0.43b0)\r\n",
      "Requirement already satisfied: opentelemetry-instrumentation==0.43b0 in ./venv/lib/python3.9/site-packages (from opentelemetry-instrumentation-fastapi>=0.41b0->chromadb) (0.43b0)\r\n",
      "Requirement already satisfied: opentelemetry-semantic-conventions==0.43b0 in ./venv/lib/python3.9/site-packages (from opentelemetry-instrumentation-fastapi>=0.41b0->chromadb) (0.43b0)\r\n",
      "Requirement already satisfied: opentelemetry-util-http==0.43b0 in ./venv/lib/python3.9/site-packages (from opentelemetry-instrumentation-fastapi>=0.41b0->chromadb) (0.43b0)\r\n",
      "Requirement already satisfied: setuptools>=16.0 in ./venv/lib/python3.9/site-packages (from opentelemetry-instrumentation==0.43b0->opentelemetry-instrumentation-fastapi>=0.41b0->chromadb) (65.5.1)\r\n",
      "Requirement already satisfied: asgiref~=3.0 in ./venv/lib/python3.9/site-packages (from opentelemetry-instrumentation-asgi==0.43b0->opentelemetry-instrumentation-fastapi>=0.41b0->chromadb) (3.7.2)\r\n",
      "Requirement already satisfied: monotonic>=1.5 in ./venv/lib/python3.9/site-packages (from posthog>=2.4.0->chromadb) (1.6)\r\n",
      "Requirement already satisfied: annotated-types>=0.4.0 in ./venv/lib/python3.9/site-packages (from pydantic<3,>=1->langchain) (0.6.0)\r\n",
      "Requirement already satisfied: pydantic-core==2.14.5 in ./venv/lib/python3.9/site-packages (from pydantic<3,>=1->langchain) (2.14.5)\r\n",
      "Requirement already satisfied: charset-normalizer<4,>=2 in ./venv/lib/python3.9/site-packages (from requests<3,>=2->langchain) (3.3.2)\r\n",
      "Requirement already satisfied: huggingface_hub<1.0,>=0.16.4 in ./venv/lib/python3.9/site-packages (from tokenizers>=0.13.2->chromadb) (0.20.1)\r\n",
      "Requirement already satisfied: click<9.0.0,>=7.1.1 in ./venv/lib/python3.9/site-packages (from typer>=0.9.0->chromadb) (8.1.7)\r\n",
      "Requirement already satisfied: types-urllib3 in ./venv/lib/python3.9/site-packages (from types-requests<3.0.0.0,>=2.31.0.2->langchainhub) (1.26.25.14)\r\n",
      "Requirement already satisfied: httptools>=0.5.0 in ./venv/lib/python3.9/site-packages (from uvicorn[standard]>=0.18.3->chromadb) (0.6.1)\r\n",
      "Requirement already satisfied: python-dotenv>=0.13 in ./venv/lib/python3.9/site-packages (from uvicorn[standard]>=0.18.3->chromadb) (1.0.0)\r\n",
      "Requirement already satisfied: uvloop!=0.15.0,!=0.15.1,>=0.14.0 in ./venv/lib/python3.9/site-packages (from uvicorn[standard]>=0.18.3->chromadb) (0.19.0)\r\n",
      "Requirement already satisfied: watchfiles>=0.13 in ./venv/lib/python3.9/site-packages (from uvicorn[standard]>=0.18.3->chromadb) (0.21.0)\r\n",
      "Requirement already satisfied: websockets>=10.4 in ./venv/lib/python3.9/site-packages (from uvicorn[standard]>=0.18.3->chromadb) (12.0)\r\n",
      "Requirement already satisfied: soupsieve>1.2 in ./venv/lib/python3.9/site-packages (from beautifulsoup4->unstructured) (2.5)\r\n",
      "Requirement already satisfied: joblib in ./venv/lib/python3.9/site-packages (from nltk->unstructured) (1.3.2)\r\n",
      "Requirement already satisfied: jsonpath-python>=1.0.6 in ./venv/lib/python3.9/site-packages (from unstructured-client->unstructured) (1.0.6)\r\n",
      "Requirement already satisfied: mypy-extensions>=1.0.0 in ./venv/lib/python3.9/site-packages (from unstructured-client->unstructured) (1.0.0)\r\n",
      "Requirement already satisfied: cachetools<6.0,>=2.0.0 in ./venv/lib/python3.9/site-packages (from google-auth>=1.0.1->kubernetes>=28.1.0->chromadb) (5.3.2)\r\n",
      "Requirement already satisfied: pyasn1-modules>=0.2.1 in ./venv/lib/python3.9/site-packages (from google-auth>=1.0.1->kubernetes>=28.1.0->chromadb) (0.3.0)\r\n",
      "Requirement already satisfied: rsa<5,>=3.1.4 in ./venv/lib/python3.9/site-packages (from google-auth>=1.0.1->kubernetes>=28.1.0->chromadb) (4.9)\r\n",
      "Requirement already satisfied: filelock in ./venv/lib/python3.9/site-packages (from huggingface_hub<1.0,>=0.16.4->tokenizers>=0.13.2->chromadb) (3.13.1)\r\n",
      "Requirement already satisfied: fsspec>=2023.5.0 in ./venv/lib/python3.9/site-packages (from huggingface_hub<1.0,>=0.16.4->tokenizers>=0.13.2->chromadb) (2023.12.2)\r\n",
      "Requirement already satisfied: humanfriendly>=9.1 in ./venv/lib/python3.9/site-packages (from coloredlogs->onnxruntime>=1.14.1->chromadb) (10.0)\r\n",
      "Requirement already satisfied: mpmath>=0.19 in ./venv/lib/python3.9/site-packages (from sympy->onnxruntime>=1.14.1->chromadb) (1.3.0)\r\n",
      "Requirement already satisfied: pyasn1<0.6.0,>=0.4.6 in ./venv/lib/python3.9/site-packages (from pyasn1-modules>=0.2.1->google-auth>=1.0.1->kubernetes>=28.1.0->chromadb) (0.5.1)\r\n",
      "\r\n",
      "\u001B[1m[\u001B[0m\u001B[34;49mnotice\u001B[0m\u001B[1;39;49m]\u001B[0m\u001B[39;49m A new release of pip is available: \u001B[0m\u001B[31;49m23.3.1\u001B[0m\u001B[39;49m -> \u001B[0m\u001B[32;49m23.3.2\u001B[0m\r\n",
      "\u001B[1m[\u001B[0m\u001B[34;49mnotice\u001B[0m\u001B[1;39;49m]\u001B[0m\u001B[39;49m To update, run: \u001B[0m\u001B[32;49mpip install --upgrade pip\u001B[0m\r\n"
     ]
    }
   ],
   "source": [
    "!pip install langchain openai GitPython chromadb unstructured markdown tiktoken langchainhub"
   ],
   "metadata": {
    "collapsed": false,
    "ExecuteTime": {
     "start_time": "2024-01-27T11:21:03.898263Z",
     "end_time": "2024-01-27T11:21:06.720293Z"
    }
   }
  },
  {
   "cell_type": "code",
   "execution_count": 19,
   "outputs": [
    {
     "data": {
      "text/plain": "True"
     },
     "execution_count": 19,
     "metadata": {},
     "output_type": "execute_result"
    }
   ],
   "source": [
    "from dotenv import load_dotenv\n",
    "load_dotenv()"
   ],
   "metadata": {
    "collapsed": false,
    "ExecuteTime": {
     "start_time": "2024-01-27T11:21:06.720683Z",
     "end_time": "2024-01-27T11:21:06.727065Z"
    }
   }
  },
  {
   "cell_type": "code",
   "execution_count": 20,
   "outputs": [],
   "source": [
    "search_keyword = \"AlwaysBehavior\""
   ],
   "metadata": {
    "collapsed": false,
    "ExecuteTime": {
     "start_time": "2024-01-27T11:21:06.727618Z",
     "end_time": "2024-01-27T11:21:06.729525Z"
    }
   }
  },
  {
   "cell_type": "markdown",
   "source": [
    "## 1. Load documents"
   ],
   "metadata": {
    "collapsed": false
   }
  },
  {
   "cell_type": "code",
   "execution_count": 21,
   "outputs": [],
   "source": [
    "from langchain_community.document_loaders import DirectoryLoader\n",
    "from langchain.document_loaders import UnstructuredMarkdownLoader\n",
    "\n",
    "docs_loader = DirectoryLoader(\"pronto-docs\", glob=\"**/*.md\", loader_cls=UnstructuredMarkdownLoader)\n",
    "docs = docs_loader.load()"
   ],
   "metadata": {
    "collapsed": false,
    "ExecuteTime": {
     "start_time": "2024-01-27T11:21:06.730757Z",
     "end_time": "2024-01-27T11:21:07.583724Z"
    }
   }
  },
  {
   "cell_type": "markdown",
   "source": [
    "## 2. Split documents"
   ],
   "metadata": {
    "collapsed": false
   }
  },
  {
   "cell_type": "code",
   "execution_count": 22,
   "outputs": [],
   "source": [
    "from langchain.text_splitter import RecursiveCharacterTextSplitter, Language\n",
    "\n",
    "docs_splitter = RecursiveCharacterTextSplitter.from_language(language=Language.MARKDOWN, chunk_size=100, chunk_overlap=0)"
   ],
   "metadata": {
    "collapsed": false,
    "ExecuteTime": {
     "start_time": "2024-01-27T11:21:07.585955Z",
     "end_time": "2024-01-27T11:21:07.588006Z"
    }
   }
  },
  {
   "cell_type": "code",
   "execution_count": 23,
   "outputs": [],
   "source": [
    "docs_splits = docs_splitter.split_documents(docs)"
   ],
   "metadata": {
    "collapsed": false,
    "ExecuteTime": {
     "start_time": "2024-01-27T11:21:07.593777Z",
     "end_time": "2024-01-27T11:21:07.620065Z"
    }
   }
  },
  {
   "cell_type": "code",
   "execution_count": 24,
   "outputs": [
    {
     "data": {
      "text/plain": "285"
     },
     "execution_count": 24,
     "metadata": {},
     "output_type": "execute_result"
    }
   ],
   "source": [
    "len([d for d in docs_splits if d.metadata[\"source\"] == \"pronto-docs/README.md\"])"
   ],
   "metadata": {
    "collapsed": false,
    "ExecuteTime": {
     "start_time": "2024-01-27T11:21:07.608274Z",
     "end_time": "2024-01-27T11:21:07.620688Z"
    }
   }
  },
  {
   "cell_type": "code",
   "execution_count": 25,
   "outputs": [
    {
     "data": {
      "text/plain": "912"
     },
     "execution_count": 25,
     "metadata": {},
     "output_type": "execute_result"
    }
   ],
   "source": [
    "len(docs_splits)"
   ],
   "metadata": {
    "collapsed": false,
    "ExecuteTime": {
     "start_time": "2024-01-27T11:21:07.611753Z",
     "end_time": "2024-01-27T11:21:07.620798Z"
    }
   }
  },
  {
   "cell_type": "code",
   "execution_count": 26,
   "outputs": [],
   "source": [
    "from langchain_core.documents import Document\n",
    "from langchain.text_splitter import TextSplitter\n",
    "\n",
    "def get_splits_from_keyword(keyword: str, splitter: TextSplitter, documents: list[Document]):\n",
    "    return list(filter(lambda x: keyword in x.page_content, splitter.split_documents(documents)))"
   ],
   "metadata": {
    "collapsed": false,
    "ExecuteTime": {
     "start_time": "2024-01-27T11:21:07.615857Z",
     "end_time": "2024-01-27T11:21:07.620849Z"
    }
   }
  },
  {
   "cell_type": "code",
   "execution_count": 27,
   "outputs": [],
   "source": [
    "chunk_size = 100\n",
    "chunk_overlap = 0"
   ],
   "metadata": {
    "collapsed": false,
    "ExecuteTime": {
     "start_time": "2024-01-27T11:21:07.618484Z",
     "end_time": "2024-01-27T11:21:07.620906Z"
    }
   }
  },
  {
   "cell_type": "markdown",
   "source": [
    "### 2.1 Recursive Character Text Splitter"
   ],
   "metadata": {
    "collapsed": false
   }
  },
  {
   "cell_type": "code",
   "execution_count": 28,
   "outputs": [],
   "source": [
    "rct_splitter = RecursiveCharacterTextSplitter(\n",
    "    chunk_size=chunk_size,\n",
    "    chunk_overlap=chunk_overlap,\n",
    ")"
   ],
   "metadata": {
    "collapsed": false,
    "ExecuteTime": {
     "start_time": "2024-01-27T11:21:07.621841Z",
     "end_time": "2024-01-27T11:21:07.628240Z"
    }
   }
  },
  {
   "cell_type": "code",
   "execution_count": 29,
   "outputs": [
    {
     "data": {
      "text/plain": "[Document(page_content='ValueBehavior', metadata={'source': 'pronto-docs/README.md'}),\n Document(page_content='[code]false[/code], only children ValueBehaviors are added to the menu (if they are visible)', metadata={'source': 'pronto-docs/PrototypingUIBehavior.md'}),\n Document(page_content='create_ui_for_value\\n\\ngdscript\\nfunc create_ui_for_value(value: ValueBehavior)', metadata={'source': 'pronto-docs/PrototypingUIBehavior.md'}),\n Document(page_content='create_ui_for_value_enum\\n\\ngdscript\\nfunc create_ui_for_value_enum(value: ValueBehavior)', metadata={'source': 'pronto-docs/PrototypingUIBehavior.md'}),\n Document(page_content='create_ui_for_value_bool\\n\\ngdscript\\nfunc create_ui_for_value_bool(value: ValueBehavior)', metadata={'source': 'pronto-docs/PrototypingUIBehavior.md'}),\n Document(page_content='gdscript\\nfunc create_ui_slider_for_value_float(value: ValueBehavior)\\n\\ncreate_minimizing_button', metadata={'source': 'pronto-docs/PrototypingUIBehavior.md'}),\n Document(page_content='func handle_value_bool_change(index: int, value: ValueBehavior, optionButton: OptionButton)', metadata={'source': 'pronto-docs/PrototypingUIBehavior.md'}),\n Document(page_content='func handle_value_enum_change(index: int, value: ValueBehavior, optionButton: OptionButton)', metadata={'source': 'pronto-docs/PrototypingUIBehavior.md'}),\n Document(page_content='func handle_update_value_float_change(new_value: float, value: ValueBehavior, label_current: Label,', metadata={'source': 'pronto-docs/PrototypingUIBehavior.md'}),\n Document(page_content='ValueBehavior\\n\\nExtends: Behavior\\n\\nDescription\\n\\nConstants Descriptions\\n\\nBUFFER_PCT', metadata={'source': 'pronto-docs/ValueBehavior.md'})]"
     },
     "execution_count": 29,
     "metadata": {},
     "output_type": "execute_result"
    }
   ],
   "source": [
    "get_splits_from_keyword(\"ValueBehavior\", rct_splitter, docs)"
   ],
   "metadata": {
    "collapsed": false,
    "ExecuteTime": {
     "start_time": "2024-01-27T11:21:07.640727Z",
     "end_time": "2024-01-27T11:21:07.644104Z"
    }
   }
  },
  {
   "cell_type": "markdown",
   "source": [
    "### 2.2 Recursive Character Text Splitter (from language Markdown)"
   ],
   "metadata": {
    "collapsed": false
   }
  },
  {
   "cell_type": "code",
   "execution_count": 30,
   "outputs": [],
   "source": [
    "from langchain.text_splitter import RecursiveCharacterTextSplitter, Language\n",
    "\n",
    "rctm_splitter = RecursiveCharacterTextSplitter.from_language(language=Language.MARKDOWN, chunk_size=chunk_size, chunk_overlap=chunk_overlap)"
   ],
   "metadata": {
    "collapsed": false,
    "ExecuteTime": {
     "start_time": "2024-01-27T11:21:07.643846Z",
     "end_time": "2024-01-27T11:21:07.674802Z"
    }
   }
  },
  {
   "cell_type": "code",
   "execution_count": 31,
   "outputs": [
    {
     "data": {
      "text/plain": "[Document(page_content='ValueBehavior', metadata={'source': 'pronto-docs/README.md'}),\n Document(page_content='[code]false[/code], only children ValueBehaviors are added to the menu (if they are visible)', metadata={'source': 'pronto-docs/PrototypingUIBehavior.md'}),\n Document(page_content='create_ui_for_value\\n\\ngdscript\\nfunc create_ui_for_value(value: ValueBehavior)', metadata={'source': 'pronto-docs/PrototypingUIBehavior.md'}),\n Document(page_content='create_ui_for_value_enum\\n\\ngdscript\\nfunc create_ui_for_value_enum(value: ValueBehavior)', metadata={'source': 'pronto-docs/PrototypingUIBehavior.md'}),\n Document(page_content='create_ui_for_value_bool\\n\\ngdscript\\nfunc create_ui_for_value_bool(value: ValueBehavior)', metadata={'source': 'pronto-docs/PrototypingUIBehavior.md'}),\n Document(page_content='gdscript\\nfunc create_ui_slider_for_value_float(value: ValueBehavior)\\n\\ncreate_minimizing_button', metadata={'source': 'pronto-docs/PrototypingUIBehavior.md'}),\n Document(page_content='func handle_value_bool_change(index: int, value: ValueBehavior, optionButton: OptionButton)', metadata={'source': 'pronto-docs/PrototypingUIBehavior.md'}),\n Document(page_content='func handle_value_enum_change(index: int, value: ValueBehavior, optionButton: OptionButton)', metadata={'source': 'pronto-docs/PrototypingUIBehavior.md'}),\n Document(page_content='func handle_update_value_float_change(new_value: float, value: ValueBehavior, label_current: Label,', metadata={'source': 'pronto-docs/PrototypingUIBehavior.md'}),\n Document(page_content='ValueBehavior\\n\\nExtends: Behavior\\n\\nDescription\\n\\nConstants Descriptions\\n\\nBUFFER_PCT', metadata={'source': 'pronto-docs/ValueBehavior.md'})]"
     },
     "execution_count": 31,
     "metadata": {},
     "output_type": "execute_result"
    }
   ],
   "source": [
    "get_splits_from_keyword(\"ValueBehavior\", rctm_splitter, docs)"
   ],
   "metadata": {
    "collapsed": false,
    "ExecuteTime": {
     "start_time": "2024-01-27T11:21:07.660087Z",
     "end_time": "2024-01-27T11:21:07.675653Z"
    }
   }
  },
  {
   "cell_type": "markdown",
   "source": [
    "### 2.3 Recursive Character Text Splitter (custom separators)"
   ],
   "metadata": {
    "collapsed": false
   }
  },
  {
   "cell_type": "code",
   "execution_count": 32,
   "outputs": [],
   "source": [
    "rctcs_splitter = RecursiveCharacterTextSplitter(\n",
    "    chunk_size=100,\n",
    "    chunk_overlap=0,\n",
    "    separators=[\"#\", \"##\", \"###\", \"\\n\\n\", \"\\n \\n\", \"\\n\"]\n",
    ")"
   ],
   "metadata": {
    "collapsed": false,
    "ExecuteTime": {
     "start_time": "2024-01-27T11:21:07.668992Z",
     "end_time": "2024-01-27T11:21:07.675727Z"
    }
   }
  },
  {
   "cell_type": "code",
   "execution_count": 33,
   "outputs": [
    {
     "data": {
      "text/plain": "[Document(page_content='Pronto', metadata={'source': 'pronto-docs/README.md'}),\n Document(page_content='\\nPronto is a framework for Godot to make prototyping game mechanics faster. It is not a framework aimed at helping to create entire games faster. The resulting prototypes are a means to quickly explore ideas, throw away the prototype, and only properly implement ideas that turned out well.', metadata={'source': 'pronto-docs/README.md'}),\n Document(page_content='Play prototypes created in pronto here.\\n\\nFunction', metadata={'source': 'pronto-docs/README.md'}),\n Document(page_content='\\nThe main idea of Pronto is to make behavior visible. Our hypothesis is that it will be easier to create and tweak game mechanics. For example, instead of defining numbers in code for the distance a platform moves, we use handles in the game world to visually direct it.', metadata={'source': 'pronto-docs/README.md'}),\n Document(page_content='\\nPronto consists of a set of Godot Nodes called Behavior that can be added to a Godot scene. These behaviors are aspects that, when combined, result in the expression of complex behavior in the Godot scene. All behaviors have visual representation in the scene and primarily function through an event system called Connections. For example, if a timer reaches 5 seconds, a new enemy spawns.', metadata={'source': 'pronto-docs/README.md'}),\n Document(page_content='Phase 1: Creating a Prototype', metadata={'source': 'pronto-docs/README.md'}),\n Document(page_content='\\nBuild a tiny Godot game but focus on a single mechanic. Do not focus on visuals. Polish only where it is essential for the mechanic you are creating. Where possible, use the below advice and helpers instead of code for implementation.', metadata={'source': 'pronto-docs/README.md'}),\n Document(page_content='\\nWhen choosing a mechanic, ask yourself first: Would it be better/faster to build a paper prototype? (If so, consider another mechanic.) What is the minimal feature set I need to implement to see if the mechanic is good? Try and pick a mechanic that is not necessarily the core of the genre but adds an interesting aspect to it and only implement that.', metadata={'source': 'pronto-docs/README.md'}),\n Document(page_content='To get started, create a branch with the following pattern:', metadata={'source': 'pronto-docs/README.md'}),\n Document(page_content='```\\nweek-[week number]-[mechanic name]\\n\\n(e.g., week-0-kart-dash for the tutorial session)\\n```', metadata={'source': 'pronto-docs/README.md'}),\n Document(page_content='Behaviors\\n\\nThe following list of behaviors act primarily as triggers of events.', metadata={'source': 'pronto-docs/README.md'}),\n Document(page_content='Behavior \\n Function', metadata={'source': 'pronto-docs/README.md'}),\n Document(page_content=\"AlwaysBehavior \\n Triggers every frame. Analog to Godot's  _process  function. Can be paused.\", metadata={'source': 'pronto-docs/README.md'}),\n Document(page_content='ClockBehavior', metadata={'source': 'pronto-docs/README.md'}),\n Document(page_content='\\n Triggers after or for a set time. Can be set to paused and to only trigger once. When looking to trigger for a specific duration the  Trigger Every Frame  property of  Until Elapsed  needs to be enabled. This will trigger every frame until the timer is elapsed. If you wish to trigger e.g. every second (instead of every frame) you can activate  Trigger Every X Seconds  and set the  Trigger Interval In Seconds  to  1 . Hint: Interval should not be smaller than typical time between frames (delta). ', metadata={'source': 'pronto-docs/README.md'}),\n Document(page_content='CollisionBehavior', metadata={'source': 'pronto-docs/README.md'}),\n Document(page_content='\\n Triggers when something collides with its parent. The  collided  signal also provides the  direction  of the collision pointing in the direction from the parent to the node it collided with. NOTE: only works for Area2D, RigidBody2D and CharacterBody2D as of now. ', metadata={'source': 'pronto-docs/README.md'}),\n Document(page_content='ControlsBehavior', metadata={'source': 'pronto-docs/README.md'}),\n Document(page_content='\\n Triggers for mouse interactions and offers a convenient set of triggers for keyboard movement. Exact keybindings are chosen via the  Player  property which allows for up to 3 different controls (Player 1:  WASD , Player 2:  Arrow keys , Player 3:  IJKL ). The  direction  signal can be used for moving a character in combination with a  MoveBehavior . ', metadata={'source': 'pronto-docs/README.md'}),\n Document(page_content='DragBehavior', metadata={'source': 'pronto-docs/README.md'}),\n Document(page_content='\\n Allows users to drag and drop the parent node using the mouse. Offers signals for hovering/unhovering, dragging/dropping, and moving the node. Supports different types of nodes, including character bodies, rigid bodies, static bodies, sprites, placeholders, and controls. ', metadata={'source': 'pronto-docs/README.md'}),\n Document(page_content='KeyBehavior \\n Triggers when a single keyboard key is pressed or released.', metadata={'source': 'pronto-docs/README.md'}),\n Document(page_content='NodeReadyBehavior \\n Triggers once after the node (and all its siblings) are  ready .', metadata={'source': 'pronto-docs/README.md'}),\n Document(page_content='SignalBehavior \\n Forwards a signal when triggered, including arguments.', metadata={'source': 'pronto-docs/README.md'}),\n Document(page_content='The following list of behaviors primarily cause effects when triggered.', metadata={'source': 'pronto-docs/README.md'}),\n Document(page_content='Behavior \\n Function', metadata={'source': 'pronto-docs/README.md'}),\n Document(page_content='BindBehavior', metadata={'source': 'pronto-docs/README.md'}),\n Document(page_content='\\n Optionally reads some properties and then writes one property of its parent. Changes to the properties it reads are synced every frame. The read properties are accessible in the convert expression; the first under  value0 , the second under  value1  and so on. For example, create a Label node, add a Bind node as a child, use  text  as property and put any expression in its  convert  field. Another example would use a Clock with a Bind node as a child that uses  duration_seconds  as a property to change the trigger-time depending on a Value-Behavior. ', metadata={'source': 'pronto-docs/README.md'}),\n Document(page_content='CodeBehavior', metadata={'source': 'pronto-docs/README.md'}),\n Document(page_content='\\n It holds an  execute()  function with both user-definable arguments and a function body, which allows for arbitrary code execution. After  execute()  is called an  after  signal is emitted that carries the execution result, which can be used for chaining. ', metadata={'source': 'pronto-docs/README.md'}),\n Document(page_content='MoveBehavior', metadata={'source': 'pronto-docs/README.md'}),\n Document(page_content='\\n When triggered, moves its parent. Can be set to move along global or local axes. Supports handling of gravity. ', metadata={'source': 'pronto-docs/README.md'}),\n Document(page_content='PlatformerControllerBehavior', metadata={'source': 'pronto-docs/README.md'}),\n Document(page_content='\\n Makes the parent behave like a platformer character, meaning that it can jump, move horizontally, and is affected by gravity. Must be a child of a  CharacterBody2D . ', metadata={'source': 'pronto-docs/README.md'}),\n Document(page_content='QueryBehavior', metadata={'source': 'pronto-docs/README.md'}),\n Document(page_content='\\n Searches for nodes in the scene and emits signals for results. Properties allow to filter, sort, and limit results. Can be used for tasks such as destroying all enemies in a certain radius, infecting a random player, or finding the nearest health pack. ', metadata={'source': 'pronto-docs/README.md'}),\n Document(page_content='SceneRootBehavior', metadata={'source': 'pronto-docs/README.md'}),\n Document(page_content='\\n Provides access to the  SceneTree  from Godot. It offers the signals  node_added(node: Node) ,  node_remove(node: Node)  and  tree_changed()  from the  SceneTree . Additionally, it implements three methods for executing lambda functions on all or a specific subset of nodes in a given  group . ', metadata={'source': 'pronto-docs/README.md'}),\n Document(page_content='SignalBehavior', metadata={'source': 'pronto-docs/README.md'}),\n Document(page_content='\\n Forwards signals when triggered, optionally with arguments. Useful for abstraction/encapsulation of lower-level signals, signal renaming, or logical OR-gating of signals. ', metadata={'source': 'pronto-docs/README.md'}),\n Document(page_content='SpawnerBehavior', metadata={'source': 'pronto-docs/README.md'}),\n Document(page_content='\\n When triggered, spawns whatever its child nodes are at its current location in the scene. Single children nodes can be spawned by modifying the optional index argument in each spawning method to just the respective child node. Use -1 as index to spawn all children. Set use_spawn_shape to true to randomly spawn children in the given shape or polygon. When using a Polygon2D do not use it as a child of the spawner. ', metadata={'source': 'pronto-docs/README.md'}),\n Document(page_content='StopwatchBehavior \\n Starts counting up time when triggered. Can be reset.', metadata={'source': 'pronto-docs/README.md'}),\n Document(page_content='The following list of behaviors manage state or communicate visual properties.', metadata={'source': 'pronto-docs/README.md'}),\n Document(page_content='Behavior \\n Function', metadata={'source': 'pronto-docs/README.md'}),\n Document(page_content='BackgroundBehavior \\n Add to your scene to change the background color of the scene.', metadata={'source': 'pronto-docs/README.md'}),\n Document(page_content='CameraShakeBehavior', metadata={'source': 'pronto-docs/README.md'}),\n Document(page_content='Add as a child of a camera and call its  add_trauma  function to add shake.', metadata={'source': 'pronto-docs/README.md'}),\n Document(page_content='GroupBehavior', metadata={'source': 'pronto-docs/README.md'}),\n Document(page_content='Draws a shape around its children to group them visually. Only visible in the editor.', metadata={'source': 'pronto-docs/README.md'}),\n Document(page_content='HealthBarBehavior', metadata={'source': 'pronto-docs/README.md'}),\n Document(page_content='\\n Show a rectangular health bar. Offers methods to manipulate the current health and emits a signal when health drops to zero. ', metadata={'source': 'pronto-docs/README.md'}),\n Document(page_content='InspectBehavior \\n Add as a child of a node to inspect its properties inside the game.', metadata={'source': 'pronto-docs/README.md'}),\n Document(page_content='InstanceBehavior', metadata={'source': 'pronto-docs/README.md'}),\n Document(page_content='\\n Allows you to define a template subtree of Nodes that you want to repeat multiple times without copy-pasting. Add your template as a child of the Instance node, then hover the connection dialog and click the \"Instance\" button. Note: internally, this creates a \"hidden\" scene that you need to commit as well. You can thus use  \"Editable children\"  in Godot by right-clicking the instance and tweaking properties while inheriting the rest. ', metadata={'source': 'pronto-docs/README.md'}),\n Document(page_content='PlaceholderBehavior', metadata={'source': 'pronto-docs/README.md'}),\n Document(page_content=\"\\n Show a colored rectangle with a label. Useful as a quick means to communicate a game object's function. Functions as a collision shape, so you don't need to add another. Instead of a rectangle a placeholder can also display a sprite instead (use the Sprite Library in the Inspector to choose an existing texture or load your own). Can be  flash() ed in a different color. \", metadata={'source': 'pronto-docs/README.md'}),\n Document(page_content='StateMachineBehavior', metadata={'source': 'pronto-docs/README.md'}),\n Document(page_content='\\n The StateMachineBehavior acts as a purely graphic hint as to which StateBehavior objects belong to the same state machine. The GroupDrawer class is used for this. ', metadata={'source': 'pronto-docs/README.md'}),\n Document(page_content='StateBehavior', metadata={'source': 'pronto-docs/README.md'}),\n Document(page_content=\"\\n The StateBehavior is the fundamental building block of a state machine. Each StateBehavior emits the signals  StateBehavior.entered()  and  StateBehavior.exited()  to communicate the state machine's state \", metadata={'source': 'pronto-docs/README.md'}),\n Document(page_content='StoreBehavior', metadata={'source': 'pronto-docs/README.md'}),\n Document(page_content='\\n Use the Godot meta properties to store state. You can configure it to store values in the global dictionary  G  and access it via  G.at(prop) . ', metadata={'source': 'pronto-docs/README.md'}),\n Document(page_content='ValueBehavior', metadata={'source': 'pronto-docs/README.md'}),\n Document(page_content='\\n Show a constant you can use in expression visually as a slider. Note that these are shared globally, so create new names if you need to use different values. ', metadata={'source': 'pronto-docs/README.md'}),\n Document(page_content='VisualLineBehavior \\n Show a colored Line between two Nodes. Useful as a quick visual connection.', metadata={'source': 'pronto-docs/README.md'}),\n Document(page_content='Hints', metadata={'source': 'pronto-docs/README.md'}),\n Document(page_content='\\nExpose the crucial variation points of your mechanic via the Value behavior. You can drop any property of a Node onto the scene to create a Value automatically.', metadata={'source': 'pronto-docs/README.md'}),\n Document(page_content='\\nFocus on quick-and-dirty, especially when adding code. The second week is used to consolidate changes in the framework.', metadata={'source': 'pronto-docs/README.md'}),\n Document(page_content=\"\\nDon't be afraid of copy-and-paste. Copy even your entire prototype, if you want to try multiple directions. If that seems tedious in your use case, consider the Instance behavior.\", metadata={'source': 'pronto-docs/README.md'}),\n Document(page_content='\\nTry to cram everything for your prototype in a single Godot scene so that changing any aspect is possible without having to switch scenes. Make use of the Spawner and Instance Behaviors to facilitate this.', metadata={'source': 'pronto-docs/README.md'}),\n Document(page_content='You can use the set function to modify any properties when a connection triggers.\\n\\nJuice', metadata={'source': 'pronto-docs/README.md'}),\n Document(page_content=\"\\nThe following list of nodes don't add new functionality, their purpose is to add a bit of juice to your prototypes. They may not make your prototypes good, but they can add to them.\", metadata={'source': 'pronto-docs/README.md'}),\n Document(page_content='Juice \\n Function \\n \\n SparkleJuice \\n Make your scene sparkle!\\n\\nConnections', metadata={'source': 'pronto-docs/README.md'}),\n Document(page_content='\\nConnections are an extension of Godot signals to be more flexible. Connections can be dragged from any behavior to any arbitrary node in a scene. They are the primary means to assemble your game by wiring Behaviors together.', metadata={'source': 'pronto-docs/README.md'}),\n Document(page_content='Creating', metadata={'source': 'pronto-docs/README.md'}),\n Document(page_content='\\nConnections are created by hovering the \"+\" that appears below selected nodes. There are two types of connections: Target Connections and Expression Connections.', metadata={'source': 'pronto-docs/README.md'}),\n Document(page_content='\\nThe type \"target\" is created by dragging a signal from the list onto its receiver. From the list in the dialog, you can either choose any method to invoke or choose <statement(s)> to execute arbitrary code. In the expressions for the arguments or the arbitrary code, you can write Godot expression that can access from and to.', metadata={'source': 'pronto-docs/README.md'}),\n Document(page_content='\\nThe type \"expression\" allows to execute arbitrary Godot code without a receiver node. Create an expression connection by double-clicking a signal in the list. You can access from in the code.', metadata={'source': 'pronto-docs/README.md'}),\n Document(page_content='Editing', metadata={'source': 'pronto-docs/README.md'}),\n Document(page_content='\\nYou can define a condition for the connection to trigger by entering a Godot expression in condition field. You may refer to from and to in the expression.', metadata={'source': 'pronto-docs/README.md'}),\n Document(page_content='\\nYou can use the + icon in the header of the connection editor to add references to further nodes by specifying a node path relative to the from node. You can use these nodes in any statement, argument, or condition expression using ref0, ref1, etc. You can right-click these variables in the connection header to edit their path or remove them.', metadata={'source': 'pronto-docs/README.md'}),\n Document(page_content='You can disable a connection by unchecking the checkbox in the top-right or in its context menu.', metadata={'source': 'pronto-docs/README.md'}),\n Document(page_content='\\nYou can also pin a connection editor so that it remains in the scene after saving them. You can click and drag editors in the scene as well. You can drag the handles at the bottom right of each text field to resize the editor.', metadata={'source': 'pronto-docs/README.md'}),\n Document(page_content='\\nYou can press the \"open script\" button next to any code expression to edit it in a full-screen Godot tab which provides you better syntax highlighting and autocompletion.', metadata={'source': 'pronto-docs/README.md'}),\n Document(page_content='Reordering\\n\\nFrom the context menu of a connection, choose \"Move to top\".\\n\\nDeleting', metadata={'source': 'pronto-docs/README.md'}),\n Document(page_content='Open the connection, then click on the trash icon in the top-right.', metadata={'source': 'pronto-docs/README.md'}),\n Document(page_content='Alternatively, right-click the connection and choose \"Delete\".\\n\\nExpressions', metadata={'source': 'pronto-docs/README.md'}),\n Document(page_content='\\nPronto scatters code throughout the scene to be as close to the place where it is relevant. Since there is limited space on the screen, we provide a set of utility functions that make formulating common expressions easier. Some are documented below, you can find all in U.gd. (Feel free to extend these.)', metadata={'source': 'pronto-docs/README.md'}),\n Document(page_content='Name \\n Function \\n Example', metadata={'source': 'pronto-docs/README.md'}),\n Document(page_content='u(node: Node) \\n Wrap the given Node to expose the utility functions for it.', metadata={'source': 'pronto-docs/README.md'}),\n Document(page_content='u(other).at(\"score\")', metadata={'source': 'pronto-docs/README.md'}),\n Document(page_content='closest_that(cond: Callable)', metadata={'source': 'pronto-docs/README.md'}),\n Document(page_content='\\n Find the closest node that matches the given criteria. First checks children, then children of parents in a breadth-first search. ', metadata={'source': 'pronto-docs/README.md'}),\n Document(page_content='closest_that(func (n): return n is Node)', metadata={'source': 'pronto-docs/README.md'}),\n Document(page_content='group(name: String)   group_do(name: String, c: Callable) \\n Get all nodes in the given group.', metadata={'source': 'pronto-docs/README.md'}),\n Document(page_content='group_do(\"enemy\", func (e): e.queue_free())', metadata={'source': 'pronto-docs/README.md'}),\n Document(page_content='at(name: String)', metadata={'source': 'pronto-docs/README.md'}),\n Document(page_content='\\n Find the \"closest\"  State  that has a field called  name . If none is found, checks global state in  G . ', metadata={'source': 'pronto-docs/README.md'}),\n Document(page_content='at(\"score\")', metadata={'source': 'pronto-docs/README.md'}),\n Document(page_content='put(name: String, val: Variant)', metadata={'source': 'pronto-docs/README.md'}),\n Document(page_content='\\n Find the \"closest\"  State  that has a field called  name  and store the given value. If none is found, checks global state in  G . ', metadata={'source': 'pronto-docs/README.md'}),\n Document(page_content='put(\"score\", 0)', metadata={'source': 'pronto-docs/README.md'}),\n Document(page_content='Assets', metadata={'source': 'pronto-docs/README.md'}),\n Document(page_content='\\nWhen creating your game/prototype in Pronto, you might want to use some assets to polish the look of your game. Those things are called assets and we already prepared some for you to use.', metadata={'source': 'pronto-docs/README.md'}),\n Document(page_content='TileMap', metadata={'source': 'pronto-docs/README.md'}),\n Document(page_content='\\nIf you want to create a large level you should take a look at the TileMap (default Godot). We already have a TileSet prepared that you can simply load into your TileMap inside the asset folder.', metadata={'source': 'pronto-docs/README.md'}),\n Document(page_content='Common Pitfalls\\n\\nPhysicsBody2D', metadata={'source': 'pronto-docs/README.md'}),\n Document(page_content='Collisions only work when contact monitor is on and the max contacts is at least 1.', metadata={'source': 'pronto-docs/README.md'}),\n Document(page_content='\\nPhysicsBody2D does not report collisions with Area2D. Instead, listen for collisions with the PhysicsBody on the Area.', metadata={'source': 'pronto-docs/README.md'}),\n Document(page_content='StaticBody', metadata={'source': 'pronto-docs/README.md'}),\n Document(page_content='\\nDoes not support reporting collisions at all in Godot. You can instead listen for collisions on the other collision partner.', metadata={'source': 'pronto-docs/README.md'}),\n Document(page_content='Connections\\n\\nThe $ shorthand of GDScript does not work. Use get_node() instead.', metadata={'source': 'pronto-docs/README.md'}),\n Document(page_content=\"\\nself is sadly not defined in connections. Use from and to instead, or make use of any of U's helpers (which are relative to from).\", metadata={'source': 'pronto-docs/README.md'}),\n Document(page_content='Moving nodes around will break connections.\\n\\nInstance', metadata={'source': 'pronto-docs/README.md'}),\n Document(page_content='\\nBe careful if you used the \"Editable Children\" option to modify nodes in an instanced subtree and then move the corresponding nodes in the template. Your modifications will be lost.', metadata={'source': 'pronto-docs/README.md'}),\n Document(page_content='Video Changelog\\n\\n30-90 seconds (no need to cut the video, can be shaky and raw)', metadata={'source': 'pronto-docs/README.md'}),\n Document(page_content='show what you did and what insights you gained', metadata={'source': 'pronto-docs/README.md'}),\n Document(page_content='\\nyou are encouraged to open the game with a couple different parameter configurations and show the impact', metadata={'source': 'pronto-docs/README.md'}),\n Document(page_content='Phase 2: Extending the Framework\\n\\nWriting a New Behavior', metadata={'source': 'pronto-docs/README.md'}),\n Document(page_content='\\nChoose an icon to use as thumbnail from the Godot source (it is recommended to download the source as ZIP for easily browsing the list).', metadata={'source': 'pronto-docs/README.md'}),\n Document(page_content='Create a {Name}.gd file in addons/pronto/behaviors.\\n\\nAs a header for the file, use:', metadata={'source': 'pronto-docs/README.md'}),\n Document(page_content='```python\\n@tool\\n\\nthumb(\"IconName\")\\n\\nextends Behavior\\n```', metadata={'source': 'pronto-docs/README.md'}),\n Document(page_content='Proceed to write a Godot Node class as regular, e.g. by using @export and signals.', metadata={'source': 'pronto-docs/README.md'}),\n Document(page_content='\\n⚠️ make sure to call super implementations of all overwritten methods, e.g. super._ready() and super._process().', metadata={'source': 'pronto-docs/README.md'}),\n Document(page_content='When do I have to reload what?', metadata={'source': 'pronto-docs/README.md'}),\n Document(page_content='Re-enable the plugin (go to Project>Settings>Plugins and toggle Pronto off and on)', metadata={'source': 'pronto-docs/README.md'}),\n Document(page_content='When creating a completely new Behavior file.\\n\\nRe-open the scene to update existing Behaviors', metadata={'source': 'pronto-docs/README.md'}),\n Document(page_content='When changing a _ready function.\\n\\nWhen creating a new _process function.', metadata={'source': 'pronto-docs/README.md'}),\n Document(page_content='Switch scenes back and forth\\n\\nWhen updating a _draw function if no one calls queue_redraw.', metadata={'source': 'pronto-docs/README.md'}),\n Document(page_content='If everything goes wrong :-)', metadata={'source': 'pronto-docs/README.md'}),\n Document(page_content='Reload the project from the main menu > Project > Reload Current Project', metadata={'source': 'pronto-docs/README.md'}),\n Document(page_content='TODO: reproduce in which cases this is necessary\\n\\nHelpers', metadata={'source': 'pronto-docs/README.md'}),\n Document(page_content='As helpers for writing commonly needed functionality, you can use the below:\\n\\nConfiguration', metadata={'source': 'pronto-docs/README.md'}),\n Document(page_content='\\nconnect_ui -> Control show the returned Control at the top of the connect popup (that is opened via the \"+\").', metadata={'source': 'pronto-docs/README.md'}),\n Document(page_content='show_icon() -> bool return false to not show the configured icon for the behavior on the canvas.', metadata={'source': 'pronto-docs/README.md'}),\n Document(page_content='Handles', metadata={'source': 'pronto-docs/README.md'}),\n Document(page_content='\\nYou can return a list of handles (knobs on the canvas that you can move). See Placeholder and Value behaviors for examples.', metadata={'source': 'pronto-docs/README.md'}),\n Document(page_content=\"\\nHandles can exist in local space of the nodes in the canvas or in the space of the overlay (independent of the canvas' zoom).\", metadata={'source': 'pronto-docs/README.md'}),\n Document(page_content='Lines and Text Below a Behavior', metadata={'source': 'pronto-docs/README.md'}),\n Document(page_content='\\nYou can draw lines between nodes or put text underneath your behavior by returning Line instances from the lines() function.', metadata={'source': 'pronto-docs/README.md'}),\n Document(page_content='Canvas Override and Events', metadata={'source': 'pronto-docs/README.md'}),\n Document(page_content='\\nIf you need to add more controls to your behavior, you have to use the canvas override hooks. You can see the implementation of handles in Behavior.gd as an example of this.', metadata={'source': 'pronto-docs/README.md'}),\n Document(page_content=\"\\nOverride _forward_canvas_draw_over_viewport(viewport_control: Control) to draw in the overlay space (independent of the canvas' zoom).\", metadata={'source': 'pronto-docs/README.md'}),\n Document(page_content='\\nOverride func _forward_canvas_gui_input(event: InputEvent, undo_redo: EditorUndoRedoManager) to react to events that occur on the canvas. Return true if you want to absorb the passed element.', metadata={'source': 'pronto-docs/README.md'}),\n Document(page_content='\\n⚠️ make sure to call the super implementations if you override either of these, or handles will no longer work.', metadata={'source': 'pronto-docs/README.md'}),\n Document(page_content='Runtime Values\\n\\nIn ConnectionDebug.gd you can communicate values from the game back to the engine.', metadata={'source': 'pronto-docs/README.md'}),\n Document(page_content='Building UI', metadata={'source': 'pronto-docs/README.md'}),\n Document(page_content='\\nEditorIcon: a texture that will load any of the built-in icons and color it according to the configured theme.', metadata={'source': 'pronto-docs/README.md'}),\n Document(page_content='In ExpressionInspector.gd you can specify that a property should get a GDScript code editor.', metadata={'source': 'pronto-docs/README.md'}),\n Document(page_content='Hints on Designing new Behaviors', metadata={'source': 'pronto-docs/README.md'}),\n Document(page_content=\"\\nDon't bundle too much: give each concern its own behavior, e.g. appearance, movement, shooting. Design behaviors such that they are easy to connect to one another instead of pre-packaging them with lots of concerns.\", metadata={'source': 'pronto-docs/README.md'}),\n Document(page_content='Phase 3: Deploying your Prototype/Game', metadata={'source': 'pronto-docs/README.md'}),\n Document(page_content='\\nTo deploy your game to hpi-swa-lab.github.io/godot-pronto/ you can use the Build & Deploy Game Action.', metadata={'source': 'pronto-docs/README.md'}),\n Document(page_content='\\nThis will be done automatically if you created your game via the menu tab Prototype (which automatically creates a branch, folder, main scene and ExportBehavior).', metadata={'source': 'pronto-docs/README.md'}),\n Document(page_content=\"However, if you didn't use this method you can follow this checklist to export your game.\", metadata={'source': 'pronto-docs/README.md'}),\n Document(page_content='Preparation\\n\\nBefore you can deploy your game check the following:', metadata={'source': 'pronto-docs/README.md'}),\n Document(page_content='Make your game the main scene of the godot project.', metadata={'source': 'pronto-docs/README.md'}),\n Document(page_content='\\nMake sure that your game and all assets you use are inside your prototype folder (e.g. prototypes/game-myPrototype).', metadata={'source': 'pronto-docs/README.md'}),\n Document(page_content='\\nMake sure that your branch-name starts with game- and is named identical to your folder name (e.g. game-myPrototype)', metadata={'source': 'pronto-docs/README.md'}),\n Document(page_content='Make sure that no filenames or folders have a space character in them.\\n\\nExportBehavior', metadata={'source': 'pronto-docs/README.md'}),\n Document(page_content='To automatically export your game do the following:', metadata={'source': 'pronto-docs/README.md'}),\n Document(page_content='Add an ExportBehavior (do not rename this node!) anywhere in your game', metadata={'source': 'pronto-docs/README.md'}),\n Document(page_content='\\nIn the ExportBehavior, you can configure settings such as title, description and authors of the game, as well as how the thumbnail.png gets generated (specified by a delay to automatically take a screenshot)', metadata={'source': 'pronto-docs/README.md'}),\n Document(page_content='Set your game scene as the main godot scene\\n\\nRun your game once so it will generate a thumbnail', metadata={'source': 'pronto-docs/README.md'}),\n Document(page_content='make sure to git add the generated thumbnail.png and game_info.json, commit and push!', metadata={'source': 'pronto-docs/README.md'}),\n Document(page_content='Once pushed, the system will automatically trigger a CI workflow to deploy your game.', metadata={'source': 'pronto-docs/README.md'}),\n Document(page_content='If everything went well the system will push your game to the gh-pages branch.', metadata={'source': 'pronto-docs/README.md'}),\n Document(page_content='This automatically triggers another workflow to rebuild the page.', metadata={'source': 'pronto-docs/README.md'}),\n Document(page_content='Wait until this workflow has completed before going to the next step.', metadata={'source': 'pronto-docs/README.md'}),\n Document(page_content='All in all, the game should be live within 3-5 minutes.', metadata={'source': 'pronto-docs/README.md'}),\n Document(page_content='Testing', metadata={'source': 'pronto-docs/README.md'}),\n Document(page_content='\\nAfter the workflow executed you can head over to hpi-swa-lab.github.io/godot-pronto/. You should see your game appear in the list of games. Click on the \"Play Now\" button and check if everything is working.', metadata={'source': 'pronto-docs/README.md'}),\n Document(page_content='Deploying Changes', metadata={'source': 'pronto-docs/README.md'}),\n Document(page_content='\\nIf you have made any changes to your game and want to deploy a new version, you can just repeat this process. Any existing version of your game will be overwritten.', metadata={'source': 'pronto-docs/README.md'}),\n Document(page_content='Troubleshooting', metadata={'source': 'pronto-docs/README.md'}),\n Document(page_content='\\nIf you accidentally trigger the workflow with an incorrect folder name it may execute without generating any errors but will create a new game in the gh-pages branch. This will automatically be rendered into the list of games. In order to delete it, you have to manually remove it from the gh-pages branch. Please be careful when doing so and do not delete any other files other than the projects folder you want to delete.', metadata={'source': 'pronto-docs/README.md'})]"
     },
     "execution_count": 33,
     "metadata": {},
     "output_type": "execute_result"
    }
   ],
   "source": [
    "rctcs_splitter.split_documents(filter(lambda x: x.metadata[\"source\"] == \"pronto-docs/README.md\", docs))"
   ],
   "metadata": {
    "collapsed": false,
    "ExecuteTime": {
     "start_time": "2024-01-27T11:21:07.677758Z",
     "end_time": "2024-01-27T11:21:07.685754Z"
    }
   }
  },
  {
   "cell_type": "code",
   "execution_count": 34,
   "outputs": [
    {
     "name": "stdout",
     "output_type": "stream",
     "text": [
      "10\n",
      "[Document(page_content='ValueBehavior', metadata={'source': 'pronto-docs/README.md'}), Document(page_content='\\nIf [code]true[/code], all values in the scene are added to the menu (if they are visible) [br]If [code]false[/code], only children ValueBehaviors are added to the menu (if they are visible)', metadata={'source': 'pronto-docs/PrototypingUIBehavior.md'}), Document(page_content='create_ui_for_value\\n\\ngdscript\\nfunc create_ui_for_value(value: ValueBehavior)', metadata={'source': 'pronto-docs/PrototypingUIBehavior.md'}), Document(page_content='create_ui_for_value_enum\\n\\ngdscript\\nfunc create_ui_for_value_enum(value: ValueBehavior)', metadata={'source': 'pronto-docs/PrototypingUIBehavior.md'}), Document(page_content='create_ui_for_value_bool\\n\\ngdscript\\nfunc create_ui_for_value_bool(value: ValueBehavior)', metadata={'source': 'pronto-docs/PrototypingUIBehavior.md'}), Document(page_content='gdscript\\nfunc create_ui_slider_for_value_float(value: ValueBehavior)\\n\\ncreate_minimizing_button', metadata={'source': 'pronto-docs/PrototypingUIBehavior.md'}), Document(page_content='func handle_value_bool_change(index: int, value: ValueBehavior, optionButton: OptionButton)', metadata={'source': 'pronto-docs/PrototypingUIBehavior.md'}), Document(page_content='func handle_value_enum_change(index: int, value: ValueBehavior, optionButton: OptionButton)', metadata={'source': 'pronto-docs/PrototypingUIBehavior.md'}), Document(page_content='\\nfunc handle_update_value_float_change(new_value: float, value: ValueBehavior, label_current: Label, slider: HSlider)', metadata={'source': 'pronto-docs/PrototypingUIBehavior.md'}), Document(page_content='ValueBehavior\\n\\nExtends: Behavior\\n\\nDescription\\n\\nConstants Descriptions\\n\\nBUFFER_PCT', metadata={'source': 'pronto-docs/ValueBehavior.md'})]\n"
     ]
    }
   ],
   "source": [
    "splits = get_splits_from_keyword(\"ValueBehavior\", rctcs_splitter, docs)\n",
    "print(len(splits))\n",
    "print(splits)"
   ],
   "metadata": {
    "collapsed": false,
    "ExecuteTime": {
     "start_time": "2024-01-27T11:21:07.690037Z",
     "end_time": "2024-01-27T11:21:07.694246Z"
    }
   }
  },
  {
   "cell_type": "code",
   "execution_count": 35,
   "outputs": [],
   "source": [
    "from langchain.text_splitter import CharacterTextSplitter\n",
    "\n",
    "ct_splitter = CharacterTextSplitter(\n",
    "    chunk_size=chunk_size,\n",
    "    chunk_overlap=chunk_overlap,\n",
    "    separator=\"\\n\"\n",
    ")"
   ],
   "metadata": {
    "collapsed": false,
    "ExecuteTime": {
     "start_time": "2024-01-27T11:21:07.692811Z",
     "end_time": "2024-01-27T11:21:07.701327Z"
    }
   }
  },
  {
   "cell_type": "code",
   "execution_count": 36,
   "outputs": [
    {
     "name": "stderr",
     "output_type": "stream",
     "text": [
      "Created a chunk of size 120, which is longer than the specified 100\n",
      "Created a chunk of size 131, which is longer than the specified 100\n",
      "Created a chunk of size 105, which is longer than the specified 100\n",
      "Created a chunk of size 123, which is longer than the specified 100\n",
      "Created a chunk of size 113, which is longer than the specified 100\n",
      "Created a chunk of size 154, which is longer than the specified 100\n",
      "Created a chunk of size 138, which is longer than the specified 100\n",
      "Created a chunk of size 146, which is longer than the specified 100\n",
      "Created a chunk of size 125, which is longer than the specified 100\n",
      "Created a chunk of size 125, which is longer than the specified 100\n",
      "Created a chunk of size 205, which is longer than the specified 100\n",
      "Created a chunk of size 123, which is longer than the specified 100\n",
      "Created a chunk of size 114, which is longer than the specified 100\n",
      "Created a chunk of size 168, which is longer than the specified 100\n",
      "Created a chunk of size 106, which is longer than the specified 100\n",
      "Created a chunk of size 159, which is longer than the specified 100\n",
      "Created a chunk of size 157, which is longer than the specified 100\n",
      "Created a chunk of size 120, which is longer than the specified 100\n",
      "Created a chunk of size 197, which is longer than the specified 100\n",
      "Created a chunk of size 149, which is longer than the specified 100\n",
      "Created a chunk of size 110, which is longer than the specified 100\n",
      "Created a chunk of size 118, which is longer than the specified 100\n",
      "Created a chunk of size 178, which is longer than the specified 100\n",
      "Created a chunk of size 381, which is longer than the specified 100\n",
      "Created a chunk of size 164, which is longer than the specified 100\n",
      "Created a chunk of size 117, which is longer than the specified 100\n",
      "Created a chunk of size 117, which is longer than the specified 100\n",
      "Created a chunk of size 191, which is longer than the specified 100\n",
      "Created a chunk of size 113, which is longer than the specified 100\n",
      "Created a chunk of size 109, which is longer than the specified 100\n",
      "Created a chunk of size 104, which is longer than the specified 100\n",
      "Created a chunk of size 146, which is longer than the specified 100\n",
      "Created a chunk of size 109, which is longer than the specified 100\n",
      "Created a chunk of size 988, which is longer than the specified 100\n",
      "Created a chunk of size 134, which is longer than the specified 100\n",
      "Created a chunk of size 257, which is longer than the specified 100\n",
      "Created a chunk of size 142, which is longer than the specified 100\n",
      "Created a chunk of size 142, which is longer than the specified 100\n",
      "Created a chunk of size 184, which is longer than the specified 100\n",
      "Created a chunk of size 230, which is longer than the specified 100\n",
      "Created a chunk of size 115, which is longer than the specified 100\n",
      "Created a chunk of size 129, which is longer than the specified 100\n",
      "Created a chunk of size 129, which is longer than the specified 100\n",
      "Created a chunk of size 129, which is longer than the specified 100\n",
      "Created a chunk of size 169, which is longer than the specified 100\n",
      "Created a chunk of size 139, which is longer than the specified 100\n",
      "Created a chunk of size 193, which is longer than the specified 100\n",
      "Created a chunk of size 289, which is longer than the specified 100\n",
      "Created a chunk of size 269, which is longer than the specified 100\n",
      "Created a chunk of size 389, which is longer than the specified 100\n",
      "Created a chunk of size 234, which is longer than the specified 100\n",
      "Created a chunk of size 351, which is longer than the specified 100\n",
      "Created a chunk of size 501, which is longer than the specified 100\n",
      "Created a chunk of size 264, which is longer than the specified 100\n",
      "Created a chunk of size 353, which is longer than the specified 100\n",
      "Created a chunk of size 273, which is longer than the specified 100\n",
      "Created a chunk of size 557, which is longer than the specified 100\n",
      "Created a chunk of size 257, which is longer than the specified 100\n",
      "Created a chunk of size 112, which is longer than the specified 100\n",
      "Created a chunk of size 167, which is longer than the specified 100\n",
      "Created a chunk of size 254, which is longer than the specified 100\n",
      "Created a chunk of size 295, which is longer than the specified 100\n",
      "Created a chunk of size 172, which is longer than the specified 100\n",
      "Created a chunk of size 417, which is longer than the specified 100\n",
      "Created a chunk of size 126, which is longer than the specified 100\n",
      "Created a chunk of size 439, which is longer than the specified 100\n",
      "Created a chunk of size 373, which is longer than the specified 100\n",
      "Created a chunk of size 164, which is longer than the specified 100\n",
      "Created a chunk of size 206, which is longer than the specified 100\n",
      "Created a chunk of size 145, which is longer than the specified 100\n",
      "Created a chunk of size 159, which is longer than the specified 100\n",
      "Created a chunk of size 160, which is longer than the specified 100\n",
      "Created a chunk of size 119, which is longer than the specified 100\n",
      "Created a chunk of size 179, which is longer than the specified 100\n",
      "Created a chunk of size 205, which is longer than the specified 100\n",
      "Created a chunk of size 181, which is longer than the specified 100\n",
      "Created a chunk of size 224, which is longer than the specified 100\n",
      "Created a chunk of size 161, which is longer than the specified 100\n",
      "Created a chunk of size 326, which is longer than the specified 100\n",
      "Created a chunk of size 191, which is longer than the specified 100\n",
      "Created a chunk of size 155, which is longer than the specified 100\n",
      "Created a chunk of size 344, which is longer than the specified 100\n",
      "Created a chunk of size 226, which is longer than the specified 100\n",
      "Created a chunk of size 170, which is longer than the specified 100\n",
      "Created a chunk of size 304, which is longer than the specified 100\n",
      "Created a chunk of size 131, which is longer than the specified 100\n",
      "Created a chunk of size 106, which is longer than the specified 100\n",
      "Created a chunk of size 132, which is longer than the specified 100\n",
      "Created a chunk of size 187, which is longer than the specified 100\n",
      "Created a chunk of size 193, which is longer than the specified 100\n",
      "Created a chunk of size 118, which is longer than the specified 100\n",
      "Created a chunk of size 124, which is longer than the specified 100\n",
      "Created a chunk of size 130, which is longer than the specified 100\n",
      "Created a chunk of size 181, which is longer than the specified 100\n",
      "Created a chunk of size 104, which is longer than the specified 100\n",
      "Created a chunk of size 136, which is longer than the specified 100\n",
      "Created a chunk of size 112, which is longer than the specified 100\n",
      "Created a chunk of size 109, which is longer than the specified 100\n",
      "Created a chunk of size 123, which is longer than the specified 100\n",
      "Created a chunk of size 125, which is longer than the specified 100\n",
      "Created a chunk of size 124, which is longer than the specified 100\n",
      "Created a chunk of size 173, which is longer than the specified 100\n",
      "Created a chunk of size 134, which is longer than the specified 100\n",
      "Created a chunk of size 191, which is longer than the specified 100\n",
      "Created a chunk of size 111, which is longer than the specified 100\n",
      "Created a chunk of size 110, which is longer than the specified 100\n",
      "Created a chunk of size 215, which is longer than the specified 100\n",
      "Created a chunk of size 102, which is longer than the specified 100\n",
      "Created a chunk of size 162, which is longer than the specified 100\n",
      "Created a chunk of size 116, which is longer than the specified 100\n",
      "Created a chunk of size 116, which is longer than the specified 100\n",
      "Created a chunk of size 207, which is longer than the specified 100\n",
      "Created a chunk of size 206, which is longer than the specified 100\n",
      "Created a chunk of size 164, which is longer than the specified 100\n",
      "Created a chunk of size 139, which is longer than the specified 100\n",
      "Created a chunk of size 189, which is longer than the specified 100\n",
      "Created a chunk of size 116, which is longer than the specified 100\n",
      "Created a chunk of size 224, which is longer than the specified 100\n",
      "Created a chunk of size 189, which is longer than the specified 100\n",
      "Created a chunk of size 229, which is longer than the specified 100\n",
      "Created a chunk of size 222, which is longer than the specified 100\n",
      "Created a chunk of size 193, which is longer than the specified 100\n",
      "Created a chunk of size 275, which is longer than the specified 100\n",
      "Created a chunk of size 113, which is longer than the specified 100\n",
      "Created a chunk of size 136, which is longer than the specified 100\n",
      "Created a chunk of size 185, which is longer than the specified 100\n",
      "Created a chunk of size 267, which is longer than the specified 100\n",
      "Created a chunk of size 105, which is longer than the specified 100\n",
      "Created a chunk of size 188, which is longer than the specified 100\n",
      "Created a chunk of size 107, which is longer than the specified 100\n",
      "Created a chunk of size 168, which is longer than the specified 100\n",
      "Created a chunk of size 172, which is longer than the specified 100\n",
      "Created a chunk of size 160, which is longer than the specified 100\n",
      "Created a chunk of size 107, which is longer than the specified 100\n",
      "Created a chunk of size 121, which is longer than the specified 100\n",
      "Created a chunk of size 131, which is longer than the specified 100\n",
      "Created a chunk of size 146, which is longer than the specified 100\n",
      "Created a chunk of size 109, which is longer than the specified 100\n",
      "Created a chunk of size 277, which is longer than the specified 100\n",
      "Created a chunk of size 119, which is longer than the specified 100\n",
      "Created a chunk of size 878, which is longer than the specified 100\n",
      "Created a chunk of size 118, which is longer than the specified 100\n"
     ]
    },
    {
     "data": {
      "text/plain": "[Document(page_content='line_text_function\\ngdscript\\nfunc line_text_function(connection: Connection) -> Callable', metadata={'source': 'pronto-docs/StateBehavior.md'}),\n Document(page_content='Allows you to define a template subtree of Nodes that you want to repeat multiple times without copy-pasting. Add your template as a child of the Instance node, then hover the connection dialog and click the \"Instance\" button. Note: internally, this creates a \"hidden\" scene that you need to commit as well. You can thus use  \"Editable children\"  in Godot by right-clicking the instance and tweaking properties while inheriting the rest.', metadata={'source': 'pronto-docs/README.md'}),\n Document(page_content='VisualLineBehavior \\n Show a colored Line between two Nodes. Useful as a quick visual connection.', metadata={'source': 'pronto-docs/README.md'}),\n Document(page_content='You can use the set function to modify any properties when a connection triggers.\\nJuice', metadata={'source': 'pronto-docs/README.md'}),\n Document(page_content='Connections are created by hovering the \"+\" that appears below selected nodes. There are two types of connections: Target Connections and Expression Connections.', metadata={'source': 'pronto-docs/README.md'}),\n Document(page_content='The type \"expression\" allows to execute arbitrary Godot code without a receiver node. Create an expression connection by double-clicking a signal in the list. You can access from in the code.', metadata={'source': 'pronto-docs/README.md'}),\n Document(page_content='You can define a condition for the connection to trigger by entering a Godot expression in condition field. You may refer to from and to in the expression.', metadata={'source': 'pronto-docs/README.md'}),\n Document(page_content='You can use the + icon in the header of the connection editor to add references to further nodes by specifying a node path relative to the from node. You can use these nodes in any statement, argument, or condition expression using ref0, ref1, etc. You can right-click these variables in the connection header to edit their path or remove them.', metadata={'source': 'pronto-docs/README.md'}),\n Document(page_content='You can disable a connection by unchecking the checkbox in the top-right or in its context menu.', metadata={'source': 'pronto-docs/README.md'}),\n Document(page_content='You can also pin a connection editor so that it remains in the scene after saving them. You can click and drag editors in the scene as well. You can drag the handles at the bottom right of each text field to resize the editor.', metadata={'source': 'pronto-docs/README.md'}),\n Document(page_content='Reordering\\nFrom the context menu of a connection, choose \"Move to top\".\\nDeleting', metadata={'source': 'pronto-docs/README.md'}),\n Document(page_content='Open the connection, then click on the trash icon in the top-right.', metadata={'source': 'pronto-docs/README.md'}),\n Document(page_content='Alternatively, right-click the connection and choose \"Delete\".\\nExpressions', metadata={'source': 'pronto-docs/README.md'}),\n Document(page_content=\"self is sadly not defined in connections. Use from and to instead, or make use of any of U's helpers (which are relative to from).\", metadata={'source': 'pronto-docs/README.md'}),\n Document(page_content='Moving nodes around will break connections.\\nInstance', metadata={'source': 'pronto-docs/README.md'}),\n Document(page_content='connect_ui -> Control show the returned Control at the top of the connect popup (that is opened via the \"+\").', metadata={'source': 'pronto-docs/README.md'}),\n Document(page_content=\"Don't bundle too much: give each concern its own behavior, e.g. appearance, movement, shooting. Design behaviors such that they are easy to connect to one another instead of pre-packaging them with lots of concerns.\", metadata={'source': 'pronto-docs/README.md'}),\n Document(page_content='var scene_path: String = \"\"\\nMethod Descriptions\\nconnect_ui\\ngdscript\\nfunc connect_ui()', metadata={'source': 'pronto-docs/InstanceBehavior.md'})]"
     },
     "execution_count": 36,
     "metadata": {},
     "output_type": "execute_result"
    }
   ],
   "source": [
    "get_splits_from_keyword(\"connect\", ct_splitter, docs)"
   ],
   "metadata": {
    "collapsed": false,
    "ExecuteTime": {
     "start_time": "2024-01-27T11:21:07.696066Z",
     "end_time": "2024-01-27T11:21:07.767459Z"
    }
   }
  },
  {
   "cell_type": "markdown",
   "source": [
    "## 3. Embed & store documents\n",
    "\n",
    "This is where it gets interesting. We have different options for retrieving:\n",
    "- Vectorstore\n",
    "- Parent Document\n",
    "- Multi-Vector\n",
    "- Self Query\n",
    "- Contextual Compression\n",
    "- Time-Weighted Vectorstore\n",
    "- Multi-Query Retriever\n",
    "- Ensemble\n",
    "- Long-Context Reorder"
   ],
   "metadata": {
    "collapsed": false
   }
  },
  {
   "cell_type": "code",
   "execution_count": 37,
   "outputs": [],
   "source": [
    "from langchain_community.embeddings import OpenAIEmbeddings\n",
    "\n",
    "embeddings = OpenAIEmbeddings()"
   ],
   "metadata": {
    "collapsed": false,
    "ExecuteTime": {
     "start_time": "2024-01-27T11:21:07.771387Z",
     "end_time": "2024-01-27T11:21:07.957354Z"
    }
   }
  },
  {
   "cell_type": "code",
   "execution_count": 38,
   "outputs": [],
   "source": [
    "from langchain_community.chat_models import ChatOpenAI\n",
    "\n",
    "llm = ChatOpenAI(temperature=0)"
   ],
   "metadata": {
    "collapsed": false,
    "ExecuteTime": {
     "start_time": "2024-01-27T11:21:07.958615Z",
     "end_time": "2024-01-27T11:21:07.971180Z"
    }
   }
  },
  {
   "cell_type": "code",
   "execution_count": 39,
   "outputs": [],
   "source": [
    "from langchain_community.vectorstores.chroma import Chroma\n",
    "\n",
    "db = Chroma.from_documents(documents=docs, embedding=embeddings, persist_directory=\"./chroma_db\")"
   ],
   "metadata": {
    "collapsed": false,
    "ExecuteTime": {
     "start_time": "2024-01-27T11:21:07.972289Z",
     "end_time": "2024-01-27T11:21:12.854805Z"
    }
   }
  },
  {
   "cell_type": "code",
   "execution_count": 40,
   "outputs": [],
   "source": [
    "from langchain_core.retrievers import BaseRetriever\n",
    "\n",
    "def check_for_keyword(keyword: str, retriever: BaseRetriever):\n",
    "    rel_docs = retriever.get_relevant_documents(keyword)\n",
    "    count_results = sum(map(lambda x: int(keyword in x.page_content), rel_docs))\n",
    "    return str(count_results) + \"/\" + str(len(rel_docs))"
   ],
   "metadata": {
    "collapsed": false,
    "ExecuteTime": {
     "start_time": "2024-01-27T11:21:12.856585Z",
     "end_time": "2024-01-27T11:21:12.858003Z"
    }
   }
  },
  {
   "cell_type": "markdown",
   "source": [
    "### 3.1 Vectorstore\n",
    "\n",
    "This is the basic method directly build into the vectorstore."
   ],
   "metadata": {
    "collapsed": false
   }
  },
  {
   "cell_type": "code",
   "execution_count": 41,
   "outputs": [],
   "source": [
    "vec_retriever = db.as_retriever()\n",
    "vec_retriever_mmr = db.as_retriever(\n",
    "    search_type=\"mmr\",  # Also test \"similarity\",\n",
    ")"
   ],
   "metadata": {
    "collapsed": false,
    "ExecuteTime": {
     "start_time": "2024-01-27T11:21:12.859921Z",
     "end_time": "2024-01-27T11:21:12.862009Z"
    }
   }
  },
  {
   "cell_type": "code",
   "execution_count": 42,
   "outputs": [
    {
     "data": {
      "text/plain": "[Document(page_content='StateMachineBehavior\\n\\nExtends: Behavior\\n\\nDescription', metadata={'source': 'pronto-docs/StateMachineBehavior.md'}),\n Document(page_content='StateMachineBehavior\\n\\nExtends: Behavior\\n\\nDescription', metadata={'source': 'pronto-docs/StateMachineBehavior.md'}),\n Document(page_content='StateMachineBehavior\\n\\nExtends: Behavior\\n\\nDescription', metadata={'source': 'pronto-docs/StateMachineBehavior.md'}),\n Document(page_content='StateMachineBehavior\\n\\nExtends: Behavior\\n\\nDescription', metadata={'source': 'pronto-docs/StateMachineBehavior.md'})]"
     },
     "execution_count": 42,
     "metadata": {},
     "output_type": "execute_result"
    }
   ],
   "source": [
    "vec_retriever.get_relevant_documents(search_keyword)"
   ],
   "metadata": {
    "collapsed": false,
    "ExecuteTime": {
     "start_time": "2024-01-27T11:21:12.863560Z",
     "end_time": "2024-01-27T11:21:13.147086Z"
    }
   }
  },
  {
   "cell_type": "code",
   "execution_count": 43,
   "outputs": [
    {
     "name": "stdout",
     "output_type": "stream",
     "text": [
      "0/4\n",
      "1/4\n"
     ]
    }
   ],
   "source": [
    "print(check_for_keyword(search_keyword, vec_retriever))\n",
    "print(check_for_keyword(search_keyword, vec_retriever_mmr))"
   ],
   "metadata": {
    "collapsed": false,
    "ExecuteTime": {
     "start_time": "2024-01-27T11:21:13.146969Z",
     "end_time": "2024-01-27T11:21:13.804805Z"
    }
   }
  },
  {
   "cell_type": "markdown",
   "source": [
    "As you can see the vectorstore method delivers some correct result but performs poorly."
   ],
   "metadata": {
    "collapsed": false
   }
  },
  {
   "cell_type": "markdown",
   "source": [
    "### 3.2 Parent Document Retriever"
   ],
   "metadata": {
    "collapsed": false
   }
  },
  {
   "cell_type": "markdown",
   "source": [
    "#### 3.2.1 Full Documents from smaller chunks"
   ],
   "metadata": {
    "collapsed": false
   }
  },
  {
   "cell_type": "code",
   "execution_count": 44,
   "outputs": [],
   "source": [
    "from langchain.retrievers import ParentDocumentRetriever\n",
    "from langchain.storage import InMemoryStore\n",
    "\n",
    "pdfd_vectorstore = Chroma(\n",
    "    collection_name=\"full_documents\", embedding_function=OpenAIEmbeddings()\n",
    ")\n",
    "\n",
    "pdfd_store = InMemoryStore()\n",
    "pdfd_retriever = ParentDocumentRetriever(\n",
    "    vectorstore=pdfd_vectorstore,\n",
    "    docstore=pdfd_store,\n",
    "    child_splitter=docs_splitter,\n",
    ")"
   ],
   "metadata": {
    "collapsed": false,
    "ExecuteTime": {
     "start_time": "2024-01-27T11:21:13.813058Z",
     "end_time": "2024-01-27T11:21:13.852400Z"
    }
   }
  },
  {
   "cell_type": "code",
   "execution_count": 45,
   "outputs": [],
   "source": [
    "pdfd_retriever.add_documents(docs, ids=None)"
   ],
   "metadata": {
    "collapsed": false,
    "ExecuteTime": {
     "start_time": "2024-01-27T11:21:13.839057Z",
     "end_time": "2024-01-27T11:21:19.036099Z"
    }
   }
  },
  {
   "cell_type": "code",
   "execution_count": 46,
   "outputs": [
    {
     "data": {
      "text/plain": "[Document(page_content='AlwaysBehavior\\n\\nExtends: Behavior\\n\\nDescription\\n\\nSee [signal AlwaysBehavior.always] and [signal AlwaysBehavior.physics_always] for a description of which signal to listen to.\\n\\nSee [signal AlwaysBehavior.always] and [signal AlwaysBehavior.physics_always] for a description of which signal to listen to.\\n\\nProperty Descriptions\\n\\npaused\\n\\ngdscript\\n@export var paused = false\\n\\nIf this is set to [code]true[/code] the AlwaysBehavior will stop emitting any signals. During runtime, do not set this directly. Instead use [method AlwaysBehavior.pause] and [method AlwaysBehavior.resume]\\n\\nMethod Descriptions\\n\\npause\\n\\ngdscript\\nfunc pause()\\n\\nCalling this method results in pausing the execution of always Use [method AlwaysBehavior.resume] to continue the execution\\n\\nresume\\n\\ngdscript\\nfunc resume()\\n\\nCalling this method results in continuing the paused execution Use [method AlwaysBehavior.pause] to stop it again.\\n\\nSignals\\n\\nsignal always(delta): This Signal gets emitted every frame in the [method AlwaysBehavior._process] method if [member AlwaysBehavior.paused] is set to [code]false[/code]\\n\\nsignal physiscs_always(delta): This Signal gets emitted every frame in the [method AlwaysBehavior._physics_process] method if [member AlwaysBehavior.paused] is set to [code]false[/code]', metadata={'source': 'pronto-docs/AlwaysBehavior.md'}),\n Document(page_content='Pronto\\n\\nPronto is a framework for Godot to make prototyping game mechanics faster. It is not a framework aimed at helping to create entire games faster. The resulting prototypes are a means to quickly explore ideas, throw away the prototype, and only properly implement ideas that turned out well.\\n\\nPlay prototypes created in pronto here.\\n\\nFunction\\n\\nThe main idea of Pronto is to make behavior visible. Our hypothesis is that it will be easier to create and tweak game mechanics. For example, instead of defining numbers in code for the distance a platform moves, we use handles in the game world to visually direct it.\\n\\nPronto consists of a set of Godot Nodes called Behavior that can be added to a Godot scene. These behaviors are aspects that, when combined, result in the expression of complex behavior in the Godot scene. All behaviors have visual representation in the scene and primarily function through an event system called Connections. For example, if a timer reaches 5 seconds, a new enemy spawns.\\n\\nPhase 1: Creating a Prototype\\n\\nBuild a tiny Godot game but focus on a single mechanic. Do not focus on visuals. Polish only where it is essential for the mechanic you are creating. Where possible, use the below advice and helpers instead of code for implementation.\\n\\nWhen choosing a mechanic, ask yourself first: Would it be better/faster to build a paper prototype? (If so, consider another mechanic.) What is the minimal feature set I need to implement to see if the mechanic is good? Try and pick a mechanic that is not necessarily the core of the genre but adds an interesting aspect to it and only implement that.\\n\\nTo get started, create a branch with the following pattern:\\n\\n```\\nweek-[week number]-[mechanic name]\\n\\n(e.g., week-0-kart-dash for the tutorial session)\\n```\\n\\nBehaviors\\n\\nThe following list of behaviors act primarily as triggers of events.\\n\\nBehavior \\n Function \\n \\n AlwaysBehavior \\n Triggers every frame. Analog to Godot\\'s  _process  function. Can be paused. \\n \\n ClockBehavior \\n Triggers after or for a set time. Can be set to paused and to only trigger once. When looking to trigger for a specific duration the  Trigger Every Frame  property of  Until Elapsed  needs to be enabled. This will trigger every frame until the timer is elapsed. If you wish to trigger e.g. every second (instead of every frame) you can activate  Trigger Every X Seconds  and set the  Trigger Interval In Seconds  to  1 . Hint: Interval should not be smaller than typical time between frames (delta). \\n \\n CollisionBehavior \\n Triggers when something collides with its parent. The  collided  signal also provides the  direction  of the collision pointing in the direction from the parent to the node it collided with. NOTE: only works for Area2D, RigidBody2D and CharacterBody2D as of now. \\n \\n ControlsBehavior \\n Triggers for mouse interactions and offers a convenient set of triggers for keyboard movement. Exact keybindings are chosen via the  Player  property which allows for up to 3 different controls (Player 1:  WASD , Player 2:  Arrow keys , Player 3:  IJKL ). The  direction  signal can be used for moving a character in combination with a  MoveBehavior . \\n \\n DragBehavior \\n Allows users to drag and drop the parent node using the mouse. Offers signals for hovering/unhovering, dragging/dropping, and moving the node. Supports different types of nodes, including character bodies, rigid bodies, static bodies, sprites, placeholders, and controls. \\n \\n KeyBehavior \\n Triggers when a single keyboard key is pressed or released. \\n \\n NodeReadyBehavior \\n Triggers once after the node (and all its siblings) are  ready . \\n \\n SignalBehavior \\n Forwards a signal when triggered, including arguments.\\n\\nThe following list of behaviors primarily cause effects when triggered.\\n\\nBehavior \\n Function \\n \\n BindBehavior \\n Optionally reads some properties and then writes one property of its parent. Changes to the properties it reads are synced every frame. The read properties are accessible in the convert expression; the first under  value0 , the second under  value1  and so on. For example, create a Label node, add a Bind node as a child, use  text  as property and put any expression in its  convert  field. Another example would use a Clock with a Bind node as a child that uses  duration_seconds  as a property to change the trigger-time depending on a Value-Behavior. \\n \\n CodeBehavior \\n It holds an  execute()  function with both user-definable arguments and a function body, which allows for arbitrary code execution. After  execute()  is called an  after  signal is emitted that carries the execution result, which can be used for chaining. \\n \\n MoveBehavior \\n When triggered, moves its parent. Can be set to move along global or local axes. Supports handling of gravity. \\n \\n PlatformerControllerBehavior \\n Makes the parent behave like a platformer character, meaning that it can jump, move horizontally, and is affected by gravity. Must be a child of a  CharacterBody2D . \\n \\n QueryBehavior \\n Searches for nodes in the scene and emits signals for results. Properties allow to filter, sort, and limit results. Can be used for tasks such as destroying all enemies in a certain radius, infecting a random player, or finding the nearest health pack. \\n \\n SceneRootBehavior \\n Provides access to the  SceneTree  from Godot. It offers the signals  node_added(node: Node) ,  node_remove(node: Node)  and  tree_changed()  from the  SceneTree . Additionally, it implements three methods for executing lambda functions on all or a specific subset of nodes in a given  group . \\n \\n SignalBehavior \\n Forwards signals when triggered, optionally with arguments. Useful for abstraction/encapsulation of lower-level signals, signal renaming, or logical OR-gating of signals. \\n \\n SpawnerBehavior \\n When triggered, spawns whatever its child nodes are at its current location in the scene. Single children nodes can be spawned by modifying the optional index argument in each spawning method to just the respective child node. Use -1 as index to spawn all children. Set use_spawn_shape to true to randomly spawn children in the given shape or polygon. When using a Polygon2D do not use it as a child of the spawner. \\n \\n StopwatchBehavior \\n Starts counting up time when triggered. Can be reset.\\n\\nThe following list of behaviors manage state or communicate visual properties.\\n\\nBehavior \\n Function \\n \\n BackgroundBehavior \\n Add to your scene to change the background color of the scene. \\n \\n CameraShakeBehavior \\n Add as a child of a camera and call its  add_trauma  function to add shake. \\n \\n GroupBehavior \\n Draws a shape around its children to group them visually. Only visible in the editor. \\n \\n HealthBarBehavior \\n Show a rectangular health bar. Offers methods to manipulate the current health and emits a signal when health drops to zero. \\n \\n InspectBehavior \\n Add as a child of a node to inspect its properties inside the game. \\n \\n InstanceBehavior \\n Allows you to define a template subtree of Nodes that you want to repeat multiple times without copy-pasting. Add your template as a child of the Instance node, then hover the connection dialog and click the \"Instance\" button. Note: internally, this creates a \"hidden\" scene that you need to commit as well. You can thus use  \"Editable children\"  in Godot by right-clicking the instance and tweaking properties while inheriting the rest. \\n \\n PlaceholderBehavior \\n Show a colored rectangle with a label. Useful as a quick means to communicate a game object\\'s function. Functions as a collision shape, so you don\\'t need to add another. Instead of a rectangle a placeholder can also display a sprite instead (use the Sprite Library in the Inspector to choose an existing texture or load your own). Can be  flash() ed in a different color. \\n \\n StateMachineBehavior \\n The StateMachineBehavior acts as a purely graphic hint as to which StateBehavior objects belong to the same state machine. The GroupDrawer class is used for this. \\n \\n StateBehavior \\n The StateBehavior is the fundamental building block of a state machine. Each StateBehavior emits the signals  StateBehavior.entered()  and  StateBehavior.exited()  to communicate the state machine\\'s state \\n \\n StoreBehavior \\n Use the Godot meta properties to store state. You can configure it to store values in the global dictionary  G  and access it via  G.at(prop) . \\n \\n ValueBehavior \\n Show a constant you can use in expression visually as a slider. Note that these are shared globally, so create new names if you need to use different values. \\n \\n VisualLineBehavior \\n Show a colored Line between two Nodes. Useful as a quick visual connection.\\n\\nHints\\n\\nExpose the crucial variation points of your mechanic via the Value behavior. You can drop any property of a Node onto the scene to create a Value automatically.\\n\\nFocus on quick-and-dirty, especially when adding code. The second week is used to consolidate changes in the framework.\\n\\nDon\\'t be afraid of copy-and-paste. Copy even your entire prototype, if you want to try multiple directions. If that seems tedious in your use case, consider the Instance behavior.\\n\\nTry to cram everything for your prototype in a single Godot scene so that changing any aspect is possible without having to switch scenes. Make use of the Spawner and Instance Behaviors to facilitate this.\\n\\nYou can use the set function to modify any properties when a connection triggers.\\n\\nJuice\\n\\nThe following list of nodes don\\'t add new functionality, their purpose is to add a bit of juice to your prototypes. They may not make your prototypes good, but they can add to them.\\n\\nJuice \\n Function \\n \\n SparkleJuice \\n Make your scene sparkle!\\n\\nConnections\\n\\nConnections are an extension of Godot signals to be more flexible. Connections can be dragged from any behavior to any arbitrary node in a scene. They are the primary means to assemble your game by wiring Behaviors together.\\n\\nCreating\\n\\nConnections are created by hovering the \"+\" that appears below selected nodes. There are two types of connections: Target Connections and Expression Connections.\\n\\nThe type \"target\" is created by dragging a signal from the list onto its receiver. From the list in the dialog, you can either choose any method to invoke or choose <statement(s)> to execute arbitrary code. In the expressions for the arguments or the arbitrary code, you can write Godot expression that can access from and to.\\n\\nThe type \"expression\" allows to execute arbitrary Godot code without a receiver node. Create an expression connection by double-clicking a signal in the list. You can access from in the code.\\n\\nEditing\\n\\nYou can define a condition for the connection to trigger by entering a Godot expression in condition field. You may refer to from and to in the expression.\\n\\nYou can use the + icon in the header of the connection editor to add references to further nodes by specifying a node path relative to the from node. You can use these nodes in any statement, argument, or condition expression using ref0, ref1, etc. You can right-click these variables in the connection header to edit their path or remove them.\\n\\nYou can disable a connection by unchecking the checkbox in the top-right or in its context menu.\\n\\nYou can also pin a connection editor so that it remains in the scene after saving them. You can click and drag editors in the scene as well. You can drag the handles at the bottom right of each text field to resize the editor.\\n\\nYou can press the \"open script\" button next to any code expression to edit it in a full-screen Godot tab which provides you better syntax highlighting and autocompletion.\\n\\nReordering\\n\\nFrom the context menu of a connection, choose \"Move to top\".\\n\\nDeleting\\n\\nOpen the connection, then click on the trash icon in the top-right.\\n\\nAlternatively, right-click the connection and choose \"Delete\".\\n\\nExpressions\\n\\nPronto scatters code throughout the scene to be as close to the place where it is relevant. Since there is limited space on the screen, we provide a set of utility functions that make formulating common expressions easier. Some are documented below, you can find all in U.gd. (Feel free to extend these.)\\n\\nName \\n Function \\n Example \\n \\n u(node: Node) \\n Wrap the given Node to expose the utility functions for it. \\n u(other).at(\"score\") \\n \\n closest_that(cond: Callable) \\n Find the closest node that matches the given criteria. First checks children, then children of parents in a breadth-first search. \\n closest_that(func (n): return n is Node) \\n \\n group(name: String)   group_do(name: String, c: Callable) \\n Get all nodes in the given group. \\n group_do(\"enemy\", func (e): e.queue_free()) \\n \\n at(name: String) \\n Find the \"closest\"  State  that has a field called  name . If none is found, checks global state in  G . \\n at(\"score\") \\n \\n put(name: String, val: Variant) \\n Find the \"closest\"  State  that has a field called  name  and store the given value. If none is found, checks global state in  G . \\n put(\"score\", 0)\\n\\nAssets\\n\\nWhen creating your game/prototype in Pronto, you might want to use some assets to polish the look of your game. Those things are called assets and we already prepared some for you to use.\\n\\nTileMap\\n\\nIf you want to create a large level you should take a look at the TileMap (default Godot). We already have a TileSet prepared that you can simply load into your TileMap inside the asset folder.\\n\\nCommon Pitfalls\\n\\nPhysicsBody2D\\n\\nCollisions only work when contact monitor is on and the max contacts is at least 1.\\n\\nPhysicsBody2D does not report collisions with Area2D. Instead, listen for collisions with the PhysicsBody on the Area.\\n\\nStaticBody\\n\\nDoes not support reporting collisions at all in Godot. You can instead listen for collisions on the other collision partner.\\n\\nConnections\\n\\nThe $ shorthand of GDScript does not work. Use get_node() instead.\\n\\nself is sadly not defined in connections. Use from and to instead, or make use of any of U\\'s helpers (which are relative to from).\\n\\nMoving nodes around will break connections.\\n\\nInstance\\n\\nBe careful if you used the \"Editable Children\" option to modify nodes in an instanced subtree and then move the corresponding nodes in the template. Your modifications will be lost.\\n\\nVideo Changelog\\n\\n30-90 seconds (no need to cut the video, can be shaky and raw)\\n\\nshow what you did and what insights you gained\\n\\nyou are encouraged to open the game with a couple different parameter configurations and show the impact\\n\\nPhase 2: Extending the Framework\\n\\nWriting a New Behavior\\n\\nChoose an icon to use as thumbnail from the Godot source (it is recommended to download the source as ZIP for easily browsing the list).\\n\\nCreate a {Name}.gd file in addons/pronto/behaviors.\\n\\nAs a header for the file, use:\\n\\n```python\\n@tool\\n\\nthumb(\"IconName\")\\n\\nextends Behavior\\n```\\n\\nProceed to write a Godot Node class as regular, e.g. by using @export and signals.\\n\\n⚠️ make sure to call super implementations of all overwritten methods, e.g. super._ready() and super._process().\\n\\nWhen do I have to reload what?\\n\\nRe-enable the plugin (go to Project>Settings>Plugins and toggle Pronto off and on)\\n\\nWhen creating a completely new Behavior file.\\n\\nRe-open the scene to update existing Behaviors\\n\\nWhen changing a _ready function.\\n\\nWhen creating a new _process function.\\n\\nSwitch scenes back and forth\\n\\nWhen updating a _draw function if no one calls queue_redraw.\\n\\nIf everything goes wrong :-)\\n\\nReload the project from the main menu > Project > Reload Current Project\\n\\nTODO: reproduce in which cases this is necessary\\n\\nHelpers\\n\\nAs helpers for writing commonly needed functionality, you can use the below:\\n\\nConfiguration\\n\\nconnect_ui -> Control show the returned Control at the top of the connect popup (that is opened via the \"+\").\\n\\nshow_icon() -> bool return false to not show the configured icon for the behavior on the canvas.\\n\\nHandles\\n\\nYou can return a list of handles (knobs on the canvas that you can move). See Placeholder and Value behaviors for examples.\\n\\nHandles can exist in local space of the nodes in the canvas or in the space of the overlay (independent of the canvas\\' zoom).\\n\\nLines and Text Below a Behavior\\n\\nYou can draw lines between nodes or put text underneath your behavior by returning Line instances from the lines() function.\\n\\nCanvas Override and Events\\n\\nIf you need to add more controls to your behavior, you have to use the canvas override hooks. You can see the implementation of handles in Behavior.gd as an example of this.\\n\\nOverride _forward_canvas_draw_over_viewport(viewport_control: Control) to draw in the overlay space (independent of the canvas\\' zoom).\\n\\nOverride func _forward_canvas_gui_input(event: InputEvent, undo_redo: EditorUndoRedoManager) to react to events that occur on the canvas. Return true if you want to absorb the passed element.\\n\\n⚠️ make sure to call the super implementations if you override either of these, or handles will no longer work.\\n\\nRuntime Values\\n\\nIn ConnectionDebug.gd you can communicate values from the game back to the engine.\\n\\nBuilding UI\\n\\nEditorIcon: a texture that will load any of the built-in icons and color it according to the configured theme.\\n\\nIn ExpressionInspector.gd you can specify that a property should get a GDScript code editor.\\n\\nHints on Designing new Behaviors\\n\\nDon\\'t bundle too much: give each concern its own behavior, e.g. appearance, movement, shooting. Design behaviors such that they are easy to connect to one another instead of pre-packaging them with lots of concerns.\\n\\nPhase 3: Deploying your Prototype/Game\\n\\nTo deploy your game to hpi-swa-lab.github.io/godot-pronto/ you can use the Build & Deploy Game Action.\\n\\nThis will be done automatically if you created your game via the menu tab Prototype (which automatically creates a branch, folder, main scene and ExportBehavior).\\n\\nHowever, if you didn\\'t use this method you can follow this checklist to export your game.\\n\\nPreparation\\n\\nBefore you can deploy your game check the following:\\n\\nMake your game the main scene of the godot project.\\n\\nMake sure that your game and all assets you use are inside your prototype folder (e.g. prototypes/game-myPrototype).\\n\\nMake sure that your branch-name starts with game- and is named identical to your folder name (e.g. game-myPrototype)\\n\\nMake sure that no filenames or folders have a space character in them.\\n\\nExportBehavior\\n\\nTo automatically export your game do the following:\\n\\nAdd an ExportBehavior (do not rename this node!) anywhere in your game\\n\\nIn the ExportBehavior, you can configure settings such as title, description and authors of the game, as well as how the thumbnail.png gets generated (specified by a delay to automatically take a screenshot)\\n\\nSet your game scene as the main godot scene\\n\\nRun your game once so it will generate a thumbnail\\n\\nmake sure to git add the generated thumbnail.png and game_info.json, commit and push!\\n\\nOnce pushed, the system will automatically trigger a CI workflow to deploy your game.\\nIf everything went well the system will push your game to the gh-pages branch.\\nThis automatically triggers another workflow to rebuild the page.\\nWait until this workflow has completed before going to the next step.\\nAll in all, the game should be live within 3-5 minutes.\\n\\nTesting\\n\\nAfter the workflow executed you can head over to hpi-swa-lab.github.io/godot-pronto/. You should see your game appear in the list of games. Click on the \"Play Now\" button and check if everything is working.\\n\\nDeploying Changes\\n\\nIf you have made any changes to your game and want to deploy a new version, you can just repeat this process. Any existing version of your game will be overwritten.\\n\\nTroubleshooting\\n\\nIf you accidentally trigger the workflow with an incorrect folder name it may execute without generating any errors but will create a new game in the gh-pages branch. This will automatically be rendered into the list of games. In order to delete it, you have to manually remove it from the gh-pages branch. Please be careful when doing so and do not delete any other files other than the projects folder you want to delete.', metadata={'source': 'pronto-docs/README.md'})]"
     },
     "execution_count": 46,
     "metadata": {},
     "output_type": "execute_result"
    }
   ],
   "source": [
    "pdfd_retriever.get_relevant_documents(search_keyword)"
   ],
   "metadata": {
    "collapsed": false,
    "ExecuteTime": {
     "start_time": "2024-01-27T11:21:19.037390Z",
     "end_time": "2024-01-27T11:21:19.393466Z"
    }
   }
  },
  {
   "cell_type": "code",
   "execution_count": 47,
   "outputs": [
    {
     "name": "stdout",
     "output_type": "stream",
     "text": [
      "2/2\n"
     ]
    }
   ],
   "source": [
    "print(check_for_keyword(search_keyword, pdfd_retriever))"
   ],
   "metadata": {
    "collapsed": false,
    "ExecuteTime": {
     "start_time": "2024-01-27T11:21:19.392796Z",
     "end_time": "2024-01-27T11:21:19.624397Z"
    }
   }
  },
  {
   "cell_type": "markdown",
   "source": [
    "This method outright delivers a too large chunk size i.e. the whole document and is therefore not suitable."
   ],
   "metadata": {
    "collapsed": false
   }
  },
  {
   "cell_type": "markdown",
   "source": [
    "#### 3.2.2 Larger chunks from smaller chunks"
   ],
   "metadata": {
    "collapsed": false
   }
  },
  {
   "cell_type": "code",
   "execution_count": 48,
   "outputs": [],
   "source": [
    "from langchain.retrievers.multi_vector import SearchType\n",
    "from langchain.text_splitter import RecursiveCharacterTextSplitter, Language\n",
    "from langchain_community.vectorstores.chroma import Chroma\n",
    "from langchain.retrievers import ParentDocumentRetriever\n",
    "from langchain.storage import InMemoryStore\n",
    "from langchain_community.embeddings import OpenAIEmbeddings\n",
    "\n",
    "parent_splitter = RecursiveCharacterTextSplitter.from_language(language=Language.MARKDOWN, chunk_size=400, chunk_overlap=0)\n",
    "child_splitter = RecursiveCharacterTextSplitter.from_language(language=Language.MARKDOWN, chunk_size=100, chunk_overlap=0)\n",
    "\n",
    "pdlg_vectorstore = Chroma(\n",
    "    collection_name=\"split_parents\", embedding_function=OpenAIEmbeddings()\n",
    ")\n",
    "pdlg_store = InMemoryStore()\n",
    "pdlg_retriever = ParentDocumentRetriever(\n",
    "    vectorstore=pdlg_vectorstore,\n",
    "    docstore=pdlg_store,\n",
    "    child_splitter=child_splitter,\n",
    "    parent_splitter=parent_splitter,\n",
    ")\n",
    "\n",
    "pdlg_retriever.add_documents(docs)"
   ],
   "metadata": {
    "collapsed": false,
    "ExecuteTime": {
     "start_time": "2024-01-27T11:21:19.626274Z",
     "end_time": "2024-01-27T11:21:24.788870Z"
    }
   }
  },
  {
   "cell_type": "code",
   "execution_count": 49,
   "outputs": [
    {
     "data": {
      "text/plain": "[Document(page_content=\"The StateBehavior is the fundamental building block of a state machine. Each StateBehavior emits the signals  StateBehavior.entered()  and  StateBehavior.exited()  to communicate the state machine's state \\n \\n StoreBehavior \\n Use the Godot meta properties to store state. You can configure it to store values in the global dictionary  G  and access it via  G.at(prop) . \\n \\n ValueBehavior\", metadata={'source': 'pronto-docs/README.md'}),\n Document(page_content=\"In ExpressionInspector.gd you can specify that a property should get a GDScript code editor.\\n\\nHints on Designing new Behaviors\\n\\nDon't bundle too much: give each concern its own behavior, e.g. appearance, movement, shooting. Design behaviors such that they are easy to connect to one another instead of pre-packaging them with lots of concerns.\\n\\nPhase 3: Deploying your Prototype/Game\", metadata={'source': 'pronto-docs/README.md'}),\n Document(page_content='When triggered, moves its parent. Can be set to move along global or local axes. Supports handling of gravity. \\n \\n PlatformerControllerBehavior \\n Makes the parent behave like a platformer character, meaning that it can jump, move horizontally, and is affected by gravity. Must be a child of a  CharacterBody2D . \\n \\n QueryBehavior', metadata={'source': 'pronto-docs/README.md'})]"
     },
     "execution_count": 49,
     "metadata": {},
     "output_type": "execute_result"
    }
   ],
   "source": [
    "pdlg_retriever.get_relevant_documents(\"How to access values in a StoreBehaviour?\")"
   ],
   "metadata": {
    "collapsed": false,
    "ExecuteTime": {
     "start_time": "2024-01-27T11:21:24.789064Z",
     "end_time": "2024-01-27T11:21:25.126642Z"
    }
   }
  },
  {
   "cell_type": "markdown",
   "source": [
    "### 3.3 MultiQueryRetriever"
   ],
   "metadata": {
    "collapsed": false
   }
  },
  {
   "cell_type": "code",
   "execution_count": 50,
   "outputs": [],
   "source": [
    "import logging\n",
    "\n",
    "logging.basicConfig()\n",
    "logging.getLogger(\"langchain.retrievers.multi_query\").setLevel(logging.INFO)"
   ],
   "metadata": {
    "collapsed": false,
    "ExecuteTime": {
     "start_time": "2024-01-27T11:21:25.126430Z",
     "end_time": "2024-01-27T11:21:25.130525Z"
    }
   }
  },
  {
   "cell_type": "markdown",
   "source": [
    "#### 3.3.1 Vectorstore as Base Retriever"
   ],
   "metadata": {
    "collapsed": false
   }
  },
  {
   "cell_type": "code",
   "execution_count": 51,
   "outputs": [],
   "source": [
    "from langchain.retrievers import MultiQueryRetriever\n",
    "\n",
    "v_mq_retriever = MultiQueryRetriever.from_llm(\n",
    "    retriever=db.as_retriever(), llm=llm\n",
    ")"
   ],
   "metadata": {
    "collapsed": false,
    "ExecuteTime": {
     "start_time": "2024-01-27T11:21:25.129502Z",
     "end_time": "2024-01-27T11:21:25.132810Z"
    }
   }
  },
  {
   "cell_type": "code",
   "execution_count": 52,
   "outputs": [
    {
     "name": "stderr",
     "output_type": "stream",
     "text": [
      "INFO:langchain.retrievers.multi_query:Generated queries: ['1. What are the steps to modify the sprite of a PlaceholderBehavior?', '2. Can you explain the process of replacing the sprite in a PlaceholderBehavior?', '3. Are there any specific instructions for updating the sprite in a PlaceholderBehavior?']\n"
     ]
    },
    {
     "data": {
      "text/plain": "[Document(page_content=\"PlaceholderBehavior \\n Show a colored rectangle with a label. Useful as a quick means to communicate a game object's function. Functions as a collision shape, so you don't need to add another. Instead of a rectangle a placeholder can also display a sprite instead (use the Sprite Library in the Inspector to choose an existing texture or load your own). Can be  flash() ed in a different color.\", metadata={'source': 'pronto/README.md'}),\n Document(page_content=\"PlaceholderBehavior \\n Show a colored rectangle with a label. Useful as a quick means to communicate a game object's function. Functions as a collision shape, so you don't need to add another. Instead of a rectangle a placeholder can also display a sprite instead (use the Sprite Library in the Inspector to choose an existing texture or load your own). Can be  flash() ed in a different color.\", metadata={'source': 'pronto-docs/README.md'}),\n Document(page_content='PlaceholderBehavior\\n\\nExtends: Behavior\\n\\nDescription\\n\\nConstants Descriptions\\n\\nOUTLINE_SHADER\\n\\ngdscript\\nconst OUTLINE_SHADER: String = \"res://addons/pronto/shader/outline.gdshader\"\\n\\nProperty Descriptions\\n\\nlabel\\n\\ngdscript\\n@export var label = \"\"\\n\\nSetter: @label_setter\\n\\nThe label that is shown inside the Placeholder, unless a sprite is used.\\n\\ncolor\\n\\ngdscript\\n@export var color = \"(1, 1, 1, 1)\"\\n\\nSetter: @color_setter\\n\\nThe color used for the placeholder.\\n\\nkeep_in_origin\\n\\ngdscript\\n@export var keep_in_origin = true\\n\\nIf [code]true[/code], this Placeholder\\'s parent will be moved instead of the placeholder in the editor. Convenient for not having to switch selected items all the time.\\n\\nundefined_shape_string\\n\\ngdscript\\nvar undefined_shape_string\\n\\nuse_sprite\\n\\ngdscript\\n@export var use_sprite = false\\n\\nSetter: @use_sprite_setter\\n\\nIf [code]true[/code] a [class Sprite2D] is shown.\\n\\nDEFAULT_TEXTURE\\n\\ngdscript\\nvar DEFAULT_TEXTURE\\n\\nsprite_texture\\n\\ngdscript\\n@export var sprite_texture: Texture2D\\n\\nSetter: @sprite_texture_setter\\n\\nThe texture used for the [class Sprite2D]. Can be loaded from a file or from the sprite_library.\\n\\nsprite_library\\n\\ngdscript\\n@export var sprite_library: Texture2D\\n\\nSetter: @sprite_library_setter\\n\\nThe sprite library is desribed in [class SpriteInspector] as well as \"addons/pronto/helpers/sprite_window.tscn\". Search through a library of textures to choose your sprite.\\n\\noutline_visible\\n\\ngdscript\\n@export var outline_visible: bool = false\\n\\nSetter: @outline_visible_setter\\n\\nIf [code]true[/code], the outline is shown.\\n\\noutline_color\\n\\ngdscript\\n@export var outline_color: Color = \"(1, 1, 0, 1)\"\\n\\nSetter: @outline_color_setter\\n\\nThe color used for the outline.\\n\\noutline_width\\n\\ngdscript\\n@export var outline_width: float = 1\\n\\nSetter: @outline_width_setter\\n\\nThe width of the outline.\\n\\noutline_pattern\\n\\ngdscript\\n@export var outline_pattern = 0\\n\\nSetter: @outline_pattern_setter\\n\\nThe rounding method for corners of the outline (only used if [class Sprite2D] is used).\\n\\nshape_type\\n\\ngdscript\\n@export var shape_type: String = \"Rect\"\\n\\nSetter: @shape_type_setter\\n\\nThis will define the shape of the placeholder as well as the shape of the hitbox.\\n\\nplaceholder_size\\n\\ngdscript\\nvar placeholder_size = \"(20, 20)\"\\n\\nSetter: @placeholder_size_setter\\n\\nThe size of the placeholder.\\n\\ncapsule_height\\n\\ngdscript\\nvar capsule_height: float = 30\\n\\nSetter: @capsule_height_setter\\n\\nThe height of the capsule.\\n\\ncapsule_radius\\n\\ngdscript\\nvar capsule_radius: float = 10\\n\\nSetter: @capsule_radius_setter\\n\\nThe radius of the capsule.\\n\\ncircle_radius\\n\\ngdscript\\nvar circle_radius: float = 10\\n\\nSetter: @circle_radius_setter\\n\\nThe radius of the circle.\\n\\nsprite\\n\\ngdscript\\nvar sprite: Sprite2D\\n\\nsize\\n\\ngdscript\\nvar size: Vector2\\n\\nGetter: @size_getter\\n\\nshape\\n\\ngdscript\\nvar shape\\n\\nMethod Descriptions\\n\\nshow_outline\\n\\ngdscript\\nfunc show_outline()\\n\\nShows an outline around the Placeholder.\\n\\nhide_outline\\n\\ngdscript\\nfunc hide_outline()\\n\\nHides the outline around the Placeholder.\\n\\nset_outline_visible\\n\\ngdscript\\nfunc set_outline_visible(visible)\\n\\nToggles the visibility of the outline according to the given parameter.\\n\\nflash\\n\\ngdscript\\nfunc flash(color: Color, duration: float = 0.3)\\n\\nFlashes this Placeholder a certain color for a duration. It will take on the desired color immediately and return to its original color over the given duration.\\n\\nshould_keep_in_origin\\n\\ngdscript\\nfunc should_keep_in_origin()\\n\\nshow_icon\\n\\ngdscript\\nfunc show_icon()\\n\\nfind_non_transparent_rect\\n\\ngdscript\\nfunc find_non_transparent_rect()\\n\\nhandles\\n\\ngdscript\\nfunc handles()', metadata={'source': 'pronto-docs/PlaceholderBehavior.md'}),\n Document(page_content=\"In ExpressionInspector.gd you can specify that a property should get a GDScript code editor.\\n\\nHints on Designing new Behaviors\\n\\nDon't bundle too much: give each concern its own behavior, e.g. appearance, movement, shooting. Design behaviors such that they are easy to connect to one another instead of pre-packaging them with lots of concerns.\\n\\nPhase 3: Deploying your Prototype/Game\", metadata={'source': 'pronto/README.md'}),\n Document(page_content=\"In ExpressionInspector.gd you can specify that a property should get a GDScript code editor.\\n\\nHints on Designing new Behaviors\\n\\nDon't bundle too much: give each concern its own behavior, e.g. appearance, movement, shooting. Design behaviors such that they are easy to connect to one another instead of pre-packaging them with lots of concerns.\\n\\nPhase 3: Deploying your Prototype/Game\", metadata={'source': 'pronto-docs/README.md'})]"
     },
     "execution_count": 52,
     "metadata": {},
     "output_type": "execute_result"
    }
   ],
   "source": [
    "v_mq_retriever.get_relevant_documents(query=\"How to change the sprite of a PlaceholderBehavior?\")"
   ],
   "metadata": {
    "collapsed": false,
    "ExecuteTime": {
     "start_time": "2024-01-27T11:21:25.134093Z",
     "end_time": "2024-01-27T11:21:27.895591Z"
    }
   }
  },
  {
   "cell_type": "markdown",
   "source": [
    "#### 3.3.2 Parent Document Retriever (Larger Chunks) as Base Retriever"
   ],
   "metadata": {
    "collapsed": false
   }
  },
  {
   "cell_type": "code",
   "execution_count": 53,
   "outputs": [],
   "source": [
    "from langchain.retrievers import MultiQueryRetriever\n",
    "\n",
    "pdlg_mq_retriever = MultiQueryRetriever.from_llm(\n",
    "    retriever=pdlg_retriever, llm=llm\n",
    ")"
   ],
   "metadata": {
    "collapsed": false,
    "ExecuteTime": {
     "start_time": "2024-01-27T11:21:27.896018Z",
     "end_time": "2024-01-27T11:21:27.899204Z"
    }
   }
  },
  {
   "cell_type": "code",
   "execution_count": 54,
   "outputs": [
    {
     "name": "stderr",
     "output_type": "stream",
     "text": [
      "INFO:langchain.retrievers.multi_query:Generated queries: ['1. What is the process for removing a connection between two Behaviors?', '2. Can you explain the steps involved in deleting the link between two Behaviors?', '3. Is there a specific method or command to disconnect two Behaviors?']\n"
     ]
    }
   ],
   "source": [
    "pdlg_mq_output_docs = pdlg_mq_retriever.get_relevant_documents(query=\"How to delete a connection of two Behaviors?\")"
   ],
   "metadata": {
    "collapsed": false,
    "ExecuteTime": {
     "start_time": "2024-01-27T11:21:27.899338Z",
     "end_time": "2024-01-27T11:21:30.655323Z"
    }
   }
  },
  {
   "cell_type": "code",
   "execution_count": 55,
   "outputs": [
    {
     "name": "stderr",
     "output_type": "stream",
     "text": [
      "INFO:langchain.retrievers.multi_query:Generated queries: ['1. How does the placeholder behavior work?', '2. Can you explain the behavior of placeholders?', '3. What is the purpose of using placeholders and how do they behave?']\n"
     ]
    },
    {
     "data": {
      "text/plain": "'1/5'"
     },
     "execution_count": 55,
     "metadata": {},
     "output_type": "execute_result"
    }
   ],
   "source": [
    "check_for_keyword(\"PlaceholderBehavior\", pdlg_mq_retriever)"
   ],
   "metadata": {
    "collapsed": false,
    "ExecuteTime": {
     "start_time": "2024-01-27T11:21:30.657401Z",
     "end_time": "2024-01-27T11:21:33.059942Z"
    }
   }
  },
  {
   "cell_type": "markdown",
   "source": [
    "### 3.4 Long-Context Reorder"
   ],
   "metadata": {
    "collapsed": false
   }
  },
  {
   "cell_type": "code",
   "execution_count": 56,
   "outputs": [],
   "source": [
    "from langchain_community.document_transformers import LongContextReorder\n",
    "\n",
    "reordering = LongContextReorder()\n",
    "reordered_docs = reordering.transform_documents(pdlg_mq_output_docs)"
   ],
   "metadata": {
    "collapsed": false,
    "ExecuteTime": {
     "start_time": "2024-01-27T11:21:33.054543Z",
     "end_time": "2024-01-27T11:21:33.060420Z"
    }
   }
  },
  {
   "cell_type": "code",
   "execution_count": 57,
   "outputs": [
    {
     "data": {
      "text/plain": "[Document(page_content='Connections are an extension of Godot signals to be more flexible. Connections can be dragged from any behavior to any arbitrary node in a scene. They are the primary means to assemble your game by wiring Behaviors together.\\n\\nCreating\\n\\nConnections are created by hovering the \"+\" that appears below selected nodes. There are two types of connections: Target Connections and Expression Connections.', metadata={'source': 'pronto-docs/README.md'}),\n Document(page_content='You can disable a connection by unchecking the checkbox in the top-right or in its context menu.\\n\\nYou can also pin a connection editor so that it remains in the scene after saving them. You can click and drag editors in the scene as well. You can drag the handles at the bottom right of each text field to resize the editor.', metadata={'source': 'pronto-docs/README.md'}),\n Document(page_content='30-90 seconds (no need to cut the video, can be shaky and raw)\\n\\nshow what you did and what insights you gained\\n\\nyou are encouraged to open the game with a couple different parameter configurations and show the impact\\n\\nPhase 2: Extending the Framework\\n\\nWriting a New Behavior', metadata={'source': 'pronto-docs/README.md'}),\n Document(page_content='When triggered, moves its parent. Can be set to move along global or local axes. Supports handling of gravity. \\n \\n PlatformerControllerBehavior \\n Makes the parent behave like a platformer character, meaning that it can jump, move horizontally, and is affected by gravity. Must be a child of a  CharacterBody2D . \\n \\n QueryBehavior', metadata={'source': 'pronto-docs/README.md'}),\n Document(page_content='Triggers for mouse interactions and offers a convenient set of triggers for keyboard movement. Exact keybindings are chosen via the  Player  property which allows for up to 3 different controls (Player 1:  WASD , Player 2:  Arrow keys , Player 3:  IJKL ). The  direction  signal can be used for moving a character in combination with a  MoveBehavior . \\n \\n DragBehavior', metadata={'source': 'pronto-docs/README.md'}),\n Document(page_content='CodeBehavior \\n It holds an  execute()  function with both user-definable arguments and a function body, which allows for arbitrary code execution. After  execute()  is called an  after  signal is emitted that carries the execution result, which can be used for chaining. \\n \\n MoveBehavior', metadata={'source': 'pronto-docs/README.md'}),\n Document(page_content='```\\n\\nProceed to write a Godot Node class as regular, e.g. by using @export and signals.\\n\\n⚠️ make sure to call super implementations of all overwritten methods, e.g. super._ready() and super._process().\\n\\nWhen do I have to reload what?\\n\\nRe-enable the plugin (go to Project>Settings>Plugins and toggle Pronto off and on)\\n\\nWhen creating a completely new Behavior file.', metadata={'source': 'pronto-docs/README.md'}),\n Document(page_content='You can press the \"open script\" button next to any code expression to edit it in a full-screen Godot tab which provides you better syntax highlighting and autocompletion.\\n\\nReordering\\n\\nFrom the context menu of a connection, choose \"Move to top\".\\n\\nDeleting\\n\\nOpen the connection, then click on the trash icon in the top-right.\\n\\nAlternatively, right-click the connection and choose \"Delete\".', metadata={'source': 'pronto-docs/README.md'}),\n Document(page_content=\"In ExpressionInspector.gd you can specify that a property should get a GDScript code editor.\\n\\nHints on Designing new Behaviors\\n\\nDon't bundle too much: give each concern its own behavior, e.g. appearance, movement, shooting. Design behaviors such that they are easy to connect to one another instead of pre-packaging them with lots of concerns.\\n\\nPhase 3: Deploying your Prototype/Game\", metadata={'source': 'pronto-docs/README.md'})]"
     },
     "execution_count": 57,
     "metadata": {},
     "output_type": "execute_result"
    }
   ],
   "source": [
    "reordered_docs"
   ],
   "metadata": {
    "collapsed": false,
    "ExecuteTime": {
     "start_time": "2024-01-27T11:21:33.061521Z",
     "end_time": "2024-01-27T11:21:33.076639Z"
    }
   }
  },
  {
   "cell_type": "markdown",
   "source": [
    "### 3.5 Ensemble Retriever"
   ],
   "metadata": {
    "collapsed": false
   }
  },
  {
   "cell_type": "code",
   "execution_count": 58,
   "outputs": [],
   "source": [
    "from langchain.retrievers import EnsembleRetriever\n",
    "\n",
    "ensemble_retriever = EnsembleRetriever(\n",
    "    retrievers=[pdlg_mq_retriever, pdlg_retriever], weights=[0.5, 0.5]\n",
    ")"
   ],
   "metadata": {
    "collapsed": false,
    "ExecuteTime": {
     "start_time": "2024-01-27T11:21:33.072093Z",
     "end_time": "2024-01-27T11:21:33.076770Z"
    }
   }
  },
  {
   "cell_type": "code",
   "execution_count": 59,
   "outputs": [
    {
     "name": "stderr",
     "output_type": "stream",
     "text": [
      "INFO:langchain.retrievers.multi_query:Generated queries: ['1. What are the typical behaviors that are always exhibited?', '2. Can you provide examples of behaviors that are consistently observed?', '3. Are there any specific actions or conduct that are consistently followed?']\n"
     ]
    }
   ],
   "source": [
    "reordered_docs = reordering.transform_documents(ensemble_retriever.get_relevant_documents(\"AlwaysBehavior\"))"
   ],
   "metadata": {
    "collapsed": false,
    "ExecuteTime": {
     "start_time": "2024-01-27T11:21:33.076248Z",
     "end_time": "2024-01-27T11:21:35.539394Z"
    }
   }
  },
  {
   "cell_type": "code",
   "execution_count": 60,
   "outputs": [
    {
     "data": {
      "text/plain": "[Document(page_content='CollisionBehavior \\n Triggers when something collides with its parent. The  collided  signal also provides the  direction  of the collision pointing in the direction from the parent to the node it collided with. NOTE: only works for Area2D, RigidBody2D and CharacterBody2D as of now. \\n \\n ControlsBehavior', metadata={'source': 'pronto-docs/README.md'}),\n Document(page_content='AlwaysBehavior\\n\\nExtends: Behavior\\n\\nDescription\\n\\nSee [signal AlwaysBehavior.always] and [signal AlwaysBehavior.physics_always] for a description of which signal to listen to.\\n\\nSee [signal AlwaysBehavior.always] and [signal AlwaysBehavior.physics_always] for a description of which signal to listen to.\\n\\nProperty Descriptions\\n\\npaused\\n\\ngdscript\\n@export var paused = false', metadata={'source': 'pronto-docs/AlwaysBehavior.md'}),\n Document(page_content='The following list of behaviors primarily cause effects when triggered.', metadata={'source': 'pronto-docs/README.md'}),\n Document(page_content=\"In ExpressionInspector.gd you can specify that a property should get a GDScript code editor.\\n\\nHints on Designing new Behaviors\\n\\nDon't bundle too much: give each concern its own behavior, e.g. appearance, movement, shooting. Design behaviors such that they are easy to connect to one another instead of pre-packaging them with lots of concerns.\\n\\nPhase 3: Deploying your Prototype/Game\", metadata={'source': 'pronto-docs/README.md'}),\n Document(page_content=\"To deploy your game to hpi-swa-lab.github.io/godot-pronto/ you can use the Build & Deploy Game Action.\\n\\nThis will be done automatically if you created your game via the menu tab Prototype (which automatically creates a branch, folder, main scene and ExportBehavior).\\n\\nHowever, if you didn't use this method you can follow this checklist to export your game.\\n\\nPreparation\", metadata={'source': 'pronto-docs/README.md'}),\n Document(page_content='If this is set to [code]true[/code] the AlwaysBehavior will stop emitting any signals. During runtime, do not set this directly. Instead use [method AlwaysBehavior.pause] and [method AlwaysBehavior.resume]\\n\\nMethod Descriptions\\n\\npause\\n\\ngdscript\\nfunc pause()\\n\\nCalling this method results in pausing the execution of always Use [method AlwaysBehavior.resume] to continue the execution\\n\\nresume', metadata={'source': 'pronto-docs/AlwaysBehavior.md'}),\n Document(page_content='The following list of behaviors manage state or communicate visual properties.', metadata={'source': 'pronto-docs/README.md'}),\n Document(page_content='Show a rectangular health bar. Offers methods to manipulate the current health and emits a signal when health drops to zero. \\n \\n InspectBehavior \\n Add as a child of a node to inspect its properties inside the game. \\n \\n InstanceBehavior', metadata={'source': 'pronto-docs/README.md'}),\n Document(page_content=\"You can return a list of handles (knobs on the canvas that you can move). See Placeholder and Value behaviors for examples.\\n\\nHandles can exist in local space of the nodes in the canvas or in the space of the overlay (independent of the canvas' zoom).\\n\\nLines and Text Below a Behavior\", metadata={'source': 'pronto-docs/README.md'})]"
     },
     "execution_count": 60,
     "metadata": {},
     "output_type": "execute_result"
    }
   ],
   "source": [
    "reordered_docs"
   ],
   "metadata": {
    "collapsed": false,
    "ExecuteTime": {
     "start_time": "2024-01-27T11:21:35.540700Z",
     "end_time": "2024-01-27T11:21:35.546012Z"
    }
   }
  },
  {
   "cell_type": "markdown",
   "source": [
    "### 3.6 Contextual Compression"
   ],
   "metadata": {
    "collapsed": false
   }
  },
  {
   "cell_type": "code",
   "execution_count": 61,
   "outputs": [],
   "source": [
    "from langchain.retrievers import ContextualCompressionRetriever\n",
    "from langchain.retrievers.document_compressors import LLMChainFilter\n",
    "\n",
    "_filter = LLMChainFilter.from_llm(llm)\n",
    "compression_retriever = ContextualCompressionRetriever(\n",
    "    base_compressor=_filter, base_retriever=ensemble_retriever\n",
    ")"
   ],
   "metadata": {
    "collapsed": false,
    "ExecuteTime": {
     "start_time": "2024-01-27T11:21:35.544724Z",
     "end_time": "2024-01-27T11:21:35.548980Z"
    }
   }
  },
  {
   "cell_type": "code",
   "execution_count": 62,
   "outputs": [
    {
     "name": "stderr",
     "output_type": "stream",
     "text": [
      "INFO:langchain.retrievers.multi_query:Generated queries: ['1. What are the typical behaviors that are always exhibited?', '2. Can you provide examples of behaviors that are consistently observed?', '3. Are there any specific actions or conduct that are consistently followed?']\n",
      "/Users/benjamindaniel/Developer/PycharmProjects/PromptoExperimentation/venv/lib/python3.9/site-packages/langchain/chains/llm.py:316: UserWarning: The predict_and_parse method is deprecated, instead pass an output parser directly to LLMChain.\n",
      "  warnings.warn(\n",
      "/Users/benjamindaniel/Developer/PycharmProjects/PromptoExperimentation/venv/lib/python3.9/site-packages/langchain/chains/llm.py:316: UserWarning: The predict_and_parse method is deprecated, instead pass an output parser directly to LLMChain.\n",
      "  warnings.warn(\n",
      "/Users/benjamindaniel/Developer/PycharmProjects/PromptoExperimentation/venv/lib/python3.9/site-packages/langchain/chains/llm.py:316: UserWarning: The predict_and_parse method is deprecated, instead pass an output parser directly to LLMChain.\n",
      "  warnings.warn(\n",
      "/Users/benjamindaniel/Developer/PycharmProjects/PromptoExperimentation/venv/lib/python3.9/site-packages/langchain/chains/llm.py:316: UserWarning: The predict_and_parse method is deprecated, instead pass an output parser directly to LLMChain.\n",
      "  warnings.warn(\n",
      "/Users/benjamindaniel/Developer/PycharmProjects/PromptoExperimentation/venv/lib/python3.9/site-packages/langchain/chains/llm.py:316: UserWarning: The predict_and_parse method is deprecated, instead pass an output parser directly to LLMChain.\n",
      "  warnings.warn(\n",
      "/Users/benjamindaniel/Developer/PycharmProjects/PromptoExperimentation/venv/lib/python3.9/site-packages/langchain/chains/llm.py:316: UserWarning: The predict_and_parse method is deprecated, instead pass an output parser directly to LLMChain.\n",
      "  warnings.warn(\n",
      "/Users/benjamindaniel/Developer/PycharmProjects/PromptoExperimentation/venv/lib/python3.9/site-packages/langchain/chains/llm.py:316: UserWarning: The predict_and_parse method is deprecated, instead pass an output parser directly to LLMChain.\n",
      "  warnings.warn(\n",
      "/Users/benjamindaniel/Developer/PycharmProjects/PromptoExperimentation/venv/lib/python3.9/site-packages/langchain/chains/llm.py:316: UserWarning: The predict_and_parse method is deprecated, instead pass an output parser directly to LLMChain.\n",
      "  warnings.warn(\n",
      "/Users/benjamindaniel/Developer/PycharmProjects/PromptoExperimentation/venv/lib/python3.9/site-packages/langchain/chains/llm.py:316: UserWarning: The predict_and_parse method is deprecated, instead pass an output parser directly to LLMChain.\n",
      "  warnings.warn(\n"
     ]
    },
    {
     "data": {
      "text/plain": "[Document(page_content=\"You can return a list of handles (knobs on the canvas that you can move). See Placeholder and Value behaviors for examples.\\n\\nHandles can exist in local space of the nodes in the canvas or in the space of the overlay (independent of the canvas' zoom).\\n\\nLines and Text Below a Behavior\", metadata={'source': 'pronto-docs/README.md'}),\n Document(page_content='AlwaysBehavior\\n\\nExtends: Behavior\\n\\nDescription\\n\\nSee [signal AlwaysBehavior.always] and [signal AlwaysBehavior.physics_always] for a description of which signal to listen to.\\n\\nSee [signal AlwaysBehavior.always] and [signal AlwaysBehavior.physics_always] for a description of which signal to listen to.\\n\\nProperty Descriptions\\n\\npaused\\n\\ngdscript\\n@export var paused = false', metadata={'source': 'pronto-docs/AlwaysBehavior.md'}),\n Document(page_content='The following list of behaviors primarily cause effects when triggered.', metadata={'source': 'pronto-docs/README.md'}),\n Document(page_content='The following list of behaviors manage state or communicate visual properties.', metadata={'source': 'pronto-docs/README.md'}),\n Document(page_content='If this is set to [code]true[/code] the AlwaysBehavior will stop emitting any signals. During runtime, do not set this directly. Instead use [method AlwaysBehavior.pause] and [method AlwaysBehavior.resume]\\n\\nMethod Descriptions\\n\\npause\\n\\ngdscript\\nfunc pause()\\n\\nCalling this method results in pausing the execution of always Use [method AlwaysBehavior.resume] to continue the execution\\n\\nresume', metadata={'source': 'pronto-docs/AlwaysBehavior.md'}),\n Document(page_content=\"To deploy your game to hpi-swa-lab.github.io/godot-pronto/ you can use the Build & Deploy Game Action.\\n\\nThis will be done automatically if you created your game via the menu tab Prototype (which automatically creates a branch, folder, main scene and ExportBehavior).\\n\\nHowever, if you didn't use this method you can follow this checklist to export your game.\\n\\nPreparation\", metadata={'source': 'pronto-docs/README.md'})]"
     },
     "execution_count": 62,
     "metadata": {},
     "output_type": "execute_result"
    }
   ],
   "source": [
    "compression_retriever.get_relevant_documents(\"AlwaysBehavior\")"
   ],
   "metadata": {
    "collapsed": false,
    "ExecuteTime": {
     "start_time": "2024-01-27T11:21:35.548293Z",
     "end_time": "2024-01-27T11:21:44.205195Z"
    }
   }
  },
  {
   "cell_type": "code",
   "execution_count": 63,
   "outputs": [],
   "source": [
    "from langchain.retrievers.document_compressors import LLMChainExtractor\n",
    "\n",
    "compressor = LLMChainExtractor.from_llm(llm)\n",
    "contextual_compression_retriever = ContextualCompressionRetriever(\n",
    "    base_compressor=compressor, base_retriever=ensemble_retriever\n",
    ")"
   ],
   "metadata": {
    "collapsed": false,
    "ExecuteTime": {
     "start_time": "2024-01-27T11:21:44.204643Z",
     "end_time": "2024-01-27T11:21:44.210303Z"
    }
   }
  },
  {
   "cell_type": "code",
   "execution_count": 64,
   "outputs": [
    {
     "name": "stderr",
     "output_type": "stream",
     "text": [
      "INFO:langchain.retrievers.multi_query:Generated queries: ['1. What are the typical behaviors that are always exhibited?', '2. Can you provide examples of behaviors that are consistently observed?', '3. Are there any specific actions or conduct that are consistently followed?']\n",
      "/Users/benjamindaniel/Developer/PycharmProjects/PromptoExperimentation/venv/lib/python3.9/site-packages/langchain/chains/llm.py:316: UserWarning: The predict_and_parse method is deprecated, instead pass an output parser directly to LLMChain.\n",
      "  warnings.warn(\n",
      "/Users/benjamindaniel/Developer/PycharmProjects/PromptoExperimentation/venv/lib/python3.9/site-packages/langchain/chains/llm.py:316: UserWarning: The predict_and_parse method is deprecated, instead pass an output parser directly to LLMChain.\n",
      "  warnings.warn(\n",
      "/Users/benjamindaniel/Developer/PycharmProjects/PromptoExperimentation/venv/lib/python3.9/site-packages/langchain/chains/llm.py:316: UserWarning: The predict_and_parse method is deprecated, instead pass an output parser directly to LLMChain.\n",
      "  warnings.warn(\n",
      "/Users/benjamindaniel/Developer/PycharmProjects/PromptoExperimentation/venv/lib/python3.9/site-packages/langchain/chains/llm.py:316: UserWarning: The predict_and_parse method is deprecated, instead pass an output parser directly to LLMChain.\n",
      "  warnings.warn(\n",
      "/Users/benjamindaniel/Developer/PycharmProjects/PromptoExperimentation/venv/lib/python3.9/site-packages/langchain/chains/llm.py:316: UserWarning: The predict_and_parse method is deprecated, instead pass an output parser directly to LLMChain.\n",
      "  warnings.warn(\n",
      "/Users/benjamindaniel/Developer/PycharmProjects/PromptoExperimentation/venv/lib/python3.9/site-packages/langchain/chains/llm.py:316: UserWarning: The predict_and_parse method is deprecated, instead pass an output parser directly to LLMChain.\n",
      "  warnings.warn(\n",
      "/Users/benjamindaniel/Developer/PycharmProjects/PromptoExperimentation/venv/lib/python3.9/site-packages/langchain/chains/llm.py:316: UserWarning: The predict_and_parse method is deprecated, instead pass an output parser directly to LLMChain.\n",
      "  warnings.warn(\n",
      "/Users/benjamindaniel/Developer/PycharmProjects/PromptoExperimentation/venv/lib/python3.9/site-packages/langchain/chains/llm.py:316: UserWarning: The predict_and_parse method is deprecated, instead pass an output parser directly to LLMChain.\n",
      "  warnings.warn(\n",
      "/Users/benjamindaniel/Developer/PycharmProjects/PromptoExperimentation/venv/lib/python3.9/site-packages/langchain/chains/llm.py:316: UserWarning: The predict_and_parse method is deprecated, instead pass an output parser directly to LLMChain.\n",
      "  warnings.warn(\n"
     ]
    },
    {
     "data": {
      "text/plain": "[Document(page_content='CollisionBehavior \\n Triggers when something collides with its parent. The  collided  signal also provides the  direction  of the collision pointing in the direction from the parent to the node it collided with.', metadata={'source': 'pronto-docs/README.md'}),\n Document(page_content=\"You can return a list of handles (knobs on the canvas that you can move). See Placeholder and Value behaviors for examples.\\n\\nHandles can exist in local space of the nodes in the canvas or in the space of the overlay (independent of the canvas' zoom).\", metadata={'source': 'pronto-docs/README.md'}),\n Document(page_content='AlwaysBehavior\\nExtends: Behavior\\n\\nDescription\\n\\nSee [signal AlwaysBehavior.always] and [signal AlwaysBehavior.physics_always] for a description of which signal to listen to.\\n\\nSee [signal AlwaysBehavior.always] and [signal AlwaysBehavior.physics_always] for a description of which signal to listen to.\\n\\nProperty Descriptions\\n\\npaused\\n\\ngdscript\\n@export var paused = false', metadata={'source': 'pronto-docs/AlwaysBehavior.md'}),\n Document(page_content='The following list of behaviors primarily cause effects when triggered.', metadata={'source': 'pronto-docs/README.md'}),\n Document(page_content='The following list of behaviors manage state or communicate visual properties.', metadata={'source': 'pronto-docs/README.md'}),\n Document(page_content=\"Don't bundle too much: give each concern its own behavior, e.g. appearance, movement, shooting. Design behaviors such that they are easy to connect to one another instead of pre-packaging them with lots of concerns.\", metadata={'source': 'pronto-docs/README.md'}),\n Document(page_content='If this is set to [code]true[/code] the AlwaysBehavior will stop emitting any signals. During runtime, do not set this directly. Instead use [method AlwaysBehavior.pause] and [method AlwaysBehavior.resume]\\n\\npause\\n\\ngdscript\\nfunc pause()\\n\\nCalling this method results in pausing the execution of always Use [method AlwaysBehavior.resume] to continue the execution\\n\\nresume', metadata={'source': 'pronto-docs/AlwaysBehavior.md'}),\n Document(page_content=\"To deploy your game to hpi-swa-lab.github.io/godot-pronto/ you can use the Build & Deploy Game Action.\\nThis will be done automatically if you created your game via the menu tab Prototype (which automatically creates a branch, folder, main scene and ExportBehavior).\\nHowever, if you didn't use this method you can follow this checklist to export your game.\", metadata={'source': 'pronto-docs/README.md'})]"
     },
     "execution_count": 64,
     "metadata": {},
     "output_type": "execute_result"
    }
   ],
   "source": [
    "contextual_compression_retriever.get_relevant_documents(\"AlwaysBehavior\")"
   ],
   "metadata": {
    "collapsed": false,
    "ExecuteTime": {
     "start_time": "2024-01-27T11:21:44.212928Z",
     "end_time": "2024-01-27T11:21:59.184141Z"
    }
   }
  },
  {
   "cell_type": "markdown",
   "source": [
    "## 4. Agent"
   ],
   "metadata": {
    "collapsed": false
   }
  },
  {
   "cell_type": "code",
   "execution_count": 65,
   "outputs": [],
   "source": [
    "from langchain.tools.retriever import create_retriever_tool\n",
    "\n",
    "tool = create_retriever_tool(\n",
    "    pdlg_retriever,\n",
    "    \"Intermediate Answer\",\n",
    "    \"useful for when you need to ask with search\"\n",
    ")\n",
    "tools = [tool]"
   ],
   "metadata": {
    "collapsed": false,
    "ExecuteTime": {
     "start_time": "2024-01-27T11:21:59.178921Z",
     "end_time": "2024-01-27T11:21:59.207785Z"
    }
   }
  },
  {
   "cell_type": "code",
   "execution_count": 66,
   "outputs": [],
   "source": [
    "from langchain.agents import initialize_agent, AgentType\n",
    "\n",
    "agent = initialize_agent(tools, llm, agent=AgentType.SELF_ASK_WITH_SEARCH, verbose=True, handle_parsing_errors=True)"
   ],
   "metadata": {
    "collapsed": false,
    "ExecuteTime": {
     "start_time": "2024-01-27T11:21:59.193544Z",
     "end_time": "2024-01-27T11:21:59.208001Z"
    }
   }
  },
  {
   "cell_type": "code",
   "execution_count": 67,
   "outputs": [
    {
     "name": "stdout",
     "output_type": "stream",
     "text": [
      "\n",
      "\n",
      "\u001B[1m> Entering new AgentExecutor chain...\u001B[0m\n",
      "\u001B[32;1m\u001B[1;3mCould not parse output: Yes.\u001B[0m\n",
      "Intermediate answer: Invalid or incomplete response\n",
      "\u001B[32;1m\u001B[1;3mCould not parse output: I'm sorry, but I couldn't find any information on how to change the sprite of a PlaceholderBehavior in the Pronto prototyping framework for the Godot Game Engine.\u001B[0m\n",
      "Intermediate answer: Invalid or incomplete response\n",
      "\u001B[32;1m\u001B[1;3mSo the final answer is: I couldn't find any information on how to change the sprite of a PlaceholderBehavior in the Pronto prototyping framework for the Godot Game Engine.\u001B[0m\n",
      "\n",
      "\u001B[1m> Finished chain.\u001B[0m\n"
     ]
    },
    {
     "data": {
      "text/plain": "\"I couldn't find any information on how to change the sprite of a PlaceholderBehavior in the Pronto prototyping framework for the Godot Game Engine.\""
     },
     "execution_count": 67,
     "metadata": {},
     "output_type": "execute_result"
    }
   ],
   "source": [
    "agent.run(\"Pronto is a prototyping framework for the Godot Game Engine. The following question relates to this framework. When answering, please search for anything related to either the framework or behaviors that are used to create gameplay mechanics in the framework. Now the question is as follows: How to change the sprite of a PlaceholderBehavior?\")"
   ],
   "metadata": {
    "collapsed": false,
    "ExecuteTime": {
     "start_time": "2024-01-27T11:21:59.195413Z",
     "end_time": "2024-01-27T11:22:01.783001Z"
    }
   }
  },
  {
   "cell_type": "code",
   "execution_count": 85,
   "outputs": [
    {
     "name": "stderr",
     "output_type": "stream",
     "text": [
      "INFO:langchain.retrievers.multi_query:Generated queries: ['1. How can I improve my health after experiencing damage?', '2. What are some ways to restore and maintain good health after sustaining damage?', '3. Are there any specific remedies or treatments to address health issues caused by damage?']\n"
     ]
    },
    {
     "data": {
      "text/plain": "[Document(page_content='30-90 seconds (no need to cut the video, can be shaky and raw)\\n\\nshow what you did and what insights you gained\\n\\nyou are encouraged to open the game with a couple different parameter configurations and show the impact\\n\\nPhase 2: Extending the Framework\\n\\nWriting a New Behavior', metadata={'source': 'pronto-docs/README.md'}),\n Document(page_content='Setter: @invulnerability_color_setter\\n\\nsize\\n\\ngdscript\\nvar size: Vector2\\n\\nGetter: @size_getter\\n\\nThe height and width of the health bar\\n\\nMethod Descriptions\\n\\ndamage\\n\\ngdscript\\nfunc damage(amount)\\n\\nReduces the current health value by the given [code]amount[/code].\\n\\nheal\\n\\ngdscript\\nfunc heal(amount)\\n\\nIncreases the current health value by the given [code]amount[/code].\\n\\nheal_full', metadata={'source': 'pronto-docs/HealthBarBehavior.md'}),\n Document(page_content='Show a rectangular health bar. Offers methods to manipulate the current health and emits a signal when health drops to zero. \\n \\n InspectBehavior \\n Add as a child of a node to inspect its properties inside the game. \\n \\n InstanceBehavior', metadata={'source': 'pronto-docs/README.md'}),\n Document(page_content='The progress_gradient is used for coloring the HealthBar according to the current health. The current color is chosen according to the value of [code]current/max[/code].\\n\\ninvulnerable\\n\\ngdscript\\n@export var invulnerable = false\\n\\nSetter: @invulnerable_setter\\n\\nIf invulnerable the player cannot take damage via the [code]damage()[/code] method. [br]However, [code]set_health()[/code] will still work!', metadata={'source': 'pronto-docs/HealthBarBehavior.md'}),\n Document(page_content='Troubleshooting', metadata={'source': 'pronto-docs/README.md'}),\n Document(page_content='```\\n\\nProceed to write a Godot Node class as regular, e.g. by using @export and signals.\\n\\n⚠️ make sure to call super implementations of all overwritten methods, e.g. super._ready() and super._process().\\n\\nWhen do I have to reload what?\\n\\nRe-enable the plugin (go to Project>Settings>Plugins and toggle Pronto off and on)\\n\\nWhen creating a completely new Behavior file.', metadata={'source': 'pronto-docs/README.md'}),\n Document(page_content='Phase 1: Creating a Prototype\\n\\nBuild a tiny Godot game but focus on a single mechanic. Do not focus on visuals. Polish only where it is essential for the mechanic you are creating. Where possible, use the below advice and helpers instead of code for implementation.', metadata={'source': 'pronto-docs/README.md'}),\n Document(page_content='The following list of behaviors primarily cause effects when triggered.', metadata={'source': 'pronto-docs/README.md'})]"
     },
     "execution_count": 85,
     "metadata": {},
     "output_type": "execute_result"
    }
   ],
   "source": [
    "ensemble_retriever.get_relevant_documents(\"damage health\")"
   ],
   "metadata": {
    "collapsed": false,
    "ExecuteTime": {
     "start_time": "2024-01-27T11:40:41.775257Z",
     "end_time": "2024-01-27T11:40:44.284073Z"
    }
   }
  },
  {
   "cell_type": "code",
   "execution_count": 82,
   "outputs": [],
   "source": [
    "from langchain.memory import ConversationSummaryMemory\n",
    "\n",
    "memory = ConversationSummaryMemory(\n",
    "    llm=llm, memory_key=\"chat_history\", return_messages=True\n",
    ")"
   ],
   "metadata": {
    "collapsed": false,
    "ExecuteTime": {
     "start_time": "2024-01-27T11:39:35.533148Z",
     "end_time": "2024-01-27T11:39:35.541207Z"
    }
   }
  },
  {
   "cell_type": "code",
   "execution_count": 79,
   "outputs": [],
   "source": [
    "from langchain_core.prompts import PromptTemplate\n",
    "\n",
    "prompt_template = \"\"\"You are a helpful assistant answering all questions related to Pronto, a game mechanic prototyping framework for the Godot Game Engine. This framework introduces the concept of Behaviors. Behaviors drive the actions of game objects in a game. They can be connected to each other to create more complex interactions. Try to answer the question using the Pronto framework before thinking of using the Godot Engine. Use the following pieces of context to answer the question at the end. If you don't know the answer, just say that you don't know, don't try to make up an answer.\n",
    "\n",
    "{context}\n",
    "\n",
    "Question: {question}\n",
    "Helpful Answer:\"\"\"\n",
    "QA_PROMPT = PromptTemplate(\n",
    "    template=prompt_template, input_variables=[\"context\", \"question\"]\n",
    ")"
   ],
   "metadata": {
    "collapsed": false,
    "ExecuteTime": {
     "start_time": "2024-01-27T11:39:12.258906Z",
     "end_time": "2024-01-27T11:39:12.269956Z"
    }
   }
  },
  {
   "cell_type": "code",
   "execution_count": 83,
   "outputs": [],
   "source": [
    "from langchain.chains import ConversationalRetrievalChain\n",
    "\n",
    "qa = ConversationalRetrievalChain.from_llm(\n",
    "    llm,\n",
    "    retriever=ensemble_retriever,\n",
    "    memory=memory,\n",
    "    combine_docs_chain_kwargs={\"prompt\": QA_PROMPT}\n",
    ")"
   ],
   "metadata": {
    "collapsed": false,
    "ExecuteTime": {
     "start_time": "2024-01-27T11:39:37.866484Z",
     "end_time": "2024-01-27T11:39:37.875532Z"
    }
   }
  },
  {
   "cell_type": "code",
   "execution_count": 84,
   "outputs": [
    {
     "name": "stderr",
     "output_type": "stream",
     "text": [
      "INFO:langchain.retrievers.multi_query:Generated queries: [\"1. What are some strategies for negatively impacting a player's performance?\", \"2. Are there any tactics or techniques to hinder a player's progress or success?\", \"3. In what ways can I disrupt or impede a player's gameplay experience?\"]\n"
     ]
    },
    {
     "name": "stdout",
     "output_type": "stream",
     "text": [
      "{'question': 'How can I damage a player?', 'chat_history': [SystemMessage(content='')], 'answer': \"To harm a player using the Pronto framework, you can create a new behavior that triggers the harm effect when certain conditions are met. \\n\\nFirst, you would need to create a new behavior file and extend it from the Behavior class. Inside this behavior, you can define properties and signals that will be used to harm the player.\\n\\nNext, you can use the SceneRootBehavior to search for the player node in the scene. Once you have found the player node, you can emit a signal to harm the player. This signal can be connected to other behaviors or scripts to apply the harm effect, such as reducing the player's health or applying a negative status effect.\\n\\nYou can also use the Value behavior to expose the crucial variation points of the harm effect, such as the amount of damage or the type of harm. This allows you to easily adjust these parameters in the editor without modifying the behavior code.\\n\\nBy connecting the new harm behavior to the player object in the game, you can trigger the harm effect whenever the specified conditions are met.\"}\n"
     ]
    }
   ],
   "source": [
    "print(qa(\"How can I damage a player?\"))"
   ],
   "metadata": {
    "collapsed": false,
    "ExecuteTime": {
     "start_time": "2024-01-27T11:39:38.120197Z",
     "end_time": "2024-01-27T11:39:47.377657Z"
    }
   }
  },
  {
   "cell_type": "code",
   "execution_count": 71,
   "outputs": [],
   "source": [],
   "metadata": {
    "collapsed": false,
    "ExecuteTime": {
     "start_time": "2024-01-27T11:22:14.630128Z",
     "end_time": "2024-01-27T11:22:14.636033Z"
    }
   }
  }
 ],
 "metadata": {
  "kernelspec": {
   "display_name": "Python 3",
   "language": "python",
   "name": "python3"
  },
  "language_info": {
   "codemirror_mode": {
    "name": "ipython",
    "version": 2
   },
   "file_extension": ".py",
   "mimetype": "text/x-python",
   "name": "python",
   "nbconvert_exporter": "python",
   "pygments_lexer": "ipython2",
   "version": "2.7.6"
  }
 },
 "nbformat": 4,
 "nbformat_minor": 0
}
