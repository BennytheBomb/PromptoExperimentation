{
 "cells": [
  {
   "cell_type": "markdown",
   "source": [
    "# Retrieval\n",
    "\n",
    "The steps are:\n",
    "1. Load documents\n",
    "2. Split documents\n",
    "3. Embed & store documents\n",
    "4. Retrieve from documents"
   ],
   "metadata": {
    "collapsed": false
   }
  },
  {
   "cell_type": "markdown",
   "source": [
    "## 0. Prerequisites"
   ],
   "metadata": {
    "collapsed": false
   }
  },
  {
   "cell_type": "code",
   "execution_count": 2,
   "outputs": [
    {
     "name": "stdout",
     "output_type": "stream",
     "text": [
      "Requirement already satisfied: langchain in ./venv/lib/python3.9/site-packages (0.0.350)\r\n",
      "Requirement already satisfied: openai in ./venv/lib/python3.9/site-packages (1.6.0)\r\n",
      "Requirement already satisfied: GitPython in ./venv/lib/python3.9/site-packages (3.1.40)\r\n",
      "Requirement already satisfied: chromadb in ./venv/lib/python3.9/site-packages (0.4.20)\r\n",
      "Requirement already satisfied: unstructured in ./venv/lib/python3.9/site-packages (0.11.5)\r\n",
      "Requirement already satisfied: markdown in ./venv/lib/python3.9/site-packages (3.5.1)\r\n",
      "Requirement already satisfied: tiktoken in ./venv/lib/python3.9/site-packages (0.5.2)\r\n",
      "Requirement already satisfied: langchainhub in ./venv/lib/python3.9/site-packages (0.1.14)\r\n",
      "Requirement already satisfied: PyYAML>=5.3 in ./venv/lib/python3.9/site-packages (from langchain) (6.0.1)\r\n",
      "Requirement already satisfied: SQLAlchemy<3,>=1.4 in ./venv/lib/python3.9/site-packages (from langchain) (2.0.23)\r\n",
      "Requirement already satisfied: aiohttp<4.0.0,>=3.8.3 in ./venv/lib/python3.9/site-packages (from langchain) (3.9.1)\r\n",
      "Requirement already satisfied: async-timeout<5.0.0,>=4.0.0 in ./venv/lib/python3.9/site-packages (from langchain) (4.0.3)\r\n",
      "Requirement already satisfied: dataclasses-json<0.7,>=0.5.7 in ./venv/lib/python3.9/site-packages (from langchain) (0.6.3)\r\n",
      "Requirement already satisfied: jsonpatch<2.0,>=1.33 in ./venv/lib/python3.9/site-packages (from langchain) (1.33)\r\n",
      "Requirement already satisfied: langchain-community<0.1,>=0.0.2 in ./venv/lib/python3.9/site-packages (from langchain) (0.0.3)\r\n",
      "Requirement already satisfied: langchain-core<0.2,>=0.1 in ./venv/lib/python3.9/site-packages (from langchain) (0.1.1)\r\n",
      "Requirement already satisfied: langsmith<0.1.0,>=0.0.63 in ./venv/lib/python3.9/site-packages (from langchain) (0.0.70)\r\n",
      "Requirement already satisfied: numpy<2,>=1 in ./venv/lib/python3.9/site-packages (from langchain) (1.26.2)\r\n",
      "Requirement already satisfied: pydantic<3,>=1 in ./venv/lib/python3.9/site-packages (from langchain) (2.5.2)\r\n",
      "Requirement already satisfied: requests<3,>=2 in ./venv/lib/python3.9/site-packages (from langchain) (2.31.0)\r\n",
      "Requirement already satisfied: tenacity<9.0.0,>=8.1.0 in ./venv/lib/python3.9/site-packages (from langchain) (8.2.3)\r\n",
      "Requirement already satisfied: anyio<5,>=3.5.0 in ./venv/lib/python3.9/site-packages (from openai) (3.7.1)\r\n",
      "Requirement already satisfied: distro<2,>=1.7.0 in ./venv/lib/python3.9/site-packages (from openai) (1.8.0)\r\n",
      "Requirement already satisfied: httpx<1,>=0.23.0 in ./venv/lib/python3.9/site-packages (from openai) (0.25.2)\r\n",
      "Requirement already satisfied: sniffio in ./venv/lib/python3.9/site-packages (from openai) (1.3.0)\r\n",
      "Requirement already satisfied: tqdm>4 in ./venv/lib/python3.9/site-packages (from openai) (4.66.1)\r\n",
      "Requirement already satisfied: typing-extensions<5,>=4.7 in ./venv/lib/python3.9/site-packages (from openai) (4.9.0)\r\n",
      "Requirement already satisfied: gitdb<5,>=4.0.1 in ./venv/lib/python3.9/site-packages (from GitPython) (4.0.11)\r\n",
      "Requirement already satisfied: chroma-hnswlib==0.7.3 in ./venv/lib/python3.9/site-packages (from chromadb) (0.7.3)\r\n",
      "Requirement already satisfied: fastapi>=0.95.2 in ./venv/lib/python3.9/site-packages (from chromadb) (0.105.0)\r\n",
      "Requirement already satisfied: uvicorn>=0.18.3 in ./venv/lib/python3.9/site-packages (from uvicorn[standard]>=0.18.3->chromadb) (0.24.0.post1)\r\n",
      "Requirement already satisfied: posthog>=2.4.0 in ./venv/lib/python3.9/site-packages (from chromadb) (3.1.0)\r\n",
      "Requirement already satisfied: pulsar-client>=3.1.0 in ./venv/lib/python3.9/site-packages (from chromadb) (3.3.0)\r\n",
      "Requirement already satisfied: onnxruntime>=1.14.1 in ./venv/lib/python3.9/site-packages (from chromadb) (1.16.3)\r\n",
      "Requirement already satisfied: opentelemetry-api>=1.2.0 in ./venv/lib/python3.9/site-packages (from chromadb) (1.22.0)\r\n",
      "Requirement already satisfied: opentelemetry-exporter-otlp-proto-grpc>=1.2.0 in ./venv/lib/python3.9/site-packages (from chromadb) (1.22.0)\r\n",
      "Requirement already satisfied: opentelemetry-instrumentation-fastapi>=0.41b0 in ./venv/lib/python3.9/site-packages (from chromadb) (0.43b0)\r\n",
      "Requirement already satisfied: opentelemetry-sdk>=1.2.0 in ./venv/lib/python3.9/site-packages (from chromadb) (1.22.0)\r\n",
      "Requirement already satisfied: tokenizers>=0.13.2 in ./venv/lib/python3.9/site-packages (from chromadb) (0.15.0)\r\n",
      "Requirement already satisfied: pypika>=0.48.9 in ./venv/lib/python3.9/site-packages (from chromadb) (0.48.9)\r\n",
      "Requirement already satisfied: overrides>=7.3.1 in ./venv/lib/python3.9/site-packages (from chromadb) (7.4.0)\r\n",
      "Requirement already satisfied: importlib-resources in ./venv/lib/python3.9/site-packages (from chromadb) (6.1.1)\r\n",
      "Requirement already satisfied: grpcio>=1.58.0 in ./venv/lib/python3.9/site-packages (from chromadb) (1.60.0)\r\n",
      "Requirement already satisfied: bcrypt>=4.0.1 in ./venv/lib/python3.9/site-packages (from chromadb) (4.1.2)\r\n",
      "Requirement already satisfied: typer>=0.9.0 in ./venv/lib/python3.9/site-packages (from chromadb) (0.9.0)\r\n",
      "Requirement already satisfied: kubernetes>=28.1.0 in ./venv/lib/python3.9/site-packages (from chromadb) (28.1.0)\r\n",
      "Requirement already satisfied: mmh3>=4.0.1 in ./venv/lib/python3.9/site-packages (from chromadb) (4.0.1)\r\n",
      "Requirement already satisfied: chardet in ./venv/lib/python3.9/site-packages (from unstructured) (5.2.0)\r\n",
      "Requirement already satisfied: filetype in ./venv/lib/python3.9/site-packages (from unstructured) (1.2.0)\r\n",
      "Requirement already satisfied: python-magic in ./venv/lib/python3.9/site-packages (from unstructured) (0.4.27)\r\n",
      "Requirement already satisfied: lxml in ./venv/lib/python3.9/site-packages (from unstructured) (4.9.4)\r\n",
      "Requirement already satisfied: nltk in ./venv/lib/python3.9/site-packages (from unstructured) (3.8.1)\r\n",
      "Requirement already satisfied: tabulate in ./venv/lib/python3.9/site-packages (from unstructured) (0.9.0)\r\n",
      "Requirement already satisfied: beautifulsoup4 in ./venv/lib/python3.9/site-packages (from unstructured) (4.12.2)\r\n",
      "Requirement already satisfied: emoji in ./venv/lib/python3.9/site-packages (from unstructured) (2.9.0)\r\n",
      "Requirement already satisfied: python-iso639 in ./venv/lib/python3.9/site-packages (from unstructured) (2023.12.11)\r\n",
      "Requirement already satisfied: langdetect in ./venv/lib/python3.9/site-packages (from unstructured) (1.0.9)\r\n",
      "Requirement already satisfied: rapidfuzz in ./venv/lib/python3.9/site-packages (from unstructured) (3.5.2)\r\n",
      "Requirement already satisfied: backoff in ./venv/lib/python3.9/site-packages (from unstructured) (2.2.1)\r\n",
      "Requirement already satisfied: unstructured-client in ./venv/lib/python3.9/site-packages (from unstructured) (0.15.0)\r\n",
      "Requirement already satisfied: wrapt in ./venv/lib/python3.9/site-packages (from unstructured) (1.16.0)\r\n",
      "Requirement already satisfied: importlib-metadata>=4.4 in ./venv/lib/python3.9/site-packages (from markdown) (6.11.0)\r\n",
      "Requirement already satisfied: regex>=2022.1.18 in ./venv/lib/python3.9/site-packages (from tiktoken) (2023.10.3)\r\n",
      "Requirement already satisfied: types-requests<3.0.0.0,>=2.31.0.2 in ./venv/lib/python3.9/site-packages (from langchainhub) (2.31.0.6)\r\n",
      "Requirement already satisfied: attrs>=17.3.0 in ./venv/lib/python3.9/site-packages (from aiohttp<4.0.0,>=3.8.3->langchain) (23.1.0)\r\n",
      "Requirement already satisfied: multidict<7.0,>=4.5 in ./venv/lib/python3.9/site-packages (from aiohttp<4.0.0,>=3.8.3->langchain) (6.0.4)\r\n",
      "Requirement already satisfied: yarl<2.0,>=1.0 in ./venv/lib/python3.9/site-packages (from aiohttp<4.0.0,>=3.8.3->langchain) (1.9.4)\r\n",
      "Requirement already satisfied: frozenlist>=1.1.1 in ./venv/lib/python3.9/site-packages (from aiohttp<4.0.0,>=3.8.3->langchain) (1.4.1)\r\n",
      "Requirement already satisfied: aiosignal>=1.1.2 in ./venv/lib/python3.9/site-packages (from aiohttp<4.0.0,>=3.8.3->langchain) (1.3.1)\r\n",
      "Requirement already satisfied: idna>=2.8 in ./venv/lib/python3.9/site-packages (from anyio<5,>=3.5.0->openai) (3.6)\r\n",
      "Requirement already satisfied: exceptiongroup in ./venv/lib/python3.9/site-packages (from anyio<5,>=3.5.0->openai) (1.2.0)\r\n",
      "Requirement already satisfied: marshmallow<4.0.0,>=3.18.0 in ./venv/lib/python3.9/site-packages (from dataclasses-json<0.7,>=0.5.7->langchain) (3.20.1)\r\n",
      "Requirement already satisfied: typing-inspect<1,>=0.4.0 in ./venv/lib/python3.9/site-packages (from dataclasses-json<0.7,>=0.5.7->langchain) (0.9.0)\r\n",
      "Requirement already satisfied: starlette<0.28.0,>=0.27.0 in ./venv/lib/python3.9/site-packages (from fastapi>=0.95.2->chromadb) (0.27.0)\r\n",
      "Requirement already satisfied: smmap<6,>=3.0.1 in ./venv/lib/python3.9/site-packages (from gitdb<5,>=4.0.1->GitPython) (5.0.1)\r\n",
      "Requirement already satisfied: certifi in ./venv/lib/python3.9/site-packages (from httpx<1,>=0.23.0->openai) (2023.11.17)\r\n",
      "Requirement already satisfied: httpcore==1.* in ./venv/lib/python3.9/site-packages (from httpx<1,>=0.23.0->openai) (1.0.2)\r\n",
      "Requirement already satisfied: h11<0.15,>=0.13 in ./venv/lib/python3.9/site-packages (from httpcore==1.*->httpx<1,>=0.23.0->openai) (0.14.0)\r\n",
      "Requirement already satisfied: zipp>=0.5 in ./venv/lib/python3.9/site-packages (from importlib-metadata>=4.4->markdown) (3.17.0)\r\n",
      "Requirement already satisfied: jsonpointer>=1.9 in ./venv/lib/python3.9/site-packages (from jsonpatch<2.0,>=1.33->langchain) (2.4)\r\n",
      "Requirement already satisfied: six>=1.9.0 in ./venv/lib/python3.9/site-packages (from kubernetes>=28.1.0->chromadb) (1.16.0)\r\n",
      "Requirement already satisfied: python-dateutil>=2.5.3 in ./venv/lib/python3.9/site-packages (from kubernetes>=28.1.0->chromadb) (2.8.2)\r\n",
      "Requirement already satisfied: google-auth>=1.0.1 in ./venv/lib/python3.9/site-packages (from kubernetes>=28.1.0->chromadb) (2.25.2)\r\n",
      "Requirement already satisfied: websocket-client!=0.40.0,!=0.41.*,!=0.42.*,>=0.32.0 in ./venv/lib/python3.9/site-packages (from kubernetes>=28.1.0->chromadb) (1.7.0)\r\n",
      "Requirement already satisfied: requests-oauthlib in ./venv/lib/python3.9/site-packages (from kubernetes>=28.1.0->chromadb) (1.3.1)\r\n",
      "Requirement already satisfied: oauthlib>=3.2.2 in ./venv/lib/python3.9/site-packages (from kubernetes>=28.1.0->chromadb) (3.2.2)\r\n",
      "Requirement already satisfied: urllib3<2.0,>=1.24.2 in ./venv/lib/python3.9/site-packages (from kubernetes>=28.1.0->chromadb) (1.26.18)\r\n",
      "Requirement already satisfied: packaging<24.0,>=23.2 in ./venv/lib/python3.9/site-packages (from langchain-core<0.2,>=0.1->langchain) (23.2)\r\n",
      "Requirement already satisfied: coloredlogs in ./venv/lib/python3.9/site-packages (from onnxruntime>=1.14.1->chromadb) (15.0.1)\r\n",
      "Requirement already satisfied: flatbuffers in ./venv/lib/python3.9/site-packages (from onnxruntime>=1.14.1->chromadb) (23.5.26)\r\n",
      "Requirement already satisfied: protobuf in ./venv/lib/python3.9/site-packages (from onnxruntime>=1.14.1->chromadb) (4.25.1)\r\n",
      "Requirement already satisfied: sympy in ./venv/lib/python3.9/site-packages (from onnxruntime>=1.14.1->chromadb) (1.12)\r\n",
      "Requirement already satisfied: deprecated>=1.2.6 in ./venv/lib/python3.9/site-packages (from opentelemetry-api>=1.2.0->chromadb) (1.2.14)\r\n",
      "Requirement already satisfied: googleapis-common-protos~=1.52 in ./venv/lib/python3.9/site-packages (from opentelemetry-exporter-otlp-proto-grpc>=1.2.0->chromadb) (1.62.0)\r\n",
      "Requirement already satisfied: opentelemetry-exporter-otlp-proto-common==1.22.0 in ./venv/lib/python3.9/site-packages (from opentelemetry-exporter-otlp-proto-grpc>=1.2.0->chromadb) (1.22.0)\r\n",
      "Requirement already satisfied: opentelemetry-proto==1.22.0 in ./venv/lib/python3.9/site-packages (from opentelemetry-exporter-otlp-proto-grpc>=1.2.0->chromadb) (1.22.0)\r\n",
      "Requirement already satisfied: opentelemetry-instrumentation-asgi==0.43b0 in ./venv/lib/python3.9/site-packages (from opentelemetry-instrumentation-fastapi>=0.41b0->chromadb) (0.43b0)\r\n",
      "Requirement already satisfied: opentelemetry-instrumentation==0.43b0 in ./venv/lib/python3.9/site-packages (from opentelemetry-instrumentation-fastapi>=0.41b0->chromadb) (0.43b0)\r\n",
      "Requirement already satisfied: opentelemetry-semantic-conventions==0.43b0 in ./venv/lib/python3.9/site-packages (from opentelemetry-instrumentation-fastapi>=0.41b0->chromadb) (0.43b0)\r\n",
      "Requirement already satisfied: opentelemetry-util-http==0.43b0 in ./venv/lib/python3.9/site-packages (from opentelemetry-instrumentation-fastapi>=0.41b0->chromadb) (0.43b0)\r\n",
      "Requirement already satisfied: setuptools>=16.0 in ./venv/lib/python3.9/site-packages (from opentelemetry-instrumentation==0.43b0->opentelemetry-instrumentation-fastapi>=0.41b0->chromadb) (65.5.1)\r\n",
      "Requirement already satisfied: asgiref~=3.0 in ./venv/lib/python3.9/site-packages (from opentelemetry-instrumentation-asgi==0.43b0->opentelemetry-instrumentation-fastapi>=0.41b0->chromadb) (3.7.2)\r\n",
      "Requirement already satisfied: monotonic>=1.5 in ./venv/lib/python3.9/site-packages (from posthog>=2.4.0->chromadb) (1.6)\r\n",
      "Requirement already satisfied: annotated-types>=0.4.0 in ./venv/lib/python3.9/site-packages (from pydantic<3,>=1->langchain) (0.6.0)\r\n",
      "Requirement already satisfied: pydantic-core==2.14.5 in ./venv/lib/python3.9/site-packages (from pydantic<3,>=1->langchain) (2.14.5)\r\n",
      "Requirement already satisfied: charset-normalizer<4,>=2 in ./venv/lib/python3.9/site-packages (from requests<3,>=2->langchain) (3.3.2)\r\n",
      "Requirement already satisfied: huggingface_hub<1.0,>=0.16.4 in ./venv/lib/python3.9/site-packages (from tokenizers>=0.13.2->chromadb) (0.20.1)\r\n",
      "Requirement already satisfied: click<9.0.0,>=7.1.1 in ./venv/lib/python3.9/site-packages (from typer>=0.9.0->chromadb) (8.1.7)\r\n",
      "Requirement already satisfied: types-urllib3 in ./venv/lib/python3.9/site-packages (from types-requests<3.0.0.0,>=2.31.0.2->langchainhub) (1.26.25.14)\r\n",
      "Requirement already satisfied: httptools>=0.5.0 in ./venv/lib/python3.9/site-packages (from uvicorn[standard]>=0.18.3->chromadb) (0.6.1)\r\n",
      "Requirement already satisfied: python-dotenv>=0.13 in ./venv/lib/python3.9/site-packages (from uvicorn[standard]>=0.18.3->chromadb) (1.0.0)\r\n",
      "Requirement already satisfied: uvloop!=0.15.0,!=0.15.1,>=0.14.0 in ./venv/lib/python3.9/site-packages (from uvicorn[standard]>=0.18.3->chromadb) (0.19.0)\r\n",
      "Requirement already satisfied: watchfiles>=0.13 in ./venv/lib/python3.9/site-packages (from uvicorn[standard]>=0.18.3->chromadb) (0.21.0)\r\n",
      "Requirement already satisfied: websockets>=10.4 in ./venv/lib/python3.9/site-packages (from uvicorn[standard]>=0.18.3->chromadb) (12.0)\r\n",
      "Requirement already satisfied: soupsieve>1.2 in ./venv/lib/python3.9/site-packages (from beautifulsoup4->unstructured) (2.5)\r\n",
      "Requirement already satisfied: joblib in ./venv/lib/python3.9/site-packages (from nltk->unstructured) (1.3.2)\r\n",
      "Requirement already satisfied: jsonpath-python>=1.0.6 in ./venv/lib/python3.9/site-packages (from unstructured-client->unstructured) (1.0.6)\r\n",
      "Requirement already satisfied: mypy-extensions>=1.0.0 in ./venv/lib/python3.9/site-packages (from unstructured-client->unstructured) (1.0.0)\r\n",
      "Requirement already satisfied: cachetools<6.0,>=2.0.0 in ./venv/lib/python3.9/site-packages (from google-auth>=1.0.1->kubernetes>=28.1.0->chromadb) (5.3.2)\r\n",
      "Requirement already satisfied: pyasn1-modules>=0.2.1 in ./venv/lib/python3.9/site-packages (from google-auth>=1.0.1->kubernetes>=28.1.0->chromadb) (0.3.0)\r\n",
      "Requirement already satisfied: rsa<5,>=3.1.4 in ./venv/lib/python3.9/site-packages (from google-auth>=1.0.1->kubernetes>=28.1.0->chromadb) (4.9)\r\n",
      "Requirement already satisfied: filelock in ./venv/lib/python3.9/site-packages (from huggingface_hub<1.0,>=0.16.4->tokenizers>=0.13.2->chromadb) (3.13.1)\r\n",
      "Requirement already satisfied: fsspec>=2023.5.0 in ./venv/lib/python3.9/site-packages (from huggingface_hub<1.0,>=0.16.4->tokenizers>=0.13.2->chromadb) (2023.12.2)\r\n",
      "Requirement already satisfied: humanfriendly>=9.1 in ./venv/lib/python3.9/site-packages (from coloredlogs->onnxruntime>=1.14.1->chromadb) (10.0)\r\n",
      "Requirement already satisfied: mpmath>=0.19 in ./venv/lib/python3.9/site-packages (from sympy->onnxruntime>=1.14.1->chromadb) (1.3.0)\r\n",
      "Requirement already satisfied: pyasn1<0.6.0,>=0.4.6 in ./venv/lib/python3.9/site-packages (from pyasn1-modules>=0.2.1->google-auth>=1.0.1->kubernetes>=28.1.0->chromadb) (0.5.1)\r\n",
      "\r\n",
      "\u001B[1m[\u001B[0m\u001B[34;49mnotice\u001B[0m\u001B[1;39;49m]\u001B[0m\u001B[39;49m A new release of pip is available: \u001B[0m\u001B[31;49m23.3.1\u001B[0m\u001B[39;49m -> \u001B[0m\u001B[32;49m23.3.2\u001B[0m\r\n",
      "\u001B[1m[\u001B[0m\u001B[34;49mnotice\u001B[0m\u001B[1;39;49m]\u001B[0m\u001B[39;49m To update, run: \u001B[0m\u001B[32;49mpip install --upgrade pip\u001B[0m\r\n"
     ]
    }
   ],
   "source": [
    "!pip install langchain openai GitPython chromadb unstructured markdown tiktoken langchainhub"
   ],
   "metadata": {
    "collapsed": false,
    "ExecuteTime": {
     "start_time": "2024-01-18T18:18:12.765799Z",
     "end_time": "2024-01-18T18:18:15.458791Z"
    }
   }
  },
  {
   "cell_type": "code",
   "execution_count": 3,
   "outputs": [
    {
     "data": {
      "text/plain": "True"
     },
     "execution_count": 3,
     "metadata": {},
     "output_type": "execute_result"
    }
   ],
   "source": [
    "from dotenv import load_dotenv\n",
    "load_dotenv()"
   ],
   "metadata": {
    "collapsed": false,
    "ExecuteTime": {
     "start_time": "2024-01-18T18:18:15.459900Z",
     "end_time": "2024-01-18T18:18:15.471864Z"
    }
   }
  },
  {
   "cell_type": "code",
   "execution_count": 4,
   "outputs": [],
   "source": [
    "search_keyword = \"AlwaysBehavior\""
   ],
   "metadata": {
    "collapsed": false,
    "ExecuteTime": {
     "start_time": "2024-01-18T18:18:15.470643Z",
     "end_time": "2024-01-18T18:18:15.473800Z"
    }
   }
  },
  {
   "cell_type": "markdown",
   "source": [
    "## 1. Load documents"
   ],
   "metadata": {
    "collapsed": false
   }
  },
  {
   "cell_type": "code",
   "execution_count": 5,
   "outputs": [],
   "source": [
    "from langchain_community.document_loaders import DirectoryLoader\n",
    "from langchain.document_loaders import UnstructuredMarkdownLoader\n",
    "\n",
    "docs_loader = DirectoryLoader(\"pronto-docs\", glob=\"**/*.md\", loader_cls=UnstructuredMarkdownLoader)\n",
    "docs = docs_loader.load()"
   ],
   "metadata": {
    "collapsed": false,
    "ExecuteTime": {
     "start_time": "2024-01-18T18:18:15.474436Z",
     "end_time": "2024-01-18T18:18:24.219593Z"
    }
   }
  },
  {
   "cell_type": "code",
   "execution_count": 6,
   "outputs": [
    {
     "data": {
      "text/plain": "[Document(page_content='MoveBehavior\\n\\nExtends: Behavior\\n\\nDescription\\n\\nProperty Descriptions\\n\\nmax_velocity\\n\\ngdscript\\n@export var max_velocity = 500\\n\\nMaximum velocity the parent will reach while on the ground\\n\\nacceleration\\n\\ngdscript\\n@export var acceleration = 100\\n\\nAcceleration added to the velocity while being asked to move while on the ground\\n\\nfriction\\n\\ngdscript\\n@export var friction = 20\\n\\nFriction applied to velocity while on the ground\\n\\ngravity\\n\\ngdscript\\n@export var gravity = 0\\n\\nGravity applied to parent. Set to zero to disable falling.\\n\\nfriction_air\\n\\ngdscript\\n@export var friction_air = 0\\n\\nFriction applied to velocity while in the air\\n\\nacceleration_air\\n\\ngdscript\\n@export var acceleration_air = 0\\n\\nAcceleration added to the velocity while being asked to move while in the air\\n\\nrotated\\n\\ngdscript\\n@export var rotated = true\\n\\nWhether the velocity is applied according to the parent\\'s local rotation or in global coordinates.\\n\\nrotation_speed\\n\\ngdscript\\n@export var rotation_speed = 300\\n\\nSpeed at which the parent rotates when asked to.\\n\\nrotate_velocity\\n\\ngdscript\\n@export var rotate_velocity = true\\n\\nWhether to also rotate the velocity vector when the character is rotated. Feels like the parent can drift when disabled.\\n\\nvelocity\\n\\ngdscript\\nvar velocity = \"(0, 0)\"\\n\\nMethod Descriptions\\n\\nis_on_floor\\n\\ngdscript\\nfunc is_on_floor()\\n\\nadd_velocity\\n\\ngdscript\\nfunc add_velocity(velocity: Vector2)\\n\\nset_velocity_y\\n\\ngdscript\\nfunc set_velocity_y(num: float)\\n\\nset_velocity_x\\n\\ngdscript\\nfunc set_velocity_x(num: float)\\n\\nset_veleocity\\n\\ngdscript\\nfunc set_veleocity(velocity: Vector2)\\n\\nset_velocity\\n\\ngdscript\\nfunc set_velocity(velocity: Vector2)\\n\\nmove_direction\\n\\ngdscript\\nfunc move_direction(direction: Vector2)\\n\\nmove_left\\n\\ngdscript\\nfunc move_left()\\n\\nmove_right\\n\\ngdscript\\nfunc move_right()\\n\\nmove_down\\n\\ngdscript\\nfunc move_down()\\n\\nmove_up\\n\\ngdscript\\nfunc move_up()\\n\\nmove_toward\\n\\ngdscript\\nfunc move_toward(pos: Vector2)\\n\\nrotate_left\\n\\ngdscript\\nfunc rotate_left()\\n\\nrotate_right\\n\\ngdscript\\nfunc rotate_right()\\n\\nrotate_direction\\n\\ngdscript\\nfunc rotate_direction(direction)\\n\\nlines\\n\\ngdscript\\nfunc lines()\\n\\nSignals\\n\\nsignal touched_floor(velocity): Only available for [class CharacterBody2D] parents: the character touched the floor.', metadata={'source': 'pronto-docs/MoveBehavior.md'}),\n Document(page_content='ExportBehavior\\n\\nExtends: Behavior\\n\\nDescription\\n\\nConstants Descriptions\\n\\nDEFAULT_AUTHOR\\n\\ngdscript\\nconst DEFAULT_AUTHOR: String = \"<Author>\"\\n\\nDEFAULT_TITLE\\n\\ngdscript\\nconst DEFAULT_TITLE: String = \"<Title>\"\\n\\nProperty Descriptions\\n\\ntitle\\n\\ngdscript\\n@export var title: String = \"<Title>\"\\n\\nSetter: @title_setter\\n\\nThe display title of the game\\n\\nauthors\\n\\ngdscript\\n@export var authors: PackedStringArray\\n\\nSetter: @authors_setter\\n\\nAll authors of the game\\n\\ndescription\\n\\ngdscript\\n@export var description = \"\"\\n\\nSetter: @description_setter\\n\\nThe description of the game\\n\\ntake_screenshot\\n\\ngdscript\\n@export var take_screenshot: bool = true\\n\\nIf true, a screenshot will be taken after a delay and saved as thumbnail.png\\n\\nwait_seconds\\n\\ngdscript\\n@export var wait_seconds: int = 1\\n\\nThe delay until the screenshot is taken\\n\\ntimer\\n\\ngdscript\\nvar timer: Timer\\n\\nexport_path\\n\\ngdscript\\nvar export_path', metadata={'source': 'pronto-docs/ExportBehavior.md'}),\n Document(page_content='QueryBehavior\\n\\nExtends: Behavior\\n\\nDescription\\n\\nProperty Descriptions\\n\\nqueries\\n\\ngdscript\\n@export var queries: Array[Query]\\n\\nMethod Descriptions\\n\\nquery\\n\\ngdscript\\nfunc query(emit_results = true)\\n\\nInitiate a query. Returns [param]\\n\\nSignals\\n\\nsignal found(node): Emitted for each node found, ordered according to the priority strategy. [param node] The node that was found.)\\n\\nsignal found_all(nodes): Emitted once all nodes have been found. [param nodes] The nodes that were found.\\n\\nsignal found_none(): Emitted if no node was found.', metadata={'source': 'pronto-docs/QueryBehavior.md'}),\n Document(page_content='SignalBehavior\\n\\nExtends: Behavior\\n\\nDescription\\n\\nProperty Descriptions\\n\\nenabled\\n\\ngdscript\\n@export var enabled = true\\n\\nIf enabled, the signal will be forwarded when triggered.\\n\\nMethod Descriptions\\n\\ntrigger\\n\\ngdscript\\nfunc trigger()\\n\\ntrigger1\\n\\ngdscript\\nfunc trigger1(arg0)\\n\\ntrigger2\\n\\ngdscript\\nfunc trigger2(arg0, arg1)\\n\\ntrigger3\\n\\ngdscript\\nfunc trigger3(arg0, arg1, arg2)\\n\\ntrigger4\\n\\ngdscript\\nfunc trigger4(arg0, arg1, arg2, arg3)\\n\\nSignals\\n\\nsignal triggered(arg0, arg1, arg2, arg3):', metadata={'source': 'pronto-docs/SignalBehavior.md'}),\n Document(page_content='InspectBehavior\\n\\nExtends: Behavior\\n\\nDescription\\n\\nConstants Descriptions\\n\\nCOOLDOWN_LENGTH_MS\\n\\ngdscript\\nconst COOLDOWN_LENGTH_MS: int = 100\\n\\nProperty Descriptions\\n\\ndefault_property\\n\\ngdscript\\nvar default_property = \"position\"\\n\\ndefault_expression\\n\\ngdscript\\nvar default_expression\\n\\ntarget\\n\\ngdscript\\nvar target: Node2D\\n\\nGetter: @target_getter\\n\\nfont_size\\n\\ngdscript\\nvar font_size = 10\\n\\nSetter: @font_size_setter\\n\\nGetter: @font_size_getter\\n\\nbackground_color\\n\\ngdscript\\nvar background_color = \"(0, 0, 0, 0.2)\"\\n\\nSetter: @background_color_setter\\n\\ncolor\\n\\ngdscript\\nvar color = \"(1, 1, 1, 1)\"\\n\\nSetter: @color_setter\\n\\nGetter: @color_getter\\n\\nhighlight_color\\n\\ngdscript\\nvar highlight_color: Color = \"(1, 0, 0, 1)\"\\n\\nshape_rect\\n\\ngdscript\\nvar shape_rect\\n\\nshape_size\\n\\ngdscript\\nvar shape_size\\n\\nSetter: @shape_size_setter\\n\\nsize\\n\\ngdscript\\nvar size\\n\\nGetter: @size_getter\\n\\nsticky_transform\\n\\ngdscript\\nvar sticky_transform\\n\\nsticky\\n\\ngdscript\\nvar sticky: bool = false\\n\\nSetter: @sticky_setter\\n\\nGetter: @sticky_getter\\n\\nlabel\\n\\ngdscript\\nvar label: RichTextLabel\\n\\npadding\\n\\ngdscript\\nvar padding = 1\\n\\nshadow_thickness\\n\\ngdscript\\nvar shadow_thickness = 1\\n\\nitems\\n\\ngdscript\\nvar items: Array[Item]\\n\\nMethod Descriptions\\n\\nget_expression\\n\\ngdscript\\nfunc get_expression(i: int) -> String\\n\\nset_expression\\n\\ngdscript\\nfunc set_expression(i: int, v: String)\\n\\nget_property\\n\\ngdscript\\nfunc get_property(i: int) -> String\\n\\nset_property\\n\\ngdscript\\nfunc set_property(i: int, v: String)\\n\\nupdate\\n\\ngdscript\\nfunc update()\\n\\nhandles\\n\\ngdscript\\nfunc handles()\\n\\nSub-classes\\n\\nItem\\n\\nProperty Descriptions\\n\\nlabel\\n\\ngdscript\\nvar label\\n\\nvalue\\n\\ngdscript\\nvar value\\n\\ncooldown_time\\n\\ngdscript\\nvar cooldown_time: int = 0\\n\\nproperty\\n\\ngdscript\\nvar property: String\\n\\nexpression\\n\\ngdscript\\nvar expression\\n\\nvalue_string\\n\\ngdscript\\nvar value_string: String\\n\\nMethod Descriptions\\n\\nupdate\\n\\ngdscript\\nfunc update(target: Node, index: int, inspect: InspectBehavior) -> bool\\n\\nadd_to_label\\n\\ngdscript\\nfunc add_to_label(label: RichTextLabel, highlight_color: Color, should_truncate: bool = false)\\n\\nget_display_string\\n\\ngdscript\\nfunc get_display_string(should_truncate: bool = false) -> String', metadata={'source': 'pronto-docs/InspectBehavior.md'}),\n Document(page_content='SceneRootBehavior\\n\\nExtends: Behavior\\n\\nDescription\\n\\nProperty Descriptions\\n\\nscene_tree\\n\\ngdscript\\nvar scene_tree: SceneTree\\n\\nThe scene tree (calculated in [method SceneRootBehavior._ready])\\n\\nMethod Descriptions\\n\\napply\\n\\ngdscript\\nfunc apply(group: StringName, lamda_func: Callable, from: Node2D)\\n\\nThis will execute [param lamda_func] on all group elements in the given group.\\n\\napply_with_filter\\n\\ngdscript\\nfunc apply_with_filter(group: StringName, lamda_func: Callable, filter_func: Callable, from: Node2D)\\n\\nThis will execute [param lamda_func] on all group elements in the given group, where [param filter_func] evaluates to true.\\n\\napply_within_dist\\n\\ngdscript\\nfunc apply_within_dist(group: StringName, lamda_func: Callable, position: Vector2, max_dist: float, from: Node2D)\\n\\nThis will execute [param lamda_func] on all group elements in the given group, that have a maximum distance of [param max_dist] from the provied position.\\n\\nnotify_group\\n\\ngdscript\\nfunc notify_group(group: StringName, notification: int)\\n\\nnotify_group_flags\\n\\ngdscript\\nfunc notify_group_flags(call_flags: int, group: StringName, notification: int)\\n\\nreload_current_scene\\n\\ngdscript\\nfunc reload_current_scene()\\n\\nset_group\\n\\ngdscript\\nfunc set_group(group: StringName, property: String, value: Variant)\\n\\nset_group_flags\\n\\ngdscript\\nfunc set_group_flags(call_flags: int, group: StringName, property: String, value: Variant)\\n\\nquit\\n\\ngdscript\\nfunc quit(exit_code: int = 0)\\n\\nunload_current_scene\\n\\ngdscript\\nfunc unload_current_scene()\\n\\nSignals\\n\\nsignal node_added(node): Emitted when a node was added to the [member SceneRootBehavior.scene_tree]  [param node]: the node that was added\\n\\nsignal node_removed(node): Emitted when a node was removed from the [member SceneRootBehavior.scene_tree]  [param node]: the node that was removed\\n\\nsignal tree_changed(): Emitted on any change in the [member SceneRootBehavior.scene_tree]', metadata={'source': 'pronto-docs/SceneRootBehavior.md'}),\n Document(page_content='AlwaysBehavior\\n\\nExtends: Behavior\\n\\nDescription\\n\\nSee [signal AlwaysBehavior.always] and [signal AlwaysBehavior.physics_always] for a description of which signal to listen to.\\n\\nSee [signal AlwaysBehavior.always] and [signal AlwaysBehavior.physics_always] for a description of which signal to listen to.\\n\\nProperty Descriptions\\n\\npaused\\n\\ngdscript\\n@export var paused = false\\n\\nIf this is set to [code]true[/code] the AlwaysBehavior will stop emitting any signals. During runtime, do not set this directly. Instead use [method AlwaysBehavior.pause] and [method AlwaysBehavior.resume]\\n\\nMethod Descriptions\\n\\npause\\n\\ngdscript\\nfunc pause()\\n\\nCalling this method results in pausing the execution of always Use [method AlwaysBehavior.resume] to continue the execution\\n\\nresume\\n\\ngdscript\\nfunc resume()\\n\\nCalling this method results in continuing the paused execution Use [method AlwaysBehavior.pause] to stop it again.\\n\\nSignals\\n\\nsignal always(delta): This Signal gets emitted every frame in the [method AlwaysBehavior._process] method if [member AlwaysBehavior.paused] is set to [code]false[/code]\\n\\nsignal physiscs_always(delta): This Signal gets emitted every frame in the [method AlwaysBehavior._physics_process] method if [member AlwaysBehavior.paused] is set to [code]false[/code]', metadata={'source': 'pronto-docs/AlwaysBehavior.md'}),\n Document(page_content=\"DragBehavior\\n\\nExtends: Behavior\\n\\nDescription\\n\\nProperty Descriptions\\n\\nbutton_mask\\n\\ngdscript\\n@export var button_mask: int = 1\\n\\nMouse button mask for pick/drop. Only selected buttons can pick up the parent node.\\n\\nemit_mouse_position\\n\\ngdscript\\n@export var emit_mouse_position = false\\n\\nIf true, picked, dropped and dragged events emit the mouse position instead of the parent node's position.\\n\\nlast_position\\n\\ngdscript\\nvar last_position: Vector2\\n\\nstart_position\\n\\ngdscript\\nvar start_position: Vector2\\n\\nis_hovering_parent\\n\\ngdscript\\nvar is_hovering_parent = false\\n\\nMethod Descriptions\\n\\nevent_position\\n\\ngdscript\\nfunc event_position(position: Vector2) -> Vector2\\n\\nChoose position based on emit_mouse_position\\n\\nSignals\\n\\nsignal mouse_entered(position): Emitted when the mouse enters the parent node.  [param position] is the global position where the mouse entered the parent node\\n\\nsignal mouse_exited(position): Emitted when the mouse leaves the parent node.  [param position] is the global position where the mouse exited the parent node\\n\\nsignal picked(position): Emitted when picked up by clicking  [param position] is the global position of the parent node.\\n\\nsignal dropped(position, start): Emitted when dropping  [param position] is the global position of the parent node.  [param  start_position] is the parent's global position at the start of dragging\\n\\nsignal dragged(position, start, last): Emitted during dragging  [param position] is the global position of the parent node  [param start_position] is the global position at which the parent node was started to be dragged  [param last_position] is the global position where the last movement of the parent started\", metadata={'source': 'pronto-docs/DragBehavior.md'}),\n Document(page_content='CameraShakeBehavior\\n\\nExtends: Behavior\\n\\nDescription\\n\\nThe functionality was adapted from https://kidscancode.org/godot_recipes/3.x/2d/screen_shake/\\n\\nThe functionality was adapted from https://kidscancode.org/godot_recipes/3.x/2d/screen_shake/\\n\\nProperty Descriptions\\n\\ndecay\\n\\ngdscript\\n@export var decay = 0.8\\n\\nDetermines how quickly the shake stops. Values must lie in [0, 1]. [code]0[/code] means it will never stop and [code]1[/code] will stop it instantly.\\n\\nmax_offset\\n\\ngdscript\\n@export var max_offset = \"(100, 75)\"\\n\\nThe maximum horizontal and vertical shake in pixels\\n\\nmax_roll\\n\\ngdscript\\n@export var max_roll = 0.1\\n\\nThe maximum rotation in radiants\\n\\ntrauma\\n\\ngdscript\\nvar trauma = 0\\n\\nThe current shake strength\\n\\nnoise_y\\n\\ngdscript\\nvar noise_y = 0\\n\\nnoise\\n\\ngdscript\\nvar noise\\n\\nMethod Descriptions\\n\\nadd_trauma\\n\\ngdscript\\nfunc add_trauma(amount)\\n\\ngdscript\\nfunc n(factor: float)', metadata={'source': 'pronto-docs/CameraShakeBehavior.md'}),\n Document(page_content='ClockBehavior\\n\\nExtends: Behavior\\n\\nDescription\\n\\nProperty Descriptions\\n\\ncycle_count\\n\\ngdscript\\n@export var cycle_count: int = -1\\n\\nHow often the signal [signal ClockBehavor.elapsed] will be emitted. A value of [code]-1[/code] means no limit.\\n\\nduration_seconds\\n\\ngdscript\\n@export var duration_seconds: float = 1\\n\\nSetter: @duration_seconds_setter\\n\\nGetter: @duration_seconds_getter\\n\\nTimer duration in seconds\\n\\npaused\\n\\ngdscript\\n@export var paused: bool\\n\\nSetter: @paused_setter\\n\\nGetter: @paused_getter\\n\\nIf set to [code]true[/code], the timere will pause itself and resume as soon as it is set to [code]false[/code] again.\\n\\ntrigger_every_frame\\n\\ngdscript\\n@export var trigger_every_frame: bool\\n\\nSetter: @trigger_every_frame_setter\\n\\nGetter: @trigger_every_frame_getter\\n\\nDetermines the mode of operation. If this is set to [code]true[/code], the normal timer functionality is used.  Mutual exclusive to [member ClockBehavior.trigger_every_x_seconds]\\n\\ntrigger_every_x_seconds\\n\\ngdscript\\n@export var trigger_every_x_seconds: bool\\n\\nSetter: @trigger_every_x_seconds_setter\\n\\nGetter: @trigger_every_x_seconds_getter\\n\\nDetermines the mode of operation. If this is set to [code]true[/code], the custom \"trigger every x seconds\" functionality is used. This means the ClockBehavior will emit [signal ClockBehavior.until_elapsed] when the last emit of that signal was at least [member ClockBehavior.trigger_interval_in_seconds] seconds ago.  Mutual exclusive to [member ClockBehavior.trigger_every_frame]\\n\\ntrigger_interval_in_seconds\\n\\ngdscript\\n@export var trigger_interval_in_seconds: float\\n\\nSetter: @trigger_interval_in_seconds_setter\\n\\nGetter: @trigger_interval_in_seconds_getter\\n\\nIf [member ClockBehavior.trigger_every_x_seconds] is set to [code]true[/code], this determines the interval in which [signal ClockBehavior.until_elapsed] is emitted\\n\\nMethod Descriptions\\n\\nreset_and_start\\n\\ngdscript\\nfunc reset_and_start()\\n\\nSignals\\n\\nsignal elapsed(): Emitted on [method Timer.timeout]\\n\\nsignal until_elapsed(): Emitted in one of two cases:  1. If [member ClockBehavior.trigger_every_frame] is set to [code]true[/code], then this is emitted every frame that the timer is active.  2. If [member ClockBehavior.trigger_every_x_seconds] is set to [code]true[/code], then this is emitted if the last trigger was [member ClockBehavior.trigger_interval_in_seconds] seconds ago.', metadata={'source': 'pronto-docs/ClockBehavior.md'}),\n Document(page_content=\"KeyBehavior\\n\\nExtends: Behavior\\n\\nDescription\\n\\nEach KeyBehavior can react to exactly one key and emits signals corresponding to the user interactions with that key.\\n\\nEach KeyBehavior can react to exactly one key and emits signals corresponding to the user interactions with that key.\\n\\nProperty Descriptions\\n\\nkey\\n\\ngdscript\\n@export var key: String\\n\\nThe key that the KeyBehavior reacts to. Its value has to be one of the keycodes generated by [method Event.as_text_keycode]. For special keys use 'Space' and 'Backslash' instead of ' ' or '\\\\'\\n\\nis_pressed\\n\\ngdscript\\nvar is_pressed: bool = false\\n\\nShows whether the key is currently pressed\\n\\npressed_since\\n\\ngdscript\\nvar pressed_since: int = 0\\n\\nShows the time in milliseconds that the key has been pressed Is [code]0[/code] as long as the key is not pressed.\\n\\nMethod Descriptions\\n\\nlines\\n\\ngdscript\\nfunc lines()\\n\\nOverride of [method Behavior.lines] Used to add the [member KeyBehavior.key] below the icon\\n\\nSignals\\n\\nsignal down(): Emitted in the [method Node._input] callback when the [member KeyBehavior.key] is pressed down\\n\\nsignal up(): Emitted in the [method Node._input] callback when the [member KeyBehavior.key] is raised up\\n\\nsignal toggled(down): Emitted with [signal KeyBehavior.down] and [signal KeyBehavior.up] [param down] tells in which direction the toggle happened\\n\\nsignal pressed(): Emitted every frame as long as the [member KeyBehavior.key] is pressed\\n\\nsignal just_down(): Emitted in the [method Node._input] callback the first moment, the down-event is catched.\\n\\nsignal just_up(duration): Emitted in the [method Node._input] callback the first moment, the up-event is catched. [param duration] is the time in milliseconds that the key was down\", metadata={'source': 'pronto-docs/KeyBehavior.md'}),\n Document(page_content='PerformanceUIBehavior\\n\\nExtends: Behavior\\n\\nDescription\\n\\nConstants Descriptions\\n\\nmonitor\\n\\ngdscript\\nenum monitor{TIME_FPS = 0, TIME_PROCESS = 1, TIME_PHYSICS_PROCESS = 2, TIME_NAVIGATION_PROCESS = 3, MEMORY_STATIC = 4, MEMORY_STATIC_MAX = 5, MEMORY_MESSAGE_BUFFER_MAX = 6, OBJECT_COUNT = 7, OBJECT_RESOURCE_COUNT = 8, OBJECT_NODE_COUNT = 9, OBJECT_ORPHAN_NODE_COUNT = 10, RENDER_TOTAL_OBJECTS_IN_FRAME = 11, RENDER_TOTAL_PRIMITIVES_IN_FRAME = 12, RENDER_TOTAL_DRAW_CALLS_IN_FRAME = 13, RENDER_VIDEO_MEM_USED = 14, RENDER_TEXTURE_MEM_USED = 15, RENDER_BUFFER_MEM_USED = 16, PHYSICS_2D_ACTIVE_OBJECTS = 17, PHYSICS_2D_COLLISION_PAIRS = 18, PHYSICS_2D_ISLAND_COUNT = 19, PHYSICS_3D_ACTIVE_OBJECTS = 20, PHYSICS_3D_COLLISION_PAIRS = 21, PHYSICS_3D_ISLAND_COUNT = 22, AUDIO_OUTPUT_LATENCY = 23, NAVIGATION_ACTIVE_MAPS = 24, NAVIGATION_REGION_COUNT = 25, NAVIGATION_AGENT_COUNT = 26, NAVIGATION_LINK_COUNT = 27, NAVIGATION_POLYGON_COUNT = 28, NAVIGATION_EDGE_COUNT = 29, NAVIGATION_EDGE_MERGE_COUNT = 30, NAVIGATION_EDGE_CONNECTION_COUNT = 31, NAVIGATION_EDGE_FREE_COUNT = 32, MONITOR_MAX = 33}\\n\\nProperty Descriptions\\n\\nfps_warn\\n\\ngdscript\\n@export var fps_warn: int = 0\\n\\nSetter: @fps_warn_setter\\n\\nSet the lower limit of when the fps_warning signal should be fired. (0 means never)\\n\\nTIME_FPS\\n\\ngdscript\\n@export var TIME_FPS: bool = true\\n\\nOBJECT_NODE_COUNT\\n\\ngdscript\\n@export var OBJECT_NODE_COUNT: bool = true\\n\\nTIME_PROCESS\\n\\ngdscript\\n@export var TIME_PROCESS: bool = false\\n\\nTIME_PHYSICS_PROCESS\\n\\ngdscript\\n@export var TIME_PHYSICS_PROCESS: bool = false\\n\\nTIME_NAVIGATION_PROCESS\\n\\ngdscript\\n@export var TIME_NAVIGATION_PROCESS: bool = false\\n\\nMEMORY_STATIC\\n\\ngdscript\\n@export var MEMORY_STATIC: bool = false\\n\\nMEMORY_STATIC_MAX\\n\\ngdscript\\n@export var MEMORY_STATIC_MAX: bool = false\\n\\nMEMORY_MESSAGE_BUFFER_MAX\\n\\ngdscript\\n@export var MEMORY_MESSAGE_BUFFER_MAX: bool = false\\n\\nOBJECT_COUNT\\n\\ngdscript\\n@export var OBJECT_COUNT: bool = false\\n\\nOBJECT_RESOURCE_COUNT\\n\\ngdscript\\n@export var OBJECT_RESOURCE_COUNT: bool = false\\n\\nOBJECT_ORPHAN_NODE_COUNT\\n\\ngdscript\\n@export var OBJECT_ORPHAN_NODE_COUNT: bool = false\\n\\nRENDER_TOTAL_OBJECTS_IN_FRAME\\n\\ngdscript\\n@export var RENDER_TOTAL_OBJECTS_IN_FRAME: bool = false\\n\\nRENDER_TOTAL_PRIMITIVES_IN_FRAME\\n\\ngdscript\\n@export var RENDER_TOTAL_PRIMITIVES_IN_FRAME: bool = false\\n\\nRENDER_TOTAL_DRAW_CALLS_IN_FRAME\\n\\ngdscript\\n@export var RENDER_TOTAL_DRAW_CALLS_IN_FRAME: bool = false\\n\\nRENDER_VIDEO_MEM_USED\\n\\ngdscript\\n@export var RENDER_VIDEO_MEM_USED: bool = false\\n\\nRENDER_TEXTURE_MEM_USED\\n\\ngdscript\\n@export var RENDER_TEXTURE_MEM_USED: bool = false\\n\\nRENDER_BUFFER_MEM_USED\\n\\ngdscript\\n@export var RENDER_BUFFER_MEM_USED: bool = false\\n\\nPHYSICS_2D_ACTIVE_OBJECTS\\n\\ngdscript\\n@export var PHYSICS_2D_ACTIVE_OBJECTS: bool = false\\n\\nPHYSICS_2D_COLLISION_PAIRS\\n\\ngdscript\\n@export var PHYSICS_2D_COLLISION_PAIRS: bool = false\\n\\nPHYSICS_2D_ISLAND_COUNT\\n\\ngdscript\\n@export var PHYSICS_2D_ISLAND_COUNT: bool = false\\n\\nPHYSICS_3D_ACTIVE_OBJECTS\\n\\ngdscript\\n@export var PHYSICS_3D_ACTIVE_OBJECTS: bool = false\\n\\nPHYSICS_3D_COLLISION_PAIRS\\n\\ngdscript\\n@export var PHYSICS_3D_COLLISION_PAIRS: bool = false\\n\\nPHYSICS_3D_ISLAND_COUNT\\n\\ngdscript\\n@export var PHYSICS_3D_ISLAND_COUNT: bool = false\\n\\nAUDIO_OUTPUT_LATENCY\\n\\ngdscript\\n@export var AUDIO_OUTPUT_LATENCY: bool = false\\n\\nNAVIGATION_ACTIVE_MAPS\\n\\ngdscript\\n@export var NAVIGATION_ACTIVE_MAPS: bool = false\\n\\nNAVIGATION_REGION_COUNT\\n\\ngdscript\\n@export var NAVIGATION_REGION_COUNT: bool = false\\n\\nNAVIGATION_AGENT_COUNT\\n\\ngdscript\\n@export var NAVIGATION_AGENT_COUNT: bool = false\\n\\nNAVIGATION_LINK_COUNT\\n\\ngdscript\\n@export var NAVIGATION_LINK_COUNT: bool = false\\n\\nNAVIGATION_POLYGON_COUNT\\n\\ngdscript\\n@export var NAVIGATION_POLYGON_COUNT: bool = false\\n\\nNAVIGATION_EDGE_COUNT\\n\\ngdscript\\n@export var NAVIGATION_EDGE_COUNT: bool = false\\n\\nNAVIGATION_EDGE_MERGE_COUNT\\n\\ngdscript\\n@export var NAVIGATION_EDGE_MERGE_COUNT: bool = false\\n\\nNAVIGATION_EDGE_CONNECTION_COUNT\\n\\ngdscript\\n@export var NAVIGATION_EDGE_CONNECTION_COUNT: bool = false\\n\\nNAVIGATION_EDGE_FREE_COUNT\\n\\ngdscript\\n@export var NAVIGATION_EDGE_FREE_COUNT: bool = false\\n\\nminimized\\n\\ngdscript\\n@export var minimized: bool = false\\n\\nIf [code]true[/code] the PerformanceUI starts minimized.\\n\\npanel_size\\n\\ngdscript\\n@export var panel_size: Vector2 = \"(300, 200)\"\\n\\nSetter: @panel_size_setter\\n\\nlabel_cache\\n\\ngdscript\\nvar label_cache\\n\\npanel\\n\\ngdscript\\nvar panel: PanelContainer\\n\\nmuted_gray\\n\\ngdscript\\nvar muted_gray: Color = \"(0.69, 0.69, 0.69, 1)\"\\n\\nvbox\\n\\ngdscript\\nvar vbox: VBoxContainer\\n\\nheader\\n\\ngdscript\\nvar header: HBoxContainer\\n\\nstart\\n\\ngdscript\\nvar start: Vector2\\n\\ninit_position\\n\\ngdscript\\nvar init_position: Vector2\\n\\nis_moving\\n\\ngdscript\\nvar is_moving: bool\\n\\nis_resizing\\n\\ngdscript\\nvar is_resizing: bool\\n\\nresize_x\\n\\ngdscript\\nvar resize_x: bool\\n\\nresize_y\\n\\ngdscript\\nvar resize_y: bool\\n\\ninitial_size\\n\\ngdscript\\nvar initial_size: Vector2\\n\\ngrab_threshold\\n\\ngdscript\\nvar grab_threshold: int = 30\\n\\nresize_threshold\\n\\ngdscript\\nvar resize_threshold: int = 10\\n\\nMethod Descriptions\\n\\ncreate_minimizing_button\\n\\ngdscript\\nfunc create_minimizing_button()\\n\\ncreate_header\\n\\ngdscript\\nfunc create_header()\\n\\nhandle_size_button_click\\n\\ngdscript\\nfunc handle_size_button_click(button: Button, initial: bool = false)\\n\\nhandles\\n\\ngdscript\\nfunc handles()\\n\\nSignals\\n\\nsignal fps_warning(current_fps):', metadata={'source': 'pronto-docs/PerformanceUIBehavior.md'}),\n Document(page_content='VisualLineBehavior\\n\\nExtends: Behavior\\n\\nDescription\\n\\nProperty Descriptions\\n\\nfrom\\n\\ngdscript\\n@export var from: Node2D\\n\\nThe starting node of the line\\n\\nto\\n\\ngdscript\\n@export var to: Node2D\\n\\nThe target node of the line\\n\\nline_color\\n\\ngdscript\\n@export var line_color = \"(1, 1, 1, 1)\"\\n\\nSetter: @line_color_setter\\n\\nThe color that the line will be drawn in\\n\\nline_width\\n\\ngdscript\\n@export var line_width = 2\\n\\nSetter: @line_width_setter\\n\\nThe thickness of the line\\n\\nline_length\\n\\ngdscript\\nvar line_length: float = 0\\n\\nMethod Descriptions\\n\\nshow_icon\\n\\ngdscript\\nfunc show_icon()\\n\\nget_line_length\\n\\ngdscript\\nfunc get_line_length()', metadata={'source': 'pronto-docs/VisualLineBehavior.md'}),\n Document(page_content='CollisionBehavior\\n\\nExtends: Behavior\\n\\nDescription\\n\\nProperty Descriptions\\n\\nlimit_to_group\\n\\ngdscript\\n@export var limit_to_group: String = \"\"\\n\\nSet this to a group label in order to limit collisions to nodes in that group. Leave it at [code]\"\"[/code] to collide with every node.\\n\\nscreen_entered_emitted\\n\\ngdscript\\nvar screen_entered_emitted = false\\n\\nscreen_exited_emitted\\n\\ngdscript\\nvar screen_exited_emitted = false\\n\\nMethod Descriptions\\n\\non_collision\\n\\ngdscript\\nfunc on_collision(other: Node)\\n\\nis_valid_parent\\n\\ngdscript\\nfunc is_valid_parent()\\n\\nlines\\n\\ngdscript\\nfunc lines()\\n\\nSignals\\n\\nsignal collided(other, direction): Gets emitted when the parent collides with another node.  [param other] is the node that the parent collided with  [param direction] is the normalized direction in which the [param other] is from the parent node\\'s position\\n\\nsignal screen_exited():\\n\\nsignal screen_entered():', metadata={'source': 'pronto-docs/CollisionBehavior.md'}),\n Document(page_content='BackgroundBehavior\\n\\nExtends: Behavior\\n\\nDescription\\n\\nProperty Descriptions\\n\\ncolor\\n\\ngdscript\\n@export var color = \"(0.3922, 0.5843, 0.9294, 1)\"\\n\\nSetter: @color_setter\\n\\nThe color of the background rectangle', metadata={'source': 'pronto-docs/BackgroundBehavior.md'}),\n Document(page_content=\"StateBehavior\\n\\nExtends: Behavior\\n\\nDescription\\n\\nEach StateBehavior emits the signals [signal StateBehavior.entered] and [signal StateBehavior.exited] to communicate the state machine's state\\n\\nEach StateBehavior emits the signals [signal StateBehavior.entered] and [signal StateBehavior.exited] to communicate the state machine's state\\n\\nProperty Descriptions\\n\\nactive\\n\\ngdscript\\n@export var active: bool = false\\n\\nSetter: @active_setter\\n\\nGetter: @active_getter\\n\\nModeles whether the state reacts to transitions at all. The sum of all [code]active[/code] variables is the state of the state machine Use this variable to determine the initial state.\\n\\nMethod Descriptions\\n\\nenter\\n\\ngdscript\\nfunc enter()\\n\\nFunction that tells the state to become active. Works only if the state is not active yet.\\n\\nexit\\n\\ngdscript\\nfunc exit(target_state_name: String)\\n\\nFunction that tells the state to become inactive. Works only if the state is active. The [param transition_id] is forwarded to the [signal StateBehavior.exited] signal and can thus be used to determine which transition to trigger.\\n\\nline_text_function\\n\\ngdscript\\nfunc line_text_function(connection: Connection) -> Callable\\n\\nOverride of [method Behavior.line_text_function]. Used to display the node name of a target StateBehavior on a line\\n\\nlines\\n\\ngdscript\\nfunc lines()\\n\\nOverride of [method Behavior.lines] Used to add the State name below the icon\\n\\nicon_texture\\n\\ngdscript\\nfunc icon_texture()\\n\\nOverride of the corresponding method in Behavior.gd Used to display the correct icon when the StateBehavior is active or inactive\\n\\nSignals\\n\\nsignal entered(): Signal that gets emitted when the state becomes active\\n\\nsignal exited(target_state_name): Signal that gets emitted when the state becomes inactive. Use [param transition_id] to determine in the transitions' condition which transition to trigger.\", metadata={'source': 'pronto-docs/StateBehavior.md'}),\n Document(page_content='HealthBarBehavior\\n\\nExtends: Behavior\\n\\nDescription\\n\\nIt communicates the current live and the death via the signals [signal HealthBehavior.changed] and [signal HealthBehavior.death].\\n\\nIt communicates the current live and the death via the signals [signal HealthBehavior.changed] and [signal HealthBehavior.death].\\n\\nConstants Descriptions\\n\\nLABEL\\n\\ngdscript\\nenum LABEL{None = 0, Health = 1, Fraction = 2, Percentage = 3}\\n\\nThis enum defines how the label is supposed to be displayed.\\n\\nProperty Descriptions\\n\\nmax\\n\\ngdscript\\n@export var max: int = 100\\n\\nSetter: @max_setter\\n\\nThe maximum health value.\\n\\ncurrent\\n\\ngdscript\\n@export var current: int = 100\\n\\nSetter: @current_setter\\n\\nThe current health value (cannot exceed max).\\n\\nhealthbar_size\\n\\ngdscript\\n@export var healthbar_size = \"(50, 5)\"\\n\\nSetter: @healthbar_size_setter\\n\\nThe size of the displayed healthbar.\\n\\nlabel\\n\\ngdscript\\n@export var label: HealthBarBehavior.LABEL = 1\\n\\nSetter: @label_setter\\n\\nThe style for displaying the current health as text inside the healthbar.\\n\\nbackground_color\\n\\ngdscript\\n@export var background_color = \"(0.251, 0.251, 0.251, 0.502)\"\\n\\nSetter: @background_color_setter\\n\\nThe background color of the healthbar.\\n\\ntext_color\\n\\ngdscript\\n@export var text_color = \"(1, 1, 1, 1)\"\\n\\nSetter: @text_color_setter\\n\\nThe text color of the healthbar.\\n\\nprogress_gradient\\n\\ngdscript\\n@export var progress_gradient: Gradient\\n\\nSetter: @progress_gradient_setter\\n\\nThe progress_gradient is used for coloring the HealthBar according to the current health. The current color is chosen according to the value of [code]current/max[/code].\\n\\ninvulnerable\\n\\ngdscript\\n@export var invulnerable = false\\n\\nSetter: @invulnerable_setter\\n\\nIf invulnerable the player cannot take damage via the [code]damage()[/code] method. [br]However, [code]set_health()[/code] will still work!\\n\\nallow_healing_when_invulnerable\\n\\ngdscript\\n@export var allow_healing_when_invulnerable = false\\n\\nIf [i]false[/i], the player will not heal with [code]heal()[/code] or [code]heal_full()[/code] when invulnerable. [br]If [i]true[/i], the player will heal as usual even when he is invulnerable.\\n\\ninvulnerability_color\\n\\ngdscript\\n@export var invulnerability_color = \"(0.8549, 0.6471, 0.1255, 1)\"\\n\\nSetter: @invulnerability_color_setter\\n\\nsize\\n\\ngdscript\\nvar size: Vector2\\n\\nGetter: @size_getter\\n\\nThe height and width of the health bar\\n\\nMethod Descriptions\\n\\ndamage\\n\\ngdscript\\nfunc damage(amount)\\n\\nReduces the current health value by the given [code]amount[/code].\\n\\nheal\\n\\ngdscript\\nfunc heal(amount)\\n\\nIncreases the current health value by the given [code]amount[/code].\\n\\nheal_full\\n\\ngdscript\\nfunc heal_full()\\n\\nSets the current health value to max.\\n\\nset_health\\n\\ngdscript\\nfunc set_health(value)\\n\\nSets the current health value to the given [code]value[/code].\\n\\nshow_icon\\n\\ngdscript\\nfunc show_icon()\\n\\nhandles\\n\\ngdscript\\nfunc handles()\\n\\nSignals\\n\\nsignal changed(health): Emitted when the health value is changed.\\n\\nsignal death(): Emitted when the health value drops to zero or below.', metadata={'source': 'pronto-docs/HealthBarBehavior.md'}),\n Document(page_content='Pronto\\n\\nPronto is a framework for Godot to make prototyping game mechanics faster. It is not a framework aimed at helping to create entire games faster. The resulting prototypes are a means to quickly explore ideas, throw away the prototype, and only properly implement ideas that turned out well.\\n\\nPlay prototypes created in pronto here.\\n\\nFunction\\n\\nThe main idea of Pronto is to make behavior visible. Our hypothesis is that it will be easier to create and tweak game mechanics. For example, instead of defining numbers in code for the distance a platform moves, we use handles in the game world to visually direct it.\\n\\nPronto consists of a set of Godot Nodes called Behavior that can be added to a Godot scene. These behaviors are aspects that, when combined, result in the expression of complex behavior in the Godot scene. All behaviors have visual representation in the scene and primarily function through an event system called Connections. For example, if a timer reaches 5 seconds, a new enemy spawns.\\n\\nPhase 1: Creating a Prototype\\n\\nBuild a tiny Godot game but focus on a single mechanic. Do not focus on visuals. Polish only where it is essential for the mechanic you are creating. Where possible, use the below advice and helpers instead of code for implementation.\\n\\nWhen choosing a mechanic, ask yourself first: Would it be better/faster to build a paper prototype? (If so, consider another mechanic.) What is the minimal feature set I need to implement to see if the mechanic is good? Try and pick a mechanic that is not necessarily the core of the genre but adds an interesting aspect to it and only implement that.\\n\\nTo get started, create a branch with the following pattern:\\n\\n```\\nweek-[week number]-[mechanic name]\\n\\n(e.g., week-0-kart-dash for the tutorial session)\\n```\\n\\nBehaviors\\n\\nThe following list of behaviors act primarily as triggers of events.\\n\\nBehavior \\n Function \\n \\n AlwaysBehavior \\n Triggers every frame. Analog to Godot\\'s  _process  function. Can be paused. \\n \\n ClockBehavior \\n Triggers after or for a set time. Can be set to paused and to only trigger once. When looking to trigger for a specific duration the  Trigger Every Frame  property of  Until Elapsed  needs to be enabled. This will trigger every frame until the timer is elapsed. If you wish to trigger e.g. every second (instead of every frame) you can activate  Trigger Every X Seconds  and set the  Trigger Interval In Seconds  to  1 . Hint: Interval should not be smaller than typical time between frames (delta). \\n \\n CollisionBehavior \\n Triggers when something collides with its parent. The  collided  signal also provides the  direction  of the collision pointing in the direction from the parent to the node it collided with. NOTE: only works for Area2D, RigidBody2D and CharacterBody2D as of now. \\n \\n ControlsBehavior \\n Triggers for mouse interactions and offers a convenient set of triggers for keyboard movement. Exact keybindings are chosen via the  Player  property which allows for up to 3 different controls (Player 1:  WASD , Player 2:  Arrow keys , Player 3:  IJKL ). The  direction  signal can be used for moving a character in combination with a  MoveBehavior . \\n \\n DragBehavior \\n Allows users to drag and drop the parent node using the mouse. Offers signals for hovering/unhovering, dragging/dropping, and moving the node. Supports different types of nodes, including character bodies, rigid bodies, static bodies, sprites, placeholders, and controls. \\n \\n KeyBehavior \\n Triggers when a single keyboard key is pressed or released. \\n \\n NodeReadyBehavior \\n Triggers once after the node (and all its siblings) are  ready . \\n \\n SignalBehavior \\n Forwards a signal when triggered, including arguments.\\n\\nThe following list of behaviors primarily cause effects when triggered.\\n\\nBehavior \\n Function \\n \\n BindBehavior \\n Optionally reads some properties and then writes one property of its parent. Changes to the properties it reads are synced every frame. The read properties are accessible in the convert expression; the first under  value0 , the second under  value1  and so on. For example, create a Label node, add a Bind node as a child, use  text  as property and put any expression in its  convert  field. Another example would use a Clock with a Bind node as a child that uses  duration_seconds  as a property to change the trigger-time depending on a Value-Behavior. \\n \\n CodeBehavior \\n It holds an  execute()  function with both user-definable arguments and a function body, which allows for arbitrary code execution. After  execute()  is called an  after  signal is emitted that carries the execution result, which can be used for chaining. \\n \\n MoveBehavior \\n When triggered, moves its parent. Can be set to move along global or local axes. Supports handling of gravity. \\n \\n PlatformerControllerBehavior \\n Makes the parent behave like a platformer character, meaning that it can jump, move horizontally, and is affected by gravity. Must be a child of a  CharacterBody2D . \\n \\n QueryBehavior \\n Searches for nodes in the scene and emits signals for results. Properties allow to filter, sort, and limit results. Can be used for tasks such as destroying all enemies in a certain radius, infecting a random player, or finding the nearest health pack. \\n \\n SceneRootBehavior \\n Provides access to the  SceneTree  from Godot. It offers the signals  node_added(node: Node) ,  node_remove(node: Node)  and  tree_changed()  from the  SceneTree . Additionally, it implements three methods for executing lambda functions on all or a specific subset of nodes in a given  group . \\n \\n SignalBehavior \\n Forwards signals when triggered, optionally with arguments. Useful for abstraction/encapsulation of lower-level signals, signal renaming, or logical OR-gating of signals. \\n \\n SpawnerBehavior \\n When triggered, spawns whatever its child nodes are at its current location in the scene. Single children nodes can be spawned by modifying the optional index argument in each spawning method to just the respective child node. Use -1 as index to spawn all children. Set use_spawn_shape to true to randomly spawn children in the given shape or polygon. When using a Polygon2D do not use it as a child of the spawner. \\n \\n StopwatchBehavior \\n Starts counting up time when triggered. Can be reset.\\n\\nThe following list of behaviors manage state or communicate visual properties.\\n\\nBehavior \\n Function \\n \\n BackgroundBehavior \\n Add to your scene to change the background color of the scene. \\n \\n CameraShakeBehavior \\n Add as a child of a camera and call its  add_trauma  function to add shake. \\n \\n GroupBehavior \\n Draws a shape around its children to group them visually. Only visible in the editor. \\n \\n HealthBarBehavior \\n Show a rectangular health bar. Offers methods to manipulate the current health and emits a signal when health drops to zero. \\n \\n InspectBehavior \\n Add as a child of a node to inspect its properties inside the game. \\n \\n InstanceBehavior \\n Allows you to define a template subtree of Nodes that you want to repeat multiple times without copy-pasting. Add your template as a child of the Instance node, then hover the connection dialog and click the \"Instance\" button. Note: internally, this creates a \"hidden\" scene that you need to commit as well. You can thus use  \"Editable children\"  in Godot by right-clicking the instance and tweaking properties while inheriting the rest. \\n \\n PlaceholderBehavior \\n Show a colored rectangle with a label. Useful as a quick means to communicate a game object\\'s function. Functions as a collision shape, so you don\\'t need to add another. Instead of a rectangle a placeholder can also display a sprite instead (use the Sprite Library in the Inspector to choose an existing texture or load your own). Can be  flash() ed in a different color. \\n \\n StateMachineBehavior \\n The StateMachineBehavior acts as a purely graphic hint as to which StateBehavior objects belong to the same state machine. The GroupDrawer class is used for this. \\n \\n StateBehavior \\n The StateBehavior is the fundamental building block of a state machine. Each StateBehavior emits the signals  StateBehavior.entered()  and  StateBehavior.exited()  to communicate the state machine\\'s state \\n \\n StoreBehavior \\n Use the Godot meta properties to store state. You can configure it to store values in the global dictionary  G  and access it via  G.at(prop) . \\n \\n ValueBehavior \\n Show a constant you can use in expression visually as a slider. Note that these are shared globally, so create new names if you need to use different values. \\n \\n VisualLineBehavior \\n Show a colored Line between two Nodes. Useful as a quick visual connection.\\n\\nHints\\n\\nExpose the crucial variation points of your mechanic via the Value behavior. You can drop any property of a Node onto the scene to create a Value automatically.\\n\\nFocus on quick-and-dirty, especially when adding code. The second week is used to consolidate changes in the framework.\\n\\nDon\\'t be afraid of copy-and-paste. Copy even your entire prototype, if you want to try multiple directions. If that seems tedious in your use case, consider the Instance behavior.\\n\\nTry to cram everything for your prototype in a single Godot scene so that changing any aspect is possible without having to switch scenes. Make use of the Spawner and Instance Behaviors to facilitate this.\\n\\nYou can use the set function to modify any properties when a connection triggers.\\n\\nJuice\\n\\nThe following list of nodes don\\'t add new functionality, their purpose is to add a bit of juice to your prototypes. They may not make your prototypes good, but they can add to them.\\n\\nJuice \\n Function \\n \\n SparkleJuice \\n Make your scene sparkle!\\n\\nConnections\\n\\nConnections are an extension of Godot signals to be more flexible. Connections can be dragged from any behavior to any arbitrary node in a scene. They are the primary means to assemble your game by wiring Behaviors together.\\n\\nCreating\\n\\nConnections are created by hovering the \"+\" that appears below selected nodes. There are two types of connections: Target Connections and Expression Connections.\\n\\nThe type \"target\" is created by dragging a signal from the list onto its receiver. From the list in the dialog, you can either choose any method to invoke or choose <statement(s)> to execute arbitrary code. In the expressions for the arguments or the arbitrary code, you can write Godot expression that can access from and to.\\n\\nThe type \"expression\" allows to execute arbitrary Godot code without a receiver node. Create an expression connection by double-clicking a signal in the list. You can access from in the code.\\n\\nEditing\\n\\nYou can define a condition for the connection to trigger by entering a Godot expression in condition field. You may refer to from and to in the expression.\\n\\nYou can use the + icon in the header of the connection editor to add references to further nodes by specifying a node path relative to the from node. You can use these nodes in any statement, argument, or condition expression using ref0, ref1, etc. You can right-click these variables in the connection header to edit their path or remove them.\\n\\nYou can disable a connection by unchecking the checkbox in the top-right or in its context menu.\\n\\nYou can also pin a connection editor so that it remains in the scene after saving them. You can click and drag editors in the scene as well. You can drag the handles at the bottom right of each text field to resize the editor.\\n\\nYou can press the \"open script\" button next to any code expression to edit it in a full-screen Godot tab which provides you better syntax highlighting and autocompletion.\\n\\nReordering\\n\\nFrom the context menu of a connection, choose \"Move to top\".\\n\\nDeleting\\n\\nOpen the connection, then click on the trash icon in the top-right.\\n\\nAlternatively, right-click the connection and choose \"Delete\".\\n\\nExpressions\\n\\nPronto scatters code throughout the scene to be as close to the place where it is relevant. Since there is limited space on the screen, we provide a set of utility functions that make formulating common expressions easier. Some are documented below, you can find all in U.gd. (Feel free to extend these.)\\n\\nName \\n Function \\n Example \\n \\n u(node: Node) \\n Wrap the given Node to expose the utility functions for it. \\n u(other).at(\"score\") \\n \\n closest_that(cond: Callable) \\n Find the closest node that matches the given criteria. First checks children, then children of parents in a breadth-first search. \\n closest_that(func (n): return n is Node) \\n \\n group(name: String)   group_do(name: String, c: Callable) \\n Get all nodes in the given group. \\n group_do(\"enemy\", func (e): e.queue_free()) \\n \\n at(name: String) \\n Find the \"closest\"  State  that has a field called  name . If none is found, checks global state in  G . \\n at(\"score\") \\n \\n put(name: String, val: Variant) \\n Find the \"closest\"  State  that has a field called  name  and store the given value. If none is found, checks global state in  G . \\n put(\"score\", 0)\\n\\nAssets\\n\\nWhen creating your game/prototype in Pronto, you might want to use some assets to polish the look of your game. Those things are called assets and we already prepared some for you to use.\\n\\nTileMap\\n\\nIf you want to create a large level you should take a look at the TileMap (default Godot). We already have a TileSet prepared that you can simply load into your TileMap inside the asset folder.\\n\\nCommon Pitfalls\\n\\nPhysicsBody2D\\n\\nCollisions only work when contact monitor is on and the max contacts is at least 1.\\n\\nPhysicsBody2D does not report collisions with Area2D. Instead, listen for collisions with the PhysicsBody on the Area.\\n\\nStaticBody\\n\\nDoes not support reporting collisions at all in Godot. You can instead listen for collisions on the other collision partner.\\n\\nConnections\\n\\nThe $ shorthand of GDScript does not work. Use get_node() instead.\\n\\nself is sadly not defined in connections. Use from and to instead, or make use of any of U\\'s helpers (which are relative to from).\\n\\nMoving nodes around will break connections.\\n\\nInstance\\n\\nBe careful if you used the \"Editable Children\" option to modify nodes in an instanced subtree and then move the corresponding nodes in the template. Your modifications will be lost.\\n\\nVideo Changelog\\n\\n30-90 seconds (no need to cut the video, can be shaky and raw)\\n\\nshow what you did and what insights you gained\\n\\nyou are encouraged to open the game with a couple different parameter configurations and show the impact\\n\\nPhase 2: Extending the Framework\\n\\nWriting a New Behavior\\n\\nChoose an icon to use as thumbnail from the Godot source (it is recommended to download the source as ZIP for easily browsing the list).\\n\\nCreate a {Name}.gd file in addons/pronto/behaviors.\\n\\nAs a header for the file, use:\\n\\n```python\\n@tool\\n\\nthumb(\"IconName\")\\n\\nextends Behavior\\n```\\n\\nProceed to write a Godot Node class as regular, e.g. by using @export and signals.\\n\\n⚠️ make sure to call super implementations of all overwritten methods, e.g. super._ready() and super._process().\\n\\nWhen do I have to reload what?\\n\\nRe-enable the plugin (go to Project>Settings>Plugins and toggle Pronto off and on)\\n\\nWhen creating a completely new Behavior file.\\n\\nRe-open the scene to update existing Behaviors\\n\\nWhen changing a _ready function.\\n\\nWhen creating a new _process function.\\n\\nSwitch scenes back and forth\\n\\nWhen updating a _draw function if no one calls queue_redraw.\\n\\nIf everything goes wrong :-)\\n\\nReload the project from the main menu > Project > Reload Current Project\\n\\nTODO: reproduce in which cases this is necessary\\n\\nHelpers\\n\\nAs helpers for writing commonly needed functionality, you can use the below:\\n\\nConfiguration\\n\\nconnect_ui -> Control show the returned Control at the top of the connect popup (that is opened via the \"+\").\\n\\nshow_icon() -> bool return false to not show the configured icon for the behavior on the canvas.\\n\\nHandles\\n\\nYou can return a list of handles (knobs on the canvas that you can move). See Placeholder and Value behaviors for examples.\\n\\nHandles can exist in local space of the nodes in the canvas or in the space of the overlay (independent of the canvas\\' zoom).\\n\\nLines and Text Below a Behavior\\n\\nYou can draw lines between nodes or put text underneath your behavior by returning Line instances from the lines() function.\\n\\nCanvas Override and Events\\n\\nIf you need to add more controls to your behavior, you have to use the canvas override hooks. You can see the implementation of handles in Behavior.gd as an example of this.\\n\\nOverride _forward_canvas_draw_over_viewport(viewport_control: Control) to draw in the overlay space (independent of the canvas\\' zoom).\\n\\nOverride func _forward_canvas_gui_input(event: InputEvent, undo_redo: EditorUndoRedoManager) to react to events that occur on the canvas. Return true if you want to absorb the passed element.\\n\\n⚠️ make sure to call the super implementations if you override either of these, or handles will no longer work.\\n\\nRuntime Values\\n\\nIn ConnectionDebug.gd you can communicate values from the game back to the engine.\\n\\nBuilding UI\\n\\nEditorIcon: a texture that will load any of the built-in icons and color it according to the configured theme.\\n\\nIn ExpressionInspector.gd you can specify that a property should get a GDScript code editor.\\n\\nHints on Designing new Behaviors\\n\\nDon\\'t bundle too much: give each concern its own behavior, e.g. appearance, movement, shooting. Design behaviors such that they are easy to connect to one another instead of pre-packaging them with lots of concerns.\\n\\nPhase 3: Deploying your Prototype/Game\\n\\nTo deploy your game to hpi-swa-lab.github.io/godot-pronto/ you can use the Build & Deploy Game Action.\\n\\nThis will be done automatically if you created your game via the menu tab Prototype (which automatically creates a branch, folder, main scene and ExportBehavior).\\n\\nHowever, if you didn\\'t use this method you can follow this checklist to export your game.\\n\\nPreparation\\n\\nBefore you can deploy your game check the following:\\n\\nMake your game the main scene of the godot project.\\n\\nMake sure that your game and all assets you use are inside your prototype folder (e.g. prototypes/game-myPrototype).\\n\\nMake sure that your branch-name starts with game- and is named identical to your folder name (e.g. game-myPrototype)\\n\\nMake sure that no filenames or folders have a space character in them.\\n\\nExportBehavior\\n\\nTo automatically export your game do the following:\\n\\nAdd an ExportBehavior (do not rename this node!) anywhere in your game\\n\\nIn the ExportBehavior, you can configure settings such as title, description and authors of the game, as well as how the thumbnail.png gets generated (specified by a delay to automatically take a screenshot)\\n\\nSet your game scene as the main godot scene\\n\\nRun your game once so it will generate a thumbnail\\n\\nmake sure to git add the generated thumbnail.png and game_info.json, commit and push!\\n\\nOnce pushed, the system will automatically trigger a CI workflow to deploy your game.\\nIf everything went well the system will push your game to the gh-pages branch.\\nThis automatically triggers another workflow to rebuild the page.\\nWait until this workflow has completed before going to the next step.\\nAll in all, the game should be live within 3-5 minutes.\\n\\nTesting\\n\\nAfter the workflow executed you can head over to hpi-swa-lab.github.io/godot-pronto/. You should see your game appear in the list of games. Click on the \"Play Now\" button and check if everything is working.\\n\\nDeploying Changes\\n\\nIf you have made any changes to your game and want to deploy a new version, you can just repeat this process. Any existing version of your game will be overwritten.\\n\\nTroubleshooting\\n\\nIf you accidentally trigger the workflow with an incorrect folder name it may execute without generating any errors but will create a new game in the gh-pages branch. This will automatically be rendered into the list of games. In order to delete it, you have to manually remove it from the gh-pages branch. Please be careful when doing so and do not delete any other files other than the projects folder you want to delete.', metadata={'source': 'pronto-docs/README.md'}),\n Document(page_content='StoreBehavior\\n\\nExtends: Behavior\\n\\nDescription\\n\\nProperty Descriptions\\n\\nfields\\n\\ngdscript\\n@export var fields: Dictionary\\n\\nMapping from field names to expressions initializing each field\\n\\ndata\\n\\ngdscript\\nvar data\\n\\nMapping from field names to current values\\n\\nMethod Descriptions\\n\\ninc\\n\\ngdscript\\nfunc inc(prop: String, amount = 1)\\n\\ndec\\n\\ngdscript\\nfunc dec(prop: String, amount = 1)\\n\\nput\\n\\ngdscript\\nfunc put(prop: String, value: Variant)\\n\\nupdate\\n\\ngdscript\\nfunc update(prop: String, call: Callable)\\n\\nat\\n\\ngdscript\\nfunc at(prop: String, default = null)\\n\\nat_and_remove\\n\\ngdscript\\nfunc at_and_remove(prop: String, default = null)\\n\\nhas\\n\\ngdscript\\nfunc has(key: String)\\n\\nlines\\n\\ngdscript\\nfunc lines()\\n\\nSignals\\n\\nsignal sync(prop, value, text): Emitted on change and when the store first becomes ready. Also provides a stringified version of the value.\\n\\nsignal changed(prop, value): Emitted whenever the property changes', metadata={'source': 'pronto-docs/StoreBehavior.md'}),\n Document(page_content='PrototypingUIBehavior\\n\\nExtends: Behavior\\n\\nDescription\\n\\nProperty Descriptions\\n\\nshow_in_export\\n\\ngdscript\\n@export var show_in_export = true\\n\\nIf true, the PrototypingUI will be visible in the export\\n\\ninclude_all_values\\n\\ngdscript\\n@export var include_all_values = true\\n\\nIf [code]true[/code], all values in the scene are added to the menu (if they are visible) [br]If [code]false[/code], only children ValueBehaviors are added to the menu (if they are visible)\\n\\nminimized\\n\\ngdscript\\n@export var minimized: bool = false\\n\\nIf [code]true[/code] the PrototypingUI starts minimized.\\n\\npanel_size\\n\\ngdscript\\n@export var panel_size: Vector2 = \"(300, 200)\"\\n\\nSetter: @panel_size_setter\\n\\npanel\\n\\ngdscript\\nvar panel: PanelContainer\\n\\nmuted_gray\\n\\ngdscript\\nvar muted_gray: Color = \"(0.69, 0.69, 0.69, 1)\"\\n\\nvbox\\n\\ngdscript\\nvar vbox: VBoxContainer\\n\\nheader\\n\\ngdscript\\nvar header: HBoxContainer\\n\\nstart\\n\\ngdscript\\nvar start: Vector2\\n\\ninit_position\\n\\ngdscript\\nvar init_position: Vector2\\n\\nis_moving\\n\\ngdscript\\nvar is_moving: bool\\n\\nis_resizing\\n\\ngdscript\\nvar is_resizing: bool\\n\\nresize_x\\n\\ngdscript\\nvar resize_x: bool\\n\\nresize_y\\n\\ngdscript\\nvar resize_y: bool\\n\\ninitial_size\\n\\ngdscript\\nvar initial_size: Vector2\\n\\ngrab_threshold\\n\\ngdscript\\nvar grab_threshold: int = 30\\n\\nresize_threshold\\n\\ngdscript\\nvar resize_threshold: int = 10\\n\\nMethod Descriptions\\n\\nmaybe_add_config\\n\\ngdscript\\nfunc maybe_add_config(node: Node)\\n\\ncreate_ui_for_value\\n\\ngdscript\\nfunc create_ui_for_value(value: ValueBehavior)\\n\\ncreate_ui_for_value_enum\\n\\ngdscript\\nfunc create_ui_for_value_enum(value: ValueBehavior)\\n\\ncreate_ui_for_value_bool\\n\\ngdscript\\nfunc create_ui_for_value_bool(value: ValueBehavior)\\n\\ncreate_ui_for_code\\n\\ngdscript\\nfunc create_ui_for_code(code: CodeBehavior)\\n\\ncreate_ui_slider_for_value_float\\n\\ngdscript\\nfunc create_ui_slider_for_value_float(value: ValueBehavior)\\n\\ncreate_minimizing_button\\n\\ngdscript\\nfunc create_minimizing_button()\\n\\ncreate_header\\n\\ngdscript\\nfunc create_header()\\n\\nhandle_size_button_click\\n\\ngdscript\\nfunc handle_size_button_click(button: Button, initial: bool = false)\\n\\nhandle_value_bool_change\\n\\ngdscript\\nfunc handle_value_bool_change(index: int, value: ValueBehavior, optionButton: OptionButton)\\n\\nhandle_value_enum_change\\n\\ngdscript\\nfunc handle_value_enum_change(index: int, value: ValueBehavior, optionButton: OptionButton)\\n\\nhandle_update_value_float_change\\n\\ngdscript\\nfunc handle_update_value_float_change(new_value: float, value: ValueBehavior, label_current: Label, slider: HSlider)\\n\\nhandles\\n\\ngdscript\\nfunc handles()', metadata={'source': 'pronto-docs/PrototypingUIBehavior.md'}),\n Document(page_content='GroupBehavior\\n\\nExtends: Behavior\\n\\nDescription', metadata={'source': 'pronto-docs/GroupBehavior.md'}),\n Document(page_content=\"ControlsBehavior\\n\\nExtends: Behavior\\n\\nDescription\\n\\nConstants Descriptions\\n\\nPlayer\\n\\ngdscript\\nenum Player{Player_1 = 0, Player_2 = 1, Player_3 = 2}\\n\\nDefines the available players\\n\\nProperty Descriptions\\n\\nplayer\\n\\ngdscript\\n@export var player: ControlsBehavior.Player = 0\\n\\nDetermines which player these controls are for. This determines the keys that the controls react to. Which keys that are is defined in [member ControlsBehavior.key_map]  See [enum ControlsBehavior.Player] for possible values\\n\\nenable_drag\\n\\ngdscript\\nvar enable_drag = false\\n\\nheld_mouse_buttons\\n\\ngdscript\\nvar held_mouse_buttons\\n\\nMethod Descriptions\\n\\nget_held_mouse_buttons\\n\\ngdscript\\nfunc get_held_mouse_buttons()\\n\\nSignals\\n\\nsignal left(): Emitted when the player's left key is pressed\\n\\nsignal right(): Emitted when the player's right key is pressed\\n\\nsignal up(): Emitted when the player's up key is pressed\\n\\nsignal down(): Emitted when the player's down key is pressed\\n\\nsignal direction(direction): Emitted when any of the player's movement keys is pressed.  [param direction] gives the direction as a normalized Vector2 depending on the keys that are pressed\\n\\nsignal horizontal_direction(direction): Emitted when any of the player's horizontal movement keys is pressed  [param direction] gives the direction as [constant Vector2.LEFT] or [constant Vector2.RIGHT] or [constant Vector2.ZERO]\\n\\nsignal vertical_direction(direction): Emitted when any of the player's vertival movement keys is pressed  [param direction] gives the direction as [constant Vector2.UP] or [constant Vector2.DOWN] or [constant Vector2.ZERO]\\n\\nsignal mouse_down(pos, button): Emitted when a mouse button was pressed.  [param pos] gives the mouse position local to the viewport  [param button] gives the mouse button that was pressed down\\n\\nsignal mouse_up(pos, button, duration): Emitted when a mouse button was raised.  [param pos] gives the mouse position local to the viewport  [param button] gives the mouse button that was raised  [param duration] gives the duration in milliseconds that the button was pressed\\n\\nsignal mouse_move(pos): Emitted when the mouse moved.  [param pos] gives the mouse position local to the viewport\\n\\nsignal mouse_drag(pos): Emitted when the mouse is moved while it is pressed.  [param pos] gives the mouse position local to the viewport\\n\\nsignal mouse_down_global(pos, button): Emitted when a mouse button was pressed.  [param pos] gives the global mouse position  [param button] gives the mouse button that was pressed down\\n\\nsignal mouse_up_global(pos, button, duration): Emitted when a mouse button was raised.  [param pos] gives the global mouse position  [param button] gives the mouse button that was raised  [param duration] gives the duration in milliseconds that the button was pressed\\n\\nsignal mouse_move_global(pos): Emitted when the mouse moved.  [param pos] gives the global mouse position\\n\\nsignal mouse_drag_global(pos): Emitted when the mouse is moved while it is pressed.  [param pos] gives the global mouse position\", metadata={'source': 'pronto-docs/ControlsBehavior.md'}),\n Document(page_content='ValueBehavior\\n\\nExtends: Behavior\\n\\nDescription\\n\\nConstants Descriptions\\n\\nBUFFER_PCT\\n\\ngdscript\\nconst BUFFER_PCT: float = 0.1\\n\\nWIDTH\\n\\ngdscript\\nconst WIDTH: int = 120\\n\\nProperty Descriptions\\n\\nvalue_init\\n\\ngdscript\\nvar value_init = false\\n\\nselectType\\n\\ngdscript\\n@export var selectType: String = \"Float\"\\n\\nSetter: @selectType_setter\\n\\nfloat_min\\n\\ngdscript\\nvar float_min: float = 0\\n\\nSetter: @float_min_setter\\n\\nMin value for the float\\n\\nfloat_max\\n\\ngdscript\\nvar float_max: float = 100\\n\\nSetter: @float_max_setter\\n\\nMax value for the float\\n\\nfloat_default\\n\\ngdscript\\nvar float_default: float = 0\\n\\nfloat_step_size\\n\\ngdscript\\nvar float_step_size: float = 1\\n\\nSetter: @float_step_size_setter\\n\\nfloat_value\\n\\ngdscript\\nvar float_value: float = 0\\n\\nSetter: @float_value_setter\\n\\nenum_choices\\n\\ngdscript\\nvar enum_choices: Array[String]\\n\\nSetter: @enum_choices_setter\\n\\nenum_default_index\\n\\ngdscript\\nvar enum_default_index: int\\n\\nenum_value\\n\\ngdscript\\nvar enum_value: String\\n\\nSetter: @enum_value_setter\\n\\nbool_value\\n\\ngdscript\\nvar bool_value: String = \"TRUE\"\\n\\nSetter: @bool_value_setter\\n\\nbool_default\\n\\ngdscript\\nvar bool_default: bool\\n\\nMethod Descriptions\\n\\nhandles\\n\\ngdscript\\nfunc handles()\\n\\nSignals\\n\\nsignal value_changed(value):\\n\\nSub-classes\\n\\nDropPropertyPrompt\\n\\nProperty Descriptions\\n\\neditor_interface\\n\\ngdscript\\nvar editor_interface\\n\\nMethod Descriptions\\n\\n_init\\n\\ngdscript\\nfunc _init(editor_interface) -> DropPropertyPrompt\\n\\nempty_script\\n\\ngdscript\\nfunc empty_script(a: Array, expr: String, return_value: bool)', metadata={'source': 'pronto-docs/ValueBehavior.md'}),\n Document(page_content='StopwatchBehavior\\n\\nExtends: Behavior\\n\\nDescription\\n\\nProperty Descriptions\\n\\nelapsed\\n\\ngdscript\\nvar elapsed: float\\n\\nGetter: @elapsed_getter\\n\\nTime elapsed since the start (in seconds)\\n\\nMethod Descriptions\\n\\nstart\\n\\ngdscript\\nfunc start()\\n\\nstop\\n\\ngdscript\\nfunc stop()', metadata={'source': 'pronto-docs/StopwatchBehavior.md'}),\n Document(page_content='InstanceBehavior\\n\\nExtends: Behavior\\n\\nDescription\\n\\nProperty Descriptions\\n\\nscene_path\\n\\ngdscript\\nvar scene_path: String = \"\"\\n\\nMethod Descriptions\\n\\nconnect_ui\\n\\ngdscript\\nfunc connect_ui()\\n\\nmaybe_update_scene\\n\\ngdscript\\nfunc maybe_update_scene(path: String)\\n\\nupdate_scene\\n\\ngdscript\\nfunc update_scene()\\n\\ncreate_instance\\n\\ngdscript\\nfunc create_instance()\\n\\nlines\\n\\ngdscript\\nfunc lines()', metadata={'source': 'pronto-docs/InstanceBehavior.md'}),\n Document(page_content='PlatformerControllerBehavior\\n\\nExtends: Behavior\\n\\nDescription\\n\\nConstants Descriptions\\n\\nPlayer\\n\\ngdscript\\nenum Player{Player_1 = 0, Player_2 = 1, Player_3 = 2}\\n\\nDefines the available controls\\n\\nProperty Descriptions\\n\\nplayer\\n\\ngdscript\\n@export var player: PlatformerControllerBehavior.Player = 0\\n\\nDetermines which controls (keys) are used. Which keys that are is defined in [member PlatformControllerBehavior.key_map]  See [enum PlatformControllerBehavior.Controls] for possible values\\n\\njump_velocity\\n\\ngdscript\\n@export var jump_velocity: float = 400\\n\\nSetter: @jump_velocity_setter\\n\\nThe speed with which the character jumps.\\n\\nhorizontal_velocity\\n\\ngdscript\\n@export var horizontal_velocity: float = 400\\n\\nSetter: @horizontal_velocity_setter\\n\\nThe speed with which the character moves sideways.\\n\\ncoyote_time\\n\\ngdscript\\n@export var coyote_time = 0.1\\n\\nThe amount of time after falling off a platform where the character can still jump, in seconds.\\n\\njump_buffer\\n\\ngdscript\\n@export var jump_buffer = 0.1\\n\\nThe amount of time a jump input will trigger a jump if the character is not touching the floor, in seconds.\\n\\ngravity_paused\\n\\ngdscript\\n@export var gravity_paused: bool = false\\n\\nSetter: @gravity_paused_setter\\n\\nGetter: @gravity_paused_getter\\n\\nshow_trail\\n\\ngdscript\\n@export var show_trail: bool = false\\n\\nIf enabled, the parent leaves a trail of recent positions.\\n\\nMethod Descriptions\\n\\nlines\\n\\ngdscript\\nfunc lines()\\n\\nSignals\\n\\nsignal collided(last_collision):', metadata={'source': 'pronto-docs/PlatformerControllerBehavior.md'}),\n Document(page_content='StateMachineBehavior\\n\\nExtends: Behavior\\n\\nDescription', metadata={'source': 'pronto-docs/StateMachineBehavior.md'}),\n Document(page_content='PlaceholderBehavior\\n\\nExtends: Behavior\\n\\nDescription\\n\\nConstants Descriptions\\n\\nOUTLINE_SHADER\\n\\ngdscript\\nconst OUTLINE_SHADER: String = \"res://addons/pronto/shader/outline.gdshader\"\\n\\nProperty Descriptions\\n\\nlabel\\n\\ngdscript\\n@export var label = \"\"\\n\\nSetter: @label_setter\\n\\nThe label that is shown inside the Placeholder, unless a sprite is used.\\n\\ncolor\\n\\ngdscript\\n@export var color = \"(1, 1, 1, 1)\"\\n\\nSetter: @color_setter\\n\\nThe color used for the placeholder.\\n\\nkeep_in_origin\\n\\ngdscript\\n@export var keep_in_origin = true\\n\\nIf [code]true[/code], this Placeholder\\'s parent will be moved instead of the placeholder in the editor. Convenient for not having to switch selected items all the time.\\n\\nundefined_shape_string\\n\\ngdscript\\nvar undefined_shape_string\\n\\nuse_sprite\\n\\ngdscript\\n@export var use_sprite = false\\n\\nSetter: @use_sprite_setter\\n\\nIf [code]true[/code] a [class Sprite2D] is shown.\\n\\nDEFAULT_TEXTURE\\n\\ngdscript\\nvar DEFAULT_TEXTURE\\n\\nsprite_texture\\n\\ngdscript\\n@export var sprite_texture: Texture2D\\n\\nSetter: @sprite_texture_setter\\n\\nThe texture used for the [class Sprite2D]. Can be loaded from a file or from the sprite_library.\\n\\nsprite_library\\n\\ngdscript\\n@export var sprite_library: Texture2D\\n\\nSetter: @sprite_library_setter\\n\\nThe sprite library is desribed in [class SpriteInspector] as well as \"addons/pronto/helpers/sprite_window.tscn\". Search through a library of textures to choose your sprite.\\n\\noutline_visible\\n\\ngdscript\\n@export var outline_visible: bool = false\\n\\nSetter: @outline_visible_setter\\n\\nIf [code]true[/code], the outline is shown.\\n\\noutline_color\\n\\ngdscript\\n@export var outline_color: Color = \"(1, 1, 0, 1)\"\\n\\nSetter: @outline_color_setter\\n\\nThe color used for the outline.\\n\\noutline_width\\n\\ngdscript\\n@export var outline_width: float = 1\\n\\nSetter: @outline_width_setter\\n\\nThe width of the outline.\\n\\noutline_pattern\\n\\ngdscript\\n@export var outline_pattern = 0\\n\\nSetter: @outline_pattern_setter\\n\\nThe rounding method for corners of the outline (only used if [class Sprite2D] is used).\\n\\nshape_type\\n\\ngdscript\\n@export var shape_type: String = \"Rect\"\\n\\nSetter: @shape_type_setter\\n\\nThis will define the shape of the placeholder as well as the shape of the hitbox.\\n\\nplaceholder_size\\n\\ngdscript\\nvar placeholder_size = \"(20, 20)\"\\n\\nSetter: @placeholder_size_setter\\n\\nThe size of the placeholder.\\n\\ncapsule_height\\n\\ngdscript\\nvar capsule_height: float = 30\\n\\nSetter: @capsule_height_setter\\n\\nThe height of the capsule.\\n\\ncapsule_radius\\n\\ngdscript\\nvar capsule_radius: float = 10\\n\\nSetter: @capsule_radius_setter\\n\\nThe radius of the capsule.\\n\\ncircle_radius\\n\\ngdscript\\nvar circle_radius: float = 10\\n\\nSetter: @circle_radius_setter\\n\\nThe radius of the circle.\\n\\nsprite\\n\\ngdscript\\nvar sprite: Sprite2D\\n\\nsize\\n\\ngdscript\\nvar size: Vector2\\n\\nGetter: @size_getter\\n\\nshape\\n\\ngdscript\\nvar shape\\n\\nMethod Descriptions\\n\\nshow_outline\\n\\ngdscript\\nfunc show_outline()\\n\\nShows an outline around the Placeholder.\\n\\nhide_outline\\n\\ngdscript\\nfunc hide_outline()\\n\\nHides the outline around the Placeholder.\\n\\nset_outline_visible\\n\\ngdscript\\nfunc set_outline_visible(visible)\\n\\nToggles the visibility of the outline according to the given parameter.\\n\\nflash\\n\\ngdscript\\nfunc flash(color: Color, duration: float = 0.3)\\n\\nFlashes this Placeholder a certain color for a duration. It will take on the desired color immediately and return to its original color over the given duration.\\n\\nshould_keep_in_origin\\n\\ngdscript\\nfunc should_keep_in_origin()\\n\\nshow_icon\\n\\ngdscript\\nfunc show_icon()\\n\\nfind_non_transparent_rect\\n\\ngdscript\\nfunc find_non_transparent_rect()\\n\\nhandles\\n\\ngdscript\\nfunc handles()', metadata={'source': 'pronto-docs/PlaceholderBehavior.md'}),\n Document(page_content='CodeBehavior\\n\\nExtends: Behavior\\n\\nDescription\\n\\nProperty Descriptions\\n\\narguments\\n\\ngdscript\\n@export var arguments: PackedStringArray\\n\\nSetter: @arguments_setter\\n\\nGetter: @arguments_getter\\n\\nThe names of the arguments that the code receives. Those can be accessed in [member CodeBehavior.evaluate].\\n\\nevaluate\\n\\ngdscript\\n@export var evaluate: ConnectionScript\\n\\nThe Code that gets executed when the [method CodeBehavior.execute] method is called.\\n\\nMethod Descriptions\\n\\nlines\\n\\ngdscript\\nfunc lines()\\n\\nexecute\\n\\ngdscript\\nfunc execute(args: Array = null)\\n\\nExecutes the code provided in [member CodeBehavior.evaluate] and emits the [signal CodeBehavior.after] signal afterwards.\\n\\nwants_expression_inspector\\n\\ngdscript\\nfunc wants_expression_inspector(property_name)\\n\\nSignals\\n\\nsignal after(result): Emittet when the execution of the code returns. [param result] is the result of the execution.', metadata={'source': 'pronto-docs/CodeBehavior.md'}),\n Document(page_content='WatchBehavior\\n\\nExtends: Behavior\\n\\nDescription\\n\\nProperty Descriptions\\n\\nevaluate\\n\\ngdscript\\n@export var evaluate: ConnectionScript\\n\\nThe script to evaluate whose results get printed\\n\\nMethod Descriptions\\n\\nlines\\n\\ngdscript\\nfunc lines()\\n\\nwants_expression_inspector\\n\\ngdscript\\nfunc wants_expression_inspector(property_name)', metadata={'source': 'pronto-docs/WatchBehavior.md'}),\n Document(page_content='BindBehavior\\n\\nExtends: Behavior\\n\\nDescription\\n\\nProperty Descriptions\\n\\nevaluate\\n\\ngdscript\\n@export var evaluate: ConnectionScript\\n\\nScript to evaluate to find the current property value to set.\\n\\nto_prop\\n\\ngdscript\\n@export var to_prop: String\\n\\nProperty of the parent node to write the result of evaluate to.\\n\\none_shot\\n\\ngdscript\\n@export var one_shot: bool = false\\n\\nUpdate only when the update() function is called.\\n\\nMethod Descriptions\\n\\nupdate\\n\\ngdscript\\nfunc update()\\n\\nlines\\n\\ngdscript\\nfunc lines()\\n\\nwants_expression_inspector\\n\\ngdscript\\nfunc wants_expression_inspector(property_name)', metadata={'source': 'pronto-docs/BindBehavior.md'}),\n Document(page_content='SpawnerBehavior\\n\\nExtends: Behavior\\n\\nDescription\\n\\nProperty Descriptions\\n\\nscene_path\\n\\ngdscript\\n@export var scene_path: NodePath = \"\"\\n\\nSpawns all children by default. Alternatively, provide a scene path here.\\n\\ncontainer\\n\\ngdscript\\n@export var container: Node = null\\n\\nWhen set, spawns new nodes as children of the given node.\\n\\nshape_type\\n\\ngdscript\\n@export var shape_type: String = \"Generic\"\\n\\nSetter: @shape_type_setter\\n\\nType of shape used for the [method SpawnerBehavior.spawn_in_shape] method.\\n\\nspawn_shape_polygon\\n\\ngdscript\\n@export var spawn_shape_polygon: Polygon2D = null\\n\\nSetter: @spawn_shape_polygon_setter\\n\\nPolygon used by [method SpawnerBehavior.spawn_in_shape] method. Dont set the [class PolygonShape2D] itself as child of the spawner.\\n\\nspawn_shape_generic\\n\\ngdscript\\n@export var spawn_shape_generic: Shape2D = null\\n\\nSetter: @spawn_shape_generic_setter\\n\\nShape used by [method SpawnerBehavior.spawn_in_shape] method. Supports [class CircleShape2D], [class RectangleShape2D] and [class CapsuleShape2D].\\n\\nspawn_shape_color\\n\\ngdscript\\n@export var spawn_shape_color: Color = \"(0, 0.6, 0.702, 0.4196)\"\\n\\nSetter: @spawn_shape_color_setter\\n\\nDebug Color in Editor for the shape used by [method SpawnerBehavior.spawn_in_shape].\\n\\nlast_spawn_shape_size_rectangle\\n\\ngdscript\\nvar last_spawn_shape_size_rectangle: Vector2\\n\\nlast_spawn_shape_size_circle\\n\\ngdscript\\nvar last_spawn_shape_size_circle: float\\n\\nlast_spawn_shape_size_capsule\\n\\ngdscript\\nvar last_spawn_shape_size_capsule: float\\n\\nshape_radius\\n\\ngdscript\\nvar shape_radius: float\\n\\nshape_height\\n\\ngdscript\\nvar shape_height: float\\n\\nshape_size\\n\\ngdscript\\nvar shape_size: Vector2\\n\\nSetter: @shape_size_setter\\n\\nspawn_shape_polygon_randomizer\\n\\ngdscript\\nvar spawn_shape_polygon_randomizer: PolygonRandomPointGenerator\\n\\nscenes\\n\\ngdscript\\nvar scenes = null\\n\\nList of all blueprints the spawner can spawn gets calculated automatically in [method SpawnerBehavior._ready]\\n\\nscene_offsets\\n\\ngdscript\\nvar scene_offsets = null\\n\\nA list of offsets that can be used for spawning the new instances. This was added so that the new instances don\\'t spawn at the same position which might result in unwanted collision behavior etc. The offsets are mapped to the blueprints by their index in the respective arrays.\\n\\nMethod Descriptions\\n\\nspawn\\n\\ngdscript\\nfunc spawn(indices: Array = null, pos: Vector2 = \"(inf, inf)\", toward: Vector2 = \"(inf, inf)\", use_shape: bool = false)\\n\\nSpawns the selected blueprint(s) as the SpawnerBehavior\\'s sibling node.  [param indices]: selects the blueprints to spawn. Specify the elements you want to spawn in an integer array. Pass an empty array to spawn every child. Default: [code][][/code]  [param pos]: The position to spawn the new instance(s) at. Overwrites other rules like [code]use_shape[/code] if specified  [param toward]: The position to rotate the new instance(s) towards Position is in global space.  [param use_shape]: Whether to use the with [member SpawnerBehavior.shape_typ] specified type of spawn shape for spawning.  [param relative]: selects whether the the [member SpawnerBehavior.scene_offsets] should be used for the spawning. If set to [code]false[/code], the new instance(s) will be spawned at the spawner\\'s position. If set to [code]true[/code], the corresponding offset is applied afterwards.\\n\\nlines\\n\\ngdscript\\nfunc lines()\\n\\nOverride of [method Behavior.lines] in order to display dashed lines towards the spawner\\'s blueprints (aka its childs)\\n\\nhandles\\n\\ngdscript\\nfunc handles()\\n\\nSignals\\n\\nsignal spawned(instance): Emitted when [method SpawnerBehavior.spawn] completed successfully.  [param instance]: the newly spawned node', metadata={'source': 'pronto-docs/SpawnerBehavior.md'}),\n Document(page_content='NodeReadyBehavior\\n\\nExtends: Behavior\\n\\nDescription\\n\\nSignals\\n\\nsignal node_ready(): Emitted when the node is ready and still in the scene tree', metadata={'source': 'pronto-docs/NodeReadyBehavior.md'})]"
     },
     "execution_count": 6,
     "metadata": {},
     "output_type": "execute_result"
    }
   ],
   "source": [
    "docs"
   ],
   "metadata": {
    "collapsed": false,
    "ExecuteTime": {
     "start_time": "2024-01-18T18:18:24.224506Z",
     "end_time": "2024-01-18T18:18:24.230922Z"
    }
   }
  },
  {
   "cell_type": "markdown",
   "source": [
    "## 2. Split documents"
   ],
   "metadata": {
    "collapsed": false
   }
  },
  {
   "cell_type": "code",
   "execution_count": 7,
   "outputs": [],
   "source": [
    "from langchain.text_splitter import RecursiveCharacterTextSplitter, Language\n",
    "\n",
    "docs_splitter = RecursiveCharacterTextSplitter.from_language(language=Language.MARKDOWN, chunk_size=100, chunk_overlap=0)"
   ],
   "metadata": {
    "collapsed": false,
    "ExecuteTime": {
     "start_time": "2024-01-18T18:18:24.228850Z",
     "end_time": "2024-01-18T18:18:24.231130Z"
    }
   }
  },
  {
   "cell_type": "code",
   "execution_count": 8,
   "outputs": [],
   "source": [
    "docs_splits = docs_splitter.split_documents(docs)"
   ],
   "metadata": {
    "collapsed": false,
    "ExecuteTime": {
     "start_time": "2024-01-18T18:18:24.246330Z",
     "end_time": "2024-01-18T18:18:24.264052Z"
    }
   }
  },
  {
   "cell_type": "code",
   "execution_count": 9,
   "outputs": [
    {
     "data": {
      "text/plain": "912"
     },
     "execution_count": 9,
     "metadata": {},
     "output_type": "execute_result"
    }
   ],
   "source": [
    "len(docs_splits)"
   ],
   "metadata": {
    "collapsed": false,
    "ExecuteTime": {
     "start_time": "2024-01-18T18:18:24.249428Z",
     "end_time": "2024-01-18T18:18:24.264332Z"
    }
   }
  },
  {
   "cell_type": "code",
   "execution_count": 10,
   "outputs": [],
   "source": [
    "from langchain_core.documents import Document\n",
    "from langchain.text_splitter import TextSplitter\n",
    "\n",
    "def get_splits_from_keyword(keyword: str, splitter: TextSplitter, documents: list[Document]):\n",
    "    return list(filter(lambda x: keyword in x.page_content, splitter.split_documents(documents)))"
   ],
   "metadata": {
    "collapsed": false,
    "ExecuteTime": {
     "start_time": "2024-01-18T18:18:24.252720Z",
     "end_time": "2024-01-18T18:18:24.264437Z"
    }
   }
  },
  {
   "cell_type": "code",
   "execution_count": 11,
   "outputs": [],
   "source": [
    "chunk_size = 100\n",
    "chunk_overlap = 0"
   ],
   "metadata": {
    "collapsed": false,
    "ExecuteTime": {
     "start_time": "2024-01-18T18:18:24.255452Z",
     "end_time": "2024-01-18T18:18:24.264506Z"
    }
   }
  },
  {
   "cell_type": "markdown",
   "source": [
    "### 2.1 Recursive Character Text Splitter"
   ],
   "metadata": {
    "collapsed": false
   }
  },
  {
   "cell_type": "code",
   "execution_count": 12,
   "outputs": [],
   "source": [
    "rct_splitter = RecursiveCharacterTextSplitter(\n",
    "    chunk_size=chunk_size,\n",
    "    chunk_overlap=chunk_overlap,\n",
    ")"
   ],
   "metadata": {
    "collapsed": false,
    "ExecuteTime": {
     "start_time": "2024-01-18T18:18:24.258000Z",
     "end_time": "2024-01-18T18:18:24.264563Z"
    }
   }
  },
  {
   "cell_type": "code",
   "execution_count": 13,
   "outputs": [
    {
     "data": {
      "text/plain": "[Document(page_content='ValueBehavior', metadata={'source': 'pronto-docs/README.md'}),\n Document(page_content='[code]false[/code], only children ValueBehaviors are added to the menu (if they are visible)', metadata={'source': 'pronto-docs/PrototypingUIBehavior.md'}),\n Document(page_content='create_ui_for_value\\n\\ngdscript\\nfunc create_ui_for_value(value: ValueBehavior)', metadata={'source': 'pronto-docs/PrototypingUIBehavior.md'}),\n Document(page_content='create_ui_for_value_enum\\n\\ngdscript\\nfunc create_ui_for_value_enum(value: ValueBehavior)', metadata={'source': 'pronto-docs/PrototypingUIBehavior.md'}),\n Document(page_content='create_ui_for_value_bool\\n\\ngdscript\\nfunc create_ui_for_value_bool(value: ValueBehavior)', metadata={'source': 'pronto-docs/PrototypingUIBehavior.md'}),\n Document(page_content='gdscript\\nfunc create_ui_slider_for_value_float(value: ValueBehavior)\\n\\ncreate_minimizing_button', metadata={'source': 'pronto-docs/PrototypingUIBehavior.md'}),\n Document(page_content='func handle_value_bool_change(index: int, value: ValueBehavior, optionButton: OptionButton)', metadata={'source': 'pronto-docs/PrototypingUIBehavior.md'}),\n Document(page_content='func handle_value_enum_change(index: int, value: ValueBehavior, optionButton: OptionButton)', metadata={'source': 'pronto-docs/PrototypingUIBehavior.md'}),\n Document(page_content='func handle_update_value_float_change(new_value: float, value: ValueBehavior, label_current: Label,', metadata={'source': 'pronto-docs/PrototypingUIBehavior.md'}),\n Document(page_content='ValueBehavior\\n\\nExtends: Behavior\\n\\nDescription\\n\\nConstants Descriptions\\n\\nBUFFER_PCT', metadata={'source': 'pronto-docs/ValueBehavior.md'})]"
     },
     "execution_count": 13,
     "metadata": {},
     "output_type": "execute_result"
    }
   ],
   "source": [
    "get_splits_from_keyword(\"ValueBehavior\", rct_splitter, docs)"
   ],
   "metadata": {
    "collapsed": false,
    "ExecuteTime": {
     "start_time": "2024-01-18T18:18:24.272232Z",
     "end_time": "2024-01-18T18:18:24.288258Z"
    }
   }
  },
  {
   "cell_type": "markdown",
   "source": [
    "### 2.2 Recursive Character Text Splitter (from language Markdown)"
   ],
   "metadata": {
    "collapsed": false
   }
  },
  {
   "cell_type": "code",
   "execution_count": 14,
   "outputs": [],
   "source": [
    "from langchain.text_splitter import RecursiveCharacterTextSplitter, Language\n",
    "\n",
    "rctm_splitter = RecursiveCharacterTextSplitter.from_language(language=Language.MARKDOWN, chunk_size=chunk_size, chunk_overlap=chunk_overlap)"
   ],
   "metadata": {
    "collapsed": false,
    "ExecuteTime": {
     "start_time": "2024-01-18T18:18:24.279262Z",
     "end_time": "2024-01-18T18:18:24.288372Z"
    }
   }
  },
  {
   "cell_type": "code",
   "execution_count": 15,
   "outputs": [
    {
     "data": {
      "text/plain": "[Document(page_content='ValueBehavior', metadata={'source': 'pronto-docs/README.md'}),\n Document(page_content='[code]false[/code], only children ValueBehaviors are added to the menu (if they are visible)', metadata={'source': 'pronto-docs/PrototypingUIBehavior.md'}),\n Document(page_content='create_ui_for_value\\n\\ngdscript\\nfunc create_ui_for_value(value: ValueBehavior)', metadata={'source': 'pronto-docs/PrototypingUIBehavior.md'}),\n Document(page_content='create_ui_for_value_enum\\n\\ngdscript\\nfunc create_ui_for_value_enum(value: ValueBehavior)', metadata={'source': 'pronto-docs/PrototypingUIBehavior.md'}),\n Document(page_content='create_ui_for_value_bool\\n\\ngdscript\\nfunc create_ui_for_value_bool(value: ValueBehavior)', metadata={'source': 'pronto-docs/PrototypingUIBehavior.md'}),\n Document(page_content='gdscript\\nfunc create_ui_slider_for_value_float(value: ValueBehavior)\\n\\ncreate_minimizing_button', metadata={'source': 'pronto-docs/PrototypingUIBehavior.md'}),\n Document(page_content='func handle_value_bool_change(index: int, value: ValueBehavior, optionButton: OptionButton)', metadata={'source': 'pronto-docs/PrototypingUIBehavior.md'}),\n Document(page_content='func handle_value_enum_change(index: int, value: ValueBehavior, optionButton: OptionButton)', metadata={'source': 'pronto-docs/PrototypingUIBehavior.md'}),\n Document(page_content='func handle_update_value_float_change(new_value: float, value: ValueBehavior, label_current: Label,', metadata={'source': 'pronto-docs/PrototypingUIBehavior.md'}),\n Document(page_content='ValueBehavior\\n\\nExtends: Behavior\\n\\nDescription\\n\\nConstants Descriptions\\n\\nBUFFER_PCT', metadata={'source': 'pronto-docs/ValueBehavior.md'})]"
     },
     "execution_count": 15,
     "metadata": {},
     "output_type": "execute_result"
    }
   ],
   "source": [
    "get_splits_from_keyword(\"ValueBehavior\", rctm_splitter, docs)"
   ],
   "metadata": {
    "collapsed": false,
    "ExecuteTime": {
     "start_time": "2024-01-18T18:18:24.298797Z",
     "end_time": "2024-01-18T18:18:24.355673Z"
    }
   }
  },
  {
   "cell_type": "markdown",
   "source": [
    "### 2.3 Recursive Character Text Splitter (custom separators)"
   ],
   "metadata": {
    "collapsed": false
   }
  },
  {
   "cell_type": "code",
   "execution_count": 16,
   "outputs": [],
   "source": [
    "rctcs_splitter = RecursiveCharacterTextSplitter(\n",
    "    chunk_size=100,\n",
    "    chunk_overlap=0,\n",
    "    separators=[\"#\", \"##\", \"###\", \"\\n\\n\", \"\\n \\n\", \"\\n\"]\n",
    ")"
   ],
   "metadata": {
    "collapsed": false,
    "ExecuteTime": {
     "start_time": "2024-01-18T18:18:24.302071Z",
     "end_time": "2024-01-18T18:18:24.355898Z"
    }
   }
  },
  {
   "cell_type": "code",
   "execution_count": 17,
   "outputs": [
    {
     "data": {
      "text/plain": "[Document(page_content='Pronto', metadata={'source': 'pronto-docs/README.md'}),\n Document(page_content='\\nPronto is a framework for Godot to make prototyping game mechanics faster. It is not a framework aimed at helping to create entire games faster. The resulting prototypes are a means to quickly explore ideas, throw away the prototype, and only properly implement ideas that turned out well.', metadata={'source': 'pronto-docs/README.md'}),\n Document(page_content='Play prototypes created in pronto here.\\n\\nFunction', metadata={'source': 'pronto-docs/README.md'}),\n Document(page_content='\\nThe main idea of Pronto is to make behavior visible. Our hypothesis is that it will be easier to create and tweak game mechanics. For example, instead of defining numbers in code for the distance a platform moves, we use handles in the game world to visually direct it.', metadata={'source': 'pronto-docs/README.md'}),\n Document(page_content='\\nPronto consists of a set of Godot Nodes called Behavior that can be added to a Godot scene. These behaviors are aspects that, when combined, result in the expression of complex behavior in the Godot scene. All behaviors have visual representation in the scene and primarily function through an event system called Connections. For example, if a timer reaches 5 seconds, a new enemy spawns.', metadata={'source': 'pronto-docs/README.md'}),\n Document(page_content='Phase 1: Creating a Prototype', metadata={'source': 'pronto-docs/README.md'}),\n Document(page_content='\\nBuild a tiny Godot game but focus on a single mechanic. Do not focus on visuals. Polish only where it is essential for the mechanic you are creating. Where possible, use the below advice and helpers instead of code for implementation.', metadata={'source': 'pronto-docs/README.md'}),\n Document(page_content='\\nWhen choosing a mechanic, ask yourself first: Would it be better/faster to build a paper prototype? (If so, consider another mechanic.) What is the minimal feature set I need to implement to see if the mechanic is good? Try and pick a mechanic that is not necessarily the core of the genre but adds an interesting aspect to it and only implement that.', metadata={'source': 'pronto-docs/README.md'}),\n Document(page_content='To get started, create a branch with the following pattern:', metadata={'source': 'pronto-docs/README.md'}),\n Document(page_content='```\\nweek-[week number]-[mechanic name]\\n\\n(e.g., week-0-kart-dash for the tutorial session)\\n```', metadata={'source': 'pronto-docs/README.md'}),\n Document(page_content='Behaviors\\n\\nThe following list of behaviors act primarily as triggers of events.', metadata={'source': 'pronto-docs/README.md'}),\n Document(page_content='Behavior \\n Function', metadata={'source': 'pronto-docs/README.md'}),\n Document(page_content=\"AlwaysBehavior \\n Triggers every frame. Analog to Godot's  _process  function. Can be paused.\", metadata={'source': 'pronto-docs/README.md'}),\n Document(page_content='ClockBehavior', metadata={'source': 'pronto-docs/README.md'}),\n Document(page_content='\\n Triggers after or for a set time. Can be set to paused and to only trigger once. When looking to trigger for a specific duration the  Trigger Every Frame  property of  Until Elapsed  needs to be enabled. This will trigger every frame until the timer is elapsed. If you wish to trigger e.g. every second (instead of every frame) you can activate  Trigger Every X Seconds  and set the  Trigger Interval In Seconds  to  1 . Hint: Interval should not be smaller than typical time between frames (delta). ', metadata={'source': 'pronto-docs/README.md'}),\n Document(page_content='CollisionBehavior', metadata={'source': 'pronto-docs/README.md'}),\n Document(page_content='\\n Triggers when something collides with its parent. The  collided  signal also provides the  direction  of the collision pointing in the direction from the parent to the node it collided with. NOTE: only works for Area2D, RigidBody2D and CharacterBody2D as of now. ', metadata={'source': 'pronto-docs/README.md'}),\n Document(page_content='ControlsBehavior', metadata={'source': 'pronto-docs/README.md'}),\n Document(page_content='\\n Triggers for mouse interactions and offers a convenient set of triggers for keyboard movement. Exact keybindings are chosen via the  Player  property which allows for up to 3 different controls (Player 1:  WASD , Player 2:  Arrow keys , Player 3:  IJKL ). The  direction  signal can be used for moving a character in combination with a  MoveBehavior . ', metadata={'source': 'pronto-docs/README.md'}),\n Document(page_content='DragBehavior', metadata={'source': 'pronto-docs/README.md'}),\n Document(page_content='\\n Allows users to drag and drop the parent node using the mouse. Offers signals for hovering/unhovering, dragging/dropping, and moving the node. Supports different types of nodes, including character bodies, rigid bodies, static bodies, sprites, placeholders, and controls. ', metadata={'source': 'pronto-docs/README.md'}),\n Document(page_content='KeyBehavior \\n Triggers when a single keyboard key is pressed or released.', metadata={'source': 'pronto-docs/README.md'}),\n Document(page_content='NodeReadyBehavior \\n Triggers once after the node (and all its siblings) are  ready .', metadata={'source': 'pronto-docs/README.md'}),\n Document(page_content='SignalBehavior \\n Forwards a signal when triggered, including arguments.', metadata={'source': 'pronto-docs/README.md'}),\n Document(page_content='The following list of behaviors primarily cause effects when triggered.', metadata={'source': 'pronto-docs/README.md'}),\n Document(page_content='Behavior \\n Function', metadata={'source': 'pronto-docs/README.md'}),\n Document(page_content='BindBehavior', metadata={'source': 'pronto-docs/README.md'}),\n Document(page_content='\\n Optionally reads some properties and then writes one property of its parent. Changes to the properties it reads are synced every frame. The read properties are accessible in the convert expression; the first under  value0 , the second under  value1  and so on. For example, create a Label node, add a Bind node as a child, use  text  as property and put any expression in its  convert  field. Another example would use a Clock with a Bind node as a child that uses  duration_seconds  as a property to change the trigger-time depending on a Value-Behavior. ', metadata={'source': 'pronto-docs/README.md'}),\n Document(page_content='CodeBehavior', metadata={'source': 'pronto-docs/README.md'}),\n Document(page_content='\\n It holds an  execute()  function with both user-definable arguments and a function body, which allows for arbitrary code execution. After  execute()  is called an  after  signal is emitted that carries the execution result, which can be used for chaining. ', metadata={'source': 'pronto-docs/README.md'}),\n Document(page_content='MoveBehavior', metadata={'source': 'pronto-docs/README.md'}),\n Document(page_content='\\n When triggered, moves its parent. Can be set to move along global or local axes. Supports handling of gravity. ', metadata={'source': 'pronto-docs/README.md'}),\n Document(page_content='PlatformerControllerBehavior', metadata={'source': 'pronto-docs/README.md'}),\n Document(page_content='\\n Makes the parent behave like a platformer character, meaning that it can jump, move horizontally, and is affected by gravity. Must be a child of a  CharacterBody2D . ', metadata={'source': 'pronto-docs/README.md'}),\n Document(page_content='QueryBehavior', metadata={'source': 'pronto-docs/README.md'}),\n Document(page_content='\\n Searches for nodes in the scene and emits signals for results. Properties allow to filter, sort, and limit results. Can be used for tasks such as destroying all enemies in a certain radius, infecting a random player, or finding the nearest health pack. ', metadata={'source': 'pronto-docs/README.md'}),\n Document(page_content='SceneRootBehavior', metadata={'source': 'pronto-docs/README.md'}),\n Document(page_content='\\n Provides access to the  SceneTree  from Godot. It offers the signals  node_added(node: Node) ,  node_remove(node: Node)  and  tree_changed()  from the  SceneTree . Additionally, it implements three methods for executing lambda functions on all or a specific subset of nodes in a given  group . ', metadata={'source': 'pronto-docs/README.md'}),\n Document(page_content='SignalBehavior', metadata={'source': 'pronto-docs/README.md'}),\n Document(page_content='\\n Forwards signals when triggered, optionally with arguments. Useful for abstraction/encapsulation of lower-level signals, signal renaming, or logical OR-gating of signals. ', metadata={'source': 'pronto-docs/README.md'}),\n Document(page_content='SpawnerBehavior', metadata={'source': 'pronto-docs/README.md'}),\n Document(page_content='\\n When triggered, spawns whatever its child nodes are at its current location in the scene. Single children nodes can be spawned by modifying the optional index argument in each spawning method to just the respective child node. Use -1 as index to spawn all children. Set use_spawn_shape to true to randomly spawn children in the given shape or polygon. When using a Polygon2D do not use it as a child of the spawner. ', metadata={'source': 'pronto-docs/README.md'}),\n Document(page_content='StopwatchBehavior \\n Starts counting up time when triggered. Can be reset.', metadata={'source': 'pronto-docs/README.md'}),\n Document(page_content='The following list of behaviors manage state or communicate visual properties.', metadata={'source': 'pronto-docs/README.md'}),\n Document(page_content='Behavior \\n Function', metadata={'source': 'pronto-docs/README.md'}),\n Document(page_content='BackgroundBehavior \\n Add to your scene to change the background color of the scene.', metadata={'source': 'pronto-docs/README.md'}),\n Document(page_content='CameraShakeBehavior', metadata={'source': 'pronto-docs/README.md'}),\n Document(page_content='Add as a child of a camera and call its  add_trauma  function to add shake.', metadata={'source': 'pronto-docs/README.md'}),\n Document(page_content='GroupBehavior', metadata={'source': 'pronto-docs/README.md'}),\n Document(page_content='Draws a shape around its children to group them visually. Only visible in the editor.', metadata={'source': 'pronto-docs/README.md'}),\n Document(page_content='HealthBarBehavior', metadata={'source': 'pronto-docs/README.md'}),\n Document(page_content='\\n Show a rectangular health bar. Offers methods to manipulate the current health and emits a signal when health drops to zero. ', metadata={'source': 'pronto-docs/README.md'}),\n Document(page_content='InspectBehavior \\n Add as a child of a node to inspect its properties inside the game.', metadata={'source': 'pronto-docs/README.md'}),\n Document(page_content='InstanceBehavior', metadata={'source': 'pronto-docs/README.md'}),\n Document(page_content='\\n Allows you to define a template subtree of Nodes that you want to repeat multiple times without copy-pasting. Add your template as a child of the Instance node, then hover the connection dialog and click the \"Instance\" button. Note: internally, this creates a \"hidden\" scene that you need to commit as well. You can thus use  \"Editable children\"  in Godot by right-clicking the instance and tweaking properties while inheriting the rest. ', metadata={'source': 'pronto-docs/README.md'}),\n Document(page_content='PlaceholderBehavior', metadata={'source': 'pronto-docs/README.md'}),\n Document(page_content=\"\\n Show a colored rectangle with a label. Useful as a quick means to communicate a game object's function. Functions as a collision shape, so you don't need to add another. Instead of a rectangle a placeholder can also display a sprite instead (use the Sprite Library in the Inspector to choose an existing texture or load your own). Can be  flash() ed in a different color. \", metadata={'source': 'pronto-docs/README.md'}),\n Document(page_content='StateMachineBehavior', metadata={'source': 'pronto-docs/README.md'}),\n Document(page_content='\\n The StateMachineBehavior acts as a purely graphic hint as to which StateBehavior objects belong to the same state machine. The GroupDrawer class is used for this. ', metadata={'source': 'pronto-docs/README.md'}),\n Document(page_content='StateBehavior', metadata={'source': 'pronto-docs/README.md'}),\n Document(page_content=\"\\n The StateBehavior is the fundamental building block of a state machine. Each StateBehavior emits the signals  StateBehavior.entered()  and  StateBehavior.exited()  to communicate the state machine's state \", metadata={'source': 'pronto-docs/README.md'}),\n Document(page_content='StoreBehavior', metadata={'source': 'pronto-docs/README.md'}),\n Document(page_content='\\n Use the Godot meta properties to store state. You can configure it to store values in the global dictionary  G  and access it via  G.at(prop) . ', metadata={'source': 'pronto-docs/README.md'}),\n Document(page_content='ValueBehavior', metadata={'source': 'pronto-docs/README.md'}),\n Document(page_content='\\n Show a constant you can use in expression visually as a slider. Note that these are shared globally, so create new names if you need to use different values. ', metadata={'source': 'pronto-docs/README.md'}),\n Document(page_content='VisualLineBehavior \\n Show a colored Line between two Nodes. Useful as a quick visual connection.', metadata={'source': 'pronto-docs/README.md'}),\n Document(page_content='Hints', metadata={'source': 'pronto-docs/README.md'}),\n Document(page_content='\\nExpose the crucial variation points of your mechanic via the Value behavior. You can drop any property of a Node onto the scene to create a Value automatically.', metadata={'source': 'pronto-docs/README.md'}),\n Document(page_content='\\nFocus on quick-and-dirty, especially when adding code. The second week is used to consolidate changes in the framework.', metadata={'source': 'pronto-docs/README.md'}),\n Document(page_content=\"\\nDon't be afraid of copy-and-paste. Copy even your entire prototype, if you want to try multiple directions. If that seems tedious in your use case, consider the Instance behavior.\", metadata={'source': 'pronto-docs/README.md'}),\n Document(page_content='\\nTry to cram everything for your prototype in a single Godot scene so that changing any aspect is possible without having to switch scenes. Make use of the Spawner and Instance Behaviors to facilitate this.', metadata={'source': 'pronto-docs/README.md'}),\n Document(page_content='You can use the set function to modify any properties when a connection triggers.\\n\\nJuice', metadata={'source': 'pronto-docs/README.md'}),\n Document(page_content=\"\\nThe following list of nodes don't add new functionality, their purpose is to add a bit of juice to your prototypes. They may not make your prototypes good, but they can add to them.\", metadata={'source': 'pronto-docs/README.md'}),\n Document(page_content='Juice \\n Function \\n \\n SparkleJuice \\n Make your scene sparkle!\\n\\nConnections', metadata={'source': 'pronto-docs/README.md'}),\n Document(page_content='\\nConnections are an extension of Godot signals to be more flexible. Connections can be dragged from any behavior to any arbitrary node in a scene. They are the primary means to assemble your game by wiring Behaviors together.', metadata={'source': 'pronto-docs/README.md'}),\n Document(page_content='Creating', metadata={'source': 'pronto-docs/README.md'}),\n Document(page_content='\\nConnections are created by hovering the \"+\" that appears below selected nodes. There are two types of connections: Target Connections and Expression Connections.', metadata={'source': 'pronto-docs/README.md'}),\n Document(page_content='\\nThe type \"target\" is created by dragging a signal from the list onto its receiver. From the list in the dialog, you can either choose any method to invoke or choose <statement(s)> to execute arbitrary code. In the expressions for the arguments or the arbitrary code, you can write Godot expression that can access from and to.', metadata={'source': 'pronto-docs/README.md'}),\n Document(page_content='\\nThe type \"expression\" allows to execute arbitrary Godot code without a receiver node. Create an expression connection by double-clicking a signal in the list. You can access from in the code.', metadata={'source': 'pronto-docs/README.md'}),\n Document(page_content='Editing', metadata={'source': 'pronto-docs/README.md'}),\n Document(page_content='\\nYou can define a condition for the connection to trigger by entering a Godot expression in condition field. You may refer to from and to in the expression.', metadata={'source': 'pronto-docs/README.md'}),\n Document(page_content='\\nYou can use the + icon in the header of the connection editor to add references to further nodes by specifying a node path relative to the from node. You can use these nodes in any statement, argument, or condition expression using ref0, ref1, etc. You can right-click these variables in the connection header to edit their path or remove them.', metadata={'source': 'pronto-docs/README.md'}),\n Document(page_content='You can disable a connection by unchecking the checkbox in the top-right or in its context menu.', metadata={'source': 'pronto-docs/README.md'}),\n Document(page_content='\\nYou can also pin a connection editor so that it remains in the scene after saving them. You can click and drag editors in the scene as well. You can drag the handles at the bottom right of each text field to resize the editor.', metadata={'source': 'pronto-docs/README.md'}),\n Document(page_content='\\nYou can press the \"open script\" button next to any code expression to edit it in a full-screen Godot tab which provides you better syntax highlighting and autocompletion.', metadata={'source': 'pronto-docs/README.md'}),\n Document(page_content='Reordering\\n\\nFrom the context menu of a connection, choose \"Move to top\".\\n\\nDeleting', metadata={'source': 'pronto-docs/README.md'}),\n Document(page_content='Open the connection, then click on the trash icon in the top-right.', metadata={'source': 'pronto-docs/README.md'}),\n Document(page_content='Alternatively, right-click the connection and choose \"Delete\".\\n\\nExpressions', metadata={'source': 'pronto-docs/README.md'}),\n Document(page_content='\\nPronto scatters code throughout the scene to be as close to the place where it is relevant. Since there is limited space on the screen, we provide a set of utility functions that make formulating common expressions easier. Some are documented below, you can find all in U.gd. (Feel free to extend these.)', metadata={'source': 'pronto-docs/README.md'}),\n Document(page_content='Name \\n Function \\n Example', metadata={'source': 'pronto-docs/README.md'}),\n Document(page_content='u(node: Node) \\n Wrap the given Node to expose the utility functions for it.', metadata={'source': 'pronto-docs/README.md'}),\n Document(page_content='u(other).at(\"score\")', metadata={'source': 'pronto-docs/README.md'}),\n Document(page_content='closest_that(cond: Callable)', metadata={'source': 'pronto-docs/README.md'}),\n Document(page_content='\\n Find the closest node that matches the given criteria. First checks children, then children of parents in a breadth-first search. ', metadata={'source': 'pronto-docs/README.md'}),\n Document(page_content='closest_that(func (n): return n is Node)', metadata={'source': 'pronto-docs/README.md'}),\n Document(page_content='group(name: String)   group_do(name: String, c: Callable) \\n Get all nodes in the given group.', metadata={'source': 'pronto-docs/README.md'}),\n Document(page_content='group_do(\"enemy\", func (e): e.queue_free())', metadata={'source': 'pronto-docs/README.md'}),\n Document(page_content='at(name: String)', metadata={'source': 'pronto-docs/README.md'}),\n Document(page_content='\\n Find the \"closest\"  State  that has a field called  name . If none is found, checks global state in  G . ', metadata={'source': 'pronto-docs/README.md'}),\n Document(page_content='at(\"score\")', metadata={'source': 'pronto-docs/README.md'}),\n Document(page_content='put(name: String, val: Variant)', metadata={'source': 'pronto-docs/README.md'}),\n Document(page_content='\\n Find the \"closest\"  State  that has a field called  name  and store the given value. If none is found, checks global state in  G . ', metadata={'source': 'pronto-docs/README.md'}),\n Document(page_content='put(\"score\", 0)', metadata={'source': 'pronto-docs/README.md'}),\n Document(page_content='Assets', metadata={'source': 'pronto-docs/README.md'}),\n Document(page_content='\\nWhen creating your game/prototype in Pronto, you might want to use some assets to polish the look of your game. Those things are called assets and we already prepared some for you to use.', metadata={'source': 'pronto-docs/README.md'}),\n Document(page_content='TileMap', metadata={'source': 'pronto-docs/README.md'}),\n Document(page_content='\\nIf you want to create a large level you should take a look at the TileMap (default Godot). We already have a TileSet prepared that you can simply load into your TileMap inside the asset folder.', metadata={'source': 'pronto-docs/README.md'}),\n Document(page_content='Common Pitfalls\\n\\nPhysicsBody2D', metadata={'source': 'pronto-docs/README.md'}),\n Document(page_content='Collisions only work when contact monitor is on and the max contacts is at least 1.', metadata={'source': 'pronto-docs/README.md'}),\n Document(page_content='\\nPhysicsBody2D does not report collisions with Area2D. Instead, listen for collisions with the PhysicsBody on the Area.', metadata={'source': 'pronto-docs/README.md'}),\n Document(page_content='StaticBody', metadata={'source': 'pronto-docs/README.md'}),\n Document(page_content='\\nDoes not support reporting collisions at all in Godot. You can instead listen for collisions on the other collision partner.', metadata={'source': 'pronto-docs/README.md'}),\n Document(page_content='Connections\\n\\nThe $ shorthand of GDScript does not work. Use get_node() instead.', metadata={'source': 'pronto-docs/README.md'}),\n Document(page_content=\"\\nself is sadly not defined in connections. Use from and to instead, or make use of any of U's helpers (which are relative to from).\", metadata={'source': 'pronto-docs/README.md'}),\n Document(page_content='Moving nodes around will break connections.\\n\\nInstance', metadata={'source': 'pronto-docs/README.md'}),\n Document(page_content='\\nBe careful if you used the \"Editable Children\" option to modify nodes in an instanced subtree and then move the corresponding nodes in the template. Your modifications will be lost.', metadata={'source': 'pronto-docs/README.md'}),\n Document(page_content='Video Changelog\\n\\n30-90 seconds (no need to cut the video, can be shaky and raw)', metadata={'source': 'pronto-docs/README.md'}),\n Document(page_content='show what you did and what insights you gained', metadata={'source': 'pronto-docs/README.md'}),\n Document(page_content='\\nyou are encouraged to open the game with a couple different parameter configurations and show the impact', metadata={'source': 'pronto-docs/README.md'}),\n Document(page_content='Phase 2: Extending the Framework\\n\\nWriting a New Behavior', metadata={'source': 'pronto-docs/README.md'}),\n Document(page_content='\\nChoose an icon to use as thumbnail from the Godot source (it is recommended to download the source as ZIP for easily browsing the list).', metadata={'source': 'pronto-docs/README.md'}),\n Document(page_content='Create a {Name}.gd file in addons/pronto/behaviors.\\n\\nAs a header for the file, use:', metadata={'source': 'pronto-docs/README.md'}),\n Document(page_content='```python\\n@tool\\n\\nthumb(\"IconName\")\\n\\nextends Behavior\\n```', metadata={'source': 'pronto-docs/README.md'}),\n Document(page_content='Proceed to write a Godot Node class as regular, e.g. by using @export and signals.', metadata={'source': 'pronto-docs/README.md'}),\n Document(page_content='\\n⚠️ make sure to call super implementations of all overwritten methods, e.g. super._ready() and super._process().', metadata={'source': 'pronto-docs/README.md'}),\n Document(page_content='When do I have to reload what?', metadata={'source': 'pronto-docs/README.md'}),\n Document(page_content='Re-enable the plugin (go to Project>Settings>Plugins and toggle Pronto off and on)', metadata={'source': 'pronto-docs/README.md'}),\n Document(page_content='When creating a completely new Behavior file.\\n\\nRe-open the scene to update existing Behaviors', metadata={'source': 'pronto-docs/README.md'}),\n Document(page_content='When changing a _ready function.\\n\\nWhen creating a new _process function.', metadata={'source': 'pronto-docs/README.md'}),\n Document(page_content='Switch scenes back and forth\\n\\nWhen updating a _draw function if no one calls queue_redraw.', metadata={'source': 'pronto-docs/README.md'}),\n Document(page_content='If everything goes wrong :-)', metadata={'source': 'pronto-docs/README.md'}),\n Document(page_content='Reload the project from the main menu > Project > Reload Current Project', metadata={'source': 'pronto-docs/README.md'}),\n Document(page_content='TODO: reproduce in which cases this is necessary\\n\\nHelpers', metadata={'source': 'pronto-docs/README.md'}),\n Document(page_content='As helpers for writing commonly needed functionality, you can use the below:\\n\\nConfiguration', metadata={'source': 'pronto-docs/README.md'}),\n Document(page_content='\\nconnect_ui -> Control show the returned Control at the top of the connect popup (that is opened via the \"+\").', metadata={'source': 'pronto-docs/README.md'}),\n Document(page_content='show_icon() -> bool return false to not show the configured icon for the behavior on the canvas.', metadata={'source': 'pronto-docs/README.md'}),\n Document(page_content='Handles', metadata={'source': 'pronto-docs/README.md'}),\n Document(page_content='\\nYou can return a list of handles (knobs on the canvas that you can move). See Placeholder and Value behaviors for examples.', metadata={'source': 'pronto-docs/README.md'}),\n Document(page_content=\"\\nHandles can exist in local space of the nodes in the canvas or in the space of the overlay (independent of the canvas' zoom).\", metadata={'source': 'pronto-docs/README.md'}),\n Document(page_content='Lines and Text Below a Behavior', metadata={'source': 'pronto-docs/README.md'}),\n Document(page_content='\\nYou can draw lines between nodes or put text underneath your behavior by returning Line instances from the lines() function.', metadata={'source': 'pronto-docs/README.md'}),\n Document(page_content='Canvas Override and Events', metadata={'source': 'pronto-docs/README.md'}),\n Document(page_content='\\nIf you need to add more controls to your behavior, you have to use the canvas override hooks. You can see the implementation of handles in Behavior.gd as an example of this.', metadata={'source': 'pronto-docs/README.md'}),\n Document(page_content=\"\\nOverride _forward_canvas_draw_over_viewport(viewport_control: Control) to draw in the overlay space (independent of the canvas' zoom).\", metadata={'source': 'pronto-docs/README.md'}),\n Document(page_content='\\nOverride func _forward_canvas_gui_input(event: InputEvent, undo_redo: EditorUndoRedoManager) to react to events that occur on the canvas. Return true if you want to absorb the passed element.', metadata={'source': 'pronto-docs/README.md'}),\n Document(page_content='\\n⚠️ make sure to call the super implementations if you override either of these, or handles will no longer work.', metadata={'source': 'pronto-docs/README.md'}),\n Document(page_content='Runtime Values\\n\\nIn ConnectionDebug.gd you can communicate values from the game back to the engine.', metadata={'source': 'pronto-docs/README.md'}),\n Document(page_content='Building UI', metadata={'source': 'pronto-docs/README.md'}),\n Document(page_content='\\nEditorIcon: a texture that will load any of the built-in icons and color it according to the configured theme.', metadata={'source': 'pronto-docs/README.md'}),\n Document(page_content='In ExpressionInspector.gd you can specify that a property should get a GDScript code editor.', metadata={'source': 'pronto-docs/README.md'}),\n Document(page_content='Hints on Designing new Behaviors', metadata={'source': 'pronto-docs/README.md'}),\n Document(page_content=\"\\nDon't bundle too much: give each concern its own behavior, e.g. appearance, movement, shooting. Design behaviors such that they are easy to connect to one another instead of pre-packaging them with lots of concerns.\", metadata={'source': 'pronto-docs/README.md'}),\n Document(page_content='Phase 3: Deploying your Prototype/Game', metadata={'source': 'pronto-docs/README.md'}),\n Document(page_content='\\nTo deploy your game to hpi-swa-lab.github.io/godot-pronto/ you can use the Build & Deploy Game Action.', metadata={'source': 'pronto-docs/README.md'}),\n Document(page_content='\\nThis will be done automatically if you created your game via the menu tab Prototype (which automatically creates a branch, folder, main scene and ExportBehavior).', metadata={'source': 'pronto-docs/README.md'}),\n Document(page_content=\"However, if you didn't use this method you can follow this checklist to export your game.\", metadata={'source': 'pronto-docs/README.md'}),\n Document(page_content='Preparation\\n\\nBefore you can deploy your game check the following:', metadata={'source': 'pronto-docs/README.md'}),\n Document(page_content='Make your game the main scene of the godot project.', metadata={'source': 'pronto-docs/README.md'}),\n Document(page_content='\\nMake sure that your game and all assets you use are inside your prototype folder (e.g. prototypes/game-myPrototype).', metadata={'source': 'pronto-docs/README.md'}),\n Document(page_content='\\nMake sure that your branch-name starts with game- and is named identical to your folder name (e.g. game-myPrototype)', metadata={'source': 'pronto-docs/README.md'}),\n Document(page_content='Make sure that no filenames or folders have a space character in them.\\n\\nExportBehavior', metadata={'source': 'pronto-docs/README.md'}),\n Document(page_content='To automatically export your game do the following:', metadata={'source': 'pronto-docs/README.md'}),\n Document(page_content='Add an ExportBehavior (do not rename this node!) anywhere in your game', metadata={'source': 'pronto-docs/README.md'}),\n Document(page_content='\\nIn the ExportBehavior, you can configure settings such as title, description and authors of the game, as well as how the thumbnail.png gets generated (specified by a delay to automatically take a screenshot)', metadata={'source': 'pronto-docs/README.md'}),\n Document(page_content='Set your game scene as the main godot scene\\n\\nRun your game once so it will generate a thumbnail', metadata={'source': 'pronto-docs/README.md'}),\n Document(page_content='make sure to git add the generated thumbnail.png and game_info.json, commit and push!', metadata={'source': 'pronto-docs/README.md'}),\n Document(page_content='Once pushed, the system will automatically trigger a CI workflow to deploy your game.', metadata={'source': 'pronto-docs/README.md'}),\n Document(page_content='If everything went well the system will push your game to the gh-pages branch.', metadata={'source': 'pronto-docs/README.md'}),\n Document(page_content='This automatically triggers another workflow to rebuild the page.', metadata={'source': 'pronto-docs/README.md'}),\n Document(page_content='Wait until this workflow has completed before going to the next step.', metadata={'source': 'pronto-docs/README.md'}),\n Document(page_content='All in all, the game should be live within 3-5 minutes.', metadata={'source': 'pronto-docs/README.md'}),\n Document(page_content='Testing', metadata={'source': 'pronto-docs/README.md'}),\n Document(page_content='\\nAfter the workflow executed you can head over to hpi-swa-lab.github.io/godot-pronto/. You should see your game appear in the list of games. Click on the \"Play Now\" button and check if everything is working.', metadata={'source': 'pronto-docs/README.md'}),\n Document(page_content='Deploying Changes', metadata={'source': 'pronto-docs/README.md'}),\n Document(page_content='\\nIf you have made any changes to your game and want to deploy a new version, you can just repeat this process. Any existing version of your game will be overwritten.', metadata={'source': 'pronto-docs/README.md'}),\n Document(page_content='Troubleshooting', metadata={'source': 'pronto-docs/README.md'}),\n Document(page_content='\\nIf you accidentally trigger the workflow with an incorrect folder name it may execute without generating any errors but will create a new game in the gh-pages branch. This will automatically be rendered into the list of games. In order to delete it, you have to manually remove it from the gh-pages branch. Please be careful when doing so and do not delete any other files other than the projects folder you want to delete.', metadata={'source': 'pronto-docs/README.md'})]"
     },
     "execution_count": 17,
     "metadata": {},
     "output_type": "execute_result"
    }
   ],
   "source": [
    "rctcs_splitter.split_documents(filter(lambda x: x.metadata[\"source\"] == \"pronto-docs/README.md\", docs))"
   ],
   "metadata": {
    "collapsed": false,
    "ExecuteTime": {
     "start_time": "2024-01-18T18:18:24.310854Z",
     "end_time": "2024-01-18T18:18:24.356686Z"
    }
   }
  },
  {
   "cell_type": "code",
   "execution_count": 18,
   "outputs": [
    {
     "name": "stdout",
     "output_type": "stream",
     "text": [
      "10\n",
      "[Document(page_content='ValueBehavior', metadata={'source': 'pronto-docs/README.md'}), Document(page_content='\\nIf [code]true[/code], all values in the scene are added to the menu (if they are visible) [br]If [code]false[/code], only children ValueBehaviors are added to the menu (if they are visible)', metadata={'source': 'pronto-docs/PrototypingUIBehavior.md'}), Document(page_content='create_ui_for_value\\n\\ngdscript\\nfunc create_ui_for_value(value: ValueBehavior)', metadata={'source': 'pronto-docs/PrototypingUIBehavior.md'}), Document(page_content='create_ui_for_value_enum\\n\\ngdscript\\nfunc create_ui_for_value_enum(value: ValueBehavior)', metadata={'source': 'pronto-docs/PrototypingUIBehavior.md'}), Document(page_content='create_ui_for_value_bool\\n\\ngdscript\\nfunc create_ui_for_value_bool(value: ValueBehavior)', metadata={'source': 'pronto-docs/PrototypingUIBehavior.md'}), Document(page_content='gdscript\\nfunc create_ui_slider_for_value_float(value: ValueBehavior)\\n\\ncreate_minimizing_button', metadata={'source': 'pronto-docs/PrototypingUIBehavior.md'}), Document(page_content='func handle_value_bool_change(index: int, value: ValueBehavior, optionButton: OptionButton)', metadata={'source': 'pronto-docs/PrototypingUIBehavior.md'}), Document(page_content='func handle_value_enum_change(index: int, value: ValueBehavior, optionButton: OptionButton)', metadata={'source': 'pronto-docs/PrototypingUIBehavior.md'}), Document(page_content='\\nfunc handle_update_value_float_change(new_value: float, value: ValueBehavior, label_current: Label, slider: HSlider)', metadata={'source': 'pronto-docs/PrototypingUIBehavior.md'}), Document(page_content='ValueBehavior\\n\\nExtends: Behavior\\n\\nDescription\\n\\nConstants Descriptions\\n\\nBUFFER_PCT', metadata={'source': 'pronto-docs/ValueBehavior.md'})]\n"
     ]
    }
   ],
   "source": [
    "splits = get_splits_from_keyword(\"ValueBehavior\", rctcs_splitter, docs)\n",
    "print(len(splits))\n",
    "print(splits)"
   ],
   "metadata": {
    "collapsed": false,
    "ExecuteTime": {
     "start_time": "2024-01-18T18:18:24.402338Z",
     "end_time": "2024-01-18T18:18:24.422802Z"
    }
   }
  },
  {
   "cell_type": "code",
   "execution_count": 19,
   "outputs": [],
   "source": [
    "from langchain.text_splitter import CharacterTextSplitter\n",
    "\n",
    "ct_splitter = CharacterTextSplitter(\n",
    "    chunk_size=chunk_size,\n",
    "    chunk_overlap=chunk_overlap,\n",
    "    separator=\"\\n\"\n",
    ")"
   ],
   "metadata": {
    "collapsed": false,
    "ExecuteTime": {
     "start_time": "2024-01-18T18:18:24.405562Z",
     "end_time": "2024-01-18T18:18:24.422928Z"
    }
   }
  },
  {
   "cell_type": "code",
   "execution_count": 20,
   "outputs": [
    {
     "name": "stderr",
     "output_type": "stream",
     "text": [
      "Created a chunk of size 120, which is longer than the specified 100\n",
      "Created a chunk of size 131, which is longer than the specified 100\n",
      "Created a chunk of size 105, which is longer than the specified 100\n",
      "Created a chunk of size 123, which is longer than the specified 100\n",
      "Created a chunk of size 113, which is longer than the specified 100\n",
      "Created a chunk of size 154, which is longer than the specified 100\n",
      "Created a chunk of size 138, which is longer than the specified 100\n",
      "Created a chunk of size 146, which is longer than the specified 100\n",
      "Created a chunk of size 125, which is longer than the specified 100\n",
      "Created a chunk of size 125, which is longer than the specified 100\n",
      "Created a chunk of size 205, which is longer than the specified 100\n",
      "Created a chunk of size 123, which is longer than the specified 100\n",
      "Created a chunk of size 114, which is longer than the specified 100\n",
      "Created a chunk of size 168, which is longer than the specified 100\n",
      "Created a chunk of size 106, which is longer than the specified 100\n",
      "Created a chunk of size 159, which is longer than the specified 100\n",
      "Created a chunk of size 157, which is longer than the specified 100\n",
      "Created a chunk of size 120, which is longer than the specified 100\n",
      "Created a chunk of size 197, which is longer than the specified 100\n",
      "Created a chunk of size 149, which is longer than the specified 100\n",
      "Created a chunk of size 110, which is longer than the specified 100\n",
      "Created a chunk of size 118, which is longer than the specified 100\n",
      "Created a chunk of size 178, which is longer than the specified 100\n",
      "Created a chunk of size 381, which is longer than the specified 100\n",
      "Created a chunk of size 164, which is longer than the specified 100\n",
      "Created a chunk of size 117, which is longer than the specified 100\n",
      "Created a chunk of size 117, which is longer than the specified 100\n",
      "Created a chunk of size 191, which is longer than the specified 100\n",
      "Created a chunk of size 113, which is longer than the specified 100\n",
      "Created a chunk of size 109, which is longer than the specified 100\n",
      "Created a chunk of size 104, which is longer than the specified 100\n",
      "Created a chunk of size 146, which is longer than the specified 100\n",
      "Created a chunk of size 109, which is longer than the specified 100\n",
      "Created a chunk of size 988, which is longer than the specified 100\n",
      "Created a chunk of size 134, which is longer than the specified 100\n",
      "Created a chunk of size 257, which is longer than the specified 100\n",
      "Created a chunk of size 142, which is longer than the specified 100\n",
      "Created a chunk of size 142, which is longer than the specified 100\n",
      "Created a chunk of size 184, which is longer than the specified 100\n",
      "Created a chunk of size 230, which is longer than the specified 100\n",
      "Created a chunk of size 115, which is longer than the specified 100\n",
      "Created a chunk of size 129, which is longer than the specified 100\n",
      "Created a chunk of size 129, which is longer than the specified 100\n",
      "Created a chunk of size 129, which is longer than the specified 100\n",
      "Created a chunk of size 169, which is longer than the specified 100\n",
      "Created a chunk of size 139, which is longer than the specified 100\n",
      "Created a chunk of size 193, which is longer than the specified 100\n",
      "Created a chunk of size 289, which is longer than the specified 100\n",
      "Created a chunk of size 269, which is longer than the specified 100\n",
      "Created a chunk of size 389, which is longer than the specified 100\n",
      "Created a chunk of size 234, which is longer than the specified 100\n",
      "Created a chunk of size 351, which is longer than the specified 100\n",
      "Created a chunk of size 501, which is longer than the specified 100\n",
      "Created a chunk of size 264, which is longer than the specified 100\n",
      "Created a chunk of size 353, which is longer than the specified 100\n",
      "Created a chunk of size 273, which is longer than the specified 100\n",
      "Created a chunk of size 557, which is longer than the specified 100\n",
      "Created a chunk of size 257, which is longer than the specified 100\n",
      "Created a chunk of size 112, which is longer than the specified 100\n",
      "Created a chunk of size 167, which is longer than the specified 100\n",
      "Created a chunk of size 254, which is longer than the specified 100\n",
      "Created a chunk of size 295, which is longer than the specified 100\n",
      "Created a chunk of size 172, which is longer than the specified 100\n",
      "Created a chunk of size 417, which is longer than the specified 100\n",
      "Created a chunk of size 126, which is longer than the specified 100\n",
      "Created a chunk of size 439, which is longer than the specified 100\n",
      "Created a chunk of size 373, which is longer than the specified 100\n",
      "Created a chunk of size 164, which is longer than the specified 100\n",
      "Created a chunk of size 206, which is longer than the specified 100\n",
      "Created a chunk of size 145, which is longer than the specified 100\n",
      "Created a chunk of size 159, which is longer than the specified 100\n",
      "Created a chunk of size 160, which is longer than the specified 100\n",
      "Created a chunk of size 119, which is longer than the specified 100\n",
      "Created a chunk of size 179, which is longer than the specified 100\n",
      "Created a chunk of size 205, which is longer than the specified 100\n",
      "Created a chunk of size 181, which is longer than the specified 100\n",
      "Created a chunk of size 224, which is longer than the specified 100\n",
      "Created a chunk of size 161, which is longer than the specified 100\n",
      "Created a chunk of size 326, which is longer than the specified 100\n",
      "Created a chunk of size 191, which is longer than the specified 100\n",
      "Created a chunk of size 155, which is longer than the specified 100\n",
      "Created a chunk of size 344, which is longer than the specified 100\n",
      "Created a chunk of size 226, which is longer than the specified 100\n",
      "Created a chunk of size 170, which is longer than the specified 100\n",
      "Created a chunk of size 304, which is longer than the specified 100\n",
      "Created a chunk of size 131, which is longer than the specified 100\n",
      "Created a chunk of size 106, which is longer than the specified 100\n",
      "Created a chunk of size 132, which is longer than the specified 100\n",
      "Created a chunk of size 187, which is longer than the specified 100\n",
      "Created a chunk of size 193, which is longer than the specified 100\n",
      "Created a chunk of size 118, which is longer than the specified 100\n",
      "Created a chunk of size 124, which is longer than the specified 100\n",
      "Created a chunk of size 130, which is longer than the specified 100\n",
      "Created a chunk of size 181, which is longer than the specified 100\n",
      "Created a chunk of size 104, which is longer than the specified 100\n",
      "Created a chunk of size 136, which is longer than the specified 100\n",
      "Created a chunk of size 112, which is longer than the specified 100\n",
      "Created a chunk of size 109, which is longer than the specified 100\n",
      "Created a chunk of size 123, which is longer than the specified 100\n",
      "Created a chunk of size 125, which is longer than the specified 100\n",
      "Created a chunk of size 124, which is longer than the specified 100\n",
      "Created a chunk of size 173, which is longer than the specified 100\n",
      "Created a chunk of size 134, which is longer than the specified 100\n",
      "Created a chunk of size 191, which is longer than the specified 100\n",
      "Created a chunk of size 111, which is longer than the specified 100\n",
      "Created a chunk of size 110, which is longer than the specified 100\n",
      "Created a chunk of size 215, which is longer than the specified 100\n",
      "Created a chunk of size 102, which is longer than the specified 100\n",
      "Created a chunk of size 162, which is longer than the specified 100\n",
      "Created a chunk of size 116, which is longer than the specified 100\n",
      "Created a chunk of size 116, which is longer than the specified 100\n",
      "Created a chunk of size 207, which is longer than the specified 100\n",
      "Created a chunk of size 206, which is longer than the specified 100\n",
      "Created a chunk of size 164, which is longer than the specified 100\n",
      "Created a chunk of size 139, which is longer than the specified 100\n",
      "Created a chunk of size 189, which is longer than the specified 100\n",
      "Created a chunk of size 116, which is longer than the specified 100\n",
      "Created a chunk of size 224, which is longer than the specified 100\n",
      "Created a chunk of size 189, which is longer than the specified 100\n",
      "Created a chunk of size 229, which is longer than the specified 100\n",
      "Created a chunk of size 222, which is longer than the specified 100\n",
      "Created a chunk of size 193, which is longer than the specified 100\n",
      "Created a chunk of size 275, which is longer than the specified 100\n",
      "Created a chunk of size 113, which is longer than the specified 100\n",
      "Created a chunk of size 136, which is longer than the specified 100\n",
      "Created a chunk of size 185, which is longer than the specified 100\n",
      "Created a chunk of size 267, which is longer than the specified 100\n",
      "Created a chunk of size 105, which is longer than the specified 100\n",
      "Created a chunk of size 188, which is longer than the specified 100\n",
      "Created a chunk of size 107, which is longer than the specified 100\n",
      "Created a chunk of size 168, which is longer than the specified 100\n",
      "Created a chunk of size 172, which is longer than the specified 100\n",
      "Created a chunk of size 160, which is longer than the specified 100\n",
      "Created a chunk of size 107, which is longer than the specified 100\n",
      "Created a chunk of size 121, which is longer than the specified 100\n",
      "Created a chunk of size 131, which is longer than the specified 100\n",
      "Created a chunk of size 146, which is longer than the specified 100\n",
      "Created a chunk of size 109, which is longer than the specified 100\n",
      "Created a chunk of size 277, which is longer than the specified 100\n",
      "Created a chunk of size 119, which is longer than the specified 100\n",
      "Created a chunk of size 878, which is longer than the specified 100\n",
      "Created a chunk of size 118, which is longer than the specified 100\n"
     ]
    },
    {
     "data": {
      "text/plain": "[Document(page_content='line_text_function\\ngdscript\\nfunc line_text_function(connection: Connection) -> Callable', metadata={'source': 'pronto-docs/StateBehavior.md'}),\n Document(page_content='Allows you to define a template subtree of Nodes that you want to repeat multiple times without copy-pasting. Add your template as a child of the Instance node, then hover the connection dialog and click the \"Instance\" button. Note: internally, this creates a \"hidden\" scene that you need to commit as well. You can thus use  \"Editable children\"  in Godot by right-clicking the instance and tweaking properties while inheriting the rest.', metadata={'source': 'pronto-docs/README.md'}),\n Document(page_content='VisualLineBehavior \\n Show a colored Line between two Nodes. Useful as a quick visual connection.', metadata={'source': 'pronto-docs/README.md'}),\n Document(page_content='You can use the set function to modify any properties when a connection triggers.\\nJuice', metadata={'source': 'pronto-docs/README.md'}),\n Document(page_content='Connections are created by hovering the \"+\" that appears below selected nodes. There are two types of connections: Target Connections and Expression Connections.', metadata={'source': 'pronto-docs/README.md'}),\n Document(page_content='The type \"expression\" allows to execute arbitrary Godot code without a receiver node. Create an expression connection by double-clicking a signal in the list. You can access from in the code.', metadata={'source': 'pronto-docs/README.md'}),\n Document(page_content='You can define a condition for the connection to trigger by entering a Godot expression in condition field. You may refer to from and to in the expression.', metadata={'source': 'pronto-docs/README.md'}),\n Document(page_content='You can use the + icon in the header of the connection editor to add references to further nodes by specifying a node path relative to the from node. You can use these nodes in any statement, argument, or condition expression using ref0, ref1, etc. You can right-click these variables in the connection header to edit their path or remove them.', metadata={'source': 'pronto-docs/README.md'}),\n Document(page_content='You can disable a connection by unchecking the checkbox in the top-right or in its context menu.', metadata={'source': 'pronto-docs/README.md'}),\n Document(page_content='You can also pin a connection editor so that it remains in the scene after saving them. You can click and drag editors in the scene as well. You can drag the handles at the bottom right of each text field to resize the editor.', metadata={'source': 'pronto-docs/README.md'}),\n Document(page_content='Reordering\\nFrom the context menu of a connection, choose \"Move to top\".\\nDeleting', metadata={'source': 'pronto-docs/README.md'}),\n Document(page_content='Open the connection, then click on the trash icon in the top-right.', metadata={'source': 'pronto-docs/README.md'}),\n Document(page_content='Alternatively, right-click the connection and choose \"Delete\".\\nExpressions', metadata={'source': 'pronto-docs/README.md'}),\n Document(page_content=\"self is sadly not defined in connections. Use from and to instead, or make use of any of U's helpers (which are relative to from).\", metadata={'source': 'pronto-docs/README.md'}),\n Document(page_content='Moving nodes around will break connections.\\nInstance', metadata={'source': 'pronto-docs/README.md'}),\n Document(page_content='connect_ui -> Control show the returned Control at the top of the connect popup (that is opened via the \"+\").', metadata={'source': 'pronto-docs/README.md'}),\n Document(page_content=\"Don't bundle too much: give each concern its own behavior, e.g. appearance, movement, shooting. Design behaviors such that they are easy to connect to one another instead of pre-packaging them with lots of concerns.\", metadata={'source': 'pronto-docs/README.md'}),\n Document(page_content='var scene_path: String = \"\"\\nMethod Descriptions\\nconnect_ui\\ngdscript\\nfunc connect_ui()', metadata={'source': 'pronto-docs/InstanceBehavior.md'})]"
     },
     "execution_count": 20,
     "metadata": {},
     "output_type": "execute_result"
    }
   ],
   "source": [
    "get_splits_from_keyword(\"connect\", ct_splitter, docs)"
   ],
   "metadata": {
    "collapsed": false,
    "ExecuteTime": {
     "start_time": "2024-01-18T18:18:24.408317Z",
     "end_time": "2024-01-18T18:18:24.472324Z"
    }
   }
  },
  {
   "cell_type": "markdown",
   "source": [
    "## 3. Embed & store documents\n",
    "\n",
    "This is where it gets interesting. We have different options for retrieving:\n",
    "- Vectorstore\n",
    "- Parent Document\n",
    "- Multi-Vector\n",
    "- Self Query\n",
    "- Contextual Compression\n",
    "- Time-Weighted Vectorstore\n",
    "- Multi-Query Retriever\n",
    "- Ensemble\n",
    "- Long-Context Reorder"
   ],
   "metadata": {
    "collapsed": false
   }
  },
  {
   "cell_type": "code",
   "execution_count": 21,
   "outputs": [],
   "source": [
    "from langchain_community.embeddings import OpenAIEmbeddings\n",
    "\n",
    "embeddings = OpenAIEmbeddings()"
   ],
   "metadata": {
    "collapsed": false,
    "ExecuteTime": {
     "start_time": "2024-01-18T18:18:24.479368Z",
     "end_time": "2024-01-18T18:18:24.713270Z"
    }
   }
  },
  {
   "cell_type": "code",
   "execution_count": 22,
   "outputs": [],
   "source": [
    "from langchain_community.chat_models import ChatOpenAI\n",
    "\n",
    "llm = ChatOpenAI(temperature=0)"
   ],
   "metadata": {
    "collapsed": false,
    "ExecuteTime": {
     "start_time": "2024-01-18T18:18:24.713559Z",
     "end_time": "2024-01-18T18:18:24.825876Z"
    }
   }
  },
  {
   "cell_type": "code",
   "execution_count": 23,
   "outputs": [],
   "source": [
    "from langchain_community.vectorstores.chroma import Chroma\n",
    "\n",
    "db = Chroma.from_documents(documents=docs, embedding=embeddings, persist_directory=\"./chroma_db\")"
   ],
   "metadata": {
    "collapsed": false,
    "ExecuteTime": {
     "start_time": "2024-01-18T18:18:24.826309Z",
     "end_time": "2024-01-18T18:18:30.049417Z"
    }
   }
  },
  {
   "cell_type": "code",
   "execution_count": 24,
   "outputs": [],
   "source": [
    "from langchain_core.retrievers import BaseRetriever\n",
    "\n",
    "def check_for_keyword(keyword: str, retriever: BaseRetriever):\n",
    "    rel_docs = retriever.get_relevant_documents(keyword)\n",
    "    count_results = sum(map(lambda x: int(keyword in x.page_content), rel_docs))\n",
    "    return str(count_results) + \"/\" + str(len(rel_docs))"
   ],
   "metadata": {
    "collapsed": false,
    "ExecuteTime": {
     "start_time": "2024-01-18T18:18:30.051476Z",
     "end_time": "2024-01-18T18:18:30.054487Z"
    }
   }
  },
  {
   "cell_type": "markdown",
   "source": [
    "### 3.1 Vectorstore\n",
    "\n",
    "This is the basic method directly build into the vectorstore."
   ],
   "metadata": {
    "collapsed": false
   }
  },
  {
   "cell_type": "code",
   "execution_count": 25,
   "outputs": [],
   "source": [
    "vec_retriever = db.as_retriever()\n",
    "vec_retriever_mmr = db.as_retriever(\n",
    "    search_type=\"mmr\",  # Also test \"similarity\",\n",
    ")"
   ],
   "metadata": {
    "collapsed": false,
    "ExecuteTime": {
     "start_time": "2024-01-18T18:18:30.054267Z",
     "end_time": "2024-01-18T18:18:30.056820Z"
    }
   }
  },
  {
   "cell_type": "code",
   "execution_count": 26,
   "outputs": [
    {
     "data": {
      "text/plain": "[Document(page_content='StateMachineBehavior\\n\\nExtends: Behavior\\n\\nDescription', metadata={'source': 'pronto-docs/StateMachineBehavior.md'}),\n Document(page_content='StateMachineBehavior\\n\\nExtends: Behavior\\n\\nDescription', metadata={'source': 'pronto-docs/StateMachineBehavior.md'}),\n Document(page_content='StateMachineBehavior\\n\\nExtends: Behavior\\n\\nDescription', metadata={'source': 'pronto-docs/StateMachineBehavior.md'}),\n Document(page_content='StateMachineBehavior\\n\\nExtends: Behavior\\n\\nDescription', metadata={'source': 'pronto-docs/StateMachineBehavior.md'})]"
     },
     "execution_count": 26,
     "metadata": {},
     "output_type": "execute_result"
    }
   ],
   "source": [
    "vec_retriever.get_relevant_documents(search_keyword)"
   ],
   "metadata": {
    "collapsed": false,
    "ExecuteTime": {
     "start_time": "2024-01-18T18:18:30.057598Z",
     "end_time": "2024-01-18T18:18:30.431134Z"
    }
   }
  },
  {
   "cell_type": "code",
   "execution_count": 27,
   "outputs": [
    {
     "name": "stdout",
     "output_type": "stream",
     "text": [
      "0/4\n",
      "1/4\n"
     ]
    }
   ],
   "source": [
    "print(check_for_keyword(search_keyword, vec_retriever))\n",
    "print(check_for_keyword(search_keyword, vec_retriever_mmr))"
   ],
   "metadata": {
    "collapsed": false,
    "ExecuteTime": {
     "start_time": "2024-01-18T18:18:30.431237Z",
     "end_time": "2024-01-18T18:18:31.238114Z"
    }
   }
  },
  {
   "cell_type": "markdown",
   "source": [
    "As you can see the vectorstore method delivers some correct result but performs poorly."
   ],
   "metadata": {
    "collapsed": false
   }
  },
  {
   "cell_type": "markdown",
   "source": [
    "### 3.2 Parent Document Retriever"
   ],
   "metadata": {
    "collapsed": false
   }
  },
  {
   "cell_type": "markdown",
   "source": [
    "#### 3.2.1 Full Documents from smaller chunks"
   ],
   "metadata": {
    "collapsed": false
   }
  },
  {
   "cell_type": "code",
   "execution_count": 28,
   "outputs": [],
   "source": [
    "from langchain.retrievers import ParentDocumentRetriever\n",
    "from langchain.storage import InMemoryStore\n",
    "\n",
    "pdfd_vectorstore = Chroma(\n",
    "    collection_name=\"full_documents\", embedding_function=OpenAIEmbeddings()\n",
    ")\n",
    "\n",
    "pdfd_store = InMemoryStore()\n",
    "pdfd_retriever = ParentDocumentRetriever(\n",
    "    vectorstore=pdfd_vectorstore,\n",
    "    docstore=pdfd_store,\n",
    "    child_splitter=docs_splitter,\n",
    ")"
   ],
   "metadata": {
    "collapsed": false,
    "ExecuteTime": {
     "start_time": "2024-01-18T18:18:31.173595Z",
     "end_time": "2024-01-18T18:18:31.659700Z"
    }
   }
  },
  {
   "cell_type": "code",
   "execution_count": 29,
   "outputs": [],
   "source": [
    "pdfd_retriever.add_documents(docs, ids=None)"
   ],
   "metadata": {
    "collapsed": false,
    "ExecuteTime": {
     "start_time": "2024-01-18T18:18:31.660385Z",
     "end_time": "2024-01-18T18:18:46.788128Z"
    }
   }
  },
  {
   "cell_type": "code",
   "execution_count": 30,
   "outputs": [
    {
     "data": {
      "text/plain": "[Document(page_content='AlwaysBehavior\\n\\nExtends: Behavior\\n\\nDescription\\n\\nSee [signal AlwaysBehavior.always] and [signal AlwaysBehavior.physics_always] for a description of which signal to listen to.\\n\\nSee [signal AlwaysBehavior.always] and [signal AlwaysBehavior.physics_always] for a description of which signal to listen to.\\n\\nProperty Descriptions\\n\\npaused\\n\\ngdscript\\n@export var paused = false\\n\\nIf this is set to [code]true[/code] the AlwaysBehavior will stop emitting any signals. During runtime, do not set this directly. Instead use [method AlwaysBehavior.pause] and [method AlwaysBehavior.resume]\\n\\nMethod Descriptions\\n\\npause\\n\\ngdscript\\nfunc pause()\\n\\nCalling this method results in pausing the execution of always Use [method AlwaysBehavior.resume] to continue the execution\\n\\nresume\\n\\ngdscript\\nfunc resume()\\n\\nCalling this method results in continuing the paused execution Use [method AlwaysBehavior.pause] to stop it again.\\n\\nSignals\\n\\nsignal always(delta): This Signal gets emitted every frame in the [method AlwaysBehavior._process] method if [member AlwaysBehavior.paused] is set to [code]false[/code]\\n\\nsignal physiscs_always(delta): This Signal gets emitted every frame in the [method AlwaysBehavior._physics_process] method if [member AlwaysBehavior.paused] is set to [code]false[/code]', metadata={'source': 'pronto-docs/AlwaysBehavior.md'}),\n Document(page_content='Pronto\\n\\nPronto is a framework for Godot to make prototyping game mechanics faster. It is not a framework aimed at helping to create entire games faster. The resulting prototypes are a means to quickly explore ideas, throw away the prototype, and only properly implement ideas that turned out well.\\n\\nPlay prototypes created in pronto here.\\n\\nFunction\\n\\nThe main idea of Pronto is to make behavior visible. Our hypothesis is that it will be easier to create and tweak game mechanics. For example, instead of defining numbers in code for the distance a platform moves, we use handles in the game world to visually direct it.\\n\\nPronto consists of a set of Godot Nodes called Behavior that can be added to a Godot scene. These behaviors are aspects that, when combined, result in the expression of complex behavior in the Godot scene. All behaviors have visual representation in the scene and primarily function through an event system called Connections. For example, if a timer reaches 5 seconds, a new enemy spawns.\\n\\nPhase 1: Creating a Prototype\\n\\nBuild a tiny Godot game but focus on a single mechanic. Do not focus on visuals. Polish only where it is essential for the mechanic you are creating. Where possible, use the below advice and helpers instead of code for implementation.\\n\\nWhen choosing a mechanic, ask yourself first: Would it be better/faster to build a paper prototype? (If so, consider another mechanic.) What is the minimal feature set I need to implement to see if the mechanic is good? Try and pick a mechanic that is not necessarily the core of the genre but adds an interesting aspect to it and only implement that.\\n\\nTo get started, create a branch with the following pattern:\\n\\n```\\nweek-[week number]-[mechanic name]\\n\\n(e.g., week-0-kart-dash for the tutorial session)\\n```\\n\\nBehaviors\\n\\nThe following list of behaviors act primarily as triggers of events.\\n\\nBehavior \\n Function \\n \\n AlwaysBehavior \\n Triggers every frame. Analog to Godot\\'s  _process  function. Can be paused. \\n \\n ClockBehavior \\n Triggers after or for a set time. Can be set to paused and to only trigger once. When looking to trigger for a specific duration the  Trigger Every Frame  property of  Until Elapsed  needs to be enabled. This will trigger every frame until the timer is elapsed. If you wish to trigger e.g. every second (instead of every frame) you can activate  Trigger Every X Seconds  and set the  Trigger Interval In Seconds  to  1 . Hint: Interval should not be smaller than typical time between frames (delta). \\n \\n CollisionBehavior \\n Triggers when something collides with its parent. The  collided  signal also provides the  direction  of the collision pointing in the direction from the parent to the node it collided with. NOTE: only works for Area2D, RigidBody2D and CharacterBody2D as of now. \\n \\n ControlsBehavior \\n Triggers for mouse interactions and offers a convenient set of triggers for keyboard movement. Exact keybindings are chosen via the  Player  property which allows for up to 3 different controls (Player 1:  WASD , Player 2:  Arrow keys , Player 3:  IJKL ). The  direction  signal can be used for moving a character in combination with a  MoveBehavior . \\n \\n DragBehavior \\n Allows users to drag and drop the parent node using the mouse. Offers signals for hovering/unhovering, dragging/dropping, and moving the node. Supports different types of nodes, including character bodies, rigid bodies, static bodies, sprites, placeholders, and controls. \\n \\n KeyBehavior \\n Triggers when a single keyboard key is pressed or released. \\n \\n NodeReadyBehavior \\n Triggers once after the node (and all its siblings) are  ready . \\n \\n SignalBehavior \\n Forwards a signal when triggered, including arguments.\\n\\nThe following list of behaviors primarily cause effects when triggered.\\n\\nBehavior \\n Function \\n \\n BindBehavior \\n Optionally reads some properties and then writes one property of its parent. Changes to the properties it reads are synced every frame. The read properties are accessible in the convert expression; the first under  value0 , the second under  value1  and so on. For example, create a Label node, add a Bind node as a child, use  text  as property and put any expression in its  convert  field. Another example would use a Clock with a Bind node as a child that uses  duration_seconds  as a property to change the trigger-time depending on a Value-Behavior. \\n \\n CodeBehavior \\n It holds an  execute()  function with both user-definable arguments and a function body, which allows for arbitrary code execution. After  execute()  is called an  after  signal is emitted that carries the execution result, which can be used for chaining. \\n \\n MoveBehavior \\n When triggered, moves its parent. Can be set to move along global or local axes. Supports handling of gravity. \\n \\n PlatformerControllerBehavior \\n Makes the parent behave like a platformer character, meaning that it can jump, move horizontally, and is affected by gravity. Must be a child of a  CharacterBody2D . \\n \\n QueryBehavior \\n Searches for nodes in the scene and emits signals for results. Properties allow to filter, sort, and limit results. Can be used for tasks such as destroying all enemies in a certain radius, infecting a random player, or finding the nearest health pack. \\n \\n SceneRootBehavior \\n Provides access to the  SceneTree  from Godot. It offers the signals  node_added(node: Node) ,  node_remove(node: Node)  and  tree_changed()  from the  SceneTree . Additionally, it implements three methods for executing lambda functions on all or a specific subset of nodes in a given  group . \\n \\n SignalBehavior \\n Forwards signals when triggered, optionally with arguments. Useful for abstraction/encapsulation of lower-level signals, signal renaming, or logical OR-gating of signals. \\n \\n SpawnerBehavior \\n When triggered, spawns whatever its child nodes are at its current location in the scene. Single children nodes can be spawned by modifying the optional index argument in each spawning method to just the respective child node. Use -1 as index to spawn all children. Set use_spawn_shape to true to randomly spawn children in the given shape or polygon. When using a Polygon2D do not use it as a child of the spawner. \\n \\n StopwatchBehavior \\n Starts counting up time when triggered. Can be reset.\\n\\nThe following list of behaviors manage state or communicate visual properties.\\n\\nBehavior \\n Function \\n \\n BackgroundBehavior \\n Add to your scene to change the background color of the scene. \\n \\n CameraShakeBehavior \\n Add as a child of a camera and call its  add_trauma  function to add shake. \\n \\n GroupBehavior \\n Draws a shape around its children to group them visually. Only visible in the editor. \\n \\n HealthBarBehavior \\n Show a rectangular health bar. Offers methods to manipulate the current health and emits a signal when health drops to zero. \\n \\n InspectBehavior \\n Add as a child of a node to inspect its properties inside the game. \\n \\n InstanceBehavior \\n Allows you to define a template subtree of Nodes that you want to repeat multiple times without copy-pasting. Add your template as a child of the Instance node, then hover the connection dialog and click the \"Instance\" button. Note: internally, this creates a \"hidden\" scene that you need to commit as well. You can thus use  \"Editable children\"  in Godot by right-clicking the instance and tweaking properties while inheriting the rest. \\n \\n PlaceholderBehavior \\n Show a colored rectangle with a label. Useful as a quick means to communicate a game object\\'s function. Functions as a collision shape, so you don\\'t need to add another. Instead of a rectangle a placeholder can also display a sprite instead (use the Sprite Library in the Inspector to choose an existing texture or load your own). Can be  flash() ed in a different color. \\n \\n StateMachineBehavior \\n The StateMachineBehavior acts as a purely graphic hint as to which StateBehavior objects belong to the same state machine. The GroupDrawer class is used for this. \\n \\n StateBehavior \\n The StateBehavior is the fundamental building block of a state machine. Each StateBehavior emits the signals  StateBehavior.entered()  and  StateBehavior.exited()  to communicate the state machine\\'s state \\n \\n StoreBehavior \\n Use the Godot meta properties to store state. You can configure it to store values in the global dictionary  G  and access it via  G.at(prop) . \\n \\n ValueBehavior \\n Show a constant you can use in expression visually as a slider. Note that these are shared globally, so create new names if you need to use different values. \\n \\n VisualLineBehavior \\n Show a colored Line between two Nodes. Useful as a quick visual connection.\\n\\nHints\\n\\nExpose the crucial variation points of your mechanic via the Value behavior. You can drop any property of a Node onto the scene to create a Value automatically.\\n\\nFocus on quick-and-dirty, especially when adding code. The second week is used to consolidate changes in the framework.\\n\\nDon\\'t be afraid of copy-and-paste. Copy even your entire prototype, if you want to try multiple directions. If that seems tedious in your use case, consider the Instance behavior.\\n\\nTry to cram everything for your prototype in a single Godot scene so that changing any aspect is possible without having to switch scenes. Make use of the Spawner and Instance Behaviors to facilitate this.\\n\\nYou can use the set function to modify any properties when a connection triggers.\\n\\nJuice\\n\\nThe following list of nodes don\\'t add new functionality, their purpose is to add a bit of juice to your prototypes. They may not make your prototypes good, but they can add to them.\\n\\nJuice \\n Function \\n \\n SparkleJuice \\n Make your scene sparkle!\\n\\nConnections\\n\\nConnections are an extension of Godot signals to be more flexible. Connections can be dragged from any behavior to any arbitrary node in a scene. They are the primary means to assemble your game by wiring Behaviors together.\\n\\nCreating\\n\\nConnections are created by hovering the \"+\" that appears below selected nodes. There are two types of connections: Target Connections and Expression Connections.\\n\\nThe type \"target\" is created by dragging a signal from the list onto its receiver. From the list in the dialog, you can either choose any method to invoke or choose <statement(s)> to execute arbitrary code. In the expressions for the arguments or the arbitrary code, you can write Godot expression that can access from and to.\\n\\nThe type \"expression\" allows to execute arbitrary Godot code without a receiver node. Create an expression connection by double-clicking a signal in the list. You can access from in the code.\\n\\nEditing\\n\\nYou can define a condition for the connection to trigger by entering a Godot expression in condition field. You may refer to from and to in the expression.\\n\\nYou can use the + icon in the header of the connection editor to add references to further nodes by specifying a node path relative to the from node. You can use these nodes in any statement, argument, or condition expression using ref0, ref1, etc. You can right-click these variables in the connection header to edit their path or remove them.\\n\\nYou can disable a connection by unchecking the checkbox in the top-right or in its context menu.\\n\\nYou can also pin a connection editor so that it remains in the scene after saving them. You can click and drag editors in the scene as well. You can drag the handles at the bottom right of each text field to resize the editor.\\n\\nYou can press the \"open script\" button next to any code expression to edit it in a full-screen Godot tab which provides you better syntax highlighting and autocompletion.\\n\\nReordering\\n\\nFrom the context menu of a connection, choose \"Move to top\".\\n\\nDeleting\\n\\nOpen the connection, then click on the trash icon in the top-right.\\n\\nAlternatively, right-click the connection and choose \"Delete\".\\n\\nExpressions\\n\\nPronto scatters code throughout the scene to be as close to the place where it is relevant. Since there is limited space on the screen, we provide a set of utility functions that make formulating common expressions easier. Some are documented below, you can find all in U.gd. (Feel free to extend these.)\\n\\nName \\n Function \\n Example \\n \\n u(node: Node) \\n Wrap the given Node to expose the utility functions for it. \\n u(other).at(\"score\") \\n \\n closest_that(cond: Callable) \\n Find the closest node that matches the given criteria. First checks children, then children of parents in a breadth-first search. \\n closest_that(func (n): return n is Node) \\n \\n group(name: String)   group_do(name: String, c: Callable) \\n Get all nodes in the given group. \\n group_do(\"enemy\", func (e): e.queue_free()) \\n \\n at(name: String) \\n Find the \"closest\"  State  that has a field called  name . If none is found, checks global state in  G . \\n at(\"score\") \\n \\n put(name: String, val: Variant) \\n Find the \"closest\"  State  that has a field called  name  and store the given value. If none is found, checks global state in  G . \\n put(\"score\", 0)\\n\\nAssets\\n\\nWhen creating your game/prototype in Pronto, you might want to use some assets to polish the look of your game. Those things are called assets and we already prepared some for you to use.\\n\\nTileMap\\n\\nIf you want to create a large level you should take a look at the TileMap (default Godot). We already have a TileSet prepared that you can simply load into your TileMap inside the asset folder.\\n\\nCommon Pitfalls\\n\\nPhysicsBody2D\\n\\nCollisions only work when contact monitor is on and the max contacts is at least 1.\\n\\nPhysicsBody2D does not report collisions with Area2D. Instead, listen for collisions with the PhysicsBody on the Area.\\n\\nStaticBody\\n\\nDoes not support reporting collisions at all in Godot. You can instead listen for collisions on the other collision partner.\\n\\nConnections\\n\\nThe $ shorthand of GDScript does not work. Use get_node() instead.\\n\\nself is sadly not defined in connections. Use from and to instead, or make use of any of U\\'s helpers (which are relative to from).\\n\\nMoving nodes around will break connections.\\n\\nInstance\\n\\nBe careful if you used the \"Editable Children\" option to modify nodes in an instanced subtree and then move the corresponding nodes in the template. Your modifications will be lost.\\n\\nVideo Changelog\\n\\n30-90 seconds (no need to cut the video, can be shaky and raw)\\n\\nshow what you did and what insights you gained\\n\\nyou are encouraged to open the game with a couple different parameter configurations and show the impact\\n\\nPhase 2: Extending the Framework\\n\\nWriting a New Behavior\\n\\nChoose an icon to use as thumbnail from the Godot source (it is recommended to download the source as ZIP for easily browsing the list).\\n\\nCreate a {Name}.gd file in addons/pronto/behaviors.\\n\\nAs a header for the file, use:\\n\\n```python\\n@tool\\n\\nthumb(\"IconName\")\\n\\nextends Behavior\\n```\\n\\nProceed to write a Godot Node class as regular, e.g. by using @export and signals.\\n\\n⚠️ make sure to call super implementations of all overwritten methods, e.g. super._ready() and super._process().\\n\\nWhen do I have to reload what?\\n\\nRe-enable the plugin (go to Project>Settings>Plugins and toggle Pronto off and on)\\n\\nWhen creating a completely new Behavior file.\\n\\nRe-open the scene to update existing Behaviors\\n\\nWhen changing a _ready function.\\n\\nWhen creating a new _process function.\\n\\nSwitch scenes back and forth\\n\\nWhen updating a _draw function if no one calls queue_redraw.\\n\\nIf everything goes wrong :-)\\n\\nReload the project from the main menu > Project > Reload Current Project\\n\\nTODO: reproduce in which cases this is necessary\\n\\nHelpers\\n\\nAs helpers for writing commonly needed functionality, you can use the below:\\n\\nConfiguration\\n\\nconnect_ui -> Control show the returned Control at the top of the connect popup (that is opened via the \"+\").\\n\\nshow_icon() -> bool return false to not show the configured icon for the behavior on the canvas.\\n\\nHandles\\n\\nYou can return a list of handles (knobs on the canvas that you can move). See Placeholder and Value behaviors for examples.\\n\\nHandles can exist in local space of the nodes in the canvas or in the space of the overlay (independent of the canvas\\' zoom).\\n\\nLines and Text Below a Behavior\\n\\nYou can draw lines between nodes or put text underneath your behavior by returning Line instances from the lines() function.\\n\\nCanvas Override and Events\\n\\nIf you need to add more controls to your behavior, you have to use the canvas override hooks. You can see the implementation of handles in Behavior.gd as an example of this.\\n\\nOverride _forward_canvas_draw_over_viewport(viewport_control: Control) to draw in the overlay space (independent of the canvas\\' zoom).\\n\\nOverride func _forward_canvas_gui_input(event: InputEvent, undo_redo: EditorUndoRedoManager) to react to events that occur on the canvas. Return true if you want to absorb the passed element.\\n\\n⚠️ make sure to call the super implementations if you override either of these, or handles will no longer work.\\n\\nRuntime Values\\n\\nIn ConnectionDebug.gd you can communicate values from the game back to the engine.\\n\\nBuilding UI\\n\\nEditorIcon: a texture that will load any of the built-in icons and color it according to the configured theme.\\n\\nIn ExpressionInspector.gd you can specify that a property should get a GDScript code editor.\\n\\nHints on Designing new Behaviors\\n\\nDon\\'t bundle too much: give each concern its own behavior, e.g. appearance, movement, shooting. Design behaviors such that they are easy to connect to one another instead of pre-packaging them with lots of concerns.\\n\\nPhase 3: Deploying your Prototype/Game\\n\\nTo deploy your game to hpi-swa-lab.github.io/godot-pronto/ you can use the Build & Deploy Game Action.\\n\\nThis will be done automatically if you created your game via the menu tab Prototype (which automatically creates a branch, folder, main scene and ExportBehavior).\\n\\nHowever, if you didn\\'t use this method you can follow this checklist to export your game.\\n\\nPreparation\\n\\nBefore you can deploy your game check the following:\\n\\nMake your game the main scene of the godot project.\\n\\nMake sure that your game and all assets you use are inside your prototype folder (e.g. prototypes/game-myPrototype).\\n\\nMake sure that your branch-name starts with game- and is named identical to your folder name (e.g. game-myPrototype)\\n\\nMake sure that no filenames or folders have a space character in them.\\n\\nExportBehavior\\n\\nTo automatically export your game do the following:\\n\\nAdd an ExportBehavior (do not rename this node!) anywhere in your game\\n\\nIn the ExportBehavior, you can configure settings such as title, description and authors of the game, as well as how the thumbnail.png gets generated (specified by a delay to automatically take a screenshot)\\n\\nSet your game scene as the main godot scene\\n\\nRun your game once so it will generate a thumbnail\\n\\nmake sure to git add the generated thumbnail.png and game_info.json, commit and push!\\n\\nOnce pushed, the system will automatically trigger a CI workflow to deploy your game.\\nIf everything went well the system will push your game to the gh-pages branch.\\nThis automatically triggers another workflow to rebuild the page.\\nWait until this workflow has completed before going to the next step.\\nAll in all, the game should be live within 3-5 minutes.\\n\\nTesting\\n\\nAfter the workflow executed you can head over to hpi-swa-lab.github.io/godot-pronto/. You should see your game appear in the list of games. Click on the \"Play Now\" button and check if everything is working.\\n\\nDeploying Changes\\n\\nIf you have made any changes to your game and want to deploy a new version, you can just repeat this process. Any existing version of your game will be overwritten.\\n\\nTroubleshooting\\n\\nIf you accidentally trigger the workflow with an incorrect folder name it may execute without generating any errors but will create a new game in the gh-pages branch. This will automatically be rendered into the list of games. In order to delete it, you have to manually remove it from the gh-pages branch. Please be careful when doing so and do not delete any other files other than the projects folder you want to delete.', metadata={'source': 'pronto-docs/README.md'})]"
     },
     "execution_count": 30,
     "metadata": {},
     "output_type": "execute_result"
    }
   ],
   "source": [
    "pdfd_retriever.get_relevant_documents(search_keyword)"
   ],
   "metadata": {
    "collapsed": false,
    "ExecuteTime": {
     "start_time": "2024-01-18T18:18:46.788817Z",
     "end_time": "2024-01-18T18:18:47.104904Z"
    }
   }
  },
  {
   "cell_type": "code",
   "execution_count": 31,
   "outputs": [
    {
     "name": "stdout",
     "output_type": "stream",
     "text": [
      "2/2\n"
     ]
    }
   ],
   "source": [
    "print(check_for_keyword(search_keyword, pdfd_retriever))"
   ],
   "metadata": {
    "collapsed": false,
    "ExecuteTime": {
     "start_time": "2024-01-18T18:18:47.102690Z",
     "end_time": "2024-01-18T18:18:47.423159Z"
    }
   }
  },
  {
   "cell_type": "markdown",
   "source": [
    "This method outright delivers a too large chunk size i.e. the whole document and is therefore not suitable."
   ],
   "metadata": {
    "collapsed": false
   }
  },
  {
   "cell_type": "markdown",
   "source": [
    "#### 3.2.2 Larger chunks from smaller chunks"
   ],
   "metadata": {
    "collapsed": false
   }
  },
  {
   "cell_type": "code",
   "execution_count": 32,
   "outputs": [],
   "source": [
    "from langchain.retrievers.multi_vector import SearchType\n",
    "from langchain.text_splitter import RecursiveCharacterTextSplitter, Language\n",
    "from langchain_community.vectorstores.chroma import Chroma\n",
    "from langchain.retrievers import ParentDocumentRetriever\n",
    "from langchain.storage import InMemoryStore\n",
    "from langchain_community.embeddings import OpenAIEmbeddings\n",
    "\n",
    "parent_splitter = RecursiveCharacterTextSplitter.from_language(language=Language.MARKDOWN, chunk_size=400, chunk_overlap=0)\n",
    "child_splitter = RecursiveCharacterTextSplitter.from_language(language=Language.MARKDOWN, chunk_size=100, chunk_overlap=0)\n",
    "\n",
    "pdlg_vectorstore = Chroma(\n",
    "    collection_name=\"split_parents\", embedding_function=OpenAIEmbeddings()\n",
    ")\n",
    "pdlg_store = InMemoryStore()\n",
    "pdlg_retriever = ParentDocumentRetriever(\n",
    "    vectorstore=pdlg_vectorstore,\n",
    "    docstore=pdlg_store,\n",
    "    child_splitter=child_splitter,\n",
    "    parent_splitter=parent_splitter,\n",
    ")\n",
    "\n",
    "pdlg_retriever.add_documents(docs)"
   ],
   "metadata": {
    "collapsed": false,
    "ExecuteTime": {
     "start_time": "2024-01-18T18:18:47.425669Z",
     "end_time": "2024-01-18T18:18:51.940669Z"
    }
   }
  },
  {
   "cell_type": "code",
   "execution_count": 33,
   "outputs": [
    {
     "data": {
      "text/plain": "[Document(page_content=\"The StateBehavior is the fundamental building block of a state machine. Each StateBehavior emits the signals  StateBehavior.entered()  and  StateBehavior.exited()  to communicate the state machine's state \\n \\n StoreBehavior \\n Use the Godot meta properties to store state. You can configure it to store values in the global dictionary  G  and access it via  G.at(prop) . \\n \\n ValueBehavior\", metadata={'source': 'pronto-docs/README.md'}),\n Document(page_content=\"In ExpressionInspector.gd you can specify that a property should get a GDScript code editor.\\n\\nHints on Designing new Behaviors\\n\\nDon't bundle too much: give each concern its own behavior, e.g. appearance, movement, shooting. Design behaviors such that they are easy to connect to one another instead of pre-packaging them with lots of concerns.\\n\\nPhase 3: Deploying your Prototype/Game\", metadata={'source': 'pronto-docs/README.md'}),\n Document(page_content='When triggered, moves its parent. Can be set to move along global or local axes. Supports handling of gravity. \\n \\n PlatformerControllerBehavior \\n Makes the parent behave like a platformer character, meaning that it can jump, move horizontally, and is affected by gravity. Must be a child of a  CharacterBody2D . \\n \\n QueryBehavior', metadata={'source': 'pronto-docs/README.md'})]"
     },
     "execution_count": 33,
     "metadata": {},
     "output_type": "execute_result"
    }
   ],
   "source": [
    "pdlg_retriever.get_relevant_documents(\"How to access values in a StoreBehaviour?\")"
   ],
   "metadata": {
    "collapsed": false,
    "ExecuteTime": {
     "start_time": "2024-01-18T18:18:51.940887Z",
     "end_time": "2024-01-18T18:18:52.189294Z"
    }
   }
  },
  {
   "cell_type": "markdown",
   "source": [
    "### 3.3 MultiQueryRetriever"
   ],
   "metadata": {
    "collapsed": false
   }
  },
  {
   "cell_type": "code",
   "execution_count": 34,
   "outputs": [],
   "source": [
    "import logging\n",
    "\n",
    "logging.basicConfig()\n",
    "logging.getLogger(\"langchain.retrievers.multi_query\").setLevel(logging.INFO)"
   ],
   "metadata": {
    "collapsed": false,
    "ExecuteTime": {
     "start_time": "2024-01-18T18:18:52.184075Z",
     "end_time": "2024-01-18T18:18:52.189544Z"
    }
   }
  },
  {
   "cell_type": "markdown",
   "source": [
    "#### 3.3.1 Vectorstore as Base Retriever"
   ],
   "metadata": {
    "collapsed": false
   }
  },
  {
   "cell_type": "code",
   "execution_count": 35,
   "outputs": [],
   "source": [
    "from langchain.retrievers import MultiQueryRetriever\n",
    "\n",
    "v_mq_retriever = MultiQueryRetriever.from_llm(\n",
    "    retriever=db.as_retriever(), llm=llm\n",
    ")"
   ],
   "metadata": {
    "collapsed": false,
    "ExecuteTime": {
     "start_time": "2024-01-18T18:18:52.187889Z",
     "end_time": "2024-01-18T18:18:52.204146Z"
    }
   }
  },
  {
   "cell_type": "code",
   "execution_count": 36,
   "outputs": [
    {
     "name": "stderr",
     "output_type": "stream",
     "text": [
      "INFO:langchain.retrievers.multi_query:Generated queries: ['1. What are the steps to modify the sprite of a PlaceholderBehavior?', '2. Can you explain the process of replacing the sprite in a PlaceholderBehavior?', '3. Are there any specific instructions for updating the sprite in a PlaceholderBehavior?']\n"
     ]
    },
    {
     "data": {
      "text/plain": "[Document(page_content=\"PlaceholderBehavior \\n Show a colored rectangle with a label. Useful as a quick means to communicate a game object's function. Functions as a collision shape, so you don't need to add another. Instead of a rectangle a placeholder can also display a sprite instead (use the Sprite Library in the Inspector to choose an existing texture or load your own). Can be  flash() ed in a different color.\", metadata={'source': 'pronto/README.md'}),\n Document(page_content=\"PlaceholderBehavior \\n Show a colored rectangle with a label. Useful as a quick means to communicate a game object's function. Functions as a collision shape, so you don't need to add another. Instead of a rectangle a placeholder can also display a sprite instead (use the Sprite Library in the Inspector to choose an existing texture or load your own). Can be  flash() ed in a different color.\", metadata={'source': 'pronto-docs/README.md'}),\n Document(page_content='PlaceholderBehavior\\n\\nExtends: Behavior\\n\\nDescription\\n\\nConstants Descriptions\\n\\nOUTLINE_SHADER\\n\\ngdscript\\nconst OUTLINE_SHADER: String = \"res://addons/pronto/shader/outline.gdshader\"\\n\\nProperty Descriptions\\n\\nlabel\\n\\ngdscript\\n@export var label = \"\"\\n\\nSetter: @label_setter\\n\\nThe label that is shown inside the Placeholder, unless a sprite is used.\\n\\ncolor\\n\\ngdscript\\n@export var color = \"(1, 1, 1, 1)\"\\n\\nSetter: @color_setter\\n\\nThe color used for the placeholder.\\n\\nkeep_in_origin\\n\\ngdscript\\n@export var keep_in_origin = true\\n\\nIf [code]true[/code], this Placeholder\\'s parent will be moved instead of the placeholder in the editor. Convenient for not having to switch selected items all the time.\\n\\nundefined_shape_string\\n\\ngdscript\\nvar undefined_shape_string\\n\\nuse_sprite\\n\\ngdscript\\n@export var use_sprite = false\\n\\nSetter: @use_sprite_setter\\n\\nIf [code]true[/code] a [class Sprite2D] is shown.\\n\\nDEFAULT_TEXTURE\\n\\ngdscript\\nvar DEFAULT_TEXTURE\\n\\nsprite_texture\\n\\ngdscript\\n@export var sprite_texture: Texture2D\\n\\nSetter: @sprite_texture_setter\\n\\nThe texture used for the [class Sprite2D]. Can be loaded from a file or from the sprite_library.\\n\\nsprite_library\\n\\ngdscript\\n@export var sprite_library: Texture2D\\n\\nSetter: @sprite_library_setter\\n\\nThe sprite library is desribed in [class SpriteInspector] as well as \"addons/pronto/helpers/sprite_window.tscn\". Search through a library of textures to choose your sprite.\\n\\noutline_visible\\n\\ngdscript\\n@export var outline_visible: bool = false\\n\\nSetter: @outline_visible_setter\\n\\nIf [code]true[/code], the outline is shown.\\n\\noutline_color\\n\\ngdscript\\n@export var outline_color: Color = \"(1, 1, 0, 1)\"\\n\\nSetter: @outline_color_setter\\n\\nThe color used for the outline.\\n\\noutline_width\\n\\ngdscript\\n@export var outline_width: float = 1\\n\\nSetter: @outline_width_setter\\n\\nThe width of the outline.\\n\\noutline_pattern\\n\\ngdscript\\n@export var outline_pattern = 0\\n\\nSetter: @outline_pattern_setter\\n\\nThe rounding method for corners of the outline (only used if [class Sprite2D] is used).\\n\\nshape_type\\n\\ngdscript\\n@export var shape_type: String = \"Rect\"\\n\\nSetter: @shape_type_setter\\n\\nThis will define the shape of the placeholder as well as the shape of the hitbox.\\n\\nplaceholder_size\\n\\ngdscript\\nvar placeholder_size = \"(20, 20)\"\\n\\nSetter: @placeholder_size_setter\\n\\nThe size of the placeholder.\\n\\ncapsule_height\\n\\ngdscript\\nvar capsule_height: float = 30\\n\\nSetter: @capsule_height_setter\\n\\nThe height of the capsule.\\n\\ncapsule_radius\\n\\ngdscript\\nvar capsule_radius: float = 10\\n\\nSetter: @capsule_radius_setter\\n\\nThe radius of the capsule.\\n\\ncircle_radius\\n\\ngdscript\\nvar circle_radius: float = 10\\n\\nSetter: @circle_radius_setter\\n\\nThe radius of the circle.\\n\\nsprite\\n\\ngdscript\\nvar sprite: Sprite2D\\n\\nsize\\n\\ngdscript\\nvar size: Vector2\\n\\nGetter: @size_getter\\n\\nshape\\n\\ngdscript\\nvar shape\\n\\nMethod Descriptions\\n\\nshow_outline\\n\\ngdscript\\nfunc show_outline()\\n\\nShows an outline around the Placeholder.\\n\\nhide_outline\\n\\ngdscript\\nfunc hide_outline()\\n\\nHides the outline around the Placeholder.\\n\\nset_outline_visible\\n\\ngdscript\\nfunc set_outline_visible(visible)\\n\\nToggles the visibility of the outline according to the given parameter.\\n\\nflash\\n\\ngdscript\\nfunc flash(color: Color, duration: float = 0.3)\\n\\nFlashes this Placeholder a certain color for a duration. It will take on the desired color immediately and return to its original color over the given duration.\\n\\nshould_keep_in_origin\\n\\ngdscript\\nfunc should_keep_in_origin()\\n\\nshow_icon\\n\\ngdscript\\nfunc show_icon()\\n\\nfind_non_transparent_rect\\n\\ngdscript\\nfunc find_non_transparent_rect()\\n\\nhandles\\n\\ngdscript\\nfunc handles()', metadata={'source': 'pronto-docs/PlaceholderBehavior.md'}),\n Document(page_content=\"In ExpressionInspector.gd you can specify that a property should get a GDScript code editor.\\n\\nHints on Designing new Behaviors\\n\\nDon't bundle too much: give each concern its own behavior, e.g. appearance, movement, shooting. Design behaviors such that they are easy to connect to one another instead of pre-packaging them with lots of concerns.\\n\\nPhase 3: Deploying your Prototype/Game\", metadata={'source': 'pronto/README.md'}),\n Document(page_content=\"In ExpressionInspector.gd you can specify that a property should get a GDScript code editor.\\n\\nHints on Designing new Behaviors\\n\\nDon't bundle too much: give each concern its own behavior, e.g. appearance, movement, shooting. Design behaviors such that they are easy to connect to one another instead of pre-packaging them with lots of concerns.\\n\\nPhase 3: Deploying your Prototype/Game\", metadata={'source': 'pronto-docs/README.md'})]"
     },
     "execution_count": 36,
     "metadata": {},
     "output_type": "execute_result"
    }
   ],
   "source": [
    "v_mq_retriever.get_relevant_documents(query=\"How to change the sprite of a PlaceholderBehavior?\")"
   ],
   "metadata": {
    "collapsed": false,
    "ExecuteTime": {
     "start_time": "2024-01-18T18:18:52.193650Z",
     "end_time": "2024-01-18T18:18:56.024718Z"
    }
   }
  },
  {
   "cell_type": "markdown",
   "source": [
    "#### 3.3.2 Parent Document Retriever (Larger Chunks) as Base Retriever"
   ],
   "metadata": {
    "collapsed": false
   }
  },
  {
   "cell_type": "code",
   "execution_count": 37,
   "outputs": [],
   "source": [
    "from langchain.retrievers import MultiQueryRetriever\n",
    "\n",
    "pdlg_mq_retriever = MultiQueryRetriever.from_llm(\n",
    "    retriever=pdlg_retriever, llm=llm\n",
    ")"
   ],
   "metadata": {
    "collapsed": false,
    "ExecuteTime": {
     "start_time": "2024-01-18T18:18:56.024587Z",
     "end_time": "2024-01-18T18:18:56.038962Z"
    }
   }
  },
  {
   "cell_type": "code",
   "execution_count": 38,
   "outputs": [
    {
     "name": "stderr",
     "output_type": "stream",
     "text": [
      "INFO:langchain.retrievers.multi_query:Generated queries: ['1. What is the process for removing a connection between two Behaviors?', '2. Can you explain the steps involved in deleting the link between two Behaviors?', '3. Is there a specific method or command to disconnect two Behaviors?']\n"
     ]
    }
   ],
   "source": [
    "pdlg_mq_output_docs = pdlg_mq_retriever.get_relevant_documents(query=\"How to delete a connection of two Behaviors?\")"
   ],
   "metadata": {
    "collapsed": false,
    "ExecuteTime": {
     "start_time": "2024-01-18T18:18:56.029248Z",
     "end_time": "2024-01-18T18:18:58.754405Z"
    }
   }
  },
  {
   "cell_type": "code",
   "execution_count": 39,
   "outputs": [
    {
     "name": "stderr",
     "output_type": "stream",
     "text": [
      "INFO:langchain.retrievers.multi_query:Generated queries: ['1. How does the placeholder behavior work?', '2. Can you explain the behavior of placeholders?', '3. What is the purpose of using placeholders and how do they behave?']\n"
     ]
    },
    {
     "data": {
      "text/plain": "'1/5'"
     },
     "execution_count": 39,
     "metadata": {},
     "output_type": "execute_result"
    }
   ],
   "source": [
    "check_for_keyword(\"PlaceholderBehavior\", pdlg_mq_retriever)"
   ],
   "metadata": {
    "collapsed": false,
    "ExecuteTime": {
     "start_time": "2024-01-18T18:18:58.750245Z",
     "end_time": "2024-01-18T18:19:00.932756Z"
    }
   }
  },
  {
   "cell_type": "markdown",
   "source": [
    "### 3.4 Long-Context Reorder"
   ],
   "metadata": {
    "collapsed": false
   }
  },
  {
   "cell_type": "code",
   "execution_count": 40,
   "outputs": [],
   "source": [
    "from langchain_community.document_transformers import LongContextReorder\n",
    "\n",
    "reordering = LongContextReorder()\n",
    "reordered_docs = reordering.transform_documents(pdlg_mq_output_docs)"
   ],
   "metadata": {
    "collapsed": false,
    "ExecuteTime": {
     "start_time": "2024-01-18T18:19:00.933425Z",
     "end_time": "2024-01-18T18:19:00.938591Z"
    }
   }
  },
  {
   "cell_type": "code",
   "execution_count": 41,
   "outputs": [
    {
     "data": {
      "text/plain": "[Document(page_content='Connections are an extension of Godot signals to be more flexible. Connections can be dragged from any behavior to any arbitrary node in a scene. They are the primary means to assemble your game by wiring Behaviors together.\\n\\nCreating\\n\\nConnections are created by hovering the \"+\" that appears below selected nodes. There are two types of connections: Target Connections and Expression Connections.', metadata={'source': 'pronto-docs/README.md'}),\n Document(page_content='You can disable a connection by unchecking the checkbox in the top-right or in its context menu.\\n\\nYou can also pin a connection editor so that it remains in the scene after saving them. You can click and drag editors in the scene as well. You can drag the handles at the bottom right of each text field to resize the editor.', metadata={'source': 'pronto-docs/README.md'}),\n Document(page_content='30-90 seconds (no need to cut the video, can be shaky and raw)\\n\\nshow what you did and what insights you gained\\n\\nyou are encouraged to open the game with a couple different parameter configurations and show the impact\\n\\nPhase 2: Extending the Framework\\n\\nWriting a New Behavior', metadata={'source': 'pronto-docs/README.md'}),\n Document(page_content='When triggered, moves its parent. Can be set to move along global or local axes. Supports handling of gravity. \\n \\n PlatformerControllerBehavior \\n Makes the parent behave like a platformer character, meaning that it can jump, move horizontally, and is affected by gravity. Must be a child of a  CharacterBody2D . \\n \\n QueryBehavior', metadata={'source': 'pronto-docs/README.md'}),\n Document(page_content='Triggers for mouse interactions and offers a convenient set of triggers for keyboard movement. Exact keybindings are chosen via the  Player  property which allows for up to 3 different controls (Player 1:  WASD , Player 2:  Arrow keys , Player 3:  IJKL ). The  direction  signal can be used for moving a character in combination with a  MoveBehavior . \\n \\n DragBehavior', metadata={'source': 'pronto-docs/README.md'}),\n Document(page_content='CodeBehavior \\n It holds an  execute()  function with both user-definable arguments and a function body, which allows for arbitrary code execution. After  execute()  is called an  after  signal is emitted that carries the execution result, which can be used for chaining. \\n \\n MoveBehavior', metadata={'source': 'pronto-docs/README.md'}),\n Document(page_content='```\\n\\nProceed to write a Godot Node class as regular, e.g. by using @export and signals.\\n\\n⚠️ make sure to call super implementations of all overwritten methods, e.g. super._ready() and super._process().\\n\\nWhen do I have to reload what?\\n\\nRe-enable the plugin (go to Project>Settings>Plugins and toggle Pronto off and on)\\n\\nWhen creating a completely new Behavior file.', metadata={'source': 'pronto-docs/README.md'}),\n Document(page_content='You can press the \"open script\" button next to any code expression to edit it in a full-screen Godot tab which provides you better syntax highlighting and autocompletion.\\n\\nReordering\\n\\nFrom the context menu of a connection, choose \"Move to top\".\\n\\nDeleting\\n\\nOpen the connection, then click on the trash icon in the top-right.\\n\\nAlternatively, right-click the connection and choose \"Delete\".', metadata={'source': 'pronto-docs/README.md'}),\n Document(page_content=\"In ExpressionInspector.gd you can specify that a property should get a GDScript code editor.\\n\\nHints on Designing new Behaviors\\n\\nDon't bundle too much: give each concern its own behavior, e.g. appearance, movement, shooting. Design behaviors such that they are easy to connect to one another instead of pre-packaging them with lots of concerns.\\n\\nPhase 3: Deploying your Prototype/Game\", metadata={'source': 'pronto-docs/README.md'})]"
     },
     "execution_count": 41,
     "metadata": {},
     "output_type": "execute_result"
    }
   ],
   "source": [
    "reordered_docs"
   ],
   "metadata": {
    "collapsed": false,
    "ExecuteTime": {
     "start_time": "2024-01-18T18:19:00.937478Z",
     "end_time": "2024-01-18T18:19:00.941476Z"
    }
   }
  },
  {
   "cell_type": "markdown",
   "source": [
    "### 3.5 Ensemble Retriever"
   ],
   "metadata": {
    "collapsed": false
   }
  },
  {
   "cell_type": "code",
   "execution_count": 42,
   "outputs": [],
   "source": [
    "from langchain.retrievers import EnsembleRetriever\n",
    "\n",
    "ensemble_retriever = EnsembleRetriever(\n",
    "    retrievers=[pdlg_mq_retriever, pdlg_retriever], weights=[0.5, 0.5]\n",
    ")"
   ],
   "metadata": {
    "collapsed": false,
    "ExecuteTime": {
     "start_time": "2024-01-18T18:19:00.947616Z",
     "end_time": "2024-01-18T18:19:00.978700Z"
    }
   }
  },
  {
   "cell_type": "code",
   "execution_count": 43,
   "outputs": [
    {
     "name": "stderr",
     "output_type": "stream",
     "text": [
      "INFO:langchain.retrievers.multi_query:Generated queries: ['1. What are the typical behaviors that are always exhibited?', '2. Can you provide examples of behaviors that are consistently observed?', '3. Are there any specific actions or conduct that are consistently followed?']\n"
     ]
    }
   ],
   "source": [
    "reordered_docs = reordering.transform_documents(ensemble_retriever.get_relevant_documents(\"AlwaysBehavior\"))"
   ],
   "metadata": {
    "collapsed": false,
    "ExecuteTime": {
     "start_time": "2024-01-18T18:19:00.951908Z",
     "end_time": "2024-01-18T18:19:06.976297Z"
    }
   }
  },
  {
   "cell_type": "code",
   "execution_count": 44,
   "outputs": [
    {
     "data": {
      "text/plain": "[Document(page_content='AlwaysBehavior\\n\\nExtends: Behavior\\n\\nDescription\\n\\nSee [signal AlwaysBehavior.always] and [signal AlwaysBehavior.physics_always] for a description of which signal to listen to.\\n\\nSee [signal AlwaysBehavior.always] and [signal AlwaysBehavior.physics_always] for a description of which signal to listen to.\\n\\nProperty Descriptions\\n\\npaused\\n\\ngdscript\\n@export var paused = false', metadata={'source': 'pronto-docs/AlwaysBehavior.md'}),\n Document(page_content='The following list of behaviors primarily cause effects when triggered.', metadata={'source': 'pronto-docs/README.md'}),\n Document(page_content='The following list of behaviors manage state or communicate visual properties.', metadata={'source': 'pronto-docs/README.md'}),\n Document(page_content=\"In ExpressionInspector.gd you can specify that a property should get a GDScript code editor.\\n\\nHints on Designing new Behaviors\\n\\nDon't bundle too much: give each concern its own behavior, e.g. appearance, movement, shooting. Design behaviors such that they are easy to connect to one another instead of pre-packaging them with lots of concerns.\\n\\nPhase 3: Deploying your Prototype/Game\", metadata={'source': 'pronto-docs/README.md'}),\n Document(page_content=\"To deploy your game to hpi-swa-lab.github.io/godot-pronto/ you can use the Build & Deploy Game Action.\\n\\nThis will be done automatically if you created your game via the menu tab Prototype (which automatically creates a branch, folder, main scene and ExportBehavior).\\n\\nHowever, if you didn't use this method you can follow this checklist to export your game.\\n\\nPreparation\", metadata={'source': 'pronto-docs/README.md'}),\n Document(page_content=\"Behavior \\n Function \\n \\n AlwaysBehavior \\n Triggers every frame. Analog to Godot's  _process  function. Can be paused. \\n \\n ClockBehavior\", metadata={'source': 'pronto-docs/README.md'}),\n Document(page_content='If this is set to [code]true[/code] the AlwaysBehavior will stop emitting any signals. During runtime, do not set this directly. Instead use [method AlwaysBehavior.pause] and [method AlwaysBehavior.resume]\\n\\nMethod Descriptions\\n\\npause\\n\\ngdscript\\nfunc pause()\\n\\nCalling this method results in pausing the execution of always Use [method AlwaysBehavior.resume] to continue the execution\\n\\nresume', metadata={'source': 'pronto-docs/AlwaysBehavior.md'}),\n Document(page_content='Show a rectangular health bar. Offers methods to manipulate the current health and emits a signal when health drops to zero. \\n \\n InspectBehavior \\n Add as a child of a node to inspect its properties inside the game. \\n \\n InstanceBehavior', metadata={'source': 'pronto-docs/README.md'}),\n Document(page_content=\"You can return a list of handles (knobs on the canvas that you can move). See Placeholder and Value behaviors for examples.\\n\\nHandles can exist in local space of the nodes in the canvas or in the space of the overlay (independent of the canvas' zoom).\\n\\nLines and Text Below a Behavior\", metadata={'source': 'pronto-docs/README.md'})]"
     },
     "execution_count": 44,
     "metadata": {},
     "output_type": "execute_result"
    }
   ],
   "source": [
    "reordered_docs"
   ],
   "metadata": {
    "collapsed": false,
    "ExecuteTime": {
     "start_time": "2024-01-18T18:19:06.977661Z",
     "end_time": "2024-01-18T18:19:06.989753Z"
    }
   }
  },
  {
   "cell_type": "markdown",
   "source": [
    "### 3.6 Contextual Compression"
   ],
   "metadata": {
    "collapsed": false
   }
  },
  {
   "cell_type": "code",
   "execution_count": 45,
   "outputs": [],
   "source": [
    "from langchain.retrievers import ContextualCompressionRetriever\n",
    "from langchain.retrievers.document_compressors import LLMChainFilter\n",
    "\n",
    "_filter = LLMChainFilter.from_llm(llm)\n",
    "compression_retriever = ContextualCompressionRetriever(\n",
    "    base_compressor=_filter, base_retriever=ensemble_retriever\n",
    ")"
   ],
   "metadata": {
    "collapsed": false,
    "ExecuteTime": {
     "start_time": "2024-01-18T18:19:06.983674Z",
     "end_time": "2024-01-18T18:19:06.989966Z"
    }
   }
  },
  {
   "cell_type": "code",
   "execution_count": 46,
   "outputs": [
    {
     "name": "stderr",
     "output_type": "stream",
     "text": [
      "INFO:langchain.retrievers.multi_query:Generated queries: ['1. What are the typical behaviors that are always exhibited?', '2. Can you provide examples of behaviors that are consistently observed?', '3. Are there any specific actions or conduct that are consistently followed?']\n",
      "/Users/benjamindaniel/Developer/PycharmProjects/PromptoExperimentation/venv/lib/python3.9/site-packages/langchain/chains/llm.py:316: UserWarning: The predict_and_parse method is deprecated, instead pass an output parser directly to LLMChain.\n",
      "  warnings.warn(\n",
      "/Users/benjamindaniel/Developer/PycharmProjects/PromptoExperimentation/venv/lib/python3.9/site-packages/langchain/chains/llm.py:316: UserWarning: The predict_and_parse method is deprecated, instead pass an output parser directly to LLMChain.\n",
      "  warnings.warn(\n",
      "/Users/benjamindaniel/Developer/PycharmProjects/PromptoExperimentation/venv/lib/python3.9/site-packages/langchain/chains/llm.py:316: UserWarning: The predict_and_parse method is deprecated, instead pass an output parser directly to LLMChain.\n",
      "  warnings.warn(\n",
      "/Users/benjamindaniel/Developer/PycharmProjects/PromptoExperimentation/venv/lib/python3.9/site-packages/langchain/chains/llm.py:316: UserWarning: The predict_and_parse method is deprecated, instead pass an output parser directly to LLMChain.\n",
      "  warnings.warn(\n",
      "/Users/benjamindaniel/Developer/PycharmProjects/PromptoExperimentation/venv/lib/python3.9/site-packages/langchain/chains/llm.py:316: UserWarning: The predict_and_parse method is deprecated, instead pass an output parser directly to LLMChain.\n",
      "  warnings.warn(\n",
      "/Users/benjamindaniel/Developer/PycharmProjects/PromptoExperimentation/venv/lib/python3.9/site-packages/langchain/chains/llm.py:316: UserWarning: The predict_and_parse method is deprecated, instead pass an output parser directly to LLMChain.\n",
      "  warnings.warn(\n",
      "/Users/benjamindaniel/Developer/PycharmProjects/PromptoExperimentation/venv/lib/python3.9/site-packages/langchain/chains/llm.py:316: UserWarning: The predict_and_parse method is deprecated, instead pass an output parser directly to LLMChain.\n",
      "  warnings.warn(\n",
      "/Users/benjamindaniel/Developer/PycharmProjects/PromptoExperimentation/venv/lib/python3.9/site-packages/langchain/chains/llm.py:316: UserWarning: The predict_and_parse method is deprecated, instead pass an output parser directly to LLMChain.\n",
      "  warnings.warn(\n",
      "/Users/benjamindaniel/Developer/PycharmProjects/PromptoExperimentation/venv/lib/python3.9/site-packages/langchain/chains/llm.py:316: UserWarning: The predict_and_parse method is deprecated, instead pass an output parser directly to LLMChain.\n",
      "  warnings.warn(\n"
     ]
    },
    {
     "data": {
      "text/plain": "[Document(page_content='AlwaysBehavior\\n\\nExtends: Behavior\\n\\nDescription\\n\\nSee [signal AlwaysBehavior.always] and [signal AlwaysBehavior.physics_always] for a description of which signal to listen to.\\n\\nSee [signal AlwaysBehavior.always] and [signal AlwaysBehavior.physics_always] for a description of which signal to listen to.\\n\\nProperty Descriptions\\n\\npaused\\n\\ngdscript\\n@export var paused = false', metadata={'source': 'pronto-docs/AlwaysBehavior.md'}),\n Document(page_content=\"You can return a list of handles (knobs on the canvas that you can move). See Placeholder and Value behaviors for examples.\\n\\nHandles can exist in local space of the nodes in the canvas or in the space of the overlay (independent of the canvas' zoom).\\n\\nLines and Text Below a Behavior\", metadata={'source': 'pronto-docs/README.md'}),\n Document(page_content='The following list of behaviors primarily cause effects when triggered.', metadata={'source': 'pronto-docs/README.md'}),\n Document(page_content='The following list of behaviors manage state or communicate visual properties.', metadata={'source': 'pronto-docs/README.md'}),\n Document(page_content='If this is set to [code]true[/code] the AlwaysBehavior will stop emitting any signals. During runtime, do not set this directly. Instead use [method AlwaysBehavior.pause] and [method AlwaysBehavior.resume]\\n\\nMethod Descriptions\\n\\npause\\n\\ngdscript\\nfunc pause()\\n\\nCalling this method results in pausing the execution of always Use [method AlwaysBehavior.resume] to continue the execution\\n\\nresume', metadata={'source': 'pronto-docs/AlwaysBehavior.md'}),\n Document(page_content=\"Behavior \\n Function \\n \\n AlwaysBehavior \\n Triggers every frame. Analog to Godot's  _process  function. Can be paused. \\n \\n ClockBehavior\", metadata={'source': 'pronto-docs/README.md'}),\n Document(page_content=\"To deploy your game to hpi-swa-lab.github.io/godot-pronto/ you can use the Build & Deploy Game Action.\\n\\nThis will be done automatically if you created your game via the menu tab Prototype (which automatically creates a branch, folder, main scene and ExportBehavior).\\n\\nHowever, if you didn't use this method you can follow this checklist to export your game.\\n\\nPreparation\", metadata={'source': 'pronto-docs/README.md'})]"
     },
     "execution_count": 46,
     "metadata": {},
     "output_type": "execute_result"
    }
   ],
   "source": [
    "compression_retriever.get_relevant_documents(\"AlwaysBehavior\")"
   ],
   "metadata": {
    "collapsed": false,
    "ExecuteTime": {
     "start_time": "2024-01-18T18:19:06.990184Z",
     "end_time": "2024-01-18T18:19:17.906560Z"
    }
   }
  },
  {
   "cell_type": "code",
   "execution_count": 47,
   "outputs": [],
   "source": [
    "from langchain.retrievers.document_compressors import LLMChainExtractor\n",
    "\n",
    "compressor = LLMChainExtractor.from_llm(llm)\n",
    "contextual_compression_retriever = ContextualCompressionRetriever(\n",
    "    base_compressor=compressor, base_retriever=ensemble_retriever\n",
    ")"
   ],
   "metadata": {
    "collapsed": false,
    "ExecuteTime": {
     "start_time": "2024-01-18T18:19:17.898661Z",
     "end_time": "2024-01-18T18:19:17.906823Z"
    }
   }
  },
  {
   "cell_type": "code",
   "execution_count": 48,
   "outputs": [
    {
     "name": "stderr",
     "output_type": "stream",
     "text": [
      "INFO:langchain.retrievers.multi_query:Generated queries: ['1. What are the typical behaviors that are always exhibited?', '2. Can you provide examples of behaviors that are consistently observed?', '3. Are there any specific actions or conduct that are consistently followed?']\n",
      "/Users/benjamindaniel/Developer/PycharmProjects/PromptoExperimentation/venv/lib/python3.9/site-packages/langchain/chains/llm.py:316: UserWarning: The predict_and_parse method is deprecated, instead pass an output parser directly to LLMChain.\n",
      "  warnings.warn(\n",
      "/Users/benjamindaniel/Developer/PycharmProjects/PromptoExperimentation/venv/lib/python3.9/site-packages/langchain/chains/llm.py:316: UserWarning: The predict_and_parse method is deprecated, instead pass an output parser directly to LLMChain.\n",
      "  warnings.warn(\n",
      "/Users/benjamindaniel/Developer/PycharmProjects/PromptoExperimentation/venv/lib/python3.9/site-packages/langchain/chains/llm.py:316: UserWarning: The predict_and_parse method is deprecated, instead pass an output parser directly to LLMChain.\n",
      "  warnings.warn(\n",
      "/Users/benjamindaniel/Developer/PycharmProjects/PromptoExperimentation/venv/lib/python3.9/site-packages/langchain/chains/llm.py:316: UserWarning: The predict_and_parse method is deprecated, instead pass an output parser directly to LLMChain.\n",
      "  warnings.warn(\n",
      "/Users/benjamindaniel/Developer/PycharmProjects/PromptoExperimentation/venv/lib/python3.9/site-packages/langchain/chains/llm.py:316: UserWarning: The predict_and_parse method is deprecated, instead pass an output parser directly to LLMChain.\n",
      "  warnings.warn(\n",
      "/Users/benjamindaniel/Developer/PycharmProjects/PromptoExperimentation/venv/lib/python3.9/site-packages/langchain/chains/llm.py:316: UserWarning: The predict_and_parse method is deprecated, instead pass an output parser directly to LLMChain.\n",
      "  warnings.warn(\n",
      "/Users/benjamindaniel/Developer/PycharmProjects/PromptoExperimentation/venv/lib/python3.9/site-packages/langchain/chains/llm.py:316: UserWarning: The predict_and_parse method is deprecated, instead pass an output parser directly to LLMChain.\n",
      "  warnings.warn(\n",
      "/Users/benjamindaniel/Developer/PycharmProjects/PromptoExperimentation/venv/lib/python3.9/site-packages/langchain/chains/llm.py:316: UserWarning: The predict_and_parse method is deprecated, instead pass an output parser directly to LLMChain.\n",
      "  warnings.warn(\n",
      "/Users/benjamindaniel/Developer/PycharmProjects/PromptoExperimentation/venv/lib/python3.9/site-packages/langchain/chains/llm.py:316: UserWarning: The predict_and_parse method is deprecated, instead pass an output parser directly to LLMChain.\n",
      "  warnings.warn(\n"
     ]
    },
    {
     "data": {
      "text/plain": "[Document(page_content='AlwaysBehavior\\nExtends: Behavior\\n\\nDescription\\n\\nSee [signal AlwaysBehavior.always] and [signal AlwaysBehavior.physics_always] for a description of which signal to listen to.\\n\\nSee [signal AlwaysBehavior.always] and [signal AlwaysBehavior.physics_always] for a description of which signal to listen to.\\n\\nProperty Descriptions\\n\\npaused\\n\\ngdscript\\n@export var paused = false', metadata={'source': 'pronto-docs/AlwaysBehavior.md'}),\n Document(page_content=\"You can return a list of handles (knobs on the canvas that you can move). See Placeholder and Value behaviors for examples.\\n\\nHandles can exist in local space of the nodes in the canvas or in the space of the overlay (independent of the canvas' zoom).\", metadata={'source': 'pronto-docs/README.md'}),\n Document(page_content='The following list of behaviors primarily cause effects when triggered.', metadata={'source': 'pronto-docs/README.md'}),\n Document(page_content='The following list of behaviors manage state or communicate visual properties.', metadata={'source': 'pronto-docs/README.md'}),\n Document(page_content='If this is set to [code]true[/code] the AlwaysBehavior will stop emitting any signals. During runtime, do not set this directly. Instead use [method AlwaysBehavior.pause] and [method AlwaysBehavior.resume]\\n\\npause\\n\\ngdscript\\nfunc pause()\\n\\nCalling this method results in pausing the execution of always Use [method AlwaysBehavior.resume] to continue the execution\\n\\nresume', metadata={'source': 'pronto-docs/AlwaysBehavior.md'}),\n Document(page_content=\"Don't bundle too much: give each concern its own behavior, e.g. appearance, movement, shooting. Design behaviors such that they are easy to connect to one another instead of pre-packaging them with lots of concerns.\", metadata={'source': 'pronto-docs/README.md'}),\n Document(page_content=\"AlwaysBehavior \\n Triggers every frame. Analog to Godot's  _process  function. Can be paused.\", metadata={'source': 'pronto-docs/README.md'}),\n Document(page_content=\"To deploy your game to hpi-swa-lab.github.io/godot-pronto/ you can use the Build & Deploy Game Action.\\nThis will be done automatically if you created your game via the menu tab Prototype (which automatically creates a branch, folder, main scene and ExportBehavior).\\nHowever, if you didn't use this method you can follow this checklist to export your game.\", metadata={'source': 'pronto-docs/README.md'})]"
     },
     "execution_count": 48,
     "metadata": {},
     "output_type": "execute_result"
    }
   ],
   "source": [
    "contextual_compression_retriever.get_relevant_documents(\"AlwaysBehavior\")"
   ],
   "metadata": {
    "collapsed": false,
    "ExecuteTime": {
     "start_time": "2024-01-18T18:19:17.903448Z",
     "end_time": "2024-01-18T18:19:32.768102Z"
    }
   }
  },
  {
   "cell_type": "markdown",
   "source": [
    "## 4. Agent"
   ],
   "metadata": {
    "collapsed": false
   }
  },
  {
   "cell_type": "code",
   "execution_count": 49,
   "outputs": [],
   "source": [
    "from langchain.tools.retriever import create_retriever_tool\n",
    "\n",
    "tool = create_retriever_tool(\n",
    "    pdlg_retriever,\n",
    "    \"Intermediate Answer\",\n",
    "    \"useful for when you need to ask with search\"\n",
    ")\n",
    "tools = [tool]"
   ],
   "metadata": {
    "collapsed": false,
    "ExecuteTime": {
     "start_time": "2024-01-18T18:19:32.769400Z",
     "end_time": "2024-01-18T18:19:32.773609Z"
    }
   }
  },
  {
   "cell_type": "code",
   "execution_count": 50,
   "outputs": [],
   "source": [
    "from langchain.agents import initialize_agent, AgentType\n",
    "\n",
    "agent = initialize_agent(tools, llm, agent=AgentType.ZERO_SHOT_REACT_DESCRIPTION, verbose=True, handle_parsing_errors=True)"
   ],
   "metadata": {
    "collapsed": false,
    "ExecuteTime": {
     "start_time": "2024-01-18T18:19:32.775979Z",
     "end_time": "2024-01-18T18:19:33.124144Z"
    }
   }
  },
  {
   "cell_type": "code",
   "execution_count": 51,
   "outputs": [
    {
     "name": "stdout",
     "output_type": "stream",
     "text": [
      "\n",
      "\n",
      "\u001B[1m> Entering new AgentExecutor chain...\u001B[0m\n",
      "\u001B[32;1m\u001B[1;3mI need to find information on how to change the sprite of a PlaceholderBehavior.\n",
      "Action: Intermediate Answer\n",
      "Action Input: \"How to change sprite of PlaceholderBehavior\"\u001B[0m\n",
      "Observation: \u001B[36;1m\u001B[1;3m[Document(page_content=\"PlaceholderBehavior \\n Show a colored rectangle with a label. Useful as a quick means to communicate a game object's function. Functions as a collision shape, so you don't need to add another. Instead of a rectangle a placeholder can also display a sprite instead (use the Sprite Library in the Inspector to choose an existing texture or load your own). Can be  flash() ed in a different color.\", metadata={'source': 'pronto-docs/README.md'}), Document(page_content='When triggered, moves its parent. Can be set to move along global or local axes. Supports handling of gravity. \\n \\n PlatformerControllerBehavior \\n Makes the parent behave like a platformer character, meaning that it can jump, move horizontally, and is affected by gravity. Must be a child of a  CharacterBody2D . \\n \\n QueryBehavior', metadata={'source': 'pronto-docs/README.md'}), Document(page_content='Forwards signals when triggered, optionally with arguments. Useful for abstraction/encapsulation of lower-level signals, signal renaming, or logical OR-gating of signals. \\n \\n SpawnerBehavior', metadata={'source': 'pronto-docs/README.md'})]\u001B[0m\n",
      "Thought:\u001B[32;1m\u001B[1;3mI have found some documentation on PlaceholderBehavior.\n",
      "Action: Intermediate Answer\n",
      "Action Input: \"PlaceholderBehavior documentation\"\u001B[0m\n",
      "Observation: \u001B[36;1m\u001B[1;3m[Document(page_content=\"PlaceholderBehavior \\n Show a colored rectangle with a label. Useful as a quick means to communicate a game object's function. Functions as a collision shape, so you don't need to add another. Instead of a rectangle a placeholder can also display a sprite instead (use the Sprite Library in the Inspector to choose an existing texture or load your own). Can be  flash() ed in a different color.\", metadata={'source': 'pronto-docs/README.md'}), Document(page_content=\"The StateBehavior is the fundamental building block of a state machine. Each StateBehavior emits the signals  StateBehavior.entered()  and  StateBehavior.exited()  to communicate the state machine's state \\n \\n StoreBehavior \\n Use the Godot meta properties to store state. You can configure it to store values in the global dictionary  G  and access it via  G.at(prop) . \\n \\n ValueBehavior\", metadata={'source': 'pronto-docs/README.md'}), Document(page_content='When triggered, moves its parent. Can be set to move along global or local axes. Supports handling of gravity. \\n \\n PlatformerControllerBehavior \\n Makes the parent behave like a platformer character, meaning that it can jump, move horizontally, and is affected by gravity. Must be a child of a  CharacterBody2D . \\n \\n QueryBehavior', metadata={'source': 'pronto-docs/README.md'})]\u001B[0m\n",
      "Thought:\u001B[32;1m\u001B[1;3mI have found the documentation on PlaceholderBehavior and it mentions that you can display a sprite instead of a colored rectangle.\n",
      "Action: Intermediate Answer\n",
      "Action Input: \"How to change sprite of PlaceholderBehavior\"\u001B[0m\n",
      "Observation: \u001B[36;1m\u001B[1;3m[Document(page_content=\"PlaceholderBehavior \\n Show a colored rectangle with a label. Useful as a quick means to communicate a game object's function. Functions as a collision shape, so you don't need to add another. Instead of a rectangle a placeholder can also display a sprite instead (use the Sprite Library in the Inspector to choose an existing texture or load your own). Can be  flash() ed in a different color.\", metadata={'source': 'pronto-docs/README.md'}), Document(page_content='When triggered, moves its parent. Can be set to move along global or local axes. Supports handling of gravity. \\n \\n PlatformerControllerBehavior \\n Makes the parent behave like a platformer character, meaning that it can jump, move horizontally, and is affected by gravity. Must be a child of a  CharacterBody2D . \\n \\n QueryBehavior', metadata={'source': 'pronto-docs/README.md'}), Document(page_content='Forwards signals when triggered, optionally with arguments. Useful for abstraction/encapsulation of lower-level signals, signal renaming, or logical OR-gating of signals. \\n \\n SpawnerBehavior', metadata={'source': 'pronto-docs/README.md'})]\u001B[0m\n",
      "Thought:\u001B[32;1m\u001B[1;3mI now know that to change the sprite of a PlaceholderBehavior, you can use the Sprite Library in the Inspector to choose an existing texture or load your own.\u001B[0m\n",
      "Observation: Invalid Format: Missing 'Action:' after 'Thought:\n",
      "Thought:\u001B[32;1m\u001B[1;3mI need to provide an action after the thought.\n",
      "Action: Intermediate Answer\n",
      "Action Input: \"How to change sprite of PlaceholderBehavior\"\u001B[0m\n",
      "Observation: \u001B[36;1m\u001B[1;3m[Document(page_content=\"PlaceholderBehavior \\n Show a colored rectangle with a label. Useful as a quick means to communicate a game object's function. Functions as a collision shape, so you don't need to add another. Instead of a rectangle a placeholder can also display a sprite instead (use the Sprite Library in the Inspector to choose an existing texture or load your own). Can be  flash() ed in a different color.\", metadata={'source': 'pronto-docs/README.md'}), Document(page_content='When triggered, moves its parent. Can be set to move along global or local axes. Supports handling of gravity. \\n \\n PlatformerControllerBehavior \\n Makes the parent behave like a platformer character, meaning that it can jump, move horizontally, and is affected by gravity. Must be a child of a  CharacterBody2D . \\n \\n QueryBehavior', metadata={'source': 'pronto-docs/README.md'}), Document(page_content='Forwards signals when triggered, optionally with arguments. Useful for abstraction/encapsulation of lower-level signals, signal renaming, or logical OR-gating of signals. \\n \\n SpawnerBehavior', metadata={'source': 'pronto-docs/README.md'})]\u001B[0m\n",
      "Thought:\u001B[32;1m\u001B[1;3mI now know that to change the sprite of a PlaceholderBehavior, you can use the Sprite Library in the Inspector to choose an existing texture or load your own.\n",
      "Final Answer: To change the sprite of a PlaceholderBehavior, use the Sprite Library in the Inspector to choose an existing texture or load your own.\u001B[0m\n",
      "\n",
      "\u001B[1m> Finished chain.\u001B[0m\n"
     ]
    },
    {
     "data": {
      "text/plain": "'To change the sprite of a PlaceholderBehavior, use the Sprite Library in the Inspector to choose an existing texture or load your own.'"
     },
     "execution_count": 51,
     "metadata": {},
     "output_type": "execute_result"
    }
   ],
   "source": [
    "agent.run(\"How to change the sprite of a PlaceholderBehavior?\")"
   ],
   "metadata": {
    "collapsed": false,
    "ExecuteTime": {
     "start_time": "2024-01-18T18:19:33.125040Z",
     "end_time": "2024-01-18T18:19:42.005781Z"
    }
   }
  },
  {
   "cell_type": "code",
   "execution_count": 52,
   "outputs": [
    {
     "name": "stderr",
     "output_type": "stream",
     "text": [
      "INFO:langchain.retrievers.multi_query:Generated queries: ['1. What are the steps to modify the sprite of a PlaceholderBehavior?', '2. Can you explain the process of replacing the sprite in a PlaceholderBehavior?', '3. Is there a way to update the sprite of a PlaceholderBehavior? If so, how can it be done?']\n"
     ]
    },
    {
     "data": {
      "text/plain": "[Document(page_content=\"PlaceholderBehavior \\n Show a colored rectangle with a label. Useful as a quick means to communicate a game object's function. Functions as a collision shape, so you don't need to add another. Instead of a rectangle a placeholder can also display a sprite instead (use the Sprite Library in the Inspector to choose an existing texture or load your own). Can be  flash() ed in a different color.\", metadata={'source': 'pronto-docs/README.md'}),\n Document(page_content='When triggered, moves its parent. Can be set to move along global or local axes. Supports handling of gravity. \\n \\n PlatformerControllerBehavior \\n Makes the parent behave like a platformer character, meaning that it can jump, move horizontally, and is affected by gravity. Must be a child of a  CharacterBody2D . \\n \\n QueryBehavior', metadata={'source': 'pronto-docs/README.md'}),\n Document(page_content='Forwards signals when triggered, optionally with arguments. Useful for abstraction/encapsulation of lower-level signals, signal renaming, or logical OR-gating of signals. \\n \\n SpawnerBehavior', metadata={'source': 'pronto-docs/README.md'}),\n Document(page_content='The rounding method for corners of the outline (only used if [class Sprite2D] is used).\\n\\nshape_type\\n\\ngdscript\\n@export var shape_type: String = \"Rect\"\\n\\nSetter: @shape_type_setter\\n\\nThis will define the shape of the placeholder as well as the shape of the hitbox.\\n\\nplaceholder_size\\n\\ngdscript\\nvar placeholder_size = \"(20, 20)\"\\n\\nSetter: @placeholder_size_setter\\n\\nThe size of the placeholder.', metadata={'source': 'pronto-docs/PlaceholderBehavior.md'}),\n Document(page_content=\"In ExpressionInspector.gd you can specify that a property should get a GDScript code editor.\\n\\nHints on Designing new Behaviors\\n\\nDon't bundle too much: give each concern its own behavior, e.g. appearance, movement, shooting. Design behaviors such that they are easy to connect to one another instead of pre-packaging them with lots of concerns.\\n\\nPhase 3: Deploying your Prototype/Game\", metadata={'source': 'pronto-docs/README.md'}),\n Document(page_content='gdscript\\n@export var sprite_library: Texture2D\\n\\nSetter: @sprite_library_setter\\n\\nThe sprite library is desribed in [class SpriteInspector] as well as \"addons/pronto/helpers/sprite_window.tscn\". Search through a library of textures to choose your sprite.\\n\\noutline_visible\\n\\ngdscript\\n@export var outline_visible: bool = false\\n\\nSetter: @outline_visible_setter', metadata={'source': 'pronto-docs/PlaceholderBehavior.md'})]"
     },
     "execution_count": 52,
     "metadata": {},
     "output_type": "execute_result"
    }
   ],
   "source": [
    "ensemble_retriever.get_relevant_documents(\"How to change the sprite of a PlaceholderBehavior?\")"
   ],
   "metadata": {
    "collapsed": false,
    "ExecuteTime": {
     "start_time": "2024-01-18T18:19:42.007577Z",
     "end_time": "2024-01-18T18:19:45.690286Z"
    }
   }
  },
  {
   "cell_type": "code",
   "execution_count": 53,
   "outputs": [],
   "source": [
    "from langchain.memory import ConversationSummaryMemory\n",
    "\n",
    "memory = ConversationSummaryMemory(\n",
    "    llm=llm, memory_key=\"chat_history\", return_messages=True\n",
    ")"
   ],
   "metadata": {
    "collapsed": false,
    "ExecuteTime": {
     "start_time": "2024-01-18T18:19:45.687921Z",
     "end_time": "2024-01-18T18:19:45.704466Z"
    }
   }
  },
  {
   "cell_type": "code",
   "execution_count": 54,
   "outputs": [],
   "source": [
    "from langchain.chains import ConversationalRetrievalChain\n",
    "\n",
    "qa = ConversationalRetrievalChain.from_llm(llm, retriever=ensemble_retriever, memory=memory)"
   ],
   "metadata": {
    "collapsed": false,
    "ExecuteTime": {
     "start_time": "2024-01-18T18:19:45.693439Z",
     "end_time": "2024-01-18T18:19:45.704598Z"
    }
   }
  },
  {
   "cell_type": "code",
   "execution_count": 58,
   "outputs": [
    {
     "name": "stderr",
     "output_type": "stream",
     "text": [
      "INFO:langchain.retrievers.multi_query:Generated queries: ['1. How can a player be harmed in Godot?', '2. What are the different methods of causing damage to a player in Godot?', '3. In Godot, what are the different ways in which a player can suffer damage?']\n"
     ]
    },
    {
     "name": "stdout",
     "output_type": "stream",
     "text": [
      "I'm sorry, but I don't have enough information to answer your question.\n"
     ]
    }
   ],
   "source": [
    "print(qa(\"How can I damage a player?\"))"
   ],
   "metadata": {
    "collapsed": false,
    "ExecuteTime": {
     "start_time": "2024-01-18T18:37:52.206503Z",
     "end_time": "2024-01-18T18:38:01.442076Z"
    }
   }
  },
  {
   "cell_type": "code",
   "execution_count": 55,
   "outputs": [],
   "source": [],
   "metadata": {
    "collapsed": false,
    "ExecuteTime": {
     "start_time": "2024-01-18T18:19:58.968808Z",
     "end_time": "2024-01-18T18:19:58.971593Z"
    }
   }
  }
 ],
 "metadata": {
  "kernelspec": {
   "display_name": "Python 3",
   "language": "python",
   "name": "python3"
  },
  "language_info": {
   "codemirror_mode": {
    "name": "ipython",
    "version": 2
   },
   "file_extension": ".py",
   "mimetype": "text/x-python",
   "name": "python",
   "nbconvert_exporter": "python",
   "pygments_lexer": "ipython2",
   "version": "2.7.6"
  }
 },
 "nbformat": 4,
 "nbformat_minor": 0
}
